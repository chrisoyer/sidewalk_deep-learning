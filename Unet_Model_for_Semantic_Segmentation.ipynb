{
  "nbformat": 4,
  "nbformat_minor": 0,
  "metadata": {
    "colab": {
      "name": "Unet Model for Semantic Segmentation.ipynb",
      "provenance": [],
      "collapsed_sections": []
    },
    "kernelspec": {
      "name": "python3",
      "display_name": "Python 3"
    }
  },
  "cells": [
    {
      "cell_type": "markdown",
      "metadata": {
        "id": "-Y5Eyt_8WTMg",
        "colab_type": "text"
      },
      "source": [
        "# Using U-net style architecture for semantic segmentation\n",
        "I will train a u-net-style architecture on the labeled city dataset from "
      ]
    },
    {
      "cell_type": "code",
      "metadata": {
        "id": "RINwHYjearUG",
        "colab_type": "code",
        "colab": {
          "base_uri": "https://localhost:8080/",
          "height": 35
        },
        "outputId": "00b8b9bd-3995-41e2-86fa-4c711db03087"
      },
      "source": [
        "# get colab status\n",
        "try:\n",
        "  import google.colab\n",
        "  IN_COLAB = True\n",
        "  %tensorflow_version 2.x\n",
        "except:\n",
        "  IN_COLAB = False"
      ],
      "execution_count": 1,
      "outputs": [
        {
          "output_type": "stream",
          "text": [
            "TensorFlow 2.x selected.\n"
          ],
          "name": "stdout"
        }
      ]
    },
    {
      "cell_type": "code",
      "metadata": {
        "id": "S-qrlIDKa8x4",
        "colab_type": "code",
        "colab": {}
      },
      "source": [
        "import numpy as np\n",
        "import pandas as pd\n",
        "import matplotlib.pyplot as plt\n",
        "import seaborn as sns\n",
        "import tensorflow as tf\n",
        "from tensorflow.keras.preprocessing.image import ImageDataGenerator\n",
        "from tensorflow.python.keras import layers\n",
        "from tensorflow.python.keras import losses\n",
        "from tensorflow.python.keras import models\n",
        "from tensorflow.keras.layers import (Dense, Conv2D, Flatten, Dropout, \n",
        "MaxPooling2D, BatchNormalization, Conv2DTranspose, concatenate, Input)\n",
        "from tensorflow.keras.optimizers import RMSprop\n",
        "from tensorflow.python.keras.utils.data_utils import Sequence # to fix 'imagedatagenerator has no shape' error\n",
        "import os"
      ],
      "execution_count": 0,
      "outputs": []
    },
    {
      "cell_type": "markdown",
      "metadata": {
        "id": "BUZmgziJcCCv",
        "colab_type": "text"
      },
      "source": [
        "#data load\n"
      ]
    },
    {
      "cell_type": "code",
      "metadata": {
        "id": "BmO_yxT5cBzp",
        "colab_type": "code",
        "colab": {}
      },
      "source": [
        ""
      ],
      "execution_count": 0,
      "outputs": []
    },
    {
      "cell_type": "code",
      "metadata": {
        "id": "YhG639uBcBp0",
        "colab_type": "code",
        "colab": {}
      },
      "source": [
        ""
      ],
      "execution_count": 0,
      "outputs": []
    },
    {
      "cell_type": "code",
      "metadata": {
        "id": "PnNc4VEccBZ3",
        "colab_type": "code",
        "colab": {}
      },
      "source": [
        ""
      ],
      "execution_count": 0,
      "outputs": []
    },
    {
      "cell_type": "markdown",
      "metadata": {
        "id": "oZj1nOBdcGI-",
        "colab_type": "text"
      },
      "source": [
        "Modeling"
      ]
    },
    {
      "cell_type": "code",
      "metadata": {
        "id": "gynMScrP_TBW",
        "colab_type": "code",
        "colab": {}
      },
      "source": [
        "img_shape = (256, 256, 3)"
      ],
      "execution_count": 0,
      "outputs": []
    },
    {
      "cell_type": "code",
      "metadata": {
        "id": "h-Vg7YryWNue",
        "colab_type": "code",
        "colab": {}
      },
      "source": [
        "#use function for the blocks of the network\n",
        "def encoder_builder(input_, filters,\n",
        "                         activ='relu', kernel=(3,3), \n",
        "                         drop=.5, pad='same', kern_init='he_uniform'):\n",
        "  kwargs = {'filters': filters, 'activation': activ, 'kernel_size': kernel, \n",
        "       'padding': pad, 'kernel_initializer': kern_init}\n",
        "  x = Conv2D(**kwargs)(input_)\n",
        "  x = BatchNormalization()(x)\n",
        "  x = Dropout(drop)(x)\n",
        "  x = Conv2D(**kwargs)(x)\n",
        "  encoder = Dropout(drop)(x)\n",
        "  pooled = MaxPooling2D(pool_size=(2, 2), strides=(2, 2))(encoder)\n",
        "  return encoder, pooled\n",
        "\n",
        "def decoder_builder(input_, skip, filters, \n",
        "                    activ='relu', kernel=(2,2),\n",
        "                    drop=.5, pad='same', kern_init='he_uniform',\n",
        "                    ):\n",
        "  kwargs = {'filters': filters, 'activation': activ, 'kernel_size': kernel, \n",
        "       'padding': pad, 'kernel_initializer': kern_init} \n",
        "  x = Conv2DTranspose(**kwargs, strides=(2,2))(input_)\n",
        "  x = concatenate([skip, x], axis=1)\n",
        "  x = BatchNormalization()(x)\n",
        "  x = Dropout(drop)(x)\n",
        "  x = Conv2D(**kwargs)(x)\n",
        "  x = BatchNormalization()(x)\n",
        "  x = Dropout(drop)(x)\n",
        "  x = Conv2D(**kwargs)(x)\n",
        "  return x"
      ],
      "execution_count": 0,
      "outputs": []
    },
    {
      "cell_type": "code",
      "metadata": {
        "id": "sqVLXyW3x94R",
        "colab_type": "code",
        "colab": {}
      },
      "source": [
        "input_layer = Input(shape=img_shape)\n",
        "encoder1, pooled1 = encoder_builder(input_layer, filters=32)  # return (128x128x32)\n",
        "encoder2, pooled2 = encoder_builder(pooled1, filters=64)  # return (64x64x364)\n",
        "encoder3, pooled3 = encoder_builder(pooled2, filters=128)  # return (32x32x128)\n",
        "encoder4, pooled4 = encoder_builder(pooled3, filters=256)  # return (16x16x256)\n",
        "encoder5, pooled5 = encoder_builder(pooled4, filters=512)  # return (8x8x512)\n",
        "middle, _ = encoder_builder(pooled5, filters=1024)  # return (4x4x1024)\n",
        "decoder512 = decoder_builder(middle, skip=encoder5, filters=512)\n",
        "decoder256 = decoder_builder(decoder512, skip=encoder4, filters=256)\n",
        "decoder128 = decoder_builder(decoder256, skip=encoder3, filters=128)\n",
        "decoder64 = decoder_builder(decoder128, skip=encoder2, filters=64)\n",
        "decoder32 = decoder_builder(decoder64, skip=encoder1, filters=32)\n",
        "out_layer = Conv2D(1, (1, 1), activation='sigmoid')(decoder32)"
      ],
      "execution_count": 0,
      "outputs": []
    },
    {
      "cell_type": "code",
      "metadata": {
        "id": "r6xAW0lHDuCw",
        "colab_type": "code",
        "colab": {}
      },
      "source": [
        "unet = models.Model(inputs=[input_layer], outputs=[out_layer])"
      ],
      "execution_count": 0,
      "outputs": []
    },
    {
      "cell_type": "code",
      "metadata": {
        "id": "NsRDy7X_EzUu",
        "colab_type": "code",
        "colab": {
          "base_uri": "https://localhost:8080/",
          "height": 1000
        },
        "outputId": "bbed0e93-e757-4643-d279-a152eed5d88e"
      },
      "source": [
        "unet.compile(optimizer='adam', loss = 'binary_crossentropy', metrics = ['accuracy'])\n",
        "\n",
        "unet.summary()"
      ],
      "execution_count": 43,
      "outputs": [
        {
          "output_type": "stream",
          "text": [
            "Model: \"model_2\"\n",
            "__________________________________________________________________________________________________\n",
            "Layer (type)                    Output Shape         Param #     Connected to                     \n",
            "==================================================================================================\n",
            "input_12 (InputLayer)           [(None, 256, 256, 3) 0                                            \n",
            "__________________________________________________________________________________________________\n",
            "conv2d_140 (Conv2D)             (None, 256, 256, 32) 896         input_12[0][0]                   \n",
            "__________________________________________________________________________________________________\n",
            "batch_normalization_88 (BatchNo (None, 256, 256, 32) 128         conv2d_140[0][0]                 \n",
            "__________________________________________________________________________________________________\n",
            "dropout_136 (Dropout)           (None, 256, 256, 32) 0           batch_normalization_88[0][0]     \n",
            "__________________________________________________________________________________________________\n",
            "conv2d_141 (Conv2D)             (None, 256, 256, 32) 9248        dropout_136[0][0]                \n",
            "__________________________________________________________________________________________________\n",
            "dropout_137 (Dropout)           (None, 256, 256, 32) 0           conv2d_141[0][0]                 \n",
            "__________________________________________________________________________________________________\n",
            "max_pooling2d_48 (MaxPooling2D) (None, 128, 128, 32) 0           dropout_137[0][0]                \n",
            "__________________________________________________________________________________________________\n",
            "conv2d_142 (Conv2D)             (None, 128, 128, 64) 18496       max_pooling2d_48[0][0]           \n",
            "__________________________________________________________________________________________________\n",
            "batch_normalization_89 (BatchNo (None, 128, 128, 64) 256         conv2d_142[0][0]                 \n",
            "__________________________________________________________________________________________________\n",
            "dropout_138 (Dropout)           (None, 128, 128, 64) 0           batch_normalization_89[0][0]     \n",
            "__________________________________________________________________________________________________\n",
            "conv2d_143 (Conv2D)             (None, 128, 128, 64) 36928       dropout_138[0][0]                \n",
            "__________________________________________________________________________________________________\n",
            "dropout_139 (Dropout)           (None, 128, 128, 64) 0           conv2d_143[0][0]                 \n",
            "__________________________________________________________________________________________________\n",
            "max_pooling2d_49 (MaxPooling2D) (None, 64, 64, 64)   0           dropout_139[0][0]                \n",
            "__________________________________________________________________________________________________\n",
            "conv2d_144 (Conv2D)             (None, 64, 64, 128)  73856       max_pooling2d_49[0][0]           \n",
            "__________________________________________________________________________________________________\n",
            "batch_normalization_90 (BatchNo (None, 64, 64, 128)  512         conv2d_144[0][0]                 \n",
            "__________________________________________________________________________________________________\n",
            "dropout_140 (Dropout)           (None, 64, 64, 128)  0           batch_normalization_90[0][0]     \n",
            "__________________________________________________________________________________________________\n",
            "conv2d_145 (Conv2D)             (None, 64, 64, 128)  147584      dropout_140[0][0]                \n",
            "__________________________________________________________________________________________________\n",
            "dropout_141 (Dropout)           (None, 64, 64, 128)  0           conv2d_145[0][0]                 \n",
            "__________________________________________________________________________________________________\n",
            "max_pooling2d_50 (MaxPooling2D) (None, 32, 32, 128)  0           dropout_141[0][0]                \n",
            "__________________________________________________________________________________________________\n",
            "conv2d_146 (Conv2D)             (None, 32, 32, 256)  295168      max_pooling2d_50[0][0]           \n",
            "__________________________________________________________________________________________________\n",
            "batch_normalization_91 (BatchNo (None, 32, 32, 256)  1024        conv2d_146[0][0]                 \n",
            "__________________________________________________________________________________________________\n",
            "dropout_142 (Dropout)           (None, 32, 32, 256)  0           batch_normalization_91[0][0]     \n",
            "__________________________________________________________________________________________________\n",
            "conv2d_147 (Conv2D)             (None, 32, 32, 256)  590080      dropout_142[0][0]                \n",
            "__________________________________________________________________________________________________\n",
            "dropout_143 (Dropout)           (None, 32, 32, 256)  0           conv2d_147[0][0]                 \n",
            "__________________________________________________________________________________________________\n",
            "max_pooling2d_51 (MaxPooling2D) (None, 16, 16, 256)  0           dropout_143[0][0]                \n",
            "__________________________________________________________________________________________________\n",
            "conv2d_148 (Conv2D)             (None, 16, 16, 512)  1180160     max_pooling2d_51[0][0]           \n",
            "__________________________________________________________________________________________________\n",
            "batch_normalization_92 (BatchNo (None, 16, 16, 512)  2048        conv2d_148[0][0]                 \n",
            "__________________________________________________________________________________________________\n",
            "dropout_144 (Dropout)           (None, 16, 16, 512)  0           batch_normalization_92[0][0]     \n",
            "__________________________________________________________________________________________________\n",
            "conv2d_149 (Conv2D)             (None, 16, 16, 512)  2359808     dropout_144[0][0]                \n",
            "__________________________________________________________________________________________________\n",
            "dropout_145 (Dropout)           (None, 16, 16, 512)  0           conv2d_149[0][0]                 \n",
            "__________________________________________________________________________________________________\n",
            "max_pooling2d_52 (MaxPooling2D) (None, 8, 8, 512)    0           dropout_145[0][0]                \n",
            "__________________________________________________________________________________________________\n",
            "conv2d_150 (Conv2D)             (None, 8, 8, 1024)   4719616     max_pooling2d_52[0][0]           \n",
            "__________________________________________________________________________________________________\n",
            "batch_normalization_93 (BatchNo (None, 8, 8, 1024)   4096        conv2d_150[0][0]                 \n",
            "__________________________________________________________________________________________________\n",
            "dropout_146 (Dropout)           (None, 8, 8, 1024)   0           batch_normalization_93[0][0]     \n",
            "__________________________________________________________________________________________________\n",
            "conv2d_151 (Conv2D)             (None, 8, 8, 1024)   9438208     dropout_146[0][0]                \n",
            "__________________________________________________________________________________________________\n",
            "dropout_147 (Dropout)           (None, 8, 8, 1024)   0           conv2d_151[0][0]                 \n",
            "__________________________________________________________________________________________________\n",
            "conv2d_transpose_22 (Conv2DTran (None, 16, 16, 512)  2097664     dropout_147[0][0]                \n",
            "__________________________________________________________________________________________________\n",
            "concatenate_20 (Concatenate)    (None, 32, 16, 512)  0           dropout_145[0][0]                \n",
            "                                                                 conv2d_transpose_22[0][0]        \n",
            "__________________________________________________________________________________________________\n",
            "batch_normalization_94 (BatchNo (None, 32, 16, 512)  2048        concatenate_20[0][0]             \n",
            "__________________________________________________________________________________________________\n",
            "dropout_148 (Dropout)           (None, 32, 16, 512)  0           batch_normalization_94[0][0]     \n",
            "__________________________________________________________________________________________________\n",
            "conv2d_152 (Conv2D)             (None, 32, 16, 512)  1049088     dropout_148[0][0]                \n",
            "__________________________________________________________________________________________________\n",
            "batch_normalization_95 (BatchNo (None, 32, 16, 512)  2048        conv2d_152[0][0]                 \n",
            "__________________________________________________________________________________________________\n",
            "dropout_149 (Dropout)           (None, 32, 16, 512)  0           batch_normalization_95[0][0]     \n",
            "__________________________________________________________________________________________________\n",
            "conv2d_153 (Conv2D)             (None, 32, 16, 512)  1049088     dropout_149[0][0]                \n",
            "__________________________________________________________________________________________________\n",
            "conv2d_transpose_23 (Conv2DTran (None, 64, 32, 256)  524544      conv2d_153[0][0]                 \n",
            "__________________________________________________________________________________________________\n",
            "concatenate_21 (Concatenate)    (None, 96, 32, 256)  0           dropout_143[0][0]                \n",
            "                                                                 conv2d_transpose_23[0][0]        \n",
            "__________________________________________________________________________________________________\n",
            "batch_normalization_96 (BatchNo (None, 96, 32, 256)  1024        concatenate_21[0][0]             \n",
            "__________________________________________________________________________________________________\n",
            "dropout_150 (Dropout)           (None, 96, 32, 256)  0           batch_normalization_96[0][0]     \n",
            "__________________________________________________________________________________________________\n",
            "conv2d_154 (Conv2D)             (None, 96, 32, 256)  262400      dropout_150[0][0]                \n",
            "__________________________________________________________________________________________________\n",
            "batch_normalization_97 (BatchNo (None, 96, 32, 256)  1024        conv2d_154[0][0]                 \n",
            "__________________________________________________________________________________________________\n",
            "dropout_151 (Dropout)           (None, 96, 32, 256)  0           batch_normalization_97[0][0]     \n",
            "__________________________________________________________________________________________________\n",
            "conv2d_155 (Conv2D)             (None, 96, 32, 256)  262400      dropout_151[0][0]                \n",
            "__________________________________________________________________________________________________\n",
            "conv2d_transpose_24 (Conv2DTran (None, 192, 64, 128) 131200      conv2d_155[0][0]                 \n",
            "__________________________________________________________________________________________________\n",
            "concatenate_22 (Concatenate)    (None, 256, 64, 128) 0           dropout_141[0][0]                \n",
            "                                                                 conv2d_transpose_24[0][0]        \n",
            "__________________________________________________________________________________________________\n",
            "batch_normalization_98 (BatchNo (None, 256, 64, 128) 512         concatenate_22[0][0]             \n",
            "__________________________________________________________________________________________________\n",
            "dropout_152 (Dropout)           (None, 256, 64, 128) 0           batch_normalization_98[0][0]     \n",
            "__________________________________________________________________________________________________\n",
            "conv2d_156 (Conv2D)             (None, 256, 64, 128) 65664       dropout_152[0][0]                \n",
            "__________________________________________________________________________________________________\n",
            "batch_normalization_99 (BatchNo (None, 256, 64, 128) 512         conv2d_156[0][0]                 \n",
            "__________________________________________________________________________________________________\n",
            "dropout_153 (Dropout)           (None, 256, 64, 128) 0           batch_normalization_99[0][0]     \n",
            "__________________________________________________________________________________________________\n",
            "conv2d_157 (Conv2D)             (None, 256, 64, 128) 65664       dropout_153[0][0]                \n",
            "__________________________________________________________________________________________________\n",
            "conv2d_transpose_25 (Conv2DTran (None, 512, 128, 64) 32832       conv2d_157[0][0]                 \n",
            "__________________________________________________________________________________________________\n",
            "concatenate_23 (Concatenate)    (None, 640, 128, 64) 0           dropout_139[0][0]                \n",
            "                                                                 conv2d_transpose_25[0][0]        \n",
            "__________________________________________________________________________________________________\n",
            "batch_normalization_100 (BatchN (None, 640, 128, 64) 256         concatenate_23[0][0]             \n",
            "__________________________________________________________________________________________________\n",
            "dropout_154 (Dropout)           (None, 640, 128, 64) 0           batch_normalization_100[0][0]    \n",
            "__________________________________________________________________________________________________\n",
            "conv2d_158 (Conv2D)             (None, 640, 128, 64) 16448       dropout_154[0][0]                \n",
            "__________________________________________________________________________________________________\n",
            "batch_normalization_101 (BatchN (None, 640, 128, 64) 256         conv2d_158[0][0]                 \n",
            "__________________________________________________________________________________________________\n",
            "dropout_155 (Dropout)           (None, 640, 128, 64) 0           batch_normalization_101[0][0]    \n",
            "__________________________________________________________________________________________________\n",
            "conv2d_159 (Conv2D)             (None, 640, 128, 64) 16448       dropout_155[0][0]                \n",
            "__________________________________________________________________________________________________\n",
            "conv2d_transpose_26 (Conv2DTran (None, 1280, 256, 32 8224        conv2d_159[0][0]                 \n",
            "__________________________________________________________________________________________________\n",
            "concatenate_24 (Concatenate)    (None, 1536, 256, 32 0           dropout_137[0][0]                \n",
            "                                                                 conv2d_transpose_26[0][0]        \n",
            "__________________________________________________________________________________________________\n",
            "batch_normalization_102 (BatchN (None, 1536, 256, 32 128         concatenate_24[0][0]             \n",
            "__________________________________________________________________________________________________\n",
            "dropout_156 (Dropout)           (None, 1536, 256, 32 0           batch_normalization_102[0][0]    \n",
            "__________________________________________________________________________________________________\n",
            "conv2d_160 (Conv2D)             (None, 1536, 256, 32 4128        dropout_156[0][0]                \n",
            "__________________________________________________________________________________________________\n",
            "batch_normalization_103 (BatchN (None, 1536, 256, 32 128         conv2d_160[0][0]                 \n",
            "__________________________________________________________________________________________________\n",
            "dropout_157 (Dropout)           (None, 1536, 256, 32 0           batch_normalization_103[0][0]    \n",
            "__________________________________________________________________________________________________\n",
            "conv2d_161 (Conv2D)             (None, 1536, 256, 32 4128        dropout_157[0][0]                \n",
            "__________________________________________________________________________________________________\n",
            "conv2d_162 (Conv2D)             (None, 1536, 256, 1) 33          conv2d_161[0][0]                 \n",
            "==================================================================================================\n",
            "Total params: 24,476,001\n",
            "Trainable params: 24,468,001\n",
            "Non-trainable params: 8,000\n",
            "__________________________________________________________________________________________________\n"
          ],
          "name": "stdout"
        }
      ]
    },
    {
      "cell_type": "code",
      "metadata": {
        "id": "3Xkq9hRUG_c9",
        "colab_type": "code",
        "colab": {
          "base_uri": "https://localhost:8080/",
          "height": 35
        },
        "outputId": "709cbb33-2509-4c51-d3da-2b8ce7567f74"
      },
      "source": [
        "os.getcwd()"
      ],
      "execution_count": 44,
      "outputs": [
        {
          "output_type": "execute_result",
          "data": {
            "text/plain": [
              "'/content'"
            ]
          },
          "metadata": {
            "tags": []
          },
          "execution_count": 44
        }
      ]
    },
    {
      "cell_type": "code",
      "metadata": {
        "id": "QNRLv-5pHLKE",
        "colab_type": "code",
        "colab": {}
      },
      "source": [
        ""
      ],
      "execution_count": 0,
      "outputs": []
    }
  ]
}