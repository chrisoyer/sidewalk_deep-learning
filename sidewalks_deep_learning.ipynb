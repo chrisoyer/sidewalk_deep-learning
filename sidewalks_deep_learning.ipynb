{
 "cells": [
  {
   "cell_type": "code",
   "execution_count": 1,
   "metadata": {
    "scrolled": true
   },
   "outputs": [
    {
     "name": "stderr",
     "output_type": "stream",
     "text": [
      "c:\\users\\user\\appdata\\local\\programs\\python\\python37\\lib\\importlib\\_bootstrap.py:219: RuntimeWarning: numpy.ufunc size changed, may indicate binary incompatibility. Expected 192 from C header, got 216 from PyObject\n",
      "  return f(*args, **kwds)\n",
      "c:\\users\\user\\appdata\\local\\programs\\python\\python37\\lib\\importlib\\_bootstrap.py:219: RuntimeWarning: numpy.ufunc size changed, may indicate binary incompatibility. Expected 192 from C header, got 216 from PyObject\n",
      "  return f(*args, **kwds)\n",
      "c:\\users\\user\\appdata\\local\\programs\\python\\python37\\lib\\importlib\\_bootstrap.py:219: RuntimeWarning: numpy.ufunc size changed, may indicate binary incompatibility. Expected 192 from C header, got 216 from PyObject\n",
      "  return f(*args, **kwds)\n",
      "c:\\users\\user\\appdata\\local\\programs\\python\\python37\\lib\\importlib\\_bootstrap.py:219: RuntimeWarning: numpy.ufunc size changed, may indicate binary incompatibility. Expected 216, got 192\n",
      "  return f(*args, **kwds)\n",
      "c:\\users\\user\\appdata\\local\\programs\\python\\python37\\lib\\importlib\\_bootstrap.py:219: RuntimeWarning: numpy.ufunc size changed, may indicate binary incompatibility. Expected 192 from C header, got 216 from PyObject\n",
      "  return f(*args, **kwds)\n",
      "c:\\users\\user\\appdata\\local\\programs\\python\\python37\\lib\\importlib\\_bootstrap.py:219: RuntimeWarning: numpy.ufunc size changed, may indicate binary incompatibility. Expected 192 from C header, got 216 from PyObject\n",
      "  return f(*args, **kwds)\n"
     ]
    }
   ],
   "source": [
    "import numpy as np\n",
    "import pandas as pd\n",
    "import matplotlib.pyplot as plt\n",
    "import seaborn as sns\n",
    "import tensorflow as tf\n",
    "import google_streetview.api as goos"
   ]
  },
  {
   "cell_type": "markdown",
   "metadata": {},
   "source": [
    "Outline: \n",
    "* data sourcing\n",
    "    * set up google api to download images\n",
    "    * generate random lat, long\n",
    "    * test location for being in urban area covered by map\n",
    "    * use street view to find nearest image\n",
    "    * get image metadata inc lat lon & direction\n",
    "    * see if there is sidewalk centerline w/in 10ft?, create label in dataframe\n",
    "* modeling\n",
    "    * create tf model to classify images, train/test/validate\n",
    "* use pretrained model to do object detection of sidewalks\n",
    "* cluster sidewalks by type\n",
    "    "
   ]
  },
  {
   "cell_type": "code",
   "execution_count": 1,
   "metadata": {},
   "outputs": [
    {
     "data": {
      "text/plain": [
       "'C:\\\\Users\\\\User\\\\Documents\\\\GitHub\\\\sidewalks_deep-learning'"
      ]
     },
     "execution_count": 1,
     "metadata": {},
     "output_type": "execute_result"
    }
   ],
   "source": [
    "pwd"
   ]
  },
  {
   "cell_type": "code",
   "execution_count": 8,
   "metadata": {},
   "outputs": [],
   "source": [
    "#download data source if not there\n",
    "from os import path\n",
    "if not path.exists(\"sidewalks.geojson\"):\n",
    "    import urllib.request\n",
    "    data_source_url=r'https://gis.drcog.org/geoserver/DRCOGPUB/ows?service=WFS&version=1.0.0&request=GetFeature&typeName=DRCOGPUB:planimetrics_2016_centerline_sidewalks&outputFormat=application%2Fjson'\n",
    "    urllib.request.urlretrieve(data_source_url, 'sidewalks.geojson')"
   ]
  },
  {
   "cell_type": "code",
   "execution_count": 10,
   "metadata": {},
   "outputs": [],
   "source": [
    "import geopandas as gpd"
   ]
  },
  {
   "cell_type": "code",
   "execution_count": 11,
   "metadata": {},
   "outputs": [],
   "source": [
    "sidewalk_gdf = gpd.read_file('sidewalks.geojson')"
   ]
  },
  {
   "cell_type": "code",
   "execution_count": 12,
   "metadata": {},
   "outputs": [
    {
     "data": {
      "text/html": [
       "<div>\n",
       "<style scoped>\n",
       "    .dataframe tbody tr th:only-of-type {\n",
       "        vertical-align: middle;\n",
       "    }\n",
       "\n",
       "    .dataframe tbody tr th {\n",
       "        vertical-align: top;\n",
       "    }\n",
       "\n",
       "    .dataframe thead th {\n",
       "        text-align: right;\n",
       "    }\n",
       "</style>\n",
       "<table border=\"1\" class=\"dataframe\">\n",
       "  <thead>\n",
       "    <tr style=\"text-align: right;\">\n",
       "      <th></th>\n",
       "      <th>id</th>\n",
       "      <th>gid</th>\n",
       "      <th>createdate</th>\n",
       "      <th>createuser</th>\n",
       "      <th>type</th>\n",
       "      <th>comments</th>\n",
       "      <th>update_sta</th>\n",
       "      <th>unique_id</th>\n",
       "      <th>geometry</th>\n",
       "    </tr>\n",
       "  </thead>\n",
       "  <tbody>\n",
       "    <tr>\n",
       "      <th>0</th>\n",
       "      <td>planimetrics_2016_centerline_sidewalks.534414</td>\n",
       "      <td>534414</td>\n",
       "      <td>2016-04-08</td>\n",
       "      <td>Kucera</td>\n",
       "      <td>Sidewalk</td>\n",
       "      <td>None</td>\n",
       "      <td>N</td>\n",
       "      <td>534414</td>\n",
       "      <td>MULTILINESTRING ((3096575.759 1779104.505, 309...</td>\n",
       "    </tr>\n",
       "    <tr>\n",
       "      <th>1</th>\n",
       "      <td>planimetrics_2016_centerline_sidewalks.534415</td>\n",
       "      <td>534415</td>\n",
       "      <td>2016-04-08</td>\n",
       "      <td>Kucera</td>\n",
       "      <td>Sidewalk</td>\n",
       "      <td>None</td>\n",
       "      <td>N</td>\n",
       "      <td>534415</td>\n",
       "      <td>MULTILINESTRING ((3095429.059 1779035.067, 309...</td>\n",
       "    </tr>\n",
       "    <tr>\n",
       "      <th>2</th>\n",
       "      <td>planimetrics_2016_centerline_sidewalks.534416</td>\n",
       "      <td>534416</td>\n",
       "      <td>2016-04-08</td>\n",
       "      <td>Kucera</td>\n",
       "      <td>Other crossing</td>\n",
       "      <td>None</td>\n",
       "      <td>N</td>\n",
       "      <td>534416</td>\n",
       "      <td>MULTILINESTRING ((3096759.611 1779106.863, 309...</td>\n",
       "    </tr>\n",
       "    <tr>\n",
       "      <th>3</th>\n",
       "      <td>planimetrics_2016_centerline_sidewalks.534417</td>\n",
       "      <td>534417</td>\n",
       "      <td>2016-04-08</td>\n",
       "      <td>Kucera</td>\n",
       "      <td>Sidewalk</td>\n",
       "      <td>None</td>\n",
       "      <td>N</td>\n",
       "      <td>534417</td>\n",
       "      <td>MULTILINESTRING ((3096821.734 1779106.976, 309...</td>\n",
       "    </tr>\n",
       "    <tr>\n",
       "      <th>4</th>\n",
       "      <td>planimetrics_2016_centerline_sidewalks.534418</td>\n",
       "      <td>534418</td>\n",
       "      <td>2016-04-08</td>\n",
       "      <td>Kucera</td>\n",
       "      <td>Sidewalk</td>\n",
       "      <td>None</td>\n",
       "      <td>N</td>\n",
       "      <td>534418</td>\n",
       "      <td>MULTILINESTRING ((3096759.611 1779106.863, 309...</td>\n",
       "    </tr>\n",
       "  </tbody>\n",
       "</table>\n",
       "</div>"
      ],
      "text/plain": [
       "                                              id     gid  createdate  \\\n",
       "0  planimetrics_2016_centerline_sidewalks.534414  534414  2016-04-08   \n",
       "1  planimetrics_2016_centerline_sidewalks.534415  534415  2016-04-08   \n",
       "2  planimetrics_2016_centerline_sidewalks.534416  534416  2016-04-08   \n",
       "3  planimetrics_2016_centerline_sidewalks.534417  534417  2016-04-08   \n",
       "4  planimetrics_2016_centerline_sidewalks.534418  534418  2016-04-08   \n",
       "\n",
       "  createuser            type comments update_sta  unique_id  \\\n",
       "0     Kucera        Sidewalk     None          N     534414   \n",
       "1     Kucera        Sidewalk     None          N     534415   \n",
       "2     Kucera  Other crossing     None          N     534416   \n",
       "3     Kucera        Sidewalk     None          N     534417   \n",
       "4     Kucera        Sidewalk     None          N     534418   \n",
       "\n",
       "                                            geometry  \n",
       "0  MULTILINESTRING ((3096575.759 1779104.505, 309...  \n",
       "1  MULTILINESTRING ((3095429.059 1779035.067, 309...  \n",
       "2  MULTILINESTRING ((3096759.611 1779106.863, 309...  \n",
       "3  MULTILINESTRING ((3096821.734 1779106.976, 309...  \n",
       "4  MULTILINESTRING ((3096759.611 1779106.863, 309...  "
      ]
     },
     "execution_count": 12,
     "metadata": {},
     "output_type": "execute_result"
    }
   ],
   "source": [
    "sidewalk_gdf.head()"
   ]
  },
  {
   "cell_type": "code",
   "execution_count": 16,
   "metadata": {},
   "outputs": [
    {
     "data": {
      "text/plain": [
       "id              object\n",
       "gid              int64\n",
       "createdate      object\n",
       "createuser      object\n",
       "type            object\n",
       "comments        object\n",
       "update_sta      object\n",
       "unique_id        int64\n",
       "geometry      geometry\n",
       "dtype: object"
      ]
     },
     "execution_count": 16,
     "metadata": {},
     "output_type": "execute_result"
    }
   ],
   "source": [
    "sidewalk_gdf.dtypes"
   ]
  },
  {
   "cell_type": "code",
   "execution_count": 18,
   "metadata": {},
   "outputs": [],
   "source": [
    "import google_streetview.api as gsv\n",
    "import os"
   ]
  },
  {
   "cell_type": "code",
   "execution_count": 26,
   "metadata": {},
   "outputs": [
    {
     "name": "stdout",
     "output_type": "stream",
     "text": [
      "\n",
      " Set \"key\" default to \"google_dev_key.key\"\n"
     ]
    }
   ],
   "source": [
    "#Dev key is unique to each user. To run this notebook, create your own dev key and store in directory in a text file of this name.\n",
    "!google_streetview -s key=\"google_dev_key.key\""
   ]
  },
  {
   "cell_type": "code",
   "execution_count": 31,
   "metadata": {},
   "outputs": [
    {
     "ename": "KeyError",
     "evalue": "'pano_id'",
     "output_type": "error",
     "traceback": [
      "\u001b[1;31m---------------------------------------------------------------------------\u001b[0m",
      "\u001b[1;31mKeyError\u001b[0m                                  Traceback (most recent call last)",
      "\u001b[1;32m<ipython-input-31-0aa1aa7fecf7>\u001b[0m in \u001b[0;36m<module>\u001b[1;34m\u001b[0m\n\u001b[0;32m     19\u001b[0m \u001b[1;33m\u001b[0m\u001b[0m\n\u001b[0;32m     20\u001b[0m \u001b[1;31m# Preview results\u001b[0m\u001b[1;33m\u001b[0m\u001b[1;33m\u001b[0m\u001b[1;33m\u001b[0m\u001b[0m\n\u001b[1;32m---> 21\u001b[1;33m \u001b[0mresults\u001b[0m\u001b[1;33m.\u001b[0m\u001b[0mpreview\u001b[0m\u001b[1;33m(\u001b[0m\u001b[1;33m)\u001b[0m\u001b[1;33m\u001b[0m\u001b[1;33m\u001b[0m\u001b[0m\n\u001b[0m\u001b[0;32m     22\u001b[0m \u001b[1;33m\u001b[0m\u001b[0m\n\u001b[0;32m     23\u001b[0m \u001b[1;31m# Download images to directory 'downloads'\u001b[0m\u001b[1;33m\u001b[0m\u001b[1;33m\u001b[0m\u001b[1;33m\u001b[0m\u001b[0m\n",
      "\u001b[1;32mc:\\users\\user\\appdata\\local\\programs\\python\\python37\\lib\\site-packages\\google_streetview\\api.py\u001b[0m in \u001b[0;36mpreview\u001b[1;34m(self, n, k, kheader)\u001b[0m\n\u001b[0;32m    135\u001b[0m \u001b[1;33m\u001b[0m\u001b[0m\n\u001b[0;32m    136\u001b[0m       \u001b[1;31m# (print_header) Print result header\u001b[0m\u001b[1;33m\u001b[0m\u001b[1;33m\u001b[0m\u001b[1;33m\u001b[0m\u001b[0m\n\u001b[1;32m--> 137\u001b[1;33m       \u001b[0mheader\u001b[0m \u001b[1;33m=\u001b[0m \u001b[1;34m'\\n['\u001b[0m \u001b[1;33m+\u001b[0m \u001b[0mstr\u001b[0m\u001b[1;33m(\u001b[0m\u001b[0mi\u001b[0m\u001b[1;33m)\u001b[0m \u001b[1;33m+\u001b[0m \u001b[1;34m'] '\u001b[0m \u001b[1;33m+\u001b[0m \u001b[0mkv\u001b[0m\u001b[1;33m[\u001b[0m\u001b[0mkheader\u001b[0m\u001b[1;33m]\u001b[0m\u001b[1;33m\u001b[0m\u001b[1;33m\u001b[0m\u001b[0m\n\u001b[0m\u001b[0;32m    138\u001b[0m       \u001b[0mprint\u001b[0m\u001b[1;33m(\u001b[0m\u001b[0mheader\u001b[0m\u001b[1;33m)\u001b[0m\u001b[1;33m\u001b[0m\u001b[1;33m\u001b[0m\u001b[0m\n\u001b[0;32m    139\u001b[0m       \u001b[0mprint\u001b[0m\u001b[1;33m(\u001b[0m\u001b[1;34m'='\u001b[0m \u001b[1;33m*\u001b[0m \u001b[0mlen\u001b[0m\u001b[1;33m(\u001b[0m\u001b[0mheader\u001b[0m\u001b[1;33m)\u001b[0m\u001b[1;33m)\u001b[0m\u001b[1;33m\u001b[0m\u001b[1;33m\u001b[0m\u001b[0m\n",
      "\u001b[1;31mKeyError\u001b[0m: 'pano_id'"
     ]
    }
   ],
   "source": [
    "# Import google_streetview for the api module\n",
    "import google_streetview as gsv\n",
    "# Import google_streetview for the api and helper module\n",
    "\n",
    "# Create a dictionary with multiple parameters separated by ;\n",
    "apiargs = {\n",
    "  'location': '46.414382,10.013988;40.720032,-73.988354',\n",
    "  'size': '640x300;640x640',\n",
    "  'heading': '0;90;180;270',\n",
    "  'fov': '0;90;120',\n",
    "  'pitch': '-90;0;90'\n",
    "}\n",
    "\n",
    "# Get a list of all possible queries from multiple parameters\n",
    "api_list = gsv.helpers.api_list(apiargs)\n",
    "\n",
    "# Create a results object for all possible queries\n",
    "results = gsv.api.results(api_list)\n",
    "\n",
    "# Preview results\n",
    "results.preview()\n",
    "\n",
    "# Download images to directory 'downloads'\n",
    "results.download_links('downloads')\n",
    "\n",
    "# Save metadata\n",
    "results.save_metadata('metadata.json')"
   ]
  },
  {
   "cell_type": "code",
   "execution_count": null,
   "metadata": {},
   "outputs": [],
   "source": []
  }
 ],
 "metadata": {
  "kernelspec": {
   "display_name": "Python 3",
   "language": "python",
   "name": "python3"
  },
  "language_info": {
   "codemirror_mode": {
    "name": "ipython",
    "version": 3
   },
   "file_extension": ".py",
   "mimetype": "text/x-python",
   "name": "python",
   "nbconvert_exporter": "python",
   "pygments_lexer": "ipython3",
   "version": "3.7.4"
  }
 },
 "nbformat": 4,
 "nbformat_minor": 2
}
