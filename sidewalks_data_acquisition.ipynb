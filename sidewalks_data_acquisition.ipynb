{
 "cells": [
  {
   "cell_type": "markdown",
   "metadata": {
    "colab_type": "text",
    "id": "view-in-github"
   },
   "source": [
    "<a href=\"https://colab.research.google.com/github/chrisoyer/sidewalks_deep-learning/blob/master/sidewalks_data_acquisition.ipynb\" target=\"_parent\"><img src=\"https://colab.research.google.com/assets/colab-badge.svg\" alt=\"Open In Colab\"/></a>"
   ]
  },
  {
   "cell_type": "markdown",
   "metadata": {
    "colab_type": "text",
    "id": "os9K3H6A4Aij"
   },
   "source": [
    "# Data Acquisition\n",
    "This is the notebook whereby I obtain the labeled image set that will be for this project. I will use several geographic datasets covering the Denver metro area to create the API requests against the Google StreetView static API. \n",
    "Because of licensing on the API, I am not able to making the images availible, but if you obtain a deverloper key you can use this notebook to download a similar dataset."
   ]
  },
  {
   "cell_type": "code",
   "execution_count": 19,
   "metadata": {
    "colab": {
     "base_uri": "https://localhost:8080/",
     "height": 661
    },
    "colab_type": "code",
    "id": "ExRJS3Ig4Ajc",
    "outputId": "d15bfa00-ce79-465d-d9f0-9e074fc524fb"
   },
   "outputs": [],
   "source": [
    "try:\n",
    "  import google.colab\n",
    "  IN_COLAB = True\n",
    "except:\n",
    "  IN_COLAB = False\n",
    "\n",
    "if IN_COLAB:\n",
    "    import os\n",
    "    #install modules \n",
    "    !pip install geopandas\n",
    "    !pip install shapely\n",
    "    !pip install pyproj\n",
    "    from google.colab import drive\n",
    "    drive.mount('/content/gdrive')"
   ]
  },
  {
   "cell_type": "code",
   "execution_count": 20,
   "metadata": {
    "colab": {},
    "colab_type": "code",
    "id": "P94OLInx5v5O"
   },
   "outputs": [],
   "source": [
    "if IN_COLAB:    \n",
    "    os.chdir(f'/content/gdrive/My Drive/thinkful/colab_datasets/sidewalk_data')\n",
    "    !unzip sidewalks_deep-learning.zip -d '/content/data/'\n",
    "    os.getcwd()"
   ]
  },
  {
   "cell_type": "code",
   "execution_count": 157,
   "metadata": {
    "colab": {},
    "colab_type": "code",
    "id": "8V9U83Ul4Aiv"
   },
   "outputs": [],
   "source": [
    "import numpy as np\n",
    "import pandas as pd\n",
    "import geopandas as gpd\n",
    "import shapely\n",
    "from shapely.ops import nearest_points\n",
    "from shapely.geometry import Point, LinearRing, LineString\n",
    "import matplotlib.pyplot as plt\n",
    "import seaborn as sns\n",
    "import seaborn as sns\n",
    "import random\n",
    "from os import path\n",
    "import urllib.request\n",
    "import requests\n",
    "import pickle\n",
    "from math import atan2, degrees, pi\n",
    "import pyproj\n",
    "from tqdm import tqdm\n",
    "import urllib, os, json\n",
    "from sklearn.neighbors import KernelDensity"
   ]
  },
  {
   "cell_type": "code",
   "execution_count": 22,
   "metadata": {
    "colab": {
     "base_uri": "https://localhost:8080/",
     "height": 35
    },
    "colab_type": "code",
    "id": "9_jJLb1D4Ai9",
    "outputId": "129fbb2f-16aa-4187-d57c-26c81145de4d"
   },
   "outputs": [
    {
     "data": {
      "text/plain": [
       "'C:\\\\Users\\\\User\\\\Google Drive\\\\thinkful\\\\colab_datasets\\\\sidewalk_data\\\\images'"
      ]
     },
     "execution_count": 22,
     "metadata": {},
     "output_type": "execute_result"
    }
   ],
   "source": [
    "down_loc = os.getcwd()\n",
    "down_loc"
   ]
  },
  {
   "cell_type": "markdown",
   "metadata": {
    "colab_type": "text",
    "id": "hhtLpp804AjN"
   },
   "source": [
    "Outline: \n",
    "* data sourcing\n",
    "    * set up google api to download images\n",
    "    * generate random lat, long\n",
    "    * test location for being in urban area covered by map\n",
    "    * use street view to find nearest image\n",
    "    * get image metadata inc lat lon & direction\n",
    "    * see if there is sidewalk centerline w/in 10ft?, create label in dataframe\n",
    "* modeling\n",
    "    * create tf model to classify images, train/test/validate\n",
    "* use pretrained model to do object detection of sidewalks\n",
    "* cluster sidewalks by type\n",
    "    "
   ]
  },
  {
   "cell_type": "code",
   "execution_count": 16,
   "metadata": {
    "colab": {},
    "colab_type": "code",
    "id": "arUc59Gb4AjR",
    "outputId": "52f819e0-0137-4a80-b0d0-a26f463a505d"
   },
   "outputs": [
    {
     "data": {
      "text/plain": [
       "'C:\\\\Users\\\\User\\\\Google Drive\\\\thinkful\\\\colab_datasets\\\\sidewalk_data\\\\images'"
      ]
     },
     "execution_count": 16,
     "metadata": {},
     "output_type": "execute_result"
    }
   ],
   "source": [
    "pwd"
   ]
  },
  {
   "cell_type": "code",
   "execution_count": 17,
   "metadata": {
    "colab": {},
    "colab_type": "code",
    "id": "LAsu4qwa4Ajm"
   },
   "outputs": [
    {
     "ename": "KeyboardInterrupt",
     "evalue": "",
     "output_type": "error",
     "traceback": [
      "\u001b[1;31m---------------------------------------------------------------------------\u001b[0m",
      "\u001b[1;31mKeyboardInterrupt\u001b[0m                         Traceback (most recent call last)",
      "\u001b[1;32m<ipython-input-17-716294593f94>\u001b[0m in \u001b[0;36m<module>\u001b[1;34m\u001b[0m\n\u001b[0;32m      8\u001b[0m   \u001b[1;32mfor\u001b[0m \u001b[0mkey\u001b[0m\u001b[1;33m,\u001b[0m \u001b[0mvalue\u001b[0m \u001b[1;32min\u001b[0m \u001b[0mdata_urls\u001b[0m\u001b[1;33m.\u001b[0m\u001b[0mitems\u001b[0m\u001b[1;33m(\u001b[0m\u001b[1;33m)\u001b[0m\u001b[1;33m:\u001b[0m\u001b[1;33m\u001b[0m\u001b[1;33m\u001b[0m\u001b[0m\n\u001b[0;32m      9\u001b[0m       \u001b[1;32mif\u001b[0m \u001b[1;32mnot\u001b[0m \u001b[0mpath\u001b[0m\u001b[1;33m.\u001b[0m\u001b[0mexists\u001b[0m\u001b[1;33m(\u001b[0m\u001b[0mkey\u001b[0m \u001b[1;33m+\u001b[0m \u001b[1;34m\".geojson\"\u001b[0m\u001b[1;33m)\u001b[0m\u001b[1;33m:\u001b[0m\u001b[1;33m\u001b[0m\u001b[1;33m\u001b[0m\u001b[0m\n\u001b[1;32m---> 10\u001b[1;33m           \u001b[0murllib\u001b[0m\u001b[1;33m.\u001b[0m\u001b[0mrequest\u001b[0m\u001b[1;33m.\u001b[0m\u001b[0murlretrieve\u001b[0m\u001b[1;33m(\u001b[0m\u001b[0mvalue\u001b[0m\u001b[1;33m,\u001b[0m \u001b[0mkey\u001b[0m \u001b[1;33m+\u001b[0m \u001b[1;34m'.geojson'\u001b[0m\u001b[1;33m)\u001b[0m\u001b[1;33m\u001b[0m\u001b[1;33m\u001b[0m\u001b[0m\n\u001b[0m",
      "\u001b[1;32mc:\\users\\user\\appdata\\local\\programs\\python\\python37\\lib\\urllib\\request.py\u001b[0m in \u001b[0;36murlretrieve\u001b[1;34m(url, filename, reporthook, data)\u001b[0m\n\u001b[0;32m    245\u001b[0m     \u001b[0murl_type\u001b[0m\u001b[1;33m,\u001b[0m \u001b[0mpath\u001b[0m \u001b[1;33m=\u001b[0m \u001b[0msplittype\u001b[0m\u001b[1;33m(\u001b[0m\u001b[0murl\u001b[0m\u001b[1;33m)\u001b[0m\u001b[1;33m\u001b[0m\u001b[1;33m\u001b[0m\u001b[0m\n\u001b[0;32m    246\u001b[0m \u001b[1;33m\u001b[0m\u001b[0m\n\u001b[1;32m--> 247\u001b[1;33m     \u001b[1;32mwith\u001b[0m \u001b[0mcontextlib\u001b[0m\u001b[1;33m.\u001b[0m\u001b[0mclosing\u001b[0m\u001b[1;33m(\u001b[0m\u001b[0murlopen\u001b[0m\u001b[1;33m(\u001b[0m\u001b[0murl\u001b[0m\u001b[1;33m,\u001b[0m \u001b[0mdata\u001b[0m\u001b[1;33m)\u001b[0m\u001b[1;33m)\u001b[0m \u001b[1;32mas\u001b[0m \u001b[0mfp\u001b[0m\u001b[1;33m:\u001b[0m\u001b[1;33m\u001b[0m\u001b[1;33m\u001b[0m\u001b[0m\n\u001b[0m\u001b[0;32m    248\u001b[0m         \u001b[0mheaders\u001b[0m \u001b[1;33m=\u001b[0m \u001b[0mfp\u001b[0m\u001b[1;33m.\u001b[0m\u001b[0minfo\u001b[0m\u001b[1;33m(\u001b[0m\u001b[1;33m)\u001b[0m\u001b[1;33m\u001b[0m\u001b[1;33m\u001b[0m\u001b[0m\n\u001b[0;32m    249\u001b[0m \u001b[1;33m\u001b[0m\u001b[0m\n",
      "\u001b[1;32mc:\\users\\user\\appdata\\local\\programs\\python\\python37\\lib\\urllib\\request.py\u001b[0m in \u001b[0;36murlopen\u001b[1;34m(url, data, timeout, cafile, capath, cadefault, context)\u001b[0m\n\u001b[0;32m    220\u001b[0m     \u001b[1;32melse\u001b[0m\u001b[1;33m:\u001b[0m\u001b[1;33m\u001b[0m\u001b[1;33m\u001b[0m\u001b[0m\n\u001b[0;32m    221\u001b[0m         \u001b[0mopener\u001b[0m \u001b[1;33m=\u001b[0m \u001b[0m_opener\u001b[0m\u001b[1;33m\u001b[0m\u001b[1;33m\u001b[0m\u001b[0m\n\u001b[1;32m--> 222\u001b[1;33m     \u001b[1;32mreturn\u001b[0m \u001b[0mopener\u001b[0m\u001b[1;33m.\u001b[0m\u001b[0mopen\u001b[0m\u001b[1;33m(\u001b[0m\u001b[0murl\u001b[0m\u001b[1;33m,\u001b[0m \u001b[0mdata\u001b[0m\u001b[1;33m,\u001b[0m \u001b[0mtimeout\u001b[0m\u001b[1;33m)\u001b[0m\u001b[1;33m\u001b[0m\u001b[1;33m\u001b[0m\u001b[0m\n\u001b[0m\u001b[0;32m    223\u001b[0m \u001b[1;33m\u001b[0m\u001b[0m\n\u001b[0;32m    224\u001b[0m \u001b[1;32mdef\u001b[0m \u001b[0minstall_opener\u001b[0m\u001b[1;33m(\u001b[0m\u001b[0mopener\u001b[0m\u001b[1;33m)\u001b[0m\u001b[1;33m:\u001b[0m\u001b[1;33m\u001b[0m\u001b[1;33m\u001b[0m\u001b[0m\n",
      "\u001b[1;32mc:\\users\\user\\appdata\\local\\programs\\python\\python37\\lib\\urllib\\request.py\u001b[0m in \u001b[0;36mopen\u001b[1;34m(self, fullurl, data, timeout)\u001b[0m\n\u001b[0;32m    523\u001b[0m             \u001b[0mreq\u001b[0m \u001b[1;33m=\u001b[0m \u001b[0mmeth\u001b[0m\u001b[1;33m(\u001b[0m\u001b[0mreq\u001b[0m\u001b[1;33m)\u001b[0m\u001b[1;33m\u001b[0m\u001b[1;33m\u001b[0m\u001b[0m\n\u001b[0;32m    524\u001b[0m \u001b[1;33m\u001b[0m\u001b[0m\n\u001b[1;32m--> 525\u001b[1;33m         \u001b[0mresponse\u001b[0m \u001b[1;33m=\u001b[0m \u001b[0mself\u001b[0m\u001b[1;33m.\u001b[0m\u001b[0m_open\u001b[0m\u001b[1;33m(\u001b[0m\u001b[0mreq\u001b[0m\u001b[1;33m,\u001b[0m \u001b[0mdata\u001b[0m\u001b[1;33m)\u001b[0m\u001b[1;33m\u001b[0m\u001b[1;33m\u001b[0m\u001b[0m\n\u001b[0m\u001b[0;32m    526\u001b[0m \u001b[1;33m\u001b[0m\u001b[0m\n\u001b[0;32m    527\u001b[0m         \u001b[1;31m# post-process response\u001b[0m\u001b[1;33m\u001b[0m\u001b[1;33m\u001b[0m\u001b[1;33m\u001b[0m\u001b[0m\n",
      "\u001b[1;32mc:\\users\\user\\appdata\\local\\programs\\python\\python37\\lib\\urllib\\request.py\u001b[0m in \u001b[0;36m_open\u001b[1;34m(self, req, data)\u001b[0m\n\u001b[0;32m    541\u001b[0m         \u001b[0mprotocol\u001b[0m \u001b[1;33m=\u001b[0m \u001b[0mreq\u001b[0m\u001b[1;33m.\u001b[0m\u001b[0mtype\u001b[0m\u001b[1;33m\u001b[0m\u001b[1;33m\u001b[0m\u001b[0m\n\u001b[0;32m    542\u001b[0m         result = self._call_chain(self.handle_open, protocol, protocol +\n\u001b[1;32m--> 543\u001b[1;33m                                   '_open', req)\n\u001b[0m\u001b[0;32m    544\u001b[0m         \u001b[1;32mif\u001b[0m \u001b[0mresult\u001b[0m\u001b[1;33m:\u001b[0m\u001b[1;33m\u001b[0m\u001b[1;33m\u001b[0m\u001b[0m\n\u001b[0;32m    545\u001b[0m             \u001b[1;32mreturn\u001b[0m \u001b[0mresult\u001b[0m\u001b[1;33m\u001b[0m\u001b[1;33m\u001b[0m\u001b[0m\n",
      "\u001b[1;32mc:\\users\\user\\appdata\\local\\programs\\python\\python37\\lib\\urllib\\request.py\u001b[0m in \u001b[0;36m_call_chain\u001b[1;34m(self, chain, kind, meth_name, *args)\u001b[0m\n\u001b[0;32m    501\u001b[0m         \u001b[1;32mfor\u001b[0m \u001b[0mhandler\u001b[0m \u001b[1;32min\u001b[0m \u001b[0mhandlers\u001b[0m\u001b[1;33m:\u001b[0m\u001b[1;33m\u001b[0m\u001b[1;33m\u001b[0m\u001b[0m\n\u001b[0;32m    502\u001b[0m             \u001b[0mfunc\u001b[0m \u001b[1;33m=\u001b[0m \u001b[0mgetattr\u001b[0m\u001b[1;33m(\u001b[0m\u001b[0mhandler\u001b[0m\u001b[1;33m,\u001b[0m \u001b[0mmeth_name\u001b[0m\u001b[1;33m)\u001b[0m\u001b[1;33m\u001b[0m\u001b[1;33m\u001b[0m\u001b[0m\n\u001b[1;32m--> 503\u001b[1;33m             \u001b[0mresult\u001b[0m \u001b[1;33m=\u001b[0m \u001b[0mfunc\u001b[0m\u001b[1;33m(\u001b[0m\u001b[1;33m*\u001b[0m\u001b[0margs\u001b[0m\u001b[1;33m)\u001b[0m\u001b[1;33m\u001b[0m\u001b[1;33m\u001b[0m\u001b[0m\n\u001b[0m\u001b[0;32m    504\u001b[0m             \u001b[1;32mif\u001b[0m \u001b[0mresult\u001b[0m \u001b[1;32mis\u001b[0m \u001b[1;32mnot\u001b[0m \u001b[1;32mNone\u001b[0m\u001b[1;33m:\u001b[0m\u001b[1;33m\u001b[0m\u001b[1;33m\u001b[0m\u001b[0m\n\u001b[0;32m    505\u001b[0m                 \u001b[1;32mreturn\u001b[0m \u001b[0mresult\u001b[0m\u001b[1;33m\u001b[0m\u001b[1;33m\u001b[0m\u001b[0m\n",
      "\u001b[1;32mc:\\users\\user\\appdata\\local\\programs\\python\\python37\\lib\\urllib\\request.py\u001b[0m in \u001b[0;36mhttps_open\u001b[1;34m(self, req)\u001b[0m\n\u001b[0;32m   1358\u001b[0m         \u001b[1;32mdef\u001b[0m \u001b[0mhttps_open\u001b[0m\u001b[1;33m(\u001b[0m\u001b[0mself\u001b[0m\u001b[1;33m,\u001b[0m \u001b[0mreq\u001b[0m\u001b[1;33m)\u001b[0m\u001b[1;33m:\u001b[0m\u001b[1;33m\u001b[0m\u001b[1;33m\u001b[0m\u001b[0m\n\u001b[0;32m   1359\u001b[0m             return self.do_open(http.client.HTTPSConnection, req,\n\u001b[1;32m-> 1360\u001b[1;33m                 context=self._context, check_hostname=self._check_hostname)\n\u001b[0m\u001b[0;32m   1361\u001b[0m \u001b[1;33m\u001b[0m\u001b[0m\n\u001b[0;32m   1362\u001b[0m         \u001b[0mhttps_request\u001b[0m \u001b[1;33m=\u001b[0m \u001b[0mAbstractHTTPHandler\u001b[0m\u001b[1;33m.\u001b[0m\u001b[0mdo_request_\u001b[0m\u001b[1;33m\u001b[0m\u001b[1;33m\u001b[0m\u001b[0m\n",
      "\u001b[1;32mc:\\users\\user\\appdata\\local\\programs\\python\\python37\\lib\\urllib\\request.py\u001b[0m in \u001b[0;36mdo_open\u001b[1;34m(self, http_class, req, **http_conn_args)\u001b[0m\n\u001b[0;32m   1318\u001b[0m             \u001b[1;32mexcept\u001b[0m \u001b[0mOSError\u001b[0m \u001b[1;32mas\u001b[0m \u001b[0merr\u001b[0m\u001b[1;33m:\u001b[0m \u001b[1;31m# timeout error\u001b[0m\u001b[1;33m\u001b[0m\u001b[1;33m\u001b[0m\u001b[0m\n\u001b[0;32m   1319\u001b[0m                 \u001b[1;32mraise\u001b[0m \u001b[0mURLError\u001b[0m\u001b[1;33m(\u001b[0m\u001b[0merr\u001b[0m\u001b[1;33m)\u001b[0m\u001b[1;33m\u001b[0m\u001b[1;33m\u001b[0m\u001b[0m\n\u001b[1;32m-> 1320\u001b[1;33m             \u001b[0mr\u001b[0m \u001b[1;33m=\u001b[0m \u001b[0mh\u001b[0m\u001b[1;33m.\u001b[0m\u001b[0mgetresponse\u001b[0m\u001b[1;33m(\u001b[0m\u001b[1;33m)\u001b[0m\u001b[1;33m\u001b[0m\u001b[1;33m\u001b[0m\u001b[0m\n\u001b[0m\u001b[0;32m   1321\u001b[0m         \u001b[1;32mexcept\u001b[0m\u001b[1;33m:\u001b[0m\u001b[1;33m\u001b[0m\u001b[1;33m\u001b[0m\u001b[0m\n\u001b[0;32m   1322\u001b[0m             \u001b[0mh\u001b[0m\u001b[1;33m.\u001b[0m\u001b[0mclose\u001b[0m\u001b[1;33m(\u001b[0m\u001b[1;33m)\u001b[0m\u001b[1;33m\u001b[0m\u001b[1;33m\u001b[0m\u001b[0m\n",
      "\u001b[1;32mc:\\users\\user\\appdata\\local\\programs\\python\\python37\\lib\\http\\client.py\u001b[0m in \u001b[0;36mgetresponse\u001b[1;34m(self)\u001b[0m\n\u001b[0;32m   1334\u001b[0m         \u001b[1;32mtry\u001b[0m\u001b[1;33m:\u001b[0m\u001b[1;33m\u001b[0m\u001b[1;33m\u001b[0m\u001b[0m\n\u001b[0;32m   1335\u001b[0m             \u001b[1;32mtry\u001b[0m\u001b[1;33m:\u001b[0m\u001b[1;33m\u001b[0m\u001b[1;33m\u001b[0m\u001b[0m\n\u001b[1;32m-> 1336\u001b[1;33m                 \u001b[0mresponse\u001b[0m\u001b[1;33m.\u001b[0m\u001b[0mbegin\u001b[0m\u001b[1;33m(\u001b[0m\u001b[1;33m)\u001b[0m\u001b[1;33m\u001b[0m\u001b[1;33m\u001b[0m\u001b[0m\n\u001b[0m\u001b[0;32m   1337\u001b[0m             \u001b[1;32mexcept\u001b[0m \u001b[0mConnectionError\u001b[0m\u001b[1;33m:\u001b[0m\u001b[1;33m\u001b[0m\u001b[1;33m\u001b[0m\u001b[0m\n\u001b[0;32m   1338\u001b[0m                 \u001b[0mself\u001b[0m\u001b[1;33m.\u001b[0m\u001b[0mclose\u001b[0m\u001b[1;33m(\u001b[0m\u001b[1;33m)\u001b[0m\u001b[1;33m\u001b[0m\u001b[1;33m\u001b[0m\u001b[0m\n",
      "\u001b[1;32mc:\\users\\user\\appdata\\local\\programs\\python\\python37\\lib\\http\\client.py\u001b[0m in \u001b[0;36mbegin\u001b[1;34m(self)\u001b[0m\n\u001b[0;32m    304\u001b[0m         \u001b[1;31m# read until we get a non-100 response\u001b[0m\u001b[1;33m\u001b[0m\u001b[1;33m\u001b[0m\u001b[1;33m\u001b[0m\u001b[0m\n\u001b[0;32m    305\u001b[0m         \u001b[1;32mwhile\u001b[0m \u001b[1;32mTrue\u001b[0m\u001b[1;33m:\u001b[0m\u001b[1;33m\u001b[0m\u001b[1;33m\u001b[0m\u001b[0m\n\u001b[1;32m--> 306\u001b[1;33m             \u001b[0mversion\u001b[0m\u001b[1;33m,\u001b[0m \u001b[0mstatus\u001b[0m\u001b[1;33m,\u001b[0m \u001b[0mreason\u001b[0m \u001b[1;33m=\u001b[0m \u001b[0mself\u001b[0m\u001b[1;33m.\u001b[0m\u001b[0m_read_status\u001b[0m\u001b[1;33m(\u001b[0m\u001b[1;33m)\u001b[0m\u001b[1;33m\u001b[0m\u001b[1;33m\u001b[0m\u001b[0m\n\u001b[0m\u001b[0;32m    307\u001b[0m             \u001b[1;32mif\u001b[0m \u001b[0mstatus\u001b[0m \u001b[1;33m!=\u001b[0m \u001b[0mCONTINUE\u001b[0m\u001b[1;33m:\u001b[0m\u001b[1;33m\u001b[0m\u001b[1;33m\u001b[0m\u001b[0m\n\u001b[0;32m    308\u001b[0m                 \u001b[1;32mbreak\u001b[0m\u001b[1;33m\u001b[0m\u001b[1;33m\u001b[0m\u001b[0m\n",
      "\u001b[1;32mc:\\users\\user\\appdata\\local\\programs\\python\\python37\\lib\\http\\client.py\u001b[0m in \u001b[0;36m_read_status\u001b[1;34m(self)\u001b[0m\n\u001b[0;32m    265\u001b[0m \u001b[1;33m\u001b[0m\u001b[0m\n\u001b[0;32m    266\u001b[0m     \u001b[1;32mdef\u001b[0m \u001b[0m_read_status\u001b[0m\u001b[1;33m(\u001b[0m\u001b[0mself\u001b[0m\u001b[1;33m)\u001b[0m\u001b[1;33m:\u001b[0m\u001b[1;33m\u001b[0m\u001b[1;33m\u001b[0m\u001b[0m\n\u001b[1;32m--> 267\u001b[1;33m         \u001b[0mline\u001b[0m \u001b[1;33m=\u001b[0m \u001b[0mstr\u001b[0m\u001b[1;33m(\u001b[0m\u001b[0mself\u001b[0m\u001b[1;33m.\u001b[0m\u001b[0mfp\u001b[0m\u001b[1;33m.\u001b[0m\u001b[0mreadline\u001b[0m\u001b[1;33m(\u001b[0m\u001b[0m_MAXLINE\u001b[0m \u001b[1;33m+\u001b[0m \u001b[1;36m1\u001b[0m\u001b[1;33m)\u001b[0m\u001b[1;33m,\u001b[0m \u001b[1;34m\"iso-8859-1\"\u001b[0m\u001b[1;33m)\u001b[0m\u001b[1;33m\u001b[0m\u001b[1;33m\u001b[0m\u001b[0m\n\u001b[0m\u001b[0;32m    268\u001b[0m         \u001b[1;32mif\u001b[0m \u001b[0mlen\u001b[0m\u001b[1;33m(\u001b[0m\u001b[0mline\u001b[0m\u001b[1;33m)\u001b[0m \u001b[1;33m>\u001b[0m \u001b[0m_MAXLINE\u001b[0m\u001b[1;33m:\u001b[0m\u001b[1;33m\u001b[0m\u001b[1;33m\u001b[0m\u001b[0m\n\u001b[0;32m    269\u001b[0m             \u001b[1;32mraise\u001b[0m \u001b[0mLineTooLong\u001b[0m\u001b[1;33m(\u001b[0m\u001b[1;34m\"status line\"\u001b[0m\u001b[1;33m)\u001b[0m\u001b[1;33m\u001b[0m\u001b[1;33m\u001b[0m\u001b[0m\n",
      "\u001b[1;32mc:\\users\\user\\appdata\\local\\programs\\python\\python37\\lib\\socket.py\u001b[0m in \u001b[0;36mreadinto\u001b[1;34m(self, b)\u001b[0m\n\u001b[0;32m    587\u001b[0m         \u001b[1;32mwhile\u001b[0m \u001b[1;32mTrue\u001b[0m\u001b[1;33m:\u001b[0m\u001b[1;33m\u001b[0m\u001b[1;33m\u001b[0m\u001b[0m\n\u001b[0;32m    588\u001b[0m             \u001b[1;32mtry\u001b[0m\u001b[1;33m:\u001b[0m\u001b[1;33m\u001b[0m\u001b[1;33m\u001b[0m\u001b[0m\n\u001b[1;32m--> 589\u001b[1;33m                 \u001b[1;32mreturn\u001b[0m \u001b[0mself\u001b[0m\u001b[1;33m.\u001b[0m\u001b[0m_sock\u001b[0m\u001b[1;33m.\u001b[0m\u001b[0mrecv_into\u001b[0m\u001b[1;33m(\u001b[0m\u001b[0mb\u001b[0m\u001b[1;33m)\u001b[0m\u001b[1;33m\u001b[0m\u001b[1;33m\u001b[0m\u001b[0m\n\u001b[0m\u001b[0;32m    590\u001b[0m             \u001b[1;32mexcept\u001b[0m \u001b[0mtimeout\u001b[0m\u001b[1;33m:\u001b[0m\u001b[1;33m\u001b[0m\u001b[1;33m\u001b[0m\u001b[0m\n\u001b[0;32m    591\u001b[0m                 \u001b[0mself\u001b[0m\u001b[1;33m.\u001b[0m\u001b[0m_timeout_occurred\u001b[0m \u001b[1;33m=\u001b[0m \u001b[1;32mTrue\u001b[0m\u001b[1;33m\u001b[0m\u001b[1;33m\u001b[0m\u001b[0m\n",
      "\u001b[1;32mc:\\users\\user\\appdata\\local\\programs\\python\\python37\\lib\\ssl.py\u001b[0m in \u001b[0;36mrecv_into\u001b[1;34m(self, buffer, nbytes, flags)\u001b[0m\n\u001b[0;32m   1069\u001b[0m                   \u001b[1;34m\"non-zero flags not allowed in calls to recv_into() on %s\"\u001b[0m \u001b[1;33m%\u001b[0m\u001b[1;33m\u001b[0m\u001b[1;33m\u001b[0m\u001b[0m\n\u001b[0;32m   1070\u001b[0m                   self.__class__)\n\u001b[1;32m-> 1071\u001b[1;33m             \u001b[1;32mreturn\u001b[0m \u001b[0mself\u001b[0m\u001b[1;33m.\u001b[0m\u001b[0mread\u001b[0m\u001b[1;33m(\u001b[0m\u001b[0mnbytes\u001b[0m\u001b[1;33m,\u001b[0m \u001b[0mbuffer\u001b[0m\u001b[1;33m)\u001b[0m\u001b[1;33m\u001b[0m\u001b[1;33m\u001b[0m\u001b[0m\n\u001b[0m\u001b[0;32m   1072\u001b[0m         \u001b[1;32melse\u001b[0m\u001b[1;33m:\u001b[0m\u001b[1;33m\u001b[0m\u001b[1;33m\u001b[0m\u001b[0m\n\u001b[0;32m   1073\u001b[0m             \u001b[1;32mreturn\u001b[0m \u001b[0msuper\u001b[0m\u001b[1;33m(\u001b[0m\u001b[1;33m)\u001b[0m\u001b[1;33m.\u001b[0m\u001b[0mrecv_into\u001b[0m\u001b[1;33m(\u001b[0m\u001b[0mbuffer\u001b[0m\u001b[1;33m,\u001b[0m \u001b[0mnbytes\u001b[0m\u001b[1;33m,\u001b[0m \u001b[0mflags\u001b[0m\u001b[1;33m)\u001b[0m\u001b[1;33m\u001b[0m\u001b[1;33m\u001b[0m\u001b[0m\n",
      "\u001b[1;32mc:\\users\\user\\appdata\\local\\programs\\python\\python37\\lib\\ssl.py\u001b[0m in \u001b[0;36mread\u001b[1;34m(self, len, buffer)\u001b[0m\n\u001b[0;32m    927\u001b[0m         \u001b[1;32mtry\u001b[0m\u001b[1;33m:\u001b[0m\u001b[1;33m\u001b[0m\u001b[1;33m\u001b[0m\u001b[0m\n\u001b[0;32m    928\u001b[0m             \u001b[1;32mif\u001b[0m \u001b[0mbuffer\u001b[0m \u001b[1;32mis\u001b[0m \u001b[1;32mnot\u001b[0m \u001b[1;32mNone\u001b[0m\u001b[1;33m:\u001b[0m\u001b[1;33m\u001b[0m\u001b[1;33m\u001b[0m\u001b[0m\n\u001b[1;32m--> 929\u001b[1;33m                 \u001b[1;32mreturn\u001b[0m \u001b[0mself\u001b[0m\u001b[1;33m.\u001b[0m\u001b[0m_sslobj\u001b[0m\u001b[1;33m.\u001b[0m\u001b[0mread\u001b[0m\u001b[1;33m(\u001b[0m\u001b[0mlen\u001b[0m\u001b[1;33m,\u001b[0m \u001b[0mbuffer\u001b[0m\u001b[1;33m)\u001b[0m\u001b[1;33m\u001b[0m\u001b[1;33m\u001b[0m\u001b[0m\n\u001b[0m\u001b[0;32m    930\u001b[0m             \u001b[1;32melse\u001b[0m\u001b[1;33m:\u001b[0m\u001b[1;33m\u001b[0m\u001b[1;33m\u001b[0m\u001b[0m\n\u001b[0;32m    931\u001b[0m                 \u001b[1;32mreturn\u001b[0m \u001b[0mself\u001b[0m\u001b[1;33m.\u001b[0m\u001b[0m_sslobj\u001b[0m\u001b[1;33m.\u001b[0m\u001b[0mread\u001b[0m\u001b[1;33m(\u001b[0m\u001b[0mlen\u001b[0m\u001b[1;33m)\u001b[0m\u001b[1;33m\u001b[0m\u001b[1;33m\u001b[0m\u001b[0m\n",
      "\u001b[1;31mKeyboardInterrupt\u001b[0m: "
     ]
    }
   ],
   "source": [
    "#download data sources if not there\n",
    "data_urls = {}\n",
    "data_urls['sidewalk_extent'] = r'https://gis.drcog.org/geoserver/DRCOGPUB/ows?service=WFS&version=1.0.0&request=GetFeature&typeName=DRCOGPUB:planimetrics_2016_extent_centerline_sidewalks&outputFormat=application%2Fjson'\n",
    "data_urls['sidewalk_centerlines'] = r'https://gis.drcog.org/geoserver/DRCOGPUB/ows?service=WFS&version=1.0.0&request=GetFeature&typeName=DRCOGPUB:planimetrics_2016_centerline_sidewalks&outputFormat=application%2Fjson'\n",
    "#data_urls['road_borders'] = r'https://gis.drcog.org/geoserver/DRCOGPUB/ows?service=WFS&version=1.0.0&request=GetFeature&typeName=DRCOGPUB:planimetrics_2016_eop_line&outputFormat=application%2Fjson'\n",
    "data_urls['road_polygons'] = r'https://gis.drcog.org/geoserver/DRCOGPUB/ows?service=WFS&version=1.0.0&request=GetFeature&typeName=DRCOGPUB:planimetrics_2016_eop_poly&outputFormat=application%2Fjson'\n",
    "if not IN_COLAB: #\n",
    "  for key, value in data_urls.items():\n",
    "      if not path.exists(key + \".geojson\"):\n",
    "          urllib.request.urlretrieve(value, key + '.geojson')"
   ]
  },
  {
   "cell_type": "code",
   "execution_count": 25,
   "metadata": {
    "colab": {},
    "colab_type": "code",
    "id": "0KPLU1Pn4Aj3"
   },
   "outputs": [],
   "source": [
    "if IN_COLAB:\n",
    "  sidewalk_gdf = gpd.read_file('/content/data/sidewalk_centerlines.geojson')\n",
    "  sidewalk_extent_gdf = gpd.read_file('/content/data/sidewalk_extent.geojson')\n",
    "  road_polygons_gdf = gpd.read_file('/content/data/road_polygons.geojson')\n",
    "else:\n",
    "  sidewalk_gdf = gpd.read_file('sidewalk_centerlines.geojson')\n",
    "  sidewalk_extent_gdf = gpd.read_file('sidewalk_extent.geojson')\n",
    "  road_polygons_gdf = gpd.read_file('road_polygons.geojson')"
   ]
  },
  {
   "cell_type": "code",
   "execution_count": 8,
   "metadata": {
    "colab": {
     "base_uri": "https://localhost:8080/",
     "height": 375
    },
    "colab_type": "code",
    "id": "O-53hRgp4Aj9",
    "outputId": "9273312d-f4e8-4ff9-cea3-b6c6b2b9a51e"
   },
   "outputs": [
    {
     "data": {
      "text/html": [
       "<div>\n",
       "<style scoped>\n",
       "    .dataframe tbody tr th:only-of-type {\n",
       "        vertical-align: middle;\n",
       "    }\n",
       "\n",
       "    .dataframe tbody tr th {\n",
       "        vertical-align: top;\n",
       "    }\n",
       "\n",
       "    .dataframe thead th {\n",
       "        text-align: right;\n",
       "    }\n",
       "</style>\n",
       "<table border=\"1\" class=\"dataframe\">\n",
       "  <thead>\n",
       "    <tr style=\"text-align: right;\">\n",
       "      <th></th>\n",
       "      <th>id</th>\n",
       "      <th>gid</th>\n",
       "      <th>createdate</th>\n",
       "      <th>createuser</th>\n",
       "      <th>type</th>\n",
       "      <th>comments</th>\n",
       "      <th>update_sta</th>\n",
       "      <th>unique_id</th>\n",
       "      <th>geometry</th>\n",
       "    </tr>\n",
       "  </thead>\n",
       "  <tbody>\n",
       "    <tr>\n",
       "      <th>0</th>\n",
       "      <td>planimetrics_2016_centerline_sidewalks.534414</td>\n",
       "      <td>534414</td>\n",
       "      <td>2016-04-08</td>\n",
       "      <td>Kucera</td>\n",
       "      <td>Sidewalk</td>\n",
       "      <td>None</td>\n",
       "      <td>N</td>\n",
       "      <td>534414</td>\n",
       "      <td>MULTILINESTRING ((3096575.759 1779104.505, 309...</td>\n",
       "    </tr>\n",
       "    <tr>\n",
       "      <th>1</th>\n",
       "      <td>planimetrics_2016_centerline_sidewalks.534415</td>\n",
       "      <td>534415</td>\n",
       "      <td>2016-04-08</td>\n",
       "      <td>Kucera</td>\n",
       "      <td>Sidewalk</td>\n",
       "      <td>None</td>\n",
       "      <td>N</td>\n",
       "      <td>534415</td>\n",
       "      <td>MULTILINESTRING ((3095429.059 1779035.067, 309...</td>\n",
       "    </tr>\n",
       "    <tr>\n",
       "      <th>2</th>\n",
       "      <td>planimetrics_2016_centerline_sidewalks.534416</td>\n",
       "      <td>534416</td>\n",
       "      <td>2016-04-08</td>\n",
       "      <td>Kucera</td>\n",
       "      <td>Other crossing</td>\n",
       "      <td>None</td>\n",
       "      <td>N</td>\n",
       "      <td>534416</td>\n",
       "      <td>MULTILINESTRING ((3096759.611 1779106.863, 309...</td>\n",
       "    </tr>\n",
       "    <tr>\n",
       "      <th>3</th>\n",
       "      <td>planimetrics_2016_centerline_sidewalks.534417</td>\n",
       "      <td>534417</td>\n",
       "      <td>2016-04-08</td>\n",
       "      <td>Kucera</td>\n",
       "      <td>Sidewalk</td>\n",
       "      <td>None</td>\n",
       "      <td>N</td>\n",
       "      <td>534417</td>\n",
       "      <td>MULTILINESTRING ((3096821.734 1779106.976, 309...</td>\n",
       "    </tr>\n",
       "    <tr>\n",
       "      <th>4</th>\n",
       "      <td>planimetrics_2016_centerline_sidewalks.534418</td>\n",
       "      <td>534418</td>\n",
       "      <td>2016-04-08</td>\n",
       "      <td>Kucera</td>\n",
       "      <td>Sidewalk</td>\n",
       "      <td>None</td>\n",
       "      <td>N</td>\n",
       "      <td>534418</td>\n",
       "      <td>MULTILINESTRING ((3096759.611 1779106.863, 309...</td>\n",
       "    </tr>\n",
       "  </tbody>\n",
       "</table>\n",
       "</div>"
      ],
      "text/plain": [
       "                                              id     gid  createdate  \\\n",
       "0  planimetrics_2016_centerline_sidewalks.534414  534414  2016-04-08   \n",
       "1  planimetrics_2016_centerline_sidewalks.534415  534415  2016-04-08   \n",
       "2  planimetrics_2016_centerline_sidewalks.534416  534416  2016-04-08   \n",
       "3  planimetrics_2016_centerline_sidewalks.534417  534417  2016-04-08   \n",
       "4  planimetrics_2016_centerline_sidewalks.534418  534418  2016-04-08   \n",
       "\n",
       "  createuser            type comments update_sta  unique_id  \\\n",
       "0     Kucera        Sidewalk     None          N     534414   \n",
       "1     Kucera        Sidewalk     None          N     534415   \n",
       "2     Kucera  Other crossing     None          N     534416   \n",
       "3     Kucera        Sidewalk     None          N     534417   \n",
       "4     Kucera        Sidewalk     None          N     534418   \n",
       "\n",
       "                                            geometry  \n",
       "0  MULTILINESTRING ((3096575.759 1779104.505, 309...  \n",
       "1  MULTILINESTRING ((3095429.059 1779035.067, 309...  \n",
       "2  MULTILINESTRING ((3096759.611 1779106.863, 309...  \n",
       "3  MULTILINESTRING ((3096821.734 1779106.976, 309...  \n",
       "4  MULTILINESTRING ((3096759.611 1779106.863, 309...  "
      ]
     },
     "execution_count": 8,
     "metadata": {},
     "output_type": "execute_result"
    }
   ],
   "source": [
    "sidewalk_gdf.head()"
   ]
  },
  {
   "cell_type": "code",
   "execution_count": 9,
   "metadata": {
    "colab": {
     "base_uri": "https://localhost:8080/",
     "height": 79
    },
    "colab_type": "code",
    "id": "JT0NuJj34AkB",
    "outputId": "b0214b12-d0b0-4e80-e1c6-07a72d1122d2"
   },
   "outputs": [
    {
     "data": {
      "text/html": [
       "<div>\n",
       "<style scoped>\n",
       "    .dataframe tbody tr th:only-of-type {\n",
       "        vertical-align: middle;\n",
       "    }\n",
       "\n",
       "    .dataframe tbody tr th {\n",
       "        vertical-align: top;\n",
       "    }\n",
       "\n",
       "    .dataframe thead th {\n",
       "        text-align: right;\n",
       "    }\n",
       "</style>\n",
       "<table border=\"1\" class=\"dataframe\">\n",
       "  <thead>\n",
       "    <tr style=\"text-align: right;\">\n",
       "      <th></th>\n",
       "      <th>id</th>\n",
       "      <th>gid</th>\n",
       "      <th>sqmi</th>\n",
       "      <th>geometry</th>\n",
       "    </tr>\n",
       "  </thead>\n",
       "  <tbody>\n",
       "    <tr>\n",
       "      <th>0</th>\n",
       "      <td>planimetrics_2016_extent_centerline_sidewalks.1</td>\n",
       "      <td>1</td>\n",
       "      <td>1378.109985</td>\n",
       "      <td>MULTIPOLYGON (((3138537.128 1894378.599, 31385...</td>\n",
       "    </tr>\n",
       "  </tbody>\n",
       "</table>\n",
       "</div>"
      ],
      "text/plain": [
       "                                                id  gid         sqmi  \\\n",
       "0  planimetrics_2016_extent_centerline_sidewalks.1    1  1378.109985   \n",
       "\n",
       "                                            geometry  \n",
       "0  MULTIPOLYGON (((3138537.128 1894378.599, 31385...  "
      ]
     },
     "execution_count": 9,
     "metadata": {},
     "output_type": "execute_result"
    }
   ],
   "source": [
    "sidewalk_extent_gdf.head()"
   ]
  },
  {
   "cell_type": "code",
   "execution_count": 10,
   "metadata": {
    "colab": {
     "base_uri": "https://localhost:8080/",
     "height": 289
    },
    "colab_type": "code",
    "id": "XF6S9Kiy4AkG",
    "outputId": "5c2fbc0a-7e57-4d78-8268-242f6bce8f3c"
   },
   "outputs": [
    {
     "data": {
      "text/html": [
       "<div>\n",
       "<style scoped>\n",
       "    .dataframe tbody tr th:only-of-type {\n",
       "        vertical-align: middle;\n",
       "    }\n",
       "\n",
       "    .dataframe tbody tr th {\n",
       "        vertical-align: top;\n",
       "    }\n",
       "\n",
       "    .dataframe thead th {\n",
       "        text-align: right;\n",
       "    }\n",
       "</style>\n",
       "<table border=\"1\" class=\"dataframe\">\n",
       "  <thead>\n",
       "    <tr style=\"text-align: right;\">\n",
       "      <th></th>\n",
       "      <th>id</th>\n",
       "      <th>gid</th>\n",
       "      <th>createdate</th>\n",
       "      <th>createuser</th>\n",
       "      <th>surface</th>\n",
       "      <th>type</th>\n",
       "      <th>comments</th>\n",
       "      <th>update_sta</th>\n",
       "      <th>unique_id</th>\n",
       "      <th>geometry</th>\n",
       "    </tr>\n",
       "  </thead>\n",
       "  <tbody>\n",
       "    <tr>\n",
       "      <th>0</th>\n",
       "      <td>planimetrics_2016_eop_poly.1</td>\n",
       "      <td>1</td>\n",
       "      <td>2015-07-08</td>\n",
       "      <td>Kucera</td>\n",
       "      <td>Paved</td>\n",
       "      <td>Corridor</td>\n",
       "      <td>None</td>\n",
       "      <td>M</td>\n",
       "      <td>1</td>\n",
       "      <td>MULTIPOLYGON (((3178008.528 1680396.903, 31780...</td>\n",
       "    </tr>\n",
       "    <tr>\n",
       "      <th>1</th>\n",
       "      <td>planimetrics_2016_eop_poly.2</td>\n",
       "      <td>2</td>\n",
       "      <td>2015-07-08</td>\n",
       "      <td>Kucera</td>\n",
       "      <td>Paved</td>\n",
       "      <td>Corridor</td>\n",
       "      <td>None</td>\n",
       "      <td>M</td>\n",
       "      <td>2</td>\n",
       "      <td>MULTIPOLYGON (((3177083.131 1680684.331, 31770...</td>\n",
       "    </tr>\n",
       "    <tr>\n",
       "      <th>2</th>\n",
       "      <td>planimetrics_2016_eop_poly.3</td>\n",
       "      <td>3</td>\n",
       "      <td>2015-07-08</td>\n",
       "      <td>Kucera</td>\n",
       "      <td>Paved</td>\n",
       "      <td>Corridor</td>\n",
       "      <td>None</td>\n",
       "      <td>M</td>\n",
       "      <td>3</td>\n",
       "      <td>MULTIPOLYGON (((3175748.021 1679192.504, 31757...</td>\n",
       "    </tr>\n",
       "    <tr>\n",
       "      <th>3</th>\n",
       "      <td>planimetrics_2016_eop_poly.4</td>\n",
       "      <td>4</td>\n",
       "      <td>2015-07-08</td>\n",
       "      <td>Kucera</td>\n",
       "      <td>Paved</td>\n",
       "      <td>Corridor</td>\n",
       "      <td>None</td>\n",
       "      <td>M</td>\n",
       "      <td>4</td>\n",
       "      <td>MULTIPOLYGON (((3171378.719 1680722.643, 31714...</td>\n",
       "    </tr>\n",
       "    <tr>\n",
       "      <th>4</th>\n",
       "      <td>planimetrics_2016_eop_poly.5</td>\n",
       "      <td>5</td>\n",
       "      <td>2015-07-08</td>\n",
       "      <td>Kucera</td>\n",
       "      <td>Paved</td>\n",
       "      <td>Corridor</td>\n",
       "      <td>None</td>\n",
       "      <td>M</td>\n",
       "      <td>5</td>\n",
       "      <td>MULTIPOLYGON (((3171676.961 1684022.116, 31716...</td>\n",
       "    </tr>\n",
       "  </tbody>\n",
       "</table>\n",
       "</div>"
      ],
      "text/plain": [
       "                             id  gid  createdate createuser surface      type  \\\n",
       "0  planimetrics_2016_eop_poly.1    1  2015-07-08     Kucera   Paved  Corridor   \n",
       "1  planimetrics_2016_eop_poly.2    2  2015-07-08     Kucera   Paved  Corridor   \n",
       "2  planimetrics_2016_eop_poly.3    3  2015-07-08     Kucera   Paved  Corridor   \n",
       "3  planimetrics_2016_eop_poly.4    4  2015-07-08     Kucera   Paved  Corridor   \n",
       "4  planimetrics_2016_eop_poly.5    5  2015-07-08     Kucera   Paved  Corridor   \n",
       "\n",
       "  comments update_sta  unique_id  \\\n",
       "0     None          M          1   \n",
       "1     None          M          2   \n",
       "2     None          M          3   \n",
       "3     None          M          4   \n",
       "4     None          M          5   \n",
       "\n",
       "                                            geometry  \n",
       "0  MULTIPOLYGON (((3178008.528 1680396.903, 31780...  \n",
       "1  MULTIPOLYGON (((3177083.131 1680684.331, 31770...  \n",
       "2  MULTIPOLYGON (((3175748.021 1679192.504, 31757...  \n",
       "3  MULTIPOLYGON (((3171378.719 1680722.643, 31714...  \n",
       "4  MULTIPOLYGON (((3171676.961 1684022.116, 31716...  "
      ]
     },
     "execution_count": 10,
     "metadata": {},
     "output_type": "execute_result"
    }
   ],
   "source": [
    "road_polygons_gdf.head()"
   ]
  },
  {
   "cell_type": "markdown",
   "metadata": {
    "colab_type": "text",
    "id": "9SK95xnk4AkJ"
   },
   "source": [
    "### check/fix geometry projection"
   ]
  },
  {
   "cell_type": "code",
   "execution_count": 26,
   "metadata": {
    "colab": {},
    "colab_type": "code",
    "id": "eaXqxiTX4AkK"
   },
   "outputs": [
    {
     "data": {
      "text/plain": [
       "array([2935159.7025    , 1508775.0615    , 3411162.9985    ,\n",
       "       1980230.98999999])"
      ]
     },
     "execution_count": 26,
     "metadata": {},
     "output_type": "execute_result"
    }
   ],
   "source": [
    "total_bounds = sidewalk_gdf.geometry.total_bounds\n",
    "total_bounds"
   ]
  },
  {
   "cell_type": "code",
   "execution_count": 27,
   "metadata": {
    "colab": {},
    "colab_type": "code",
    "id": "tQ4s8yE14AkO"
   },
   "outputs": [
    {
     "data": {
      "text/plain": [
       "array([2932503.25159384, 1503238.87488092, 3414549.89051701,\n",
       "       1991021.48166284])"
      ]
     },
     "execution_count": 27,
     "metadata": {},
     "output_type": "execute_result"
    }
   ],
   "source": [
    "sidewalk_extent_gdf.geometry.total_bounds"
   ]
  },
  {
   "cell_type": "markdown",
   "metadata": {
    "colab_type": "text",
    "id": "VfoDF4Kx4AkR"
   },
   "source": [
    "desired bounds: 39-41; - 104-106. These are standard *WGS84* AKA *EPSG 4326*"
   ]
  },
  {
   "cell_type": "code",
   "execution_count": 28,
   "metadata": {
    "colab": {},
    "colab_type": "code",
    "id": "1n7dd7JN4AkS"
   },
   "outputs": [
    {
     "data": {
      "text/plain": [
       "{'init': 'epsg:6428'}"
      ]
     },
     "execution_count": 28,
     "metadata": {},
     "output_type": "execute_result"
    }
   ],
   "source": [
    "sidewalk_extent_gdf.geometry.crs"
   ]
  },
  {
   "cell_type": "code",
   "execution_count": 29,
   "metadata": {
    "colab": {},
    "colab_type": "code",
    "id": "N5fyPtdf4AkU"
   },
   "outputs": [],
   "source": [
    "road_polygons_gdf = road_polygons_gdf.to_crs(epsg=4326)"
   ]
  },
  {
   "cell_type": "code",
   "execution_count": 30,
   "metadata": {
    "colab": {},
    "colab_type": "code",
    "id": "63ev-FBI4AkX"
   },
   "outputs": [
    {
     "data": {
      "text/plain": [
       "{'init': 'epsg:4326', 'no_defs': True}"
      ]
     },
     "execution_count": 30,
     "metadata": {},
     "output_type": "execute_result"
    }
   ],
   "source": [
    "sidewalk_gdf = sidewalk_gdf.to_crs(epsg=4326)\n",
    "sidewalk_gdf.crs"
   ]
  },
  {
   "cell_type": "code",
   "execution_count": 31,
   "metadata": {
    "colab": {},
    "colab_type": "code",
    "id": "eVxYJJeh4Aka"
   },
   "outputs": [
    {
     "name": "stdout",
     "output_type": "stream",
     "text": [
      "sidewalk extent crs:{'init': 'epsg:4326', 'no_defs': True} \n",
      "example coordinates 0    POINT (-104.97145 39.80632)\n",
      "dtype: geometry\n"
     ]
    }
   ],
   "source": [
    "sidewalk_extent_gdf = sidewalk_extent_gdf.to_crs(epsg=4326)\n",
    "print(f'sidewalk extent crs:{sidewalk_extent_gdf.geometry.crs} \\nexample coordinates {sidewalk_extent_gdf.geometry.centroid}')"
   ]
  },
  {
   "cell_type": "markdown",
   "metadata": {
    "colab_type": "text",
    "id": "WH3_jpMB4Akc"
   },
   "source": [
    "### Latitude & Longitude:\n",
    "Coordinates for sidewalk data set are in *Longitude*, **Latitude** format. \n",
    "Google Streetview API takes **Latitude**, *Longitude* format.\n",
    "\n",
    "# Find Points and Download Images"
   ]
  },
  {
   "cell_type": "markdown",
   "metadata": {
    "colab_type": "text",
    "id": "wA5OTHx44Akg"
   },
   "source": [
    "# Image Downloading Class"
   ]
  },
  {
   "cell_type": "code",
   "execution_count": null,
   "metadata": {
    "colab": {},
    "colab_type": "code",
    "id": "KK4Y9iJD4Akh"
   },
   "outputs": [],
   "source": [
    "class image_grabber(object):\n",
    "    '''\n",
    "    Creates random points and tests for appropriateness for image downloading. \n",
    "    Generates heading for appropriate points. \n",
    "    Downloads images from google maps api based on generated coordinates & heading. \n",
    "    Args:\n",
    "        sidewalks: sidewalk outline geodataframe\n",
    "        sidewalk_polygon: outline of area surveyd for sidewalks\n",
    "        road_polygons: outline of roads (so image capture direction can be toward sidewalks)\n",
    "        lines: duplicate?\n",
    "        direc: where images get saved\n",
    "        distance_to_sidewalk: meters along heading to look for sidewalk line\n",
    "    Attributes:\n",
    "        confirmed_locations = created by .generate_numbers() method. contains list of [Heading, [shapely.Point]] items\n",
    "        locations_w_label = created by .get_labels() method. has list of [Heading, [lat, lon], label] items\n",
    "        met_lis: list items are [date, panoID, filename]\n",
    "    Example Usage:\n",
    "        image_grab = image_grabber()\n",
    "        image_grab.generate_numbers(1)\n",
    "        image_grab.download_images()\n",
    "    TODO: \n",
    "        get working! image directions not greate and labels are only showing 'sidewalk'\n",
    "        Fix excess use of self.* naming\n",
    "        remove extra print statements\n",
    "    '''\n",
    "    def __init__(self, sidewalks=sidewalk_gdf, sidewalk_polygon=sidewalk_extent_gdf.geometry, \n",
    "                 road_polygons=road_polygons_gdf, \n",
    "                 direc=os.path.join(os.getcwd(), \"images\"), distance_to_sidewalk=12,\n",
    "                img_dim=(800,800), fov=90, radius=100, verbose=1):\n",
    "        self.sidewalks = sidewalks\n",
    "        self.sidewalk_polygon = sidewalk_polygon\n",
    "        self.road_polygons = road_polygons\n",
    "        #self.road_polygon['rep_points'] = self.road_polygon.geometry.apply(lambda obj: obj.representative_point()) # for closest ob finder\n",
    "        self.confirmed_locations = []\n",
    "        self.locations_w_label = []\n",
    "        self.metadata_url = \"\"\n",
    "        self.direc = direc\n",
    "        self.geod = pyproj.Geod(ellps='WGS84') #standard projection\n",
    "        self.image_list = []\n",
    "        self.PrevImage = []\n",
    "        self.dist_to_sdwlk = distance_to_sidewalk\n",
    "        self.url_list = []\n",
    "        self.img_dim = img_dim\n",
    "        self.fov = fov\n",
    "        self.base = r\"https://maps.googleapis.com/maps/api/streetview\"\n",
    "        self.size = r\"?size=\" + str(self.img_dim[0]) + 'x' + str(self.img_dim[1]) + '&fov=' + str(self.fov)\n",
    "        (self.min_lon, self.min_lat, self.max_lon, self.max_lat) = self.sidewalk_polygon.total_bounds\n",
    "        self.radius= radius\n",
    "        self.show_image = False\n",
    "        self.verbose = verbose\n",
    "    #utility methods\n",
    "    def degree_fixer(self, x):\n",
    "        return x if x >0 else 180-x\n",
    "    def degree_unfixer(self, x):\n",
    "        return x if x <= 180 else -x\n",
    "    def poly_decomposer(self, geo_obj):\n",
    "        '''\n",
    "        take complex geo object and convert to geo dataframe with geometry column\n",
    "        Args:\n",
    "            geo_obj: shapely multi object\n",
    "        returns:\n",
    "            geodataframe with geometry column\n",
    "        '''\n",
    "        decomp = gpd.GeoDataFrame()\n",
    "        decomp['geometry'] = None\n",
    "        for obj in geo_obj:\n",
    "            decomp.loc[decomp.shape[0]+1,'geometry'] = obj.exterior\n",
    "            for o in obj.interiors:\n",
    "                decomp.loc[decomp.shape[0]+1,'geometry'] = o\n",
    "        return decomp\n",
    "                \n",
    "    def generate_numbers(self, number):\n",
    "        '''\n",
    "        generate random locations within boundaries\n",
    "        '''\n",
    "        self.number = number\n",
    "        self.counter = 0\n",
    "        while self.counter < self.number:\n",
    "            self.pnt = Point(random.uniform(self.min_lon, self.max_lon), \n",
    "                             random.uniform(self.min_lat, self.max_lat))\n",
    "            if not self.sidewalk_polygon.contains(self.pnt).any(0):\n",
    "                continue\n",
    "            closest_obj = self.closest_obj_finder(point=self.pnt, objects=road_polygons_gdf.copy())   \n",
    "            if not closest_obj.contains(self.pnt): # check for both because first check is much faster\n",
    "                continue\n",
    "            # get direction towards nearest street edge, eg direction towards sidewalk\n",
    "            #create urls from components\n",
    "            self.keyloc=\"google_dev_key.key\"\n",
    "            with open(self.keyloc, 'r') as self.keyfile:\n",
    "                self.google_key=self.keyfile.read()[:-1]  # needed to strip newline char\n",
    "            self.loc = '&location=' + str(self.pnt.y) + \",\" + str(self.pnt.x) +  \"&radius=\" + str(self.radius) \n",
    "            self.metadata_url = self.base + r\"/metadata\" + self.size + self.loc + \"&key=\" + self.google_key\n",
    "\n",
    "            # get metadata and updated pnt to nearest pano location\n",
    "            self.met_lis = self.MetaParse() #[location, panoID]\n",
    "            if self.met_lis[0] is None:\n",
    "                continue\n",
    "            self.pnt = Point(self.met_lis[0]['lng'], self.met_lis[0]['lat'])\n",
    "            #find nearest point in road dataframe\n",
    "            decomposed_mpoly = self.poly_decomposer(closest_obj)\n",
    "            nearest_pnt = nearest_points(self.closest_obj_finder(self.pnt, decomposed_mpoly), self.pnt)[0]\n",
    "            #print(f' pnt is {self.pnt.xy}, nearest is {nearest_pnt} at {nearest_pnt.xy}')\n",
    "            #find a heading (cartographical azimuth from North)\n",
    "            #can't use geod.inv because it returns NAN for too close distance?\n",
    "            \n",
    "            #DONT KNOW WHY THIS DOESN'T WORK, but have to recreate Geod\n",
    "            #inv = self.geod.inv(lons1=self.pnt.y, lats1=self.pnt.x,\n",
    "            #                                 lons2=nearest_pnt.y, lats2=nearest_pnt.x)            \n",
    "            geod_wgs84 = pyproj.Geod(ellps='WGS84')\n",
    "            inv = geod_wgs84.inv(lons1=self.pnt.x, lats1=self.pnt.y, \n",
    "                                lons2=nearest_pnt.x, lats2=nearest_pnt.y, radians=False)\n",
    "            (direction, _, _1) = inv\n",
    "            #this is the inverse geodetic transformation\n",
    "            #xdiff = nearest_pnt.x - self.pnt.x\n",
    "            #ydiff = nearest_pnt.y - self.pnt.y\n",
    "            # atan2 input (y,x). change from unit circle e.g. W to N starting, \n",
    "            #and from anticlockwise to clockwise            \n",
    "            #negate everything to reverse direction; -2pi to get 0-2pi instead of -pi to pi\n",
    "            #direction =  -degrees(atan2(ydiff, xdiff)-2*pi)\n",
    "            #direction+=90 #change basis from [1, 0i] to [0, i]\n",
    "            #if direction >= 360: direction -= 360 \n",
    "            \n",
    "            direction = self.degree_fixer(direction)\n",
    "            result = [direction, self.pnt]\n",
    "            self.confirmed_locations.append(result)\n",
    "            if self.verbose > 0: print(f'{self.counter+1} of {self.number} locations generated.', end='\\r')\n",
    "            self.counter += 1\n",
    "    def closest_obj_finder(self, point, objects):\n",
    "        '''\n",
    "        finds closest point on a geoframe's geometry. \n",
    "        Args:\n",
    "             point: baseline point\n",
    "             objects: object set within which to find nearest object \n",
    "             find_count: how many obj to find\n",
    "        returns shapely object that is closest from within geodf passed \n",
    "        '''\n",
    "        objects['dist_to_pnt'] = objects.geometry.apply(lambda obj: obj.distance(point))\n",
    "        objects = objects.sort_values(by=['dist_to_pnt'])\n",
    "        closest_object = objects[objects.index.values == objects.iloc[[0],:]\n",
    "                          .apply(lambda obj: nearest_points(obj.geometry, point)[0], axis=1)\n",
    "                          .index.values].geometry.values[0]\n",
    "        return closest_object\n",
    "\n",
    "    def _to_coords(self, location):\n",
    "        '''\n",
    "        change shapely points to list with reverse order of points; [heading, [lon,lat]]->[heading, [lat,lon]]\n",
    "        '''\n",
    "        return [location[0], [item[0] for item in location[1].xy][::-1]]\n",
    "    \n",
    "    def get_labels(self):\n",
    "        '''\n",
    "        determines if sidewalk exists on street in direction of heading\n",
    "        No args or return\n",
    "        removed itmes from self.confirmed_locations, \n",
    "            adds heading, \n",
    "            and appends to self.locations_w_label\n",
    "        '''\n",
    "        while self.confirmed_locations:\n",
    "            self.location = self.confirmed_locations.pop()\n",
    "            self.direction, self.pnt = self.location\n",
    "            self.lons, self.lats = self.pnt.xy\n",
    "            self.closest_sidewalk = self.closest_obj_finder(self.pnt, self.sidewalks)\n",
    "            #print(self.direction)\n",
    "            self.endpnt_lons, self.endpnt_lat, _ = self.geod.fwd(lons=self.lons, \n",
    "                                                                 lats=self.lats, \n",
    "                                                                 az=self.direction, \n",
    "                                                                 dist=self.dist_to_sdwlk, \n",
    "                                                                 radians=False)\n",
    "            #print(f'pnt is {self.pnt.xy}, endpnt is {self.endpnt_lons},{self.endpnt_lat}')\n",
    "            #intersection method gives wrong answers\n",
    "            #intersection = self.pnt.intersection(Point(self.endpnt_lons[0], self.endpnt_lat[0])) \n",
    "            #print(f'intersection is {intersection}')\n",
    "            endpnt = Point(self.endpnt_lons[0], self.endpnt_lat[0])\n",
    "            camera_line = LineString([self.pnt, endpnt])\n",
    "            #projection_dist_norm = camera_line.project(self.closest_sidewalk, normalized=True)\n",
    "            #print(f'projection distance normalized:{projection_dist_norm}')\n",
    "            #intersection = True if projection_dist_norm > 1 else False\n",
    "            \n",
    "            camera_buff = camera_line.buffer(.0001)\n",
    "            intersection = True if self.closest_sidewalk.intersects(camera_buff) else False\n",
    "            self.label=\"sidewalk\" if intersection else 'no_sidewalk'\n",
    "            #print(self.pnt.xy)\n",
    "            #print(self.label)\n",
    "            self.clean_loc=self._to_coords(self.location)\n",
    "            self.clean_loc.append(self.label)\n",
    "            self.locations_w_label.append(self.clean_loc)\n",
    "            \n",
    "    def MetaParse(self):\n",
    "        '''\n",
    "        Uses metadata url to retrieve metadata for the pano image.\n",
    "        Args:\n",
    "            metadata_url: A string containing a valid url\n",
    "        Returns:\n",
    "             A tuple with the json data date and the pano_id\n",
    "        '''\n",
    "        self.response = urllib.request.urlopen(self.metadata_url)\n",
    "        self.json_raw = self.response.read()\n",
    "        self.json_data = json.loads(self.json_raw)\n",
    "        #return data from json response\n",
    "        if self.json_data['status'] == \"OK\":\n",
    "            return [self.json_data['location'], self.json_data['pano_id']]\n",
    "        else:\n",
    "            return [None,None]\n",
    "\n",
    "    def GetStreetvw(self, radius=1000):\n",
    "        '''\n",
    "        Downloads images from google api based on parameters specified. \n",
    "        Note: Dev key is unique to each user. To run this notebook, create your own dev key and\n",
    "        store in directory in a text file of this name.\n",
    "        Args:\n",
    "            img_dim: tuple of int specifying image size\n",
    "            fov: degrees of field of view for image\n",
    "            radius: meters for radius of search area for nearest pano\n",
    "        Returns:\n",
    "             A list item of images downloaded.\n",
    "             Main effect of function is to download images into directory.\n",
    "        '''\n",
    "        #get location to download\n",
    "        self.location_to_process = self.locations_w_label.pop()\n",
    "        [self.Head, [self.Lat, self.Lon], self.label] = self.location_to_process\n",
    "        if self.show_image: self.check_via_plot(self.location_to_process)\n",
    "        self.SaveLoc = self.direc + self.label        \n",
    "        #get key\n",
    "        self.keyloc=\"google_dev_key.key\"\n",
    "        with open(self.keyloc, 'r') as self.keyfile:\n",
    "            self.google_key=self.keyfile.read()[:-1]  # needed to strip newline char\n",
    "        #update urls\n",
    "        self.loc = '&location=' + str(self.Lat) + \",\" + str(self.Lon) +  \"&radius=\" + str(self.radius) \n",
    "        self.file_url = self.base + self.size + self.loc + \"&key=\" + self.google_key\n",
    "        self.file_name = \"lat\" + str(self.Lat) + \"lon\" + str(self.Lon) + \"head\" + str(self.Head) + \".jpg\"\n",
    "        #print(self.base + self.size + self.loc + \"&key=\")\n",
    "        #download files\n",
    "        if (self.met_lis[1], self.Head) not in self.image_list: #and met_lis[0] is not None:   #PrevImage is global list\n",
    "            with requests.Session() as self.urlrequest:\n",
    "                self.image = self.urlrequest.get(self.file_url)\n",
    "            self.filename=os.path.join(os.getcwd(), 'images', self.label, self.file_name)\n",
    "            with open(self.filename, 'wb') as self.openfile:\n",
    "                self.openfile.write(self.image.content)\n",
    "            self.PrevImage.append((self.met_lis[1], self.Head, self.file_url)) \n",
    "\n",
    "        #delete key to avoid storing in public github-hosted notebook\n",
    "        del(self.google_key)\n",
    "        return self.met_lis\n",
    "    def download_images(self, show_image=False):\n",
    "        '''\n",
    "        Iterates through the downloading method.\n",
    "        '''\n",
    "        #create directories\n",
    "        self.show_image = show_image\n",
    "        if not path.exists(self.direc):\n",
    "            os.mkdir(self.direc) \n",
    "        self.label_subdirs = ['sidewalk', 'no_sidewalk']\n",
    "        for self.subdir in self.label_subdirs:\n",
    "            if not path.exists(os.path.join(self.direc, self.subdir)):\n",
    "                os.mkdir(os.path.join(self.direc, self.subdir))\n",
    "        \n",
    "        #get labels\n",
    "        self.get_labels()\n",
    "        #download!\n",
    "        self.lwlsize = len(self.locations_w_label)\n",
    "        for i in range(0,self.lwlsize):\n",
    "            self.GetStreetvw()\n",
    "            if self.verbose >0: print(f'\\r{i+1} of {self.lwlsize} images downloaded.', end='\\r')\n",
    "    def check_via_plot(self, location):\n",
    "        '''\n",
    "        visualize chosen point from which pano was snapped and direction it looks.\n",
    "        Plotted as vector of distance within which to look for sidewalk.\n",
    "        Won't work for number>=1\n",
    "        '''\n",
    "        [Head, [Lat, Lon], label] = location\n",
    "        print(location)\n",
    "        Lon2, Lat2, _ = self.geod.fwd(lons=Lon, lats=Lat, \n",
    "                                      az=self.degree_unfixer(Head),\n",
    "                                      dist=self.dist_to_sdwlk, radians=False)\n",
    "        \n",
    "        dx = Lon2 - Lon\n",
    "        dy = Lat2 - Lat\n",
    "        #print(f'dx{dx}, dy{dy}')\n",
    "        xrange = sorted([Lon, Lon2])\n",
    "        yrange = sorted([Lat, Lat2])\n",
    "        #print(f'xrange is {xrange} to {yrange}')\n",
    "        rangemax = 5*max(abs(xrange[1]-xrange[0]), abs(yrange[1]-yrange[0]))\n",
    "        xrange = sorted([xrange[0] - rangemax, xrange[1] + rangemax])\n",
    "        yrange = sorted([yrange[0] - rangemax, yrange[1] + rangemax])\n",
    "\n",
    "        #plot geometries\n",
    "        fig_checkvp, ax = plt.subplots(figsize = (12,12))\n",
    "        sidewalk_gdf.geometry.plot(facecolor='g', linewidth=0, edgecolor='g', alpha=0.7, ax=ax, label='sidewalk')\n",
    "        road_polygons_gdf.geometry.plot(facecolor='r', linewidth=0, edgecolor='r', alpha=.7, ax=ax, label='road')\n",
    "        arrow = plt.arrow(x=Lon, y=Lat, dx=dx, dy=dy, width=.000005)\n",
    "        ax.add_patch(arrow)\n",
    "        print(f'xrange{xrange}, yrange: {yrange}')\n",
    "        ax.set_xlim(*xrange)\n",
    "        ax.set_ylim(*yrange)\n",
    "        ax.set_xlabel('Longitude')\n",
    "        ax.set_ylabel('Latitude')\n",
    "        ax.legend()\n",
    "        ax.set_title('Location of Image Requested with POV Vector', fontsize=20)\n",
    "        plt.plot();"
   ]
  },
  {
   "cell_type": "code",
   "execution_count": 18,
   "metadata": {
    "colab": {},
    "colab_type": "code",
    "id": "SkGrUA5q75jr"
   },
   "outputs": [],
   "source": [
    "#image grabber driver\n",
    "if IN_COLAB:\n",
    "  image_grab = image_grabber(direc=f'/content/gdrive/My Drive/thinkful/colab_datasets/sidewalk_data/images/',\n",
    "                             verbose=0)\n",
    "else:\n",
    "  image_grab = image_grabber()"
   ]
  },
  {
   "cell_type": "code",
   "execution_count": 0,
   "metadata": {
    "colab": {},
    "colab_type": "code",
    "id": "ZIj1wt7d9Pzt"
   },
   "outputs": [],
   "source": [
    "image_grab.generate_numbers(5)\n",
    "image_grab.download_images()"
   ]
  },
  {
   "cell_type": "code",
   "execution_count": null,
   "metadata": {
    "colab": {
     "base_uri": "https://localhost:8080/",
     "height": 381
    },
    "colab_type": "code",
    "id": "MpwQsLZv4Akt",
    "outputId": "b65eb7a6-77b5-45af-b59a-664414ac21c6"
   },
   "outputs": [
    {
     "name": "stdout",
     "output_type": "stream",
     "text": [
      "20 of 20 locations generated.\r"
     ]
    }
   ],
   "source": [
    "for _ in range(0, 400):\n",
    "  image_grab.generate_numbers(20)\n",
    "  image_grab.download_images()"
   ]
  },
  {
   "cell_type": "markdown",
   "metadata": {
    "colab_type": "text",
    "id": "2rv1A5VHeme5"
   },
   "source": [
    "## Issues with acquired data:\n",
    "around 15% of the images acquired had incorrect labels. This could be for multiple reasons:\n",
    "* old information (rapid population increase and building is keeping up with population)\n",
    "* inaccurate classification\n",
    "* partial sidewalk, where only a bit is in an image. How should we classify \"partial sidewalk\" in a binary classification task?\n",
    "* ambiguous 'sidewalks' - there are a range of slightly angle pavement edges to asphalt streets that could be considered kerbless sidewalk, or just shoulder or open gutter.\n",
    "* some panorams from google are rotated up to 90 degrees so may include part of the opposite road\n",
    "* some pictures have cars blocking the edge of the road where a sidewalk might be\n",
    "\n",
    "Because of this, to improve accuracy, I reviewed images manually to delete ambiguous and reassign clearly misclassified images before the modeling step."
   ]
  },
  {
   "cell_type": "markdown",
   "metadata": {
    "colab_type": "text",
    "id": "AlOVrGOk4Ak-"
   },
   "source": [
    "### Plotting Data"
   ]
  },
  {
   "cell_type": "code",
   "execution_count": 32,
   "metadata": {
    "colab": {},
    "colab_type": "code",
    "id": "nu0FuoRK4Ak_"
   },
   "outputs": [],
   "source": [
    "# data sourced from https://data-cdphe.opendata.arcgis.com/datasets/66c2642209684b90af84afcc559a5a02_5\n",
    "if not path.exists('CO_county_lines.kml'):\n",
    "    CO_cnty_lines_url = r'https://opendata.arcgis.com/datasets/66c2642209684b90af84afcc559a5a02_5.kml?outSR=%7B%22latestWkid%22%3A4269%2C%22wkid%22%3A4269%7D'\n",
    "    !curl -o CO_county_lines.kml $CO_cnty_lines_url"
   ]
  },
  {
   "cell_type": "code",
   "execution_count": 33,
   "metadata": {
    "colab": {},
    "colab_type": "code",
    "id": "9uQQOLwz4AlB"
   },
   "outputs": [],
   "source": [
    "gpd.io.file.fiona.drvsupport.supported_drivers['KML'] = 'rw'\n",
    "CO_county_lines_gdf = gpd.read_file('CO_county_lines.kml', driver='KML')"
   ]
  },
  {
   "cell_type": "code",
   "execution_count": 34,
   "metadata": {
    "colab": {},
    "colab_type": "code",
    "id": "KWObo3R54AlE",
    "outputId": "9f1ed7ac-b387-4a3e-f48f-e41ff1678436"
   },
   "outputs": [
    {
     "data": {
      "text/html": [
       "<div>\n",
       "<style scoped>\n",
       "    .dataframe tbody tr th:only-of-type {\n",
       "        vertical-align: middle;\n",
       "    }\n",
       "\n",
       "    .dataframe tbody tr th {\n",
       "        vertical-align: top;\n",
       "    }\n",
       "\n",
       "    .dataframe thead th {\n",
       "        text-align: right;\n",
       "    }\n",
       "</style>\n",
       "<table border=\"1\" class=\"dataframe\">\n",
       "  <thead>\n",
       "    <tr style=\"text-align: right;\">\n",
       "      <th></th>\n",
       "      <th>Name</th>\n",
       "      <th>Description</th>\n",
       "      <th>geometry</th>\n",
       "    </tr>\n",
       "  </thead>\n",
       "  <tbody>\n",
       "    <tr>\n",
       "      <th>0</th>\n",
       "      <td></td>\n",
       "      <td></td>\n",
       "      <td>POLYGON ((-105.05673 40.34929, -105.05664 40.3...</td>\n",
       "    </tr>\n",
       "    <tr>\n",
       "      <th>1</th>\n",
       "      <td></td>\n",
       "      <td></td>\n",
       "      <td>POLYGON ((-104.14319 37.75834, -104.14408 37.7...</td>\n",
       "    </tr>\n",
       "    <tr>\n",
       "      <th>2</th>\n",
       "      <td></td>\n",
       "      <td></td>\n",
       "      <td>POLYGON ((-105.36890 38.25941, -105.36889 38.2...</td>\n",
       "    </tr>\n",
       "    <tr>\n",
       "      <th>3</th>\n",
       "      <td></td>\n",
       "      <td></td>\n",
       "      <td>POLYGON ((-106.79970 38.97966, -106.80041 38.9...</td>\n",
       "    </tr>\n",
       "    <tr>\n",
       "      <th>4</th>\n",
       "      <td></td>\n",
       "      <td></td>\n",
       "      <td>POLYGON ((-106.14888 37.40111, -106.15066 37.4...</td>\n",
       "    </tr>\n",
       "  </tbody>\n",
       "</table>\n",
       "</div>"
      ],
      "text/plain": [
       "  Name Description                                           geometry\n",
       "0                   POLYGON ((-105.05673 40.34929, -105.05664 40.3...\n",
       "1                   POLYGON ((-104.14319 37.75834, -104.14408 37.7...\n",
       "2                   POLYGON ((-105.36890 38.25941, -105.36889 38.2...\n",
       "3                   POLYGON ((-106.79970 38.97966, -106.80041 38.9...\n",
       "4                   POLYGON ((-106.14888 37.40111, -106.15066 37.4..."
      ]
     },
     "execution_count": 34,
     "metadata": {},
     "output_type": "execute_result"
    }
   ],
   "source": [
    "CO_county_lines_gdf.head()"
   ]
  },
  {
   "cell_type": "code",
   "execution_count": 35,
   "metadata": {
    "colab": {},
    "colab_type": "code",
    "id": "Z6Z9pehm4AlJ",
    "outputId": "99dd1aeb-7fa1-4fe9-ec82-ae8c715095cd"
   },
   "outputs": [
    {
     "data": {
      "text/plain": [
       "{'init': 'epsg:4326'}"
      ]
     },
     "execution_count": 35,
     "metadata": {},
     "output_type": "execute_result"
    }
   ],
   "source": [
    "CO_county_lines_gdf.geometry.crs"
   ]
  },
  {
   "cell_type": "markdown",
   "metadata": {
    "colab_type": "text",
    "id": "d9sJhArZ4AlM"
   },
   "source": [
    " metadata from https://gis.drcog.org/rdc/xml/planimetrics_2016_centerline_sidewalks.xml"
   ]
  },
  {
   "cell_type": "code",
   "execution_count": 36,
   "metadata": {
    "colab": {},
    "colab_type": "code",
    "id": "_7Orm5Zr4AlN"
   },
   "outputs": [],
   "source": [
    "CO_county_lines_gdf.geometry.crs = {'init': 'epsg:4326'}"
   ]
  },
  {
   "cell_type": "code",
   "execution_count": 0,
   "metadata": {
    "colab": {},
    "colab_type": "code",
    "id": "-VKuPnKL4AlP",
    "outputId": "8fa5b598-3782-4d54-d571-2aad25dbbd45"
   },
   "outputs": [
    {
     "data": {
      "image/png": "[encoded data removed]",
      "text/plain": [
       "<Figure size 864x864 with 1 Axes>"
      ]
     },
     "metadata": {
      "needs_background": "light",
      "tags": []
     },
     "output_type": "display_data"
    }
   ],
   "source": [
    "#establish boundaries\n",
    "minx, miny, maxx, maxy = sidewalk_extent_gdf.geometry.total_bounds\n",
    "xdiff = maxx - minx\n",
    "ydiff = maxy - miny\n",
    "maxx += .15*xdiff\n",
    "minx -= .15*xdiff\n",
    "maxy += .15*ydiff\n",
    "miny -= .15*ydiff\n",
    "\n",
    "#plot geometries\n",
    "fig, ax = plt.subplots(figsize = (12,12))\n",
    "CO_county_lines_gdf.geometry.plot(facecolor='none', linewidth=.5, edgecolor='k', ax=ax)\n",
    "sidewalk_extent_gdf.geometry.plot(facecolor='g', linewidth=0, edgecolor='g', alpha=0.8, ax=ax)\n",
    "\n",
    "ax.set_xlim(minx, maxx)\n",
    "ax.set_ylim(miny, maxy)\n",
    "ax.set_xlabel('Longitude')\n",
    "ax.set_ylabel('Latitude')\n",
    "ax.set_title('Extent of Sidewalk Mapping Area in Denver Metro', fontsize=20)\n",
    "plt.plot();"
   ]
  },
  {
   "cell_type": "markdown",
   "metadata": {},
   "source": [
    "# Results of Download"
   ]
  },
  {
   "cell_type": "code",
   "execution_count": 1,
   "metadata": {},
   "outputs": [
    {
     "data": {
      "text/plain": [
       "'C:\\\\Users\\\\User\\\\Documents\\\\GitHub\\\\sidewalks_deep-learning'"
      ]
     },
     "execution_count": 1,
     "metadata": {},
     "output_type": "execute_result"
    }
   ],
   "source": [
    "pwd"
   ]
  },
  {
   "cell_type": "code",
   "execution_count": 39,
   "metadata": {},
   "outputs": [],
   "source": [
    "#switch to cloud dir\n",
    "if IN_COLAB:\n",
    "    os.chdir(f'/content/gdrive/My Drive/thinkful/colab_datasets/sidewalk_data/images/')\n",
    "else:\n",
    "    os.chdir(os.path.expanduser(f'~/Google Drive/thinkful/colab_datasets/sidewalk_data/images/'))"
   ]
  },
  {
   "cell_type": "code",
   "execution_count": 136,
   "metadata": {},
   "outputs": [],
   "source": [
    "# get list of all image filenames. filenames have location nfo\n",
    "sidewalk_paths = [r'./train/sidewalk', r'./test/sidewalk']\n",
    "no_sidewalk_paths =  [r'./train/no_sidewalk', r'./test/no_sidewalk']\n",
    "sidewalk_locs, no_sidewalk_locs = [], []\n",
    "for path in sidewalk_paths:\n",
    "    sidewalk_locs.extend(os.listdir(path))\n",
    "for path in no_sidewalk_paths:\n",
    "    no_sidewalk_locs.extend(os.listdir(path))"
   ]
  },
  {
   "cell_type": "code",
   "execution_count": 146,
   "metadata": {
    "scrolled": true
   },
   "outputs": [],
   "source": [
    "# convert filenames to list of lat/long\n",
    "def location_parser(location):\n",
    "    lonstart = location.find('lon')\n",
    "    headstart = location.find('head')\n",
    "    end = location.find('.jpg')\n",
    "    lat = location[3:lonstart]\n",
    "    lon = location[lonstart+3:headstart]\n",
    "    head = location[headstart+4:end]\n",
    "    return [lat, lon, head]\n",
    "no_sidewalk_locs1 = [location_parser(loc) for loc in no_sidewalk_locs]\n",
    "sidewalk_locs1 = [location_parser(loc) for loc in no_sidewalk_locs]"
   ]
  },
  {
   "cell_type": "code",
   "execution_count": 147,
   "metadata": {},
   "outputs": [],
   "source": [
    "# need Points to plot \n",
    "sidewalk_loc_xy = np.array([[float(loc[1]), float(loc[0])] for loc in sidewalk_locs1])\n",
    "no_sidewalk_loc_xy = np.array([[float(loc[1]), float(loc[0])] for loc in no_sidewalk_locs1])"
   ]
  },
  {
   "cell_type": "code",
   "execution_count": 148,
   "metadata": {},
   "outputs": [],
   "source": [
    "#get density estimate. score_samples returns log value\n",
    "sidewalk_loc_kde = np.exp(KernelDensity().fit(X=sidewalk_loc_xy).score_samples(sidewalk_loc_xy))\n",
    "no_sidewalk_loc_kde = np.exp(KernelDensity().fit(X=no_sidewalk_loc_xy).score_samples(no_sidewalk_loc_xy))"
   ]
  },
  {
   "cell_type": "code",
   "execution_count": 149,
   "metadata": {},
   "outputs": [],
   "source": [
    "sidewalk_loc_kde = np.expand_dims(sidewalk_loc_kde, axis=1)  \n",
    "no_sidewalk_loc_kde = np.expand_dims(no_sidewalk_loc_kde, axis=1)"
   ]
  },
  {
   "cell_type": "code",
   "execution_count": 154,
   "metadata": {},
   "outputs": [],
   "source": [
    "sidewalk_xyk = np.concatenate((sidewalk_loc_xy, sidewalk_loc_kde), axis=1)\n",
    "no_sidewalk_xyk = np.concatenate((no_sidewalk_loc_xy, no_sidewalk_loc_kde), axis=1)\n",
    "sX, sY, sZ = sidewalk_xyk[:,0].tolist(), sidewalk_xyk[:,1].tolist(), sidewalk_xyk[:,2].tolist()\n",
    "nosX, nosY, nosZ = no_sisid, no_sidewalk_xyk[:,1], no_sidewalk_xyk[:,2]"
   ]
  },
  {
   "cell_type": "code",
   "execution_count": 213,
   "metadata": {},
   "outputs": [],
   "source": [
    "def location_plotter(dataset, title_insert):\n",
    "    plt.style.use(\"fivethirtyeight\")\n",
    "    minx, miny, maxx, maxy = sidewalk_extent_gdf.geometry.total_bounds\n",
    "    xdiff = maxx - minx\n",
    "    ydiff = maxy - miny\n",
    "    maxx += .05*xdiff\n",
    "    minx -= .05*xdiff\n",
    "    maxy += .05*ydiff\n",
    "    miny -= .05*ydiff\n",
    "\n",
    "    #plot geometries\n",
    "    fig1, ax1 = plt.subplots(figsize = (8,8))\n",
    "    sns.kdeplot(dataset[:,0], dataset[:,1], \n",
    "                    shade=True, gridsize=100, cut=0, \n",
    "                    clip=None, \n",
    "                    cmap=\"Purples_d\",\n",
    "                    shade_lowest=False, \n",
    "                    ax=ax1,\n",
    "                    bw=.01,\n",
    "                    )\n",
    "    CO_county_lines_gdf.geometry.plot(facecolor='none', linewidth=.5, edgecolor='k', ax=ax1)\n",
    "    sidewalk_extent_gdf.geometry.plot(facecolor='g', linewidth=.5, edgecolor='g', alpha=0, ax=ax1)\n",
    "    levels = np.linspace(0, sidewalk_xyk[:,2].max(), 25)\n",
    "    ax1.set_xlim(minx, maxx)\n",
    "    ax1.set_ylim(miny, maxy)\n",
    "    ax1.set_xlabel('Longitude')\n",
    "    ax1.set_ylabel('Latitude')\n",
    "    ax1.set_title(f'Density of {title_insert} Images', fontsize=20)\n",
    "    plt.plot();"
   ]
  },
  {
   "cell_type": "code",
   "execution_count": 214,
   "metadata": {},
   "outputs": [
    {
     "data": {
      "image/png": "[encoded data removed]",
      "text/plain": [
       "<Figure size 576x576 with 1 Axes>"
      ]
     },
     "metadata": {},
     "output_type": "display_data"
    }
   ],
   "source": [
    "location_plotter(sidewalk_loc_xy, \"Sidewalk\")"
   ]
  },
  {
   "cell_type": "code",
   "execution_count": 215,
   "metadata": {},
   "outputs": [
    {
     "data": {
      "image/png": "[encoded data removed]",
      "text/plain": [
       "<Figure size 576x576 with 1 Axes>"
      ]
     },
     "metadata": {},
     "output_type": "display_data"
    }
   ],
   "source": [
    "location_plotter(no_sidewalk_loc_xy, \"No Sidewalk\")"
   ]
  },
  {
   "cell_type": "code",
   "execution_count": null,
   "metadata": {},
   "outputs": [],
   "source": []
  }
 ],
 "metadata": {
  "colab": {
   "collapsed_sections": [
    "WH3_jpMB4Akc",
    "7MHQIQts4AlR"
   ],
   "include_colab_link": true,
   "name": "sidewalks_data_acquisition.ipynb",
   "provenance": []
  },
  "kernelspec": {
   "display_name": "Python 3",
   "language": "python",
   "name": "python3"
  },
  "language_info": {
   "codemirror_mode": {
    "name": "ipython",
    "version": 3
   },
   "file_extension": ".py",
   "mimetype": "text/x-python",
   "name": "python",
   "nbconvert_exporter": "python",
   "pygments_lexer": "ipython3",
   "version": "3.7.4"
  }
 },
 "nbformat": 4,
 "nbformat_minor": 1
}
