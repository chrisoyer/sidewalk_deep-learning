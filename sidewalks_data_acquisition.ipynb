{
 "cells": [
  {
   "cell_type": "markdown",
   "metadata": {
    "colab_type": "text",
    "id": "view-in-github"
   },
   "source": [
    "<a href=\"https://colab.research.google.com/github/chrisoyer/sidewalks_deep-learning/blob/master/sidewalks_data_acquisition.ipynb\" target=\"_parent\"><img src=\"https://colab.research.google.com/assets/colab-badge.svg\" alt=\"Open In Colab\"/></a>"
   ]
  },
  {
   "cell_type": "markdown",
   "metadata": {
    "colab_type": "text",
    "id": "os9K3H6A4Aij"
   },
   "source": [
    "# Data Acquisition\n",
    "This is the notebook whereby I obtain the labeled image set that will be for this project. I will use several geographic datasets covering the Denver metro area to create the API requests against the Google StreetView static API. \n",
    "Because of licensing on the API, I am not able to making the images availible, but if you obtain a deverloper key you can use this notebook to download a similar dataset."
   ]
  },
  {
   "cell_type": "code",
   "execution_count": 1,
   "metadata": {
    "colab": {
     "base_uri": "https://localhost:8080/",
     "height": 661
    },
    "colab_type": "code",
    "id": "ExRJS3Ig4Ajc",
    "outputId": "d15bfa00-ce79-465d-d9f0-9e074fc524fb"
   },
   "outputs": [],
   "source": [
    "try:\n",
    "  import google.colab\n",
    "  IN_COLAB = True\n",
    "except:\n",
    "  IN_COLAB = False\n",
    "\n",
    "if IN_COLAB:\n",
    "    import os\n",
    "    #install modules \n",
    "    !pip install geopandas\n",
    "    !pip install shapely\n",
    "    !pip install pyproj\n",
    "    from google.colab import drive\n",
    "    drive.mount('/content/gdrive')"
   ]
  },
  {
   "cell_type": "code",
   "execution_count": 2,
   "metadata": {
    "colab": {},
    "colab_type": "code",
    "id": "P94OLInx5v5O"
   },
   "outputs": [],
   "source": [
    "if IN_COLAB:    \n",
    "    os.chdir(f'/content/gdrive/My Drive/thinkful/colab_datasets/sidewalk_data')\n",
    "    !unzip sidewalks_deep-learning.zip -d '/content/data/'\n",
    "    os.getcwd()"
   ]
  },
  {
   "cell_type": "code",
   "execution_count": 3,
   "metadata": {
    "colab": {},
    "colab_type": "code",
    "id": "8V9U83Ul4Aiv"
   },
   "outputs": [],
   "source": [
    "import numpy as np\n",
    "import pandas as pd\n",
    "import geopandas as gpd\n",
    "import shapely\n",
    "from shapely.ops import nearest_points\n",
    "from shapely.geometry import Point, LinearRing, LineString\n",
    "import matplotlib.pyplot as plt\n",
    "import seaborn as sns\n",
    "import random\n",
    "from os import path\n",
    "import urllib.request\n",
    "import requests\n",
    "import pickle\n",
    "from math import atan2, degrees, pi\n",
    "import pyproj\n",
    "from tqdm import tqdm\n",
    "import urllib, os, json"
   ]
  },
  {
   "cell_type": "code",
   "execution_count": 4,
   "metadata": {
    "colab": {
     "base_uri": "https://localhost:8080/",
     "height": 35
    },
    "colab_type": "code",
    "id": "9_jJLb1D4Ai9",
    "outputId": "129fbb2f-16aa-4187-d57c-26c81145de4d"
   },
   "outputs": [
    {
     "data": {
      "text/plain": [
       "'C:\\\\Users\\\\User\\\\Documents\\\\GitHub\\\\sidewalks_deep-learning'"
      ]
     },
     "execution_count": 4,
     "metadata": {},
     "output_type": "execute_result"
    }
   ],
   "source": [
    "down_loc = os.getcwd()\n",
    "down_loc"
   ]
  },
  {
   "cell_type": "markdown",
   "metadata": {
    "colab_type": "text",
    "id": "hhtLpp804AjN"
   },
   "source": [
    "Outline: \n",
    "* data sourcing\n",
    "    * set up google api to download images\n",
    "    * generate random lat, long\n",
    "    * test location for being in urban area covered by map\n",
    "    * use street view to find nearest image\n",
    "    * get image metadata inc lat lon & direction\n",
    "    * see if there is sidewalk centerline w/in 10ft?, create label in dataframe\n",
    "* modeling\n",
    "    * create tf model to classify images, train/test/validate\n",
    "* use pretrained model to do object detection of sidewalks\n",
    "* cluster sidewalks by type\n",
    "    "
   ]
  },
  {
   "cell_type": "code",
   "execution_count": 5,
   "metadata": {
    "colab": {},
    "colab_type": "code",
    "id": "arUc59Gb4AjR",
    "outputId": "52f819e0-0137-4a80-b0d0-a26f463a505d"
   },
   "outputs": [
    {
     "data": {
      "text/plain": [
       "'C:\\\\Users\\\\User\\\\Documents\\\\GitHub\\\\sidewalks_deep-learning'"
      ]
     },
     "execution_count": 5,
     "metadata": {},
     "output_type": "execute_result"
    }
   ],
   "source": [
    "pwd"
   ]
  },
  {
   "cell_type": "code",
   "execution_count": 6,
   "metadata": {
    "colab": {},
    "colab_type": "code",
    "id": "LAsu4qwa4Ajm"
   },
   "outputs": [],
   "source": [
    "#download data sources if not there\n",
    "data_urls = {}\n",
    "data_urls['sidewalk_extent'] = r'https://gis.drcog.org/geoserver/DRCOGPUB/ows?service=WFS&version=1.0.0&request=GetFeature&typeName=DRCOGPUB:planimetrics_2016_extent_centerline_sidewalks&outputFormat=application%2Fjson'\n",
    "data_urls['sidewalk_centerlines'] = r'https://gis.drcog.org/geoserver/DRCOGPUB/ows?service=WFS&version=1.0.0&request=GetFeature&typeName=DRCOGPUB:planimetrics_2016_centerline_sidewalks&outputFormat=application%2Fjson'\n",
    "#data_urls['road_borders'] = r'https://gis.drcog.org/geoserver/DRCOGPUB/ows?service=WFS&version=1.0.0&request=GetFeature&typeName=DRCOGPUB:planimetrics_2016_eop_line&outputFormat=application%2Fjson'\n",
    "data_urls['road_polygons'] = r'https://gis.drcog.org/geoserver/DRCOGPUB/ows?service=WFS&version=1.0.0&request=GetFeature&typeName=DRCOGPUB:planimetrics_2016_eop_poly&outputFormat=application%2Fjson'\n",
    "if not IN_COLAB: #\n",
    "  for key, value in data_urls.items():\n",
    "      if not path.exists(key + \".geojson\"):\n",
    "          urllib.request.urlretrieve(value, key + '.geojson')"
   ]
  },
  {
   "cell_type": "code",
   "execution_count": null,
   "metadata": {
    "colab": {},
    "colab_type": "code",
    "id": "SXj5HwjE4Ajw"
   },
   "outputs": [],
   "source": []
  },
  {
   "cell_type": "code",
   "execution_count": 7,
   "metadata": {
    "colab": {},
    "colab_type": "code",
    "id": "0KPLU1Pn4Aj3"
   },
   "outputs": [],
   "source": [
    "if IN_COLAB:\n",
    "  sidewalk_gdf = gpd.read_file('/content/data/sidewalk_centerlines.geojson')\n",
    "  sidewalk_extent_gdf = gpd.read_file('/content/data/sidewalk_extent.geojson')\n",
    "  road_polygons_gdf = gpd.read_file('/content/data/road_polygons.geojson')\n",
    "else:\n",
    "  sidewalk_gdf = gpd.read_file('sidewalk_centerlines.geojson')\n",
    "  sidewalk_extent_gdf = gpd.read_file('sidewalk_extent.geojson')\n",
    "  road_polygons_gdf = gpd.read_file('road_polygons.geojson')"
   ]
  },
  {
   "cell_type": "code",
   "execution_count": 8,
   "metadata": {
    "colab": {
     "base_uri": "https://localhost:8080/",
     "height": 375
    },
    "colab_type": "code",
    "id": "O-53hRgp4Aj9",
    "outputId": "9273312d-f4e8-4ff9-cea3-b6c6b2b9a51e"
   },
   "outputs": [
    {
     "data": {
      "text/html": [
       "<div>\n",
       "<style scoped>\n",
       "    .dataframe tbody tr th:only-of-type {\n",
       "        vertical-align: middle;\n",
       "    }\n",
       "\n",
       "    .dataframe tbody tr th {\n",
       "        vertical-align: top;\n",
       "    }\n",
       "\n",
       "    .dataframe thead th {\n",
       "        text-align: right;\n",
       "    }\n",
       "</style>\n",
       "<table border=\"1\" class=\"dataframe\">\n",
       "  <thead>\n",
       "    <tr style=\"text-align: right;\">\n",
       "      <th></th>\n",
       "      <th>id</th>\n",
       "      <th>gid</th>\n",
       "      <th>createdate</th>\n",
       "      <th>createuser</th>\n",
       "      <th>type</th>\n",
       "      <th>comments</th>\n",
       "      <th>update_sta</th>\n",
       "      <th>unique_id</th>\n",
       "      <th>geometry</th>\n",
       "    </tr>\n",
       "  </thead>\n",
       "  <tbody>\n",
       "    <tr>\n",
       "      <th>0</th>\n",
       "      <td>planimetrics_2016_centerline_sidewalks.534414</td>\n",
       "      <td>534414</td>\n",
       "      <td>2016-04-08</td>\n",
       "      <td>Kucera</td>\n",
       "      <td>Sidewalk</td>\n",
       "      <td>None</td>\n",
       "      <td>N</td>\n",
       "      <td>534414</td>\n",
       "      <td>MULTILINESTRING ((3096575.759 1779104.505, 309...</td>\n",
       "    </tr>\n",
       "    <tr>\n",
       "      <th>1</th>\n",
       "      <td>planimetrics_2016_centerline_sidewalks.534415</td>\n",
       "      <td>534415</td>\n",
       "      <td>2016-04-08</td>\n",
       "      <td>Kucera</td>\n",
       "      <td>Sidewalk</td>\n",
       "      <td>None</td>\n",
       "      <td>N</td>\n",
       "      <td>534415</td>\n",
       "      <td>MULTILINESTRING ((3095429.059 1779035.067, 309...</td>\n",
       "    </tr>\n",
       "    <tr>\n",
       "      <th>2</th>\n",
       "      <td>planimetrics_2016_centerline_sidewalks.534416</td>\n",
       "      <td>534416</td>\n",
       "      <td>2016-04-08</td>\n",
       "      <td>Kucera</td>\n",
       "      <td>Other crossing</td>\n",
       "      <td>None</td>\n",
       "      <td>N</td>\n",
       "      <td>534416</td>\n",
       "      <td>MULTILINESTRING ((3096759.611 1779106.863, 309...</td>\n",
       "    </tr>\n",
       "    <tr>\n",
       "      <th>3</th>\n",
       "      <td>planimetrics_2016_centerline_sidewalks.534417</td>\n",
       "      <td>534417</td>\n",
       "      <td>2016-04-08</td>\n",
       "      <td>Kucera</td>\n",
       "      <td>Sidewalk</td>\n",
       "      <td>None</td>\n",
       "      <td>N</td>\n",
       "      <td>534417</td>\n",
       "      <td>MULTILINESTRING ((3096821.734 1779106.976, 309...</td>\n",
       "    </tr>\n",
       "    <tr>\n",
       "      <th>4</th>\n",
       "      <td>planimetrics_2016_centerline_sidewalks.534418</td>\n",
       "      <td>534418</td>\n",
       "      <td>2016-04-08</td>\n",
       "      <td>Kucera</td>\n",
       "      <td>Sidewalk</td>\n",
       "      <td>None</td>\n",
       "      <td>N</td>\n",
       "      <td>534418</td>\n",
       "      <td>MULTILINESTRING ((3096759.611 1779106.863, 309...</td>\n",
       "    </tr>\n",
       "  </tbody>\n",
       "</table>\n",
       "</div>"
      ],
      "text/plain": [
       "                                              id     gid  createdate  \\\n",
       "0  planimetrics_2016_centerline_sidewalks.534414  534414  2016-04-08   \n",
       "1  planimetrics_2016_centerline_sidewalks.534415  534415  2016-04-08   \n",
       "2  planimetrics_2016_centerline_sidewalks.534416  534416  2016-04-08   \n",
       "3  planimetrics_2016_centerline_sidewalks.534417  534417  2016-04-08   \n",
       "4  planimetrics_2016_centerline_sidewalks.534418  534418  2016-04-08   \n",
       "\n",
       "  createuser            type comments update_sta  unique_id  \\\n",
       "0     Kucera        Sidewalk     None          N     534414   \n",
       "1     Kucera        Sidewalk     None          N     534415   \n",
       "2     Kucera  Other crossing     None          N     534416   \n",
       "3     Kucera        Sidewalk     None          N     534417   \n",
       "4     Kucera        Sidewalk     None          N     534418   \n",
       "\n",
       "                                            geometry  \n",
       "0  MULTILINESTRING ((3096575.759 1779104.505, 309...  \n",
       "1  MULTILINESTRING ((3095429.059 1779035.067, 309...  \n",
       "2  MULTILINESTRING ((3096759.611 1779106.863, 309...  \n",
       "3  MULTILINESTRING ((3096821.734 1779106.976, 309...  \n",
       "4  MULTILINESTRING ((3096759.611 1779106.863, 309...  "
      ]
     },
     "execution_count": 8,
     "metadata": {},
     "output_type": "execute_result"
    }
   ],
   "source": [
    "sidewalk_gdf.head()"
   ]
  },
  {
   "cell_type": "code",
   "execution_count": 9,
   "metadata": {
    "colab": {
     "base_uri": "https://localhost:8080/",
     "height": 79
    },
    "colab_type": "code",
    "id": "JT0NuJj34AkB",
    "outputId": "b0214b12-d0b0-4e80-e1c6-07a72d1122d2"
   },
   "outputs": [
    {
     "data": {
      "text/html": [
       "<div>\n",
       "<style scoped>\n",
       "    .dataframe tbody tr th:only-of-type {\n",
       "        vertical-align: middle;\n",
       "    }\n",
       "\n",
       "    .dataframe tbody tr th {\n",
       "        vertical-align: top;\n",
       "    }\n",
       "\n",
       "    .dataframe thead th {\n",
       "        text-align: right;\n",
       "    }\n",
       "</style>\n",
       "<table border=\"1\" class=\"dataframe\">\n",
       "  <thead>\n",
       "    <tr style=\"text-align: right;\">\n",
       "      <th></th>\n",
       "      <th>id</th>\n",
       "      <th>gid</th>\n",
       "      <th>sqmi</th>\n",
       "      <th>geometry</th>\n",
       "    </tr>\n",
       "  </thead>\n",
       "  <tbody>\n",
       "    <tr>\n",
       "      <th>0</th>\n",
       "      <td>planimetrics_2016_extent_centerline_sidewalks.1</td>\n",
       "      <td>1</td>\n",
       "      <td>1378.109985</td>\n",
       "      <td>MULTIPOLYGON (((3138537.128 1894378.599, 31385...</td>\n",
       "    </tr>\n",
       "  </tbody>\n",
       "</table>\n",
       "</div>"
      ],
      "text/plain": [
       "                                                id  gid         sqmi  \\\n",
       "0  planimetrics_2016_extent_centerline_sidewalks.1    1  1378.109985   \n",
       "\n",
       "                                            geometry  \n",
       "0  MULTIPOLYGON (((3138537.128 1894378.599, 31385...  "
      ]
     },
     "execution_count": 9,
     "metadata": {},
     "output_type": "execute_result"
    }
   ],
   "source": [
    "sidewalk_extent_gdf.head()"
   ]
  },
  {
   "cell_type": "code",
   "execution_count": 10,
   "metadata": {
    "colab": {
     "base_uri": "https://localhost:8080/",
     "height": 289
    },
    "colab_type": "code",
    "id": "XF6S9Kiy4AkG",
    "outputId": "5c2fbc0a-7e57-4d78-8268-242f6bce8f3c"
   },
   "outputs": [
    {
     "data": {
      "text/html": [
       "<div>\n",
       "<style scoped>\n",
       "    .dataframe tbody tr th:only-of-type {\n",
       "        vertical-align: middle;\n",
       "    }\n",
       "\n",
       "    .dataframe tbody tr th {\n",
       "        vertical-align: top;\n",
       "    }\n",
       "\n",
       "    .dataframe thead th {\n",
       "        text-align: right;\n",
       "    }\n",
       "</style>\n",
       "<table border=\"1\" class=\"dataframe\">\n",
       "  <thead>\n",
       "    <tr style=\"text-align: right;\">\n",
       "      <th></th>\n",
       "      <th>id</th>\n",
       "      <th>gid</th>\n",
       "      <th>createdate</th>\n",
       "      <th>createuser</th>\n",
       "      <th>surface</th>\n",
       "      <th>type</th>\n",
       "      <th>comments</th>\n",
       "      <th>update_sta</th>\n",
       "      <th>unique_id</th>\n",
       "      <th>geometry</th>\n",
       "    </tr>\n",
       "  </thead>\n",
       "  <tbody>\n",
       "    <tr>\n",
       "      <th>0</th>\n",
       "      <td>planimetrics_2016_eop_poly.1</td>\n",
       "      <td>1</td>\n",
       "      <td>2015-07-08</td>\n",
       "      <td>Kucera</td>\n",
       "      <td>Paved</td>\n",
       "      <td>Corridor</td>\n",
       "      <td>None</td>\n",
       "      <td>M</td>\n",
       "      <td>1</td>\n",
       "      <td>MULTIPOLYGON (((3178008.528 1680396.903, 31780...</td>\n",
       "    </tr>\n",
       "    <tr>\n",
       "      <th>1</th>\n",
       "      <td>planimetrics_2016_eop_poly.2</td>\n",
       "      <td>2</td>\n",
       "      <td>2015-07-08</td>\n",
       "      <td>Kucera</td>\n",
       "      <td>Paved</td>\n",
       "      <td>Corridor</td>\n",
       "      <td>None</td>\n",
       "      <td>M</td>\n",
       "      <td>2</td>\n",
       "      <td>MULTIPOLYGON (((3177083.131 1680684.331, 31770...</td>\n",
       "    </tr>\n",
       "    <tr>\n",
       "      <th>2</th>\n",
       "      <td>planimetrics_2016_eop_poly.3</td>\n",
       "      <td>3</td>\n",
       "      <td>2015-07-08</td>\n",
       "      <td>Kucera</td>\n",
       "      <td>Paved</td>\n",
       "      <td>Corridor</td>\n",
       "      <td>None</td>\n",
       "      <td>M</td>\n",
       "      <td>3</td>\n",
       "      <td>MULTIPOLYGON (((3175748.021 1679192.504, 31757...</td>\n",
       "    </tr>\n",
       "    <tr>\n",
       "      <th>3</th>\n",
       "      <td>planimetrics_2016_eop_poly.4</td>\n",
       "      <td>4</td>\n",
       "      <td>2015-07-08</td>\n",
       "      <td>Kucera</td>\n",
       "      <td>Paved</td>\n",
       "      <td>Corridor</td>\n",
       "      <td>None</td>\n",
       "      <td>M</td>\n",
       "      <td>4</td>\n",
       "      <td>MULTIPOLYGON (((3171378.719 1680722.643, 31714...</td>\n",
       "    </tr>\n",
       "    <tr>\n",
       "      <th>4</th>\n",
       "      <td>planimetrics_2016_eop_poly.5</td>\n",
       "      <td>5</td>\n",
       "      <td>2015-07-08</td>\n",
       "      <td>Kucera</td>\n",
       "      <td>Paved</td>\n",
       "      <td>Corridor</td>\n",
       "      <td>None</td>\n",
       "      <td>M</td>\n",
       "      <td>5</td>\n",
       "      <td>MULTIPOLYGON (((3171676.961 1684022.116, 31716...</td>\n",
       "    </tr>\n",
       "  </tbody>\n",
       "</table>\n",
       "</div>"
      ],
      "text/plain": [
       "                             id  gid  createdate createuser surface      type  \\\n",
       "0  planimetrics_2016_eop_poly.1    1  2015-07-08     Kucera   Paved  Corridor   \n",
       "1  planimetrics_2016_eop_poly.2    2  2015-07-08     Kucera   Paved  Corridor   \n",
       "2  planimetrics_2016_eop_poly.3    3  2015-07-08     Kucera   Paved  Corridor   \n",
       "3  planimetrics_2016_eop_poly.4    4  2015-07-08     Kucera   Paved  Corridor   \n",
       "4  planimetrics_2016_eop_poly.5    5  2015-07-08     Kucera   Paved  Corridor   \n",
       "\n",
       "  comments update_sta  unique_id  \\\n",
       "0     None          M          1   \n",
       "1     None          M          2   \n",
       "2     None          M          3   \n",
       "3     None          M          4   \n",
       "4     None          M          5   \n",
       "\n",
       "                                            geometry  \n",
       "0  MULTIPOLYGON (((3178008.528 1680396.903, 31780...  \n",
       "1  MULTIPOLYGON (((3177083.131 1680684.331, 31770...  \n",
       "2  MULTIPOLYGON (((3175748.021 1679192.504, 31757...  \n",
       "3  MULTIPOLYGON (((3171378.719 1680722.643, 31714...  \n",
       "4  MULTIPOLYGON (((3171676.961 1684022.116, 31716...  "
      ]
     },
     "execution_count": 10,
     "metadata": {},
     "output_type": "execute_result"
    }
   ],
   "source": [
    "road_polygons_gdf.head()"
   ]
  },
  {
   "cell_type": "markdown",
   "metadata": {
    "colab_type": "text",
    "id": "9SK95xnk4AkJ"
   },
   "source": [
    "### check/fix geometry projection"
   ]
  },
  {
   "cell_type": "code",
   "execution_count": 11,
   "metadata": {
    "colab": {},
    "colab_type": "code",
    "id": "eaXqxiTX4AkK"
   },
   "outputs": [
    {
     "data": {
      "text/plain": [
       "array([2935159.7025    , 1508775.0615    , 3411162.9985    ,\n",
       "       1980230.98999999])"
      ]
     },
     "execution_count": 11,
     "metadata": {},
     "output_type": "execute_result"
    }
   ],
   "source": [
    "total_bounds = sidewalk_gdf.geometry.total_bounds\n",
    "total_bounds"
   ]
  },
  {
   "cell_type": "code",
   "execution_count": 12,
   "metadata": {
    "colab": {},
    "colab_type": "code",
    "id": "tQ4s8yE14AkO"
   },
   "outputs": [
    {
     "data": {
      "text/plain": [
       "array([2932503.25159384, 1503238.87488092, 3414549.89051701,\n",
       "       1991021.48166284])"
      ]
     },
     "execution_count": 12,
     "metadata": {},
     "output_type": "execute_result"
    }
   ],
   "source": [
    "sidewalk_extent_gdf.geometry.total_bounds"
   ]
  },
  {
   "cell_type": "markdown",
   "metadata": {
    "colab_type": "text",
    "id": "VfoDF4Kx4AkR"
   },
   "source": [
    "desired bounds: 39-41; - 104-106. These are standard *WGS84* AKA *EPSG 4326*"
   ]
  },
  {
   "cell_type": "code",
   "execution_count": 13,
   "metadata": {
    "colab": {},
    "colab_type": "code",
    "id": "1n7dd7JN4AkS"
   },
   "outputs": [
    {
     "data": {
      "text/plain": [
       "{'init': 'epsg:6428'}"
      ]
     },
     "execution_count": 13,
     "metadata": {},
     "output_type": "execute_result"
    }
   ],
   "source": [
    "sidewalk_extent_gdf.geometry.crs"
   ]
  },
  {
   "cell_type": "code",
   "execution_count": 14,
   "metadata": {
    "colab": {},
    "colab_type": "code",
    "id": "N5fyPtdf4AkU"
   },
   "outputs": [],
   "source": [
    "road_polygons_gdf = road_polygons_gdf.to_crs(epsg=4326)"
   ]
  },
  {
   "cell_type": "code",
   "execution_count": 15,
   "metadata": {
    "colab": {},
    "colab_type": "code",
    "id": "63ev-FBI4AkX"
   },
   "outputs": [
    {
     "data": {
      "text/plain": [
       "{'init': 'epsg:4326', 'no_defs': True}"
      ]
     },
     "execution_count": 15,
     "metadata": {},
     "output_type": "execute_result"
    }
   ],
   "source": [
    "sidewalk_gdf = sidewalk_gdf.to_crs(epsg=4326)\n",
    "sidewalk_gdf.crs"
   ]
  },
  {
   "cell_type": "code",
   "execution_count": 16,
   "metadata": {
    "colab": {},
    "colab_type": "code",
    "id": "eVxYJJeh4Aka"
   },
   "outputs": [
    {
     "name": "stdout",
     "output_type": "stream",
     "text": [
      "sidewalk extent crs:{'init': 'epsg:4326', 'no_defs': True} \n",
      "example coordinates 0    POINT (-104.97145 39.80632)\n",
      "dtype: geometry\n"
     ]
    }
   ],
   "source": [
    "sidewalk_extent_gdf = sidewalk_extent_gdf.to_crs(epsg=4326)\n",
    "print(f'sidewalk extent crs:{sidewalk_extent_gdf.geometry.crs} \\nexample coordinates {sidewalk_extent_gdf.geometry.centroid}')"
   ]
  },
  {
   "cell_type": "markdown",
   "metadata": {
    "colab_type": "text",
    "id": "WH3_jpMB4Akc"
   },
   "source": [
    "### Latitude & Longitude:\n",
    "Coordinates for sidewalk data set are in *Longitude*, **Latitude** format. \n",
    "Google Streetview API takes **Latitude**, *Longitude* format.\n",
    "\n",
    "# Find Points and Download Images"
   ]
  },
  {
   "cell_type": "markdown",
   "metadata": {
    "colab_type": "raw",
    "id": "pkoraX-P4Akd"
   },
   "source": [
    "# geometry merger is very slow operation, so the merged geometry is saved the first time \n",
    "# and then loaded for subsequent notebook runs\n",
    "roads_file = \"roads_unified_geo.pickle\"\n",
    "if not path.exists(roads_file):\n",
    "    # todo: uncomment: roads_unified_geo = shapely.ops.unary_union(road_polygons_gdf.geometry)\n",
    "    # open the file for writing\n",
    "    with open(roads_file,'wb') as roads_file_object:\n",
    "        pickle.dump(roads_unified_geo, roads_file_object)\n",
    "else:\n",
    "    with open(roads_file, 'rb') as roads_file_object:\n",
    "        roads_unified_geo = pickle.load(roads_file_object)"
   ]
  },
  {
   "cell_type": "markdown",
   "metadata": {
    "colab_type": "raw",
    "id": "L2HdFjB94Ake"
   },
   "source": [
    "# Verify the merger looks right\n",
    "roads_unified_geo_gdf = gpd.GeoDataFrame()\n",
    "roads_unified_geo_gdf['geometry'] = None\n",
    "roads_unified_geo_gdf.loc[0, 'geometry'] = roads_unified_geo\n",
    "\n",
    "fig_rd_outline, ax_rd_outline = plt.subplots(figsize = (12,12))\n",
    "roads_unified_geo_gdf.geometry.plot(ax=ax_rd_outline)\n",
    "ax_rd_outline.set_xlim(-105, -104.97)\n",
    "ax_rd_outline.set_ylim(39.75, 39.78)\n",
    "ax_rd_outline.set_title('Filled Road MultiPolygon', fontsize=20);"
   ]
  },
  {
   "cell_type": "markdown",
   "metadata": {
    "colab_type": "raw",
    "id": "oQzzIyfb4Ake"
   },
   "source": [
    "shapely.ops.nearest_points(roads_unified_geo, point2)[0].coords.xy"
   ]
  },
  {
   "cell_type": "markdown",
   "metadata": {
    "colab_type": "raw",
    "id": "VRhi372g4Akf"
   },
   "source": [
    "shapely.ops.nearest_points(roads_unified_geo, point2)[1].coords.xy"
   ]
  },
  {
   "cell_type": "markdown",
   "metadata": {
    "colab_type": "text",
    "id": "wA5OTHx44Akg"
   },
   "source": [
    "# Image Downloading Class"
   ]
  },
  {
   "cell_type": "code",
   "execution_count": null,
   "metadata": {
    "colab": {},
    "colab_type": "code",
    "id": "KK4Y9iJD4Akh"
   },
   "outputs": [],
   "source": [
    "class image_grabber(object):\n",
    "    '''\n",
    "    Creates random points and tests for appropriateness for image downloading. \n",
    "    Generates heading for appropriate points. \n",
    "    Downloads images from google maps api based on generated coordinates & heading. \n",
    "    Args:\n",
    "        sidewalks: sidewalk outline geodataframe\n",
    "        sidewalk_polygon: outline of area surveyd for sidewalks\n",
    "        road_polygons: outline of roads (so image capture direction can be toward sidewalks)\n",
    "        lines: duplicate?\n",
    "        direc: where images get saved\n",
    "        distance_to_sidewalk: meters along heading to look for sidewalk line\n",
    "    Attributes:\n",
    "        confirmed_locations = created by .generate_numbers() method. contains list of [Heading, [shapely.Point]] items\n",
    "        locations_w_label = created by .get_labels() method. has list of [Heading, [lat, lon], label] items\n",
    "        met_lis: list items are [date, panoID, filename]\n",
    "    Example Usage:\n",
    "        image_grab = image_grabber()\n",
    "        image_grab.generate_numbers(1)\n",
    "        image_grab.download_images()\n",
    "    TODO: \n",
    "        get working! image directions not greate and labels are only showing 'sidewalk'\n",
    "        Fix excess use of self.* naming\n",
    "        remove extra print statements\n",
    "    '''\n",
    "    def __init__(self, sidewalks=sidewalk_gdf, sidewalk_polygon=sidewalk_extent_gdf.geometry, \n",
    "                 road_polygons=road_polygons_gdf, \n",
    "                 direc=os.path.join(os.getcwd(), \"images\"), distance_to_sidewalk=12,\n",
    "                img_dim=(800,800), fov=90, radius=100, verbose=1):\n",
    "        self.sidewalks = sidewalks\n",
    "        self.sidewalk_polygon = sidewalk_polygon\n",
    "        self.road_polygons = road_polygons\n",
    "        #self.road_polygon['rep_points'] = self.road_polygon.geometry.apply(lambda obj: obj.representative_point()) # for closest ob finder\n",
    "        self.confirmed_locations = []\n",
    "        self.locations_w_label = []\n",
    "        self.metadata_url = \"\"\n",
    "        self.direc = direc\n",
    "        self.geod = pyproj.Geod(ellps='WGS84') #standard projection\n",
    "        self.image_list = []\n",
    "        self.PrevImage = []\n",
    "        self.dist_to_sdwlk = distance_to_sidewalk\n",
    "        self.url_list = []\n",
    "        self.img_dim = img_dim\n",
    "        self.fov = fov\n",
    "        self.base = r\"https://maps.googleapis.com/maps/api/streetview\"\n",
    "        self.size = r\"?size=\" + str(self.img_dim[0]) + 'x' + str(self.img_dim[1]) + '&fov=' + str(self.fov)\n",
    "        (self.min_lon, self.min_lat, self.max_lon, self.max_lat) = self.sidewalk_polygon.total_bounds\n",
    "        self.radius= radius\n",
    "        self.show_image = False\n",
    "        self.verbose = verbose\n",
    "    #utility methods\n",
    "    def degree_fixer(self, x):\n",
    "        return x if x >0 else 180-x\n",
    "    def degree_unfixer(self, x):\n",
    "        return x if x <= 180 else -x\n",
    "    def poly_decomposer(self, geo_obj):\n",
    "        '''\n",
    "        take complex geo object and convert to geo dataframe with geometry column\n",
    "        Args:\n",
    "            geo_obj: shapely multi object\n",
    "        returns:\n",
    "            geodataframe with geometry column\n",
    "        '''\n",
    "        decomp = gpd.GeoDataFrame()\n",
    "        decomp['geometry'] = None\n",
    "        for obj in geo_obj:\n",
    "            decomp.loc[decomp.shape[0]+1,'geometry'] = obj.exterior\n",
    "            for o in obj.interiors:\n",
    "                decomp.loc[decomp.shape[0]+1,'geometry'] = o\n",
    "        return decomp\n",
    "                \n",
    "    def generate_numbers(self, number):\n",
    "        '''\n",
    "        generate random locations within boundaries\n",
    "        '''\n",
    "        self.number = number\n",
    "        self.counter = 0\n",
    "        while self.counter < self.number:\n",
    "            self.pnt = Point(random.uniform(self.min_lon, self.max_lon), \n",
    "                             random.uniform(self.min_lat, self.max_lat))\n",
    "            if not self.sidewalk_polygon.contains(self.pnt).any(0):\n",
    "                continue\n",
    "            closest_obj = self.closest_obj_finder(point=self.pnt, objects=road_polygons_gdf.copy())   \n",
    "            if not closest_obj.contains(self.pnt): # check for both because first check is much faster\n",
    "                continue\n",
    "            # get direction towards nearest street edge, eg direction towards sidewalk\n",
    "            #create urls from components\n",
    "            self.keyloc=\"google_dev_key.key\"\n",
    "            with open(self.keyloc, 'r') as self.keyfile:\n",
    "                self.google_key=self.keyfile.read()[:-1]  # needed to strip newline char\n",
    "            self.loc = '&location=' + str(self.pnt.y) + \",\" + str(self.pnt.x) +  \"&radius=\" + str(self.radius) \n",
    "            self.metadata_url = self.base + r\"/metadata\" + self.size + self.loc + \"&key=\" + self.google_key\n",
    "\n",
    "            # get metadata and updated pnt to nearest pano location\n",
    "            self.met_lis = self.MetaParse() #[location, panoID]\n",
    "            if self.met_lis[0] is None:\n",
    "                continue\n",
    "            self.pnt = Point(self.met_lis[0]['lng'], self.met_lis[0]['lat'])\n",
    "            #find nearest point in road dataframe\n",
    "            decomposed_mpoly = self.poly_decomposer(closest_obj)\n",
    "            nearest_pnt = nearest_points(self.closest_obj_finder(self.pnt, decomposed_mpoly), self.pnt)[0]\n",
    "            #print(f' pnt is {self.pnt.xy}, nearest is {nearest_pnt} at {nearest_pnt.xy}')\n",
    "            #find a heading (cartographical azimuth from North)\n",
    "            #can't use geod.inv because it returns NAN for too close distance?\n",
    "            \n",
    "            #DONT KNOW WHY THIS DOESN'T WORK, but have to recreate Geod\n",
    "            #inv = self.geod.inv(lons1=self.pnt.y, lats1=self.pnt.x,\n",
    "            #                                 lons2=nearest_pnt.y, lats2=nearest_pnt.x)            \n",
    "            geod_wgs84 = pyproj.Geod(ellps='WGS84')\n",
    "            inv = geod_wgs84.inv(lons1=self.pnt.x, lats1=self.pnt.y, \n",
    "                                lons2=nearest_pnt.x, lats2=nearest_pnt.y, radians=False)\n",
    "            (direction, _, _1) = inv\n",
    "            #this is the inverse geodetic transformation\n",
    "            #xdiff = nearest_pnt.x - self.pnt.x\n",
    "            #ydiff = nearest_pnt.y - self.pnt.y\n",
    "            # atan2 input (y,x). change from unit circle e.g. W to N starting, \n",
    "            #and from anticlockwise to clockwise            \n",
    "            #negate everything to reverse direction; -2pi to get 0-2pi instead of -pi to pi\n",
    "            #direction =  -degrees(atan2(ydiff, xdiff)-2*pi)\n",
    "            #direction+=90 #change basis from [1, 0i] to [0, i]\n",
    "            #if direction >= 360: direction -= 360 \n",
    "            \n",
    "            direction = self.degree_fixer(direction)\n",
    "            result = [direction, self.pnt]\n",
    "            self.confirmed_locations.append(result)\n",
    "            if self.verbose > 0: print(f'{self.counter+1} of {self.number} locations generated.', end='\\r')\n",
    "            self.counter += 1\n",
    "    def closest_obj_finder(self, point, objects):\n",
    "        '''\n",
    "        finds closest point on a geoframe's geometry. \n",
    "        Args:\n",
    "             point: baseline point\n",
    "             objects: object set within which to find nearest object \n",
    "             find_count: how many obj to find\n",
    "        returns shapely object that is closest from within geodf passed \n",
    "        '''\n",
    "        objects['dist_to_pnt'] = objects.geometry.apply(lambda obj: obj.distance(point))\n",
    "        objects = objects.sort_values(by=['dist_to_pnt'])\n",
    "        closest_object = objects[objects.index.values == objects.iloc[[0],:]\n",
    "                          .apply(lambda obj: nearest_points(obj.geometry, point)[0], axis=1)\n",
    "                          .index.values].geometry.values[0]\n",
    "        return closest_object\n",
    "\n",
    "    def _to_coords(self, location):\n",
    "        '''\n",
    "        change shapely points to list with reverse order of points; [heading, [lon,lat]]->[heading, [lat,lon]]\n",
    "        '''\n",
    "        return [location[0], [item[0] for item in location[1].xy][::-1]]\n",
    "    \n",
    "    def get_labels(self):\n",
    "        '''\n",
    "        determines if sidewalk exists on street in direction of heading\n",
    "        No args or return\n",
    "        removed itmes from self.confirmed_locations, \n",
    "            adds heading, \n",
    "            and appends to self.locations_w_label\n",
    "        '''\n",
    "        while self.confirmed_locations:\n",
    "            self.location = self.confirmed_locations.pop()\n",
    "            self.direction, self.pnt = self.location\n",
    "            self.lons, self.lats = self.pnt.xy\n",
    "            self.closest_sidewalk = self.closest_obj_finder(self.pnt, self.sidewalks)\n",
    "            #print(self.direction)\n",
    "            self.endpnt_lons, self.endpnt_lat, _ = self.geod.fwd(lons=self.lons, \n",
    "                                                                 lats=self.lats, \n",
    "                                                                 az=self.direction, \n",
    "                                                                 dist=self.dist_to_sdwlk, \n",
    "                                                                 radians=False)\n",
    "            #print(f'pnt is {self.pnt.xy}, endpnt is {self.endpnt_lons},{self.endpnt_lat}')\n",
    "            #intersection method gives wrong answers\n",
    "            #intersection = self.pnt.intersection(Point(self.endpnt_lons[0], self.endpnt_lat[0])) \n",
    "            #print(f'intersection is {intersection}')\n",
    "            endpnt = Point(self.endpnt_lons[0], self.endpnt_lat[0])\n",
    "            camera_line = LineString([self.pnt, endpnt])\n",
    "            #projection_dist_norm = camera_line.project(self.closest_sidewalk, normalized=True)\n",
    "            #print(f'projection distance normalized:{projection_dist_norm}')\n",
    "            #intersection = True if projection_dist_norm > 1 else False\n",
    "            \n",
    "            camera_buff = camera_line.buffer(.0001)\n",
    "            intersection = True if self.closest_sidewalk.intersects(camera_buff) else False\n",
    "            self.label=\"sidewalk\" if intersection else 'no_sidewalk'\n",
    "            #print(self.pnt.xy)\n",
    "            #print(self.label)\n",
    "            self.clean_loc=self._to_coords(self.location)\n",
    "            self.clean_loc.append(self.label)\n",
    "            self.locations_w_label.append(self.clean_loc)\n",
    "            \n",
    "    def MetaParse(self):\n",
    "        '''\n",
    "        Uses metadata url to retrieve metadata for the pano image.\n",
    "        Args:\n",
    "            metadata_url: A string containing a valid url\n",
    "        Returns:\n",
    "             A tuple with the json data date and the pano_id\n",
    "        '''\n",
    "        self.response = urllib.request.urlopen(self.metadata_url)\n",
    "        self.json_raw = self.response.read()\n",
    "        self.json_data = json.loads(self.json_raw)\n",
    "        #return data from json response\n",
    "        if self.json_data['status'] == \"OK\":\n",
    "            return [self.json_data['location'], self.json_data['pano_id']]\n",
    "        else:\n",
    "            return [None,None]\n",
    "\n",
    "    def GetStreetvw(self, radius=1000):\n",
    "        '''\n",
    "        Downloads images from google api based on parameters specified. \n",
    "        Note: Dev key is unique to each user. To run this notebook, create your own dev key and\n",
    "        store in directory in a text file of this name.\n",
    "        Args:\n",
    "            img_dim: tuple of int specifying image size\n",
    "            fov: degrees of field of view for image\n",
    "            radius: meters for radius of search area for nearest pano\n",
    "        Returns:\n",
    "             A list item of images downloaded.\n",
    "             Main effect of function is to download images into directory.\n",
    "        '''\n",
    "        #get location to download\n",
    "        self.location_to_process = self.locations_w_label.pop()\n",
    "        [self.Head, [self.Lat, self.Lon], self.label] = self.location_to_process\n",
    "        if self.show_image: self.check_via_plot(self.location_to_process)\n",
    "        self.SaveLoc = self.direc + self.label        \n",
    "        #get key\n",
    "        self.keyloc=\"google_dev_key.key\"\n",
    "        with open(self.keyloc, 'r') as self.keyfile:\n",
    "            self.google_key=self.keyfile.read()[:-1]  # needed to strip newline char\n",
    "        #update urls\n",
    "        self.loc = '&location=' + str(self.Lat) + \",\" + str(self.Lon) +  \"&radius=\" + str(self.radius) \n",
    "        self.file_url = self.base + self.size + self.loc + \"&key=\" + self.google_key\n",
    "        self.file_name = \"lat\" + str(self.Lat) + \"lon\" + str(self.Lon) + \"head\" + str(self.Head) + \".jpg\"\n",
    "        #print(self.base + self.size + self.loc + \"&key=\")\n",
    "        #download files\n",
    "        if (self.met_lis[1], self.Head) not in self.image_list: #and met_lis[0] is not None:   #PrevImage is global list\n",
    "            with requests.Session() as self.urlrequest:\n",
    "                self.image = self.urlrequest.get(self.file_url)\n",
    "            self.filename=os.path.join(os.getcwd(), 'images', self.label, self.file_name)\n",
    "            with open(self.filename, 'wb') as self.openfile:\n",
    "                self.openfile.write(self.image.content)\n",
    "            self.PrevImage.append((self.met_lis[1], self.Head, self.file_url)) \n",
    "\n",
    "        #delete key to avoid storing in public github-hosted notebook\n",
    "        del(self.google_key)\n",
    "        return self.met_lis\n",
    "    def download_images(self, show_image=False):\n",
    "        '''\n",
    "        Iterates through the downloading method.\n",
    "        '''\n",
    "        #create directories\n",
    "        self.show_image = show_image\n",
    "        if not path.exists(self.direc):\n",
    "            os.mkdir(self.direc) \n",
    "        self.label_subdirs = ['sidewalk', 'no_sidewalk']\n",
    "        for self.subdir in self.label_subdirs:\n",
    "            if not path.exists(os.path.join(self.direc, self.subdir)):\n",
    "                os.mkdir(os.path.join(self.direc, self.subdir))\n",
    "        \n",
    "        #get labels\n",
    "        self.get_labels()\n",
    "        #download!\n",
    "        self.lwlsize = len(self.locations_w_label)\n",
    "        for i in range(0,self.lwlsize):\n",
    "            self.GetStreetvw()\n",
    "            if self.verbose >0: print(f'\\r{i+1} of {self.lwlsize} images downloaded.', end='\\r')\n",
    "    def check_via_plot(self, location):\n",
    "        '''\n",
    "        visualize chosen point from which pano was snapped and direction it looks.\n",
    "        Plotted as vector of distance within which to look for sidewalk.\n",
    "        Won't work for number>=1\n",
    "        '''\n",
    "        [Head, [Lat, Lon], label] = location\n",
    "        print(location)\n",
    "        Lon2, Lat2, _ = self.geod.fwd(lons=Lon, lats=Lat, \n",
    "                                      az=self.degree_unfixer(Head),\n",
    "                                      dist=self.dist_to_sdwlk, radians=False)\n",
    "        \n",
    "        dx = Lon2 - Lon\n",
    "        dy = Lat2 - Lat\n",
    "        #print(f'dx{dx}, dy{dy}')\n",
    "        xrange = sorted([Lon, Lon2])\n",
    "        yrange = sorted([Lat, Lat2])\n",
    "        #print(f'xrange is {xrange} to {yrange}')\n",
    "        rangemax = 5*max(abs(xrange[1]-xrange[0]), abs(yrange[1]-yrange[0]))\n",
    "        xrange = sorted([xrange[0] - rangemax, xrange[1] + rangemax])\n",
    "        yrange = sorted([yrange[0] - rangemax, yrange[1] + rangemax])\n",
    "\n",
    "        #plot geometries\n",
    "        fig_checkvp, ax = plt.subplots(figsize = (12,12))\n",
    "        sidewalk_gdf.geometry.plot(facecolor='g', linewidth=0, edgecolor='g', alpha=0.7, ax=ax, label='sidewalk')\n",
    "        road_polygons_gdf.geometry.plot(facecolor='r', linewidth=0, edgecolor='r', alpha=.7, ax=ax, label='road')\n",
    "        arrow = plt.arrow(x=Lon, y=Lat, dx=dx, dy=dy, width=.000005)\n",
    "        ax.add_patch(arrow)\n",
    "        print(f'xrange{xrange}, yrange: {yrange}')\n",
    "        ax.set_xlim(*xrange)\n",
    "        ax.set_ylim(*yrange)\n",
    "        ax.set_xlabel('Longitude')\n",
    "        ax.set_ylabel('Latitude')\n",
    "        ax.legend()\n",
    "        ax.set_title('Location of Image Requested with POV Vector', fontsize=20)\n",
    "        plt.plot();"
   ]
  },
  {
   "cell_type": "code",
   "execution_count": 18,
   "metadata": {
    "colab": {},
    "colab_type": "code",
    "id": "SkGrUA5q75jr"
   },
   "outputs": [],
   "source": [
    "#image grabber driver\n",
    "if IN_COLAB:\n",
    "  image_grab = image_grabber(direc=f'/content/gdrive/My Drive/thinkful/colab_datasets/sidewalk_data/images/',\n",
    "                             verbose=0)\n",
    "else:\n",
    "  image_grab = image_grabber()"
   ]
  },
  {
   "cell_type": "code",
   "execution_count": 0,
   "metadata": {
    "colab": {},
    "colab_type": "code",
    "id": "ZIj1wt7d9Pzt"
   },
   "outputs": [],
   "source": [
    "image_grab.generate_numbers(5)\n",
    "image_grab.download_images()"
   ]
  },
  {
   "cell_type": "code",
   "execution_count": null,
   "metadata": {
    "colab": {
     "base_uri": "https://localhost:8080/",
     "height": 381
    },
    "colab_type": "code",
    "id": "MpwQsLZv4Akt",
    "outputId": "b65eb7a6-77b5-45af-b59a-664414ac21c6"
   },
   "outputs": [
    {
     "name": "stdout",
     "output_type": "stream",
     "text": [
      "20 of 20 locations generated.\r"
     ]
    }
   ],
   "source": [
    "for _ in range(0, 400):\n",
    "  image_grab.generate_numbers(20)\n",
    "  image_grab.download_images()"
   ]
  },
  {
   "cell_type": "code",
   "execution_count": 0,
   "metadata": {
    "colab": {},
    "colab_type": "code",
    "id": "9E-YCqOn4Akv"
   },
   "outputs": [],
   "source": [
    "#investigate individual points\n",
    "def location_checker(Lat=Lat, Lon=Lon, Head=Head):\n",
    "    dx, dy = -0.00010834599480347151, 8.278524822458166e-05\n",
    "    geod = pyproj.Geod(ellps='WGS84')\n",
    "    Lon2, Lat2, _ = geod.fwd(lons=Lon, lats=Lat, az=Head, dist=13, radians=False)\n",
    "    xrange = sorted([Lon, Lon2])\n",
    "    yrange = sorted([Lat, Lat2])\n",
    "    xrange = [xrange[0] - 3*dx, xrange[1] + 3*dx]\n",
    "    yrange = [yrange[0] - 3*dy, yrange[1] + 3*dy]\n",
    "\n",
    "    fig, ax = plt.subplots(figsize = (12,12))\n",
    "    sidewalk_gdf.geometry.plot(facecolor='g', linewidth=0, edgecolor='g', alpha=0.8, ax=ax)\n",
    "    arrow = plt.arrow(x=Lon, y=Lat, dx=dx, dy=dy, width=.000005)\n",
    "    ax.add_patch(arrow)\n",
    "    ax.set_xlim(*xrange)\n",
    "    ax.set_ylim(*yrange)\n",
    "    ax.set_xlabel('Longitude')\n",
    "    ax.set_ylabel('Latitude')\n",
    "    ax.set_title('Location of Image Requested', fontsize=20)\n",
    "    plt.plot();"
   ]
  },
  {
   "cell_type": "code",
   "execution_count": 0,
   "metadata": {
    "colab": {},
    "colab_type": "code",
    "id": "sMcNi1wA4Akx",
    "outputId": "3cb18a52-0f34-4776-de1d-240cc1b00983"
   },
   "outputs": [
    {
     "name": "stdout",
     "output_type": "stream",
     "text": [
      "lat:30.11406139035369, lon:-35.2076242013936\n",
      "xΔ-35.2076242013936, yΔ30.11406139035369\n"
     ]
    }
   ],
   "source": [
    "Lon, Lat =  0,0\n",
    "Head = 315\n",
    "endpnt_lons, endpnt_lat, _ = pyproj.Geod(ellps='WGS84').fwd(lons=Lon, \n",
    "                                         lats=Lat, \n",
    "                                         az=Head, \n",
    "                                         dist=5_000_000, \n",
    "                                         radians=False)\n",
    "print(f'lat:{endpnt_lat}, lon:{endpnt_lons}\\nxΔ{endpnt_lons-Lon}, yΔ{endpnt_lat-Lat}')"
   ]
  },
  {
   "cell_type": "code",
   "execution_count": 0,
   "metadata": {
    "colab": {},
    "colab_type": "code",
    "id": "btQEbrpV4Akz",
    "outputId": "50b98552-1f91-4758-8dfd-8e428558f15d"
   },
   "outputs": [
    {
     "data": {
      "text/plain": [
       "-45.0"
      ]
     },
     "execution_count": 510,
     "metadata": {
      "tags": []
     },
     "output_type": "execute_result"
    }
   ],
   "source": [
    "#endpnt_lons, endpnt_lat = 7.04, 44.47\n",
    "x = geod.inv(lons1=Lon, lats1=Lat, lons2=endpnt_lons, lats2=endpnt_lat, radians=False)\n",
    "x[0]"
   ]
  },
  {
   "cell_type": "code",
   "execution_count": 0,
   "metadata": {
    "colab": {},
    "colab_type": "code",
    "id": "9EdAh8p34Ak1"
   },
   "outputs": [],
   "source": [
    "0, 45, 90, 180, 270, 315\n",
    ", 45, 90, 180, -90, -45"
   ]
  },
  {
   "cell_type": "code",
   "execution_count": 0,
   "metadata": {
    "colab": {},
    "colab_type": "code",
    "id": "GYsvUhEi4Ak2",
    "outputId": "93c2493b-3f54-49e2-b407-0d33715713bf"
   },
   "outputs": [
    {
     "data": {
      "text/plain": [
       "355"
      ]
     },
     "execution_count": 518,
     "metadata": {
      "tags": []
     },
     "output_type": "execute_result"
    }
   ],
   "source": [
    "def degree_fixer(x):\n",
    "    return x if x >0 else 180-x\n",
    "degree_fixer(355)"
   ]
  },
  {
   "cell_type": "code",
   "execution_count": 0,
   "metadata": {
    "colab": {},
    "colab_type": "code",
    "id": "BluSAS_y4Ak4"
   },
   "outputs": [],
   "source": [
    "location_checker(Lat=Lat, Lon=Lon, Head=Head)"
   ]
  },
  {
   "cell_type": "code",
   "execution_count": 0,
   "metadata": {
    "colab": {},
    "colab_type": "code",
    "id": "sC5h1QWn4Ak5"
   },
   "outputs": [],
   "source": [
    "Lat, Lon = 40.4427764, -104.9015445\n",
    "Head = 50\n",
    "dx, dy = -0.00010834599480347151, 8.278524822458166e-05\n",
    "location_checker()"
   ]
  },
  {
   "cell_type": "markdown",
   "metadata": {
    "colab_type": "text",
    "id": "2rv1A5VHeme5"
   },
   "source": [
    "## Issues with acquired data:\n",
    "around 15% of the images acquired had incorrect labels. This could be for multiple reasons:\n",
    "* old information (rapid population increase and building is keeping up with population)\n",
    "* inaccurate classification\n",
    "* partial sidewalk, where only a bit is in an image. How should we classify \"partial sidewalk\" in a binary classification task?\n",
    "* ambiguous 'sidewalks' - there are a range of slightly angle pavement edges to asphalt streets that could be considered kerbless sidewalk, or just shoulder or open gutter.\n",
    "* some panorams from google are rotated up to 90 degrees so may include part of the opposite road\n",
    "* some pictures have cars blocking the edge of the road where a sidewalk might be\n",
    "\n",
    "Because of this, to improve accuracy, I reviewed images manually to delete ambiguous and reassign clearly misclassified images before the modeling step."
   ]
  },
  {
   "cell_type": "code",
   "execution_count": 0,
   "metadata": {
    "colab": {},
    "colab_type": "code",
    "id": "-5qkuHW-4Ak8"
   },
   "outputs": [],
   "source": []
  },
  {
   "cell_type": "markdown",
   "metadata": {
    "colab_type": "text",
    "id": "1b-PJ6UO4Ak-"
   },
   "source": [
    "find if rand point is in a polygon\n",
    "    find nearest polygon\n",
    "    test for within\n",
    "find angle\n",
    "    create linear ring\n",
    "    find nearest point\n",
    "    determine angle of line with nearest pnt and original"
   ]
  },
  {
   "cell_type": "markdown",
   "metadata": {
    "colab_type": "text",
    "id": "AlOVrGOk4Ak-"
   },
   "source": [
    "### Plotting Data"
   ]
  },
  {
   "cell_type": "code",
   "execution_count": 0,
   "metadata": {
    "colab": {},
    "colab_type": "code",
    "id": "nu0FuoRK4Ak_"
   },
   "outputs": [],
   "source": [
    "# data sourced from https://data-cdphe.opendata.arcgis.com/datasets/66c2642209684b90af84afcc559a5a02_5\n",
    "if not path.exists('CO_county_lines.kml'):\n",
    "    CO_cnty_lines_url = r'https://opendata.arcgis.com/datasets/66c2642209684b90af84afcc559a5a02_5.kml?outSR=%7B%22latestWkid%22%3A4269%2C%22wkid%22%3A4269%7D'\n",
    "    !curl -o CO_county_lines.kml $CO_cnty_lines_url"
   ]
  },
  {
   "cell_type": "code",
   "execution_count": 0,
   "metadata": {
    "colab": {},
    "colab_type": "code",
    "id": "9uQQOLwz4AlB"
   },
   "outputs": [],
   "source": [
    "gpd.io.file.fiona.drvsupport.supported_drivers['KML'] = 'rw'\n",
    "CO_county_lines_gdf = gpd.read_file('CO_county_lines.kml', driver='KML')"
   ]
  },
  {
   "cell_type": "code",
   "execution_count": 0,
   "metadata": {
    "colab": {},
    "colab_type": "code",
    "id": "KWObo3R54AlE",
    "outputId": "9f1ed7ac-b387-4a3e-f48f-e41ff1678436"
   },
   "outputs": [
    {
     "data": {
      "text/html": [
       "<div>\n",
       "<style scoped>\n",
       "    .dataframe tbody tr th:only-of-type {\n",
       "        vertical-align: middle;\n",
       "    }\n",
       "\n",
       "    .dataframe tbody tr th {\n",
       "        vertical-align: top;\n",
       "    }\n",
       "\n",
       "    .dataframe thead th {\n",
       "        text-align: right;\n",
       "    }\n",
       "</style>\n",
       "<table border=\"1\" class=\"dataframe\">\n",
       "  <thead>\n",
       "    <tr style=\"text-align: right;\">\n",
       "      <th></th>\n",
       "      <th>Name</th>\n",
       "      <th>Description</th>\n",
       "      <th>geometry</th>\n",
       "    </tr>\n",
       "  </thead>\n",
       "  <tbody>\n",
       "    <tr>\n",
       "      <th>0</th>\n",
       "      <td></td>\n",
       "      <td></td>\n",
       "      <td>POLYGON ((-105.05673 40.34929, -105.05664 40.3...</td>\n",
       "    </tr>\n",
       "    <tr>\n",
       "      <th>1</th>\n",
       "      <td></td>\n",
       "      <td></td>\n",
       "      <td>POLYGON ((-104.14319 37.75834, -104.14408 37.7...</td>\n",
       "    </tr>\n",
       "    <tr>\n",
       "      <th>2</th>\n",
       "      <td></td>\n",
       "      <td></td>\n",
       "      <td>POLYGON ((-105.36890 38.25941, -105.36889 38.2...</td>\n",
       "    </tr>\n",
       "    <tr>\n",
       "      <th>3</th>\n",
       "      <td></td>\n",
       "      <td></td>\n",
       "      <td>POLYGON ((-106.79970 38.97966, -106.80041 38.9...</td>\n",
       "    </tr>\n",
       "    <tr>\n",
       "      <th>4</th>\n",
       "      <td></td>\n",
       "      <td></td>\n",
       "      <td>POLYGON ((-106.14888 37.40111, -106.15066 37.4...</td>\n",
       "    </tr>\n",
       "  </tbody>\n",
       "</table>\n",
       "</div>"
      ],
      "text/plain": [
       "  Name Description                                           geometry\n",
       "0                   POLYGON ((-105.05673 40.34929, -105.05664 40.3...\n",
       "1                   POLYGON ((-104.14319 37.75834, -104.14408 37.7...\n",
       "2                   POLYGON ((-105.36890 38.25941, -105.36889 38.2...\n",
       "3                   POLYGON ((-106.79970 38.97966, -106.80041 38.9...\n",
       "4                   POLYGON ((-106.14888 37.40111, -106.15066 37.4..."
      ]
     },
     "execution_count": 19,
     "metadata": {
      "tags": []
     },
     "output_type": "execute_result"
    }
   ],
   "source": [
    "CO_county_lines_gdf.head()"
   ]
  },
  {
   "cell_type": "code",
   "execution_count": 0,
   "metadata": {
    "colab": {},
    "colab_type": "code",
    "id": "Z6Z9pehm4AlJ",
    "outputId": "99dd1aeb-7fa1-4fe9-ec82-ae8c715095cd"
   },
   "outputs": [
    {
     "data": {
      "text/plain": [
       "{'init': 'epsg:4326'}"
      ]
     },
     "execution_count": 20,
     "metadata": {
      "tags": []
     },
     "output_type": "execute_result"
    }
   ],
   "source": [
    "CO_county_lines_gdf.geometry.crs"
   ]
  },
  {
   "cell_type": "markdown",
   "metadata": {
    "colab_type": "text",
    "id": "d9sJhArZ4AlM"
   },
   "source": [
    " metadata from https://gis.drcog.org/rdc/xml/planimetrics_2016_centerline_sidewalks.xml"
   ]
  },
  {
   "cell_type": "code",
   "execution_count": 0,
   "metadata": {
    "colab": {},
    "colab_type": "code",
    "id": "_7Orm5Zr4AlN"
   },
   "outputs": [],
   "source": [
    "CO_county_lines_gdf.geometry.crs = {'init': 'epsg:4326'}"
   ]
  },
  {
   "cell_type": "code",
   "execution_count": 0,
   "metadata": {
    "colab": {},
    "colab_type": "code",
    "id": "-VKuPnKL4AlP",
    "outputId": "8fa5b598-3782-4d54-d571-2aad25dbbd45"
   },
   "outputs": [
    {
     "data": {
      "image/png": "[encoded data removed]",
      "text/plain": [
       "<Figure size 864x864 with 1 Axes>"
      ]
     },
     "metadata": {
      "needs_background": "light",
      "tags": []
     },
     "output_type": "display_data"
    }
   ],
   "source": [
    "#establish boundaries\n",
    "minx, miny, maxx, maxy = sidewalk_extent_gdf.geometry.total_bounds\n",
    "xdiff = maxx - minx\n",
    "ydiff = maxy - miny\n",
    "maxx += .15*xdiff\n",
    "minx -= .15*xdiff\n",
    "maxy += .15*ydiff\n",
    "miny -= .15*ydiff\n",
    "\n",
    "#plot geometries\n",
    "fig, ax = plt.subplots(figsize = (12,12))\n",
    "CO_county_lines_gdf.geometry.plot(facecolor='none', linewidth=.5, edgecolor='k', ax=ax)\n",
    "sidewalk_extent_gdf.geometry.plot(facecolor='g', linewidth=0, edgecolor='g', alpha=0.8, ax=ax)\n",
    "\n",
    "ax.set_xlim(minx, maxx)\n",
    "ax.set_ylim(miny, maxy)\n",
    "ax.set_xlabel('Longitude')\n",
    "ax.set_ylabel('Latitude')\n",
    "ax.set_title('Extent of Sidewalk Mapping Area in Denver Metro', fontsize=20)\n",
    "plt.plot();"
   ]
  },
  {
   "cell_type": "markdown",
   "metadata": {
    "colab_type": "text",
    "id": "7MHQIQts4AlR"
   },
   "source": [
    "#### denver roads shapefile\n",
    "roads_url = https://koordinates.com/layer/101991-denver-colorado-street-centerline/  \n",
    "requires koordinates login to download"
   ]
  },
  {
   "cell_type": "code",
   "execution_count": 0,
   "metadata": {
    "colab": {},
    "colab_type": "code",
    "id": "NsK4gRvx4AlR"
   },
   "outputs": [],
   "source": [
    "!unzip 'kx-denver-colorado-street-centerline-SHP.zip'"
   ]
  },
  {
   "cell_type": "code",
   "execution_count": 0,
   "metadata": {
    "colab": {},
    "colab_type": "code",
    "id": "P3jNXgLB4AlT"
   },
   "outputs": [],
   "source": [
    "denver_streets_gdf = gpd.read_file('denver-colorado-street-centerline.shp')"
   ]
  },
  {
   "cell_type": "code",
   "execution_count": 0,
   "metadata": {
    "colab": {},
    "colab_type": "code",
    "id": "0f8eyhjA4AlV",
    "outputId": "a30d2190-48d2-4d46-ea4c-b37156d67067"
   },
   "outputs": [
    {
     "data": {
      "text/html": [
       "<div>\n",
       "<style scoped>\n",
       "    .dataframe tbody tr th:only-of-type {\n",
       "        vertical-align: middle;\n",
       "    }\n",
       "\n",
       "    .dataframe tbody tr th {\n",
       "        vertical-align: top;\n",
       "    }\n",
       "\n",
       "    .dataframe thead th {\n",
       "        text-align: right;\n",
       "    }\n",
       "</style>\n",
       "<table border=\"1\" class=\"dataframe\">\n",
       "  <thead>\n",
       "    <tr style=\"text-align: right;\">\n",
       "      <th></th>\n",
       "      <th>FNODE</th>\n",
       "      <th>TNODE</th>\n",
       "      <th>STREETID</th>\n",
       "      <th>MASTERID</th>\n",
       "      <th>EDITDATE</th>\n",
       "      <th>L_F_ADD</th>\n",
       "      <th>L_T_ADD</th>\n",
       "      <th>R_F_ADD</th>\n",
       "      <th>R_T_ADD</th>\n",
       "      <th>PREFIX</th>\n",
       "      <th>...</th>\n",
       "      <th>T_ZLEV</th>\n",
       "      <th>ADMINCLASS</th>\n",
       "      <th>LRSROUTE</th>\n",
       "      <th>LRSCOMMENT</th>\n",
       "      <th>LRSBGN</th>\n",
       "      <th>LRSEND</th>\n",
       "      <th>HUNDBLKNAM</th>\n",
       "      <th>LRSMAJ</th>\n",
       "      <th>SHAPE_Leng</th>\n",
       "      <th>geometry</th>\n",
       "    </tr>\n",
       "  </thead>\n",
       "  <tbody>\n",
       "    <tr>\n",
       "      <th>0</th>\n",
       "      <td>7833</td>\n",
       "      <td>7659</td>\n",
       "      <td>225.0</td>\n",
       "      <td>18944</td>\n",
       "      <td>20170608</td>\n",
       "      <td>561.0</td>\n",
       "      <td>599.0</td>\n",
       "      <td>560.0</td>\n",
       "      <td>598.0</td>\n",
       "      <td>N</td>\n",
       "      <td>...</td>\n",
       "      <td>0</td>\n",
       "      <td>2</td>\n",
       "      <td>ROSLYN   ST7</td>\n",
       "      <td>LL</td>\n",
       "      <td>189.096668</td>\n",
       "      <td>371.004124</td>\n",
       "      <td>None</td>\n",
       "      <td>None</td>\n",
       "      <td>0.000477</td>\n",
       "      <td>LINESTRING (-104.90097 39.72508, -104.90096 39...</td>\n",
       "    </tr>\n",
       "    <tr>\n",
       "      <th>1</th>\n",
       "      <td>17472</td>\n",
       "      <td>17471</td>\n",
       "      <td>1607.0</td>\n",
       "      <td>27495</td>\n",
       "      <td>20170612</td>\n",
       "      <td>2851.0</td>\n",
       "      <td>2949.0</td>\n",
       "      <td>2850.0</td>\n",
       "      <td>2948.0</td>\n",
       "      <td>N</td>\n",
       "      <td>...</td>\n",
       "      <td>0</td>\n",
       "      <td>2</td>\n",
       "      <td>IOLA     ST</td>\n",
       "      <td>LL</td>\n",
       "      <td>1003.936285</td>\n",
       "      <td>1492.316125</td>\n",
       "      <td>2850 BLK OF N IOLA ST</td>\n",
       "      <td>None</td>\n",
       "      <td>0.001341</td>\n",
       "      <td>LINESTRING (-104.86455 39.75750, -104.86453 39...</td>\n",
       "    </tr>\n",
       "    <tr>\n",
       "      <th>2</th>\n",
       "      <td>6163</td>\n",
       "      <td>6077</td>\n",
       "      <td>585.0</td>\n",
       "      <td>16501</td>\n",
       "      <td>20171024</td>\n",
       "      <td>400.0</td>\n",
       "      <td>498.0</td>\n",
       "      <td>401.0</td>\n",
       "      <td>499.0</td>\n",
       "      <td>None</td>\n",
       "      <td>...</td>\n",
       "      <td>0</td>\n",
       "      <td>2</td>\n",
       "      <td>13TH     ST2</td>\n",
       "      <td>LR</td>\n",
       "      <td>142.786524</td>\n",
       "      <td>487.322780</td>\n",
       "      <td>400 BLK OF 13TH ST</td>\n",
       "      <td>None</td>\n",
       "      <td>0.001102</td>\n",
       "      <td>LINESTRING (-104.99318 39.74039, -104.99360 39...</td>\n",
       "    </tr>\n",
       "    <tr>\n",
       "      <th>3</th>\n",
       "      <td>6615</td>\n",
       "      <td>6465</td>\n",
       "      <td>402.0</td>\n",
       "      <td>4383</td>\n",
       "      <td>20020930</td>\n",
       "      <td>1301.0</td>\n",
       "      <td>1399.0</td>\n",
       "      <td>1300.0</td>\n",
       "      <td>1398.0</td>\n",
       "      <td>N</td>\n",
       "      <td>...</td>\n",
       "      <td>0</td>\n",
       "      <td>2</td>\n",
       "      <td>TENNYSON ST2</td>\n",
       "      <td>LR</td>\n",
       "      <td>458.896668</td>\n",
       "      <td>1124.667485</td>\n",
       "      <td>1300 BLK OF N TENNYSON ST</td>\n",
       "      <td>TENNYSON ST2 37</td>\n",
       "      <td>0.001828</td>\n",
       "      <td>LINESTRING (-105.04400 39.73665, -105.04400 39...</td>\n",
       "    </tr>\n",
       "    <tr>\n",
       "      <th>4</th>\n",
       "      <td>10731</td>\n",
       "      <td>10652</td>\n",
       "      <td>874.0</td>\n",
       "      <td>6514</td>\n",
       "      <td>20171024</td>\n",
       "      <td>2000.0</td>\n",
       "      <td>2098.0</td>\n",
       "      <td>2001.0</td>\n",
       "      <td>2099.0</td>\n",
       "      <td>W</td>\n",
       "      <td>...</td>\n",
       "      <td>0</td>\n",
       "      <td>2</td>\n",
       "      <td>WTENNESSEAV5</td>\n",
       "      <td>UR</td>\n",
       "      <td>1701.626782</td>\n",
       "      <td>1962.379486</td>\n",
       "      <td>2000 BLK OF W TENNESSEE AVE</td>\n",
       "      <td>None</td>\n",
       "      <td>0.000868</td>\n",
       "      <td>LINESTRING (-105.01262 39.69832, -105.01299 39...</td>\n",
       "    </tr>\n",
       "  </tbody>\n",
       "</table>\n",
       "<p>5 rows × 71 columns</p>\n",
       "</div>"
      ],
      "text/plain": [
       "   FNODE  TNODE  STREETID  MASTERID  EDITDATE  L_F_ADD  L_T_ADD  R_F_ADD  \\\n",
       "0   7833   7659     225.0     18944  20170608    561.0    599.0    560.0   \n",
       "1  17472  17471    1607.0     27495  20170612   2851.0   2949.0   2850.0   \n",
       "2   6163   6077     585.0     16501  20171024    400.0    498.0    401.0   \n",
       "3   6615   6465     402.0      4383  20020930   1301.0   1399.0   1300.0   \n",
       "4  10731  10652     874.0      6514  20171024   2000.0   2098.0   2001.0   \n",
       "\n",
       "   R_T_ADD PREFIX  ... T_ZLEV ADMINCLASS      LRSROUTE LRSCOMMENT  \\\n",
       "0    598.0      N  ...      0          2  ROSLYN   ST7         LL   \n",
       "1   2948.0      N  ...      0          2   IOLA     ST         LL   \n",
       "2    499.0   None  ...      0          2  13TH     ST2         LR   \n",
       "3   1398.0      N  ...      0          2  TENNYSON ST2         LR   \n",
       "4   2099.0      W  ...      0          2  WTENNESSEAV5         UR   \n",
       "\n",
       "        LRSBGN       LRSEND                   HUNDBLKNAM           LRSMAJ  \\\n",
       "0   189.096668   371.004124                         None             None   \n",
       "1  1003.936285  1492.316125        2850 BLK OF N IOLA ST             None   \n",
       "2   142.786524   487.322780           400 BLK OF 13TH ST             None   \n",
       "3   458.896668  1124.667485    1300 BLK OF N TENNYSON ST  TENNYSON ST2 37   \n",
       "4  1701.626782  1962.379486  2000 BLK OF W TENNESSEE AVE             None   \n",
       "\n",
       "  SHAPE_Leng                                           geometry  \n",
       "0   0.000477  LINESTRING (-104.90097 39.72508, -104.90096 39...  \n",
       "1   0.001341  LINESTRING (-104.86455 39.75750, -104.86453 39...  \n",
       "2   0.001102  LINESTRING (-104.99318 39.74039, -104.99360 39...  \n",
       "3   0.001828  LINESTRING (-105.04400 39.73665, -105.04400 39...  \n",
       "4   0.000868  LINESTRING (-105.01262 39.69832, -105.01299 39...  \n",
       "\n",
       "[5 rows x 71 columns]"
      ]
     },
     "execution_count": 24,
     "metadata": {
      "tags": []
     },
     "output_type": "execute_result"
    }
   ],
   "source": [
    "denver_streets_gdf.head()"
   ]
  },
  {
   "cell_type": "code",
   "execution_count": 0,
   "metadata": {
    "colab": {},
    "colab_type": "code",
    "id": "iej8rkhm4Ala",
    "outputId": "bcf8c0d8-2741-47f6-b706-89f8b77157f9"
   },
   "outputs": [
    {
     "data": {
      "text/plain": [
       "{'init': 'epsg:4326'}"
      ]
     },
     "execution_count": 25,
     "metadata": {
      "tags": []
     },
     "output_type": "execute_result"
    }
   ],
   "source": [
    "denver_streets_gdf.geometry.crs"
   ]
  },
  {
   "cell_type": "code",
   "execution_count": 0,
   "metadata": {
    "colab": {},
    "colab_type": "code",
    "id": "LmA38gcy4Ale",
    "outputId": "dbafe4cc-1a6d-4e06-e564-743e9c853774"
   },
   "outputs": [
    {
     "data": {
      "text/plain": [
       "<matplotlib.axes._subplots.AxesSubplot at 0x271ea362d08>"
      ]
     },
     "execution_count": 26,
     "metadata": {
      "tags": []
     },
     "output_type": "execute_result"
    },
    {
     "data": {
      "image/png": "[encoded data removed]",
      "text/plain": [
       "<Figure size 432x288 with 1 Axes>"
      ]
     },
     "metadata": {
      "needs_background": "light",
      "tags": []
     },
     "output_type": "display_data"
    }
   ],
   "source": [
    "denver_streets_gdf.geometry.plot()"
   ]
  },
  {
   "cell_type": "code",
   "execution_count": 0,
   "metadata": {
    "colab": {},
    "colab_type": "code",
    "id": "akmLo1ek4Alg"
   },
   "outputs": [],
   "source": [
    "#data source: https://data.drcog.org/dataset/edge-of-pavement-lines-2016\n"
   ]
  },
  {
   "cell_type": "code",
   "execution_count": 0,
   "metadata": {
    "colab": {},
    "colab_type": "code",
    "id": "ZCs2utB64Ali"
   },
   "outputs": [],
   "source": [
    "image detection"
   ]
  }
 ],
 "metadata": {
  "colab": {
   "collapsed_sections": [
    "WH3_jpMB4Akc",
    "7MHQIQts4AlR"
   ],
   "include_colab_link": true,
   "name": "sidewalks_data_acquisition.ipynb",
   "provenance": []
  },
  "kernelspec": {
   "display_name": "Python 3",
   "language": "python",
   "name": "python3"
  },
  "language_info": {
   "codemirror_mode": {
    "name": "ipython",
    "version": 3
   },
   "file_extension": ".py",
   "mimetype": "text/x-python",
   "name": "python",
   "nbconvert_exporter": "python",
   "pygments_lexer": "ipython3",
   "version": "3.7.4"
  }
 },
 "nbformat": 4,
 "nbformat_minor": 1
}
