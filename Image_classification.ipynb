{
 "cells": [
  {
   "cell_type": "markdown",
   "metadata": {},
   "source": [
    "# Modeling with TensorFlow\n"
   ]
  },
  {
   "cell_type": "code",
   "execution_count": null,
   "metadata": {},
   "outputs": [],
   "source": [
    "# get colab status\n",
    "try:\n",
    "  import google.colab\n",
    "  IN_COLAB = True\n",
    "except:\n",
    "  IN_COLAB = False\n",
    "\n",
    "if IN_COLAB:\n",
    "    tf.test.gpu_device_name()\n",
    "    # need to use gpu runtime accelerator!\n",
    "    !pip install imageai\n",
    "    from google.colab import drive\n",
    "    drive.mount('/content/gdrive')"
   ]
  },
  {
   "cell_type": "code",
   "execution_count": 28,
   "metadata": {},
   "outputs": [],
   "source": [
    "#imports\n",
    "import numpy as np\n",
    "import pandas as pd\n",
    "import matplotlib.pyplot as plt\n",
    "import seaborn as sns\n",
    "import tensorflow as tf\n",
    "from tensorflow.keras.preprocessing.image import ImageDataGenerator\n",
    "from tensorflow.keras.models import Sequential\n",
    "from tensorflow.keras.layers import Dense, Conv2D, Flatten, Dropout, MaxPooling2D\n",
    "from tensorflow.keras.optimizers import RMSprop\n",
    "from tensorflow.python.keras.utils.data_utils import Sequence # to fix 'imagedatagenerator has no shape' error\n",
    "import cv2 as cv\n",
    "from imageai.Detection import ObjectDetection\n",
    "import os\n",
    "import random, math"
   ]
  },
  {
   "cell_type": "markdown",
   "metadata": {},
   "source": [
    "# Create generator\n"
   ]
  },
  {
   "cell_type": "code",
   "execution_count": 15,
   "metadata": {},
   "outputs": [
    {
     "name": "stdout",
     "output_type": "stream",
     "text": [
      "/c/Users/User/Documents/GitHub/sidewalks_deep-learning\n"
     ]
    }
   ],
   "source": [
    "!pwd"
   ]
  },
  {
   "cell_type": "code",
   "execution_count": 2,
   "metadata": {},
   "outputs": [],
   "source": [
    "if IN_COLAB:\n",
    "    tf.test.gpu_device_name()     # need to use gpu runtime accelerator!\n",
    "    os.chdir(f'/content/gdrive/My Drive/thinkful/colab_datasets/sidewalk_data/images/')\n",
    "else:\n",
    "    os.chdir(f'./images/')\n",
    "!pwd"
   ]
  },
  {
   "cell_type": "code",
   "execution_count": 29,
   "metadata": {},
   "outputs": [
    {
     "name": "stdout",
     "output_type": "stream",
     "text": [
      "[WinError 2] The system cannot find the file specified: './sidewalk'\n",
      "C:\\Users\\User\\Documents\\GitHub\\sidewalks_deep-learning\\images\\sidewalk\n",
      "C:\\Users\\User\\Documents\\GitHub\\sidewalks_deep-learning\\images\n",
      "C:\\Users\\User\\Documents\\GitHub\\sidewalks_deep-learning\\images\\no_sidewalk\n"
     ]
    },
    {
     "name": "stderr",
     "output_type": "stream",
     "text": [
      "Parameter format not correct - \"sidewalk\".\n"
     ]
    },
    {
     "name": "stdout",
     "output_type": "stream",
     "text": [
      "C:\\Users\\User\\Documents\\GitHub\\sidewalks_deep-learning\\images\n"
     ]
    },
    {
     "name": "stderr",
     "output_type": "stream",
     "text": [
      "Invalid switch - \"no_sidewalk\".\n"
     ]
    }
   ],
   "source": [
    "#move images into train, test, validate folders with subfolders for classes\n",
    "test_ratio = .15\n",
    "SPLIT_DATA = True # switch if need to divide out data\n",
    "if SPLIT_DATA:\n",
    "    for label in ['sidewalk', 'no_sidewalk']:\n",
    "        %cd ./$label\n",
    "        listing = os.popen('ls').read().strip().split(sep='\\n')\n",
    "        random.shuffle(listing) #inplace\n",
    "        im_count = len(listing)\n",
    "        test_size=val_size = math.ceil(test_ratio*im_count)\n",
    "        train_size = im_count - (test_size + val_size)\n",
    "        subfolders = ['train', 'test', 'vdate']\n",
    "        for subfolder in subfolders:\n",
    "            os.makedirs(os.path.join(os.path.dirname(os.getcwd()), subfolder, label))\n",
    "        for item in range(0, train_size):\n",
    "            moved = listing.pop()\n",
    "            !mv $moved ../train/$label/$moved\n",
    "        for item in range(0, test_size):\n",
    "            moved = listing.pop()\n",
    "            !mv $moved ../test/$label/$moved\n",
    "        for item in range(0, val_size):\n",
    "            moved = listing.pop()\n",
    "            !mv $moved ../vdate/$label/$moved\n",
    "        %cd ..\n",
    "        !rmdir ./$label"
   ]
  },
  {
   "cell_type": "markdown",
   "metadata": {},
   "source": [
    "### Parameters for data loading and modeling"
   ]
  },
  {
   "cell_type": "code",
   "execution_count": 5,
   "metadata": {},
   "outputs": [],
   "source": [
    "idg_params={'rescale': 1./255}\n",
    "augmentation_params = {'rotation_range': 15,\n",
    "                        'zoom_range': 0.15,\n",
    "                         'width_shift_range': 0.2,\n",
    "                         'height_shift_range': 0.2,\n",
    "                         'shear_range': 0.15,\n",
    "                         'fill_mode': 'nearest',\n",
    "                         'horizontal_flip': True}\n",
    "datagen_params = {'batch_size': 8,\n",
    "                  'target_size': (256,256),\n",
    "                  'color_mode': 'rgb', \n",
    "                  'class_mode': 'binary'}\n",
    "batch_size = 128\n",
    "n_epochs = 15\n",
    "IMG_HEIGHT = 200\n",
    "IMG_WIDTH = 200"
   ]
  },
  {
   "cell_type": "code",
   "execution_count": 6,
   "metadata": {},
   "outputs": [],
   "source": [
    "train_datagen = ImageDataGenerator(**idg_params)\n",
    "train_augmented_datagen = ImageDataGenerator(\n",
    "    **idg_params,\n",
    "    **augmentation_params)\n",
    "test_datagen = ImageDataGenerator(**idg_params)\n",
    "vdate_datagen = ImageDataGenerator(**idg_params)"
   ]
  },
  {
   "cell_type": "code",
   "execution_count": 7,
   "metadata": {},
   "outputs": [
    {
     "name": "stdout",
     "output_type": "stream",
     "text": [
      "Found 2087 images belonging to 2 classes.\n",
      "Found 448 images belonging to 2 classes.\n",
      "Found 448 images belonging to 2 classes.\n"
     ]
    }
   ],
   "source": [
    "# Flow training images in batches of 128 using train_datagen generator\n",
    "\n",
    "train_generator = train_datagen.flow_from_directory(\n",
    "        r'./train/',  # This is the source directory for training images\n",
    "        **datagen_params)\n",
    "test_generator = test_datagen.flow_from_directory(\n",
    "        r'./test/',\n",
    "        **datagen_params)\n",
    "vdate_generator = vdate_datagen.flow_from_directory(\n",
    "        r'./vdate/',\n",
    "        **datagen_params)"
   ]
  },
  {
   "cell_type": "code",
   "execution_count": 23,
   "metadata": {},
   "outputs": [
    {
     "data": {
      "text/plain": [
       "(256, 256, 3)"
      ]
     },
     "execution_count": 23,
     "metadata": {},
     "output_type": "execute_result"
    }
   ],
   "source": [
    "#generator based caluculations\n",
    "input_shape = train_generator.next()[0].shape[1:]\n",
    "total_train_samples = train_generator.n\n",
    "total_vdate_samples = vdate_generator.n\n",
    "input_shape"
   ]
  },
  {
   "cell_type": "markdown",
   "metadata": {},
   "source": [
    "### Convolutional Model"
   ]
  },
  {
   "cell_type": "code",
   "execution_count": 46,
   "metadata": {},
   "outputs": [
    {
     "name": "stdout",
     "output_type": "stream",
     "text": [
      "Model: \"sequential_4\"\n",
      "_________________________________________________________________\n",
      "Layer (type)                 Output Shape              Param #   \n",
      "=================================================================\n",
      "conv2d_8 (Conv2D)            (None, 253, 253, 64)      3136      \n",
      "_________________________________________________________________\n",
      "conv2d_9 (Conv2D)            (None, 251, 251, 32)      18464     \n",
      "_________________________________________________________________\n",
      "max_pooling2d_4 (MaxPooling2 (None, 125, 125, 32)      0         \n",
      "_________________________________________________________________\n",
      "dropout_8 (Dropout)          (None, 125, 125, 32)      0         \n",
      "_________________________________________________________________\n",
      "conv2d_10 (Conv2D)           (None, 123, 123, 32)      9248      \n",
      "_________________________________________________________________\n",
      "max_pooling2d_5 (MaxPooling2 (None, 61, 61, 32)        0         \n",
      "_________________________________________________________________\n",
      "dropout_9 (Dropout)          (None, 61, 61, 32)        0         \n",
      "_________________________________________________________________\n",
      "flatten_4 (Flatten)          (None, 119072)            0         \n",
      "_________________________________________________________________\n",
      "dense_9 (Dense)              (None, 64)                7620672   \n",
      "_________________________________________________________________\n",
      "dropout_10 (Dropout)         (None, 64)                0         \n",
      "_________________________________________________________________\n",
      "dense_10 (Dense)             (None, 64)                4160      \n",
      "_________________________________________________________________\n",
      "dropout_11 (Dropout)         (None, 64)                0         \n",
      "_________________________________________________________________\n",
      "dense_11 (Dense)             (None, 1)                 65        \n",
      "=================================================================\n",
      "Total params: 7,655,745\n",
      "Trainable params: 7,655,745\n",
      "Non-trainable params: 0\n",
      "_________________________________________________________________\n"
     ]
    }
   ],
   "source": [
    "conv_model = tf.keras.models.Sequential()\n",
    "conv_model.add(Conv2D(64, kernel_size=(4, 4),\n",
    "                 activation='relu',\n",
    "                 input_shape=input_shape))\n",
    "conv_model.add(Conv2D(32, (4, 4), activation='relu'))\n",
    "conv_model.add(MaxPooling2D(pool_size=(2, 2)))\n",
    "conv_model.add(Dropout(0.20))\n",
    "conv_model.add(Conv2D(32, (3, 3), activation='relu'))\n",
    "conv_model.add(MaxPooling2D(pool_size=(2, 2)))\n",
    "conv_model.add(Dropout(0.20))\n",
    "conv_model.add(Flatten())\n",
    "conv_model.add(Dense(64, activation='relu'))\n",
    "conv_model.add(Dropout(0.2))\n",
    "conv_model.add(Dense(64, activation='relu'))\n",
    "conv_model.add(Dropout(0.2))\n",
    "conv_model.add(Dense(1, activation='sigmoid'))\n",
    "\n",
    "conv_model.compile(loss=tf.keras.losses.binary_crossentropy,\n",
    "              optimizer=tf.keras.optimizers.Adadelta(),\n",
    "              metrics=['accuracy'])\n",
    "conv_model.summary()"
   ]
  },
  {
   "cell_type": "code",
   "execution_count": 47,
   "metadata": {},
   "outputs": [
    {
     "name": "stdout",
     "output_type": "stream",
     "text": [
      "Epoch 1/15\n",
      "16/16 [==============================] - 39s 2s/step - loss: 0.6764 - accuracy: 0.6562\n",
      "Epoch 2/15\n",
      "16/16 [==============================] - 42s 3s/step - loss: 0.6340 - accuracy: 0.6953\n",
      "Epoch 3/15\n",
      "16/16 [==============================] - 45s 3s/step - loss: 0.6223 - accuracy: 0.7266\n",
      "Epoch 4/15\n",
      "16/16 [==============================] - 40s 3s/step - loss: 0.5932 - accuracy: 0.7422\n",
      "Epoch 5/15\n",
      "16/16 [==============================] - 41s 3s/step - loss: 0.6425 - accuracy: 0.6797\n",
      "Epoch 6/15\n",
      "16/16 [==============================] - 41s 3s/step - loss: 0.6657 - accuracy: 0.6250\n",
      "Epoch 7/15\n",
      "16/16 [==============================] - 54s 3s/step - loss: 0.6233 - accuracy: 0.6875\n",
      "Epoch 8/15\n",
      "16/16 [==============================] - 58s 4s/step - loss: 0.6650 - accuracy: 0.6562\n",
      "Epoch 9/15\n",
      "16/16 [==============================] - 52s 3s/step - loss: 0.6622 - accuracy: 0.6328\n",
      "Epoch 10/15\n",
      "16/16 [==============================] - 55s 3s/step - loss: 0.6016 - accuracy: 0.7266\n",
      "Epoch 11/15\n",
      "16/16 [==============================] - 57s 4s/step - loss: 0.6219 - accuracy: 0.7031\n",
      "Epoch 12/15\n",
      "16/16 [==============================] - 56s 4s/step - loss: 0.6136 - accuracy: 0.7031\n",
      "Epoch 13/15\n",
      "16/16 [==============================] - 57s 4s/step - loss: 0.6550 - accuracy: 0.6250\n",
      "Epoch 14/15\n",
      "16/16 [==============================] - 58s 4s/step - loss: 0.6014 - accuracy: 0.7031\n",
      "Epoch 15/15\n",
      "16/16 [==============================] - 59s 4s/step - loss: 0.6447 - accuracy: 0.6614\n"
     ]
    }
   ],
   "source": [
    "conv_history = conv_model.fit_generator(\n",
    "        train_generator, \n",
    "        steps_per_epoch=int(total_train_samples/batch_size),  \n",
    "        epochs=n_epochs,\n",
    "        verbose=1,\n",
    "        #validation_data=vdate_datagen,\n",
    "        #validation_steps=int(total_vdate_samples/batch_size),\n",
    "        use_multiprocessing=False)"
   ]
  },
  {
   "cell_type": "code",
   "execution_count": 50,
   "metadata": {},
   "outputs": [
    {
     "name": "stdout",
     "output_type": "stream",
     "text": [
      "Epoch 1/15\n",
      "15/16 [===========================>..] - ETA: 3s - loss: 0.5866 - accuracy: 0.7417"
     ]
    },
    {
     "ename": "AttributeError",
     "evalue": "'ImageDataGenerator' object has no attribute 'shape'",
     "output_type": "error",
     "traceback": [
      "\u001b[1;31m---------------------------------------------------------------------------\u001b[0m",
      "\u001b[1;31mAttributeError\u001b[0m                            Traceback (most recent call last)",
      "\u001b[1;32m<ipython-input-50-e1baaccbab7c>\u001b[0m in \u001b[0;36m<module>\u001b[1;34m\u001b[0m\n\u001b[0;32m      6\u001b[0m         \u001b[0mvalidation_data\u001b[0m\u001b[1;33m=\u001b[0m\u001b[0mvdate_datagen\u001b[0m\u001b[1;33m,\u001b[0m\u001b[1;33m\u001b[0m\u001b[1;33m\u001b[0m\u001b[0m\n\u001b[0;32m      7\u001b[0m         \u001b[0mvalidation_steps\u001b[0m\u001b[1;33m=\u001b[0m\u001b[0mint\u001b[0m\u001b[1;33m(\u001b[0m\u001b[0mtotal_vdate_samples\u001b[0m\u001b[1;33m/\u001b[0m\u001b[0mbatch_size\u001b[0m\u001b[1;33m)\u001b[0m\u001b[1;33m,\u001b[0m\u001b[1;33m\u001b[0m\u001b[1;33m\u001b[0m\u001b[0m\n\u001b[1;32m----> 8\u001b[1;33m         use_multiprocessing=False)\n\u001b[0m",
      "\u001b[1;32mc:\\users\\user\\appdata\\local\\programs\\python\\python37\\lib\\site-packages\\tensorflow_core\\python\\keras\\engine\\training.py\u001b[0m in \u001b[0;36mfit_generator\u001b[1;34m(self, generator, steps_per_epoch, epochs, verbose, callbacks, validation_data, validation_steps, validation_freq, class_weight, max_queue_size, workers, use_multiprocessing, shuffle, initial_epoch)\u001b[0m\n\u001b[0;32m   1295\u001b[0m         \u001b[0mshuffle\u001b[0m\u001b[1;33m=\u001b[0m\u001b[0mshuffle\u001b[0m\u001b[1;33m,\u001b[0m\u001b[1;33m\u001b[0m\u001b[1;33m\u001b[0m\u001b[0m\n\u001b[0;32m   1296\u001b[0m         \u001b[0minitial_epoch\u001b[0m\u001b[1;33m=\u001b[0m\u001b[0minitial_epoch\u001b[0m\u001b[1;33m,\u001b[0m\u001b[1;33m\u001b[0m\u001b[1;33m\u001b[0m\u001b[0m\n\u001b[1;32m-> 1297\u001b[1;33m         steps_name='steps_per_epoch')\n\u001b[0m\u001b[0;32m   1298\u001b[0m \u001b[1;33m\u001b[0m\u001b[0m\n\u001b[0;32m   1299\u001b[0m   def evaluate_generator(self,\n",
      "\u001b[1;32mc:\\users\\user\\appdata\\local\\programs\\python\\python37\\lib\\site-packages\\tensorflow_core\\python\\keras\\engine\\training_generator.py\u001b[0m in \u001b[0;36mmodel_iteration\u001b[1;34m(model, data, steps_per_epoch, epochs, verbose, callbacks, validation_data, validation_steps, validation_freq, class_weight, max_queue_size, workers, use_multiprocessing, shuffle, initial_epoch, mode, batch_size, steps_name, **kwargs)\u001b[0m\n\u001b[0;32m    321\u001b[0m           \u001b[0mverbose\u001b[0m\u001b[1;33m=\u001b[0m\u001b[1;36m0\u001b[0m\u001b[1;33m,\u001b[0m\u001b[1;33m\u001b[0m\u001b[1;33m\u001b[0m\u001b[0m\n\u001b[0;32m    322\u001b[0m           \u001b[0mmode\u001b[0m\u001b[1;33m=\u001b[0m\u001b[0mModeKeys\u001b[0m\u001b[1;33m.\u001b[0m\u001b[0mTEST\u001b[0m\u001b[1;33m,\u001b[0m\u001b[1;33m\u001b[0m\u001b[1;33m\u001b[0m\u001b[0m\n\u001b[1;32m--> 323\u001b[1;33m           steps_name='validation_steps')\n\u001b[0m\u001b[0;32m    324\u001b[0m \u001b[1;33m\u001b[0m\u001b[0m\n\u001b[0;32m    325\u001b[0m       \u001b[1;32mif\u001b[0m \u001b[1;32mnot\u001b[0m \u001b[0misinstance\u001b[0m\u001b[1;33m(\u001b[0m\u001b[0mval_results\u001b[0m\u001b[1;33m,\u001b[0m \u001b[0mlist\u001b[0m\u001b[1;33m)\u001b[0m\u001b[1;33m:\u001b[0m\u001b[1;33m\u001b[0m\u001b[1;33m\u001b[0m\u001b[0m\n",
      "\u001b[1;32mc:\\users\\user\\appdata\\local\\programs\\python\\python37\\lib\\site-packages\\tensorflow_core\\python\\keras\\engine\\training_generator.py\u001b[0m in \u001b[0;36mmodel_iteration\u001b[1;34m(model, data, steps_per_epoch, epochs, verbose, callbacks, validation_data, validation_steps, validation_freq, class_weight, max_queue_size, workers, use_multiprocessing, shuffle, initial_epoch, mode, batch_size, steps_name, **kwargs)\u001b[0m\n\u001b[0;32m    142\u001b[0m       \u001b[0mbatch_size\u001b[0m\u001b[1;33m=\u001b[0m\u001b[0mbatch_size\u001b[0m\u001b[1;33m,\u001b[0m\u001b[1;33m\u001b[0m\u001b[1;33m\u001b[0m\u001b[0m\n\u001b[0;32m    143\u001b[0m       \u001b[0mepochs\u001b[0m\u001b[1;33m=\u001b[0m\u001b[0mepochs\u001b[0m \u001b[1;33m-\u001b[0m \u001b[0minitial_epoch\u001b[0m\u001b[1;33m,\u001b[0m\u001b[1;33m\u001b[0m\u001b[1;33m\u001b[0m\u001b[0m\n\u001b[1;32m--> 144\u001b[1;33m       shuffle=shuffle)\n\u001b[0m\u001b[0;32m    145\u001b[0m \u001b[1;33m\u001b[0m\u001b[0m\n\u001b[0;32m    146\u001b[0m   \u001b[0mdo_validation\u001b[0m \u001b[1;33m=\u001b[0m \u001b[0mvalidation_data\u001b[0m \u001b[1;32mis\u001b[0m \u001b[1;32mnot\u001b[0m \u001b[1;32mNone\u001b[0m\u001b[1;33m\u001b[0m\u001b[1;33m\u001b[0m\u001b[0m\n",
      "\u001b[1;32mc:\\users\\user\\appdata\\local\\programs\\python\\python37\\lib\\site-packages\\tensorflow_core\\python\\keras\\engine\\training_generator.py\u001b[0m in \u001b[0;36mconvert_to_generator_like\u001b[1;34m(data, batch_size, steps_per_epoch, epochs, shuffle)\u001b[0m\n\u001b[0;32m    475\u001b[0m \u001b[1;33m\u001b[0m\u001b[0m\n\u001b[0;32m    476\u001b[0m   \u001b[1;31m# Create generator from NumPy or EagerTensor Input.\u001b[0m\u001b[1;33m\u001b[0m\u001b[1;33m\u001b[0m\u001b[1;33m\u001b[0m\u001b[0m\n\u001b[1;32m--> 477\u001b[1;33m   \u001b[0mnum_samples\u001b[0m \u001b[1;33m=\u001b[0m \u001b[0mint\u001b[0m\u001b[1;33m(\u001b[0m\u001b[0mnest\u001b[0m\u001b[1;33m.\u001b[0m\u001b[0mflatten\u001b[0m\u001b[1;33m(\u001b[0m\u001b[0mdata\u001b[0m\u001b[1;33m)\u001b[0m\u001b[1;33m[\u001b[0m\u001b[1;36m0\u001b[0m\u001b[1;33m]\u001b[0m\u001b[1;33m.\u001b[0m\u001b[0mshape\u001b[0m\u001b[1;33m[\u001b[0m\u001b[1;36m0\u001b[0m\u001b[1;33m]\u001b[0m\u001b[1;33m)\u001b[0m\u001b[1;33m\u001b[0m\u001b[1;33m\u001b[0m\u001b[0m\n\u001b[0m\u001b[0;32m    478\u001b[0m   \u001b[1;32mif\u001b[0m \u001b[0mbatch_size\u001b[0m \u001b[1;32mis\u001b[0m \u001b[1;32mNone\u001b[0m\u001b[1;33m:\u001b[0m\u001b[1;33m\u001b[0m\u001b[1;33m\u001b[0m\u001b[0m\n\u001b[0;32m    479\u001b[0m     raise ValueError(\n",
      "\u001b[1;31mAttributeError\u001b[0m: 'ImageDataGenerator' object has no attribute 'shape'"
     ]
    }
   ],
   "source": [
    "conv_history_with_val = conv_model.fit_generator(\n",
    "        train_generator, \n",
    "        steps_per_epoch=int(total_train_samples/batch_size),  \n",
    "        epochs=n_epochs,\n",
    "        verbose=1,\n",
    "        validation_data=vdate_datagen,\n",
    "        validation_steps=int(total_vdate_samples/batch_size),\n",
    "        use_multiprocessing=False)"
   ]
  },
  {
   "cell_type": "code",
   "execution_count": 51,
   "metadata": {},
   "outputs": [
    {
     "data": {
      "image/png": "[encoded data removed]",
      "text/plain": [
       "<Figure size 432x288 with 1 Axes>"
      ]
     },
     "metadata": {},
     "output_type": "display_data"
    }
   ],
   "source": [
    "# plot the training loss and accuracy\n",
    "n_epochs_range = np.arange(0, n_epochs)\n",
    "plt.style.use(\"ggplot\")\n",
    "fig, ax = plt.subplots()\n",
    "ax.plot(n_epochs_range, conv_history.history[\"loss\"], label=\"train_loss\")\n",
    "#ax.plot(n_epochs_range, conv_history.history[\"val_loss\"], label=\"val_loss\")\n",
    "ax.plot(n_epochs_range, conv_history.history[\"accuracy\"], label=\"train_acc\")\n",
    "#ax.plot(n_epochs_range, conv_history.history[\"val_acc\"], label=\"val_acc\")\n",
    "\n",
    "ax.set_title(\"Training Loss and Accuracy on Dataset\")\n",
    "ax.set_xlabel(\"Epoch #\")\n",
    "ax.set_ylabel(\"Loss/Accuracy\")\n",
    "ax.legend()\n",
    "plt.plot();"
   ]
  },
  {
   "cell_type": "markdown",
   "metadata": {},
   "source": [
    "# Object Detection via Transfer Learning\n",
    "This will use a pretrained model as the basis for a nn that identifies the part of an image file that contains the sidewalk object."
   ]
  },
  {
   "cell_type": "code",
   "execution_count": 42,
   "metadata": {},
   "outputs": [],
   "source": [
    "learning_rate = 0.0001\n",
    "loss = 'binary_crossentropy'"
   ]
  },
  {
   "cell_type": "code",
   "execution_count": 43,
   "metadata": {},
   "outputs": [
    {
     "name": "stderr",
     "output_type": "stream",
     "text": [
      "c:\\users\\user\\appdata\\local\\programs\\python\\python37\\lib\\site-packages\\keras_applications\\mobilenet_v2.py:294: UserWarning: `input_shape` is undefined or non-square, or `rows` is not in [96, 128, 160, 192, 224]. Weights for input shape (224, 224) will be loaded as the default.\n",
      "  warnings.warn('`input_shape` is undefined or non-square, '\n"
     ]
    },
    {
     "name": "stdout",
     "output_type": "stream",
     "text": [
      "Downloading data from https://github.com/JonathanCMitchell/mobilenet_v2_keras/releases/download/v1.1/mobilenet_v2_weights_tf_dim_ordering_tf_kernels_1.0_224_no_top.h5\n",
      "9412608/9406464 [==============================] - 1s 0us/step\n"
     ]
    }
   ],
   "source": [
    "pretrained_mobilenet = tf.keras.applications.MobileNetV2(\n",
    "    input_shape=input_shape,\n",
    "    include_top=False,\n",
    "    weights='imagenet')\n",
    "pretrained_mobilenet.trainable = False"
   ]
  },
  {
   "cell_type": "code",
   "execution_count": 49,
   "metadata": {},
   "outputs": [
    {
     "name": "stdout",
     "output_type": "stream",
     "text": [
      "Model: \"sequential_5\"\n",
      "_________________________________________________________________\n",
      "Layer (type)                 Output Shape              Param #   \n",
      "=================================================================\n",
      "mobilenetv2_1.00_224 (Model) (None, 8, 8, 1280)        2257984   \n",
      "_________________________________________________________________\n",
      "global_average_pooling2d_2 ( (None, 1280)              0         \n",
      "_________________________________________________________________\n",
      "dense_12 (Dense)             (None, 1)                 1281      \n",
      "=================================================================\n",
      "Total params: 2,259,265\n",
      "Trainable params: 1,281\n",
      "Non-trainable params: 2,257,984\n",
      "_________________________________________________________________\n"
     ]
    }
   ],
   "source": [
    "global_pooling_layer = tf.keras.layers.GlobalAveragePooling2D()\n",
    "prediction_layer = tf.keras.layers.Dense(1)\n",
    "\n",
    "mnet_model = tf.keras.Sequential([\n",
    "  pretrained_mobilenet,\n",
    "  global_pooling_layer,\n",
    "  prediction_layer])\n",
    "\n",
    "mnet_model.compile(optimizer=RMSprop(lr=learning_rate),\n",
    "              loss=loss,\n",
    "              metrics=['accuracy'])\n",
    "mnet_model.summary()"
   ]
  },
  {
   "cell_type": "code",
   "execution_count": null,
   "metadata": {},
   "outputs": [],
   "source": [
    "mnet_history = mnet_model.fit_generator(\n",
    "        train_augmented_generator, \n",
    "        steps_per_epoch=int(total_train_samples/batch_size),  \n",
    "        epochs=n_epochs,\n",
    "        verbose=1,\n",
    "        validation_data=vdate_datagen\n",
    "        validation_steps=int(total_vdate_samples/batch_size),\n",
    "        use_multiprocessing=True)"
   ]
  },
  {
   "cell_type": "markdown",
   "metadata": {},
   "source": [
    "# Object Segmentation"
   ]
  },
  {
   "cell_type": "code",
   "execution_count": null,
   "metadata": {},
   "outputs": [],
   "source": [
    "model_path = \"./models/yolo-tiny.h5\"\n",
    "input_path = \"./input/test45.jpg\"\n",
    "output_path = \"./output/newimage.jpg\""
   ]
  },
  {
   "cell_type": "markdown",
   "metadata": {},
   "source": [
    "### tinyYOLOv3"
   ]
  },
  {
   "cell_type": "code",
   "execution_count": null,
   "metadata": {},
   "outputs": [],
   "source": [
    "detector = ObjectDetection()\n",
    "detector.setModelTypeAsTinyYOLOv3()\n",
    "detector.setModelPath(model_path)\n",
    "detector.loadModel()\n",
    "\n",
    "#returns dictionary with name and probabilities of objects detected\n",
    "detection = detector.detectObjectsFromImage(input_image=input_path, output_image_path=output_path)"
   ]
  },
  {
   "cell_type": "markdown",
   "metadata": {},
   "source": [
    "### ResNet"
   ]
  },
  {
   "cell_type": "code",
   "execution_count": null,
   "metadata": {},
   "outputs": [],
   "source": []
  }
 ],
 "metadata": {
  "kernelspec": {
   "display_name": "Python 3",
   "language": "python",
   "name": "python3"
  },
  "language_info": {
   "codemirror_mode": {
    "name": "ipython",
    "version": 3
   },
   "file_extension": ".py",
   "mimetype": "text/x-python",
   "name": "python",
   "nbconvert_exporter": "python",
   "pygments_lexer": "ipython3",
   "version": "3.7.4"
  }
 },
 "nbformat": 4,
 "nbformat_minor": 2
}
