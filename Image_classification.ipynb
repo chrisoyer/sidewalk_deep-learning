{
  "nbformat": 4,
  "nbformat_minor": 0,
  "metadata": {
    "accelerator": "GPU",
    "colab": {
      "name": "Image_classification.ipynb",
      "provenance": []
    },
    "kernelspec": {
      "display_name": "Python 3",
      "language": "python",
      "name": "python3"
    },
    "language_info": {
      "codemirror_mode": {
        "name": "ipython",
        "version": 3
      },
      "file_extension": ".py",
      "mimetype": "text/x-python",
      "name": "python",
      "nbconvert_exporter": "python",
      "pygments_lexer": "ipython3",
      "version": "3.7.4"
    }
  },
  "cells": [
    {
      "cell_type": "markdown",
      "metadata": {
        "colab_type": "text",
        "id": "E3sYdMAVZsE_"
      },
      "source": [
        "# Modeling with TensorFlow\n"
      ]
    },
    {
      "cell_type": "code",
      "metadata": {
        "colab_type": "code",
        "id": "7smApwUGZsFD",
        "colab": {}
      },
      "source": [
        "# get colab status\n",
        "try:\n",
        "  import google.colab\n",
        "  IN_COLAB = True\n",
        "  %tensorflow_version 2.x\n",
        "except:\n",
        "  IN_COLAB = False"
      ],
      "execution_count": 0,
      "outputs": []
    },
    {
      "cell_type": "code",
      "metadata": {
        "colab_type": "code",
        "id": "FOtHs917Z1rr",
        "outputId": "3844bb67-67ce-432d-8dd2-8939f8ba460c",
        "colab": {
          "base_uri": "https://localhost:8080/",
          "height": 126
        }
      },
      "source": [
        "if IN_COLAB:\n",
        "    from google.colab import drive\n",
        "    drive.mount('/content/gdrive')"
      ],
      "execution_count": 7,
      "outputs": [
        {
          "output_type": "stream",
          "text": [
            "Go to this URL in a browser: https://accounts.google.com/o/oauth2/auth?client_id=947318989803-6bn6qk8qdgf4n4g3pfee6491hc0brc4i.apps.googleusercontent.com&redirect_uri=urn%3aietf%3awg%3aoauth%3a2.0%3aoob&response_type=code&scope=email%20https%3a%2f%2fwww.googleapis.com%2fauth%2fdocs.test%20https%3a%2f%2fwww.googleapis.com%2fauth%2fdrive%20https%3a%2f%2fwww.googleapis.com%2fauth%2fdrive.photos.readonly%20https%3a%2f%2fwww.googleapis.com%2fauth%2fpeopleapi.readonly\n",
            "\n",
            "Enter your authorization code:\n",
            "··········\n",
            "Mounted at /content/gdrive\n"
          ],
          "name": "stdout"
        }
      ]
    },
    {
      "cell_type": "code",
      "metadata": {
        "colab_type": "code",
        "id": "s3oQuRHZZsFb",
        "colab": {}
      },
      "source": [
        "#imports\n",
        "import numpy as np\n",
        "import pandas as pd\n",
        "import matplotlib.pyplot as plt\n",
        "import seaborn as sns\n",
        "import tensorflow as tf\n",
        "from tensorflow.keras.preprocessing.image import ImageDataGenerator\n",
        "from tensorflow.keras.models import Sequential\n",
        "from tensorflow.keras.layers import Dense, Conv2D, Flatten, Dropout, MaxPooling2D, BatchNormalization\n",
        "from tensorflow.keras.optimizers import RMSprop\n",
        "from tensorflow.python.keras.utils.data_utils import Sequence # to fix 'imagedatagenerator has no shape' error\n",
        "from tensorflow.keras.callbacks import ModelCheckpoint\n",
        "import os\n",
        "import random, math"
      ],
      "execution_count": 0,
      "outputs": []
    },
    {
      "cell_type": "code",
      "metadata": {
        "colab_type": "code",
        "id": "X3PkZ7aGjTWP",
        "colab": {}
      },
      "source": [
        "if IN_COLAB:\n",
        "    tf.test.gpu_device_name()\n",
        "    # need to use gpu runtime accelerator!\n",
        "    mirrored_strategy = tf.distribute.MirroredStrategy()"
      ],
      "execution_count": 0,
      "outputs": []
    },
    {
      "cell_type": "markdown",
      "metadata": {
        "colab_type": "text",
        "id": "Wo3jLXedZsFi"
      },
      "source": [
        "# Create generator\n"
      ]
    },
    {
      "cell_type": "code",
      "metadata": {
        "colab_type": "code",
        "id": "WfkkPMM5ZsFk",
        "outputId": "7d9258bc-c101-42c1-d00d-bf9b0f98c176",
        "colab": {
          "base_uri": "https://localhost:8080/",
          "height": 35
        }
      },
      "source": [
        "!pwd"
      ],
      "execution_count": 10,
      "outputs": [
        {
          "output_type": "stream",
          "text": [
            "/content\n"
          ],
          "name": "stdout"
        }
      ]
    },
    {
      "cell_type": "code",
      "metadata": {
        "colab_type": "code",
        "id": "QyofWL_wZsFr",
        "outputId": "e014853f-7138-4173-8bd8-0f9195a8f3de",
        "colab": {
          "base_uri": "https://localhost:8080/",
          "height": 35
        }
      },
      "source": [
        "if IN_COLAB:\n",
        "    os.chdir(r'/content/gdrive/My Drive/thinkful/colab_datasets/sidewalk_data/images/')\n",
        "else:\n",
        "    os.chdir(os.path.expanduser(r'~/Google Drive/thinkful/colab_datasets/sidewalk_data/images/'))\n",
        "!pwd"
      ],
      "execution_count": 11,
      "outputs": [
        {
          "output_type": "stream",
          "text": [
            "/content/gdrive/My Drive/thinkful/colab_datasets/sidewalk_data/images\n"
          ],
          "name": "stdout"
        }
      ]
    },
    {
      "cell_type": "code",
      "metadata": {
        "colab_type": "code",
        "id": "cNUIhj3IZsFz",
        "colab": {}
      },
      "source": [
        "#move images into train, test, validate folders with subfolders for classes\n",
        "test_ratio = .15\n",
        "SPLIT_DATA = False # switch if need to divide out data\n",
        "if SPLIT_DATA:\n",
        "    for label in ['sidewalk', 'no_sidewalk']:\n",
        "        %cd ./$label\n",
        "        listing = os.popen('ls').read().strip().split(sep='\\n')\n",
        "        random.shuffle(listing) #inplace\n",
        "        im_count = len(listing)\n",
        "        test_size=val_size = math.ceil(test_ratio*im_count)\n",
        "        train_size = im_count - test_size\n",
        "        subfolders = ['train', 'test'] #train will be used for vdation too\n",
        "        for subfolder in subfolders:\n",
        "            new_path=os.path.join(\n",
        "                os.path.dirname(os.getcwd()), subfolder, label)\n",
        "            if not os.path.exists(new_path):\n",
        "                os.makedirs(new_path)\n",
        "        for item in range(0, train_size):\n",
        "            moved = listing.pop()\n",
        "            !mv $moved ../train/$label/$moved\n",
        "        for item in range(0, test_size):\n",
        "            moved = listing.pop()\n",
        "            !mv $moved ../test/$label/$moved\n",
        "        %cd ..\n",
        "        !rmdir ./$label"
      ],
      "execution_count": 0,
      "outputs": []
    },
    {
      "cell_type": "markdown",
      "metadata": {
        "colab_type": "text",
        "id": "M-5RyUZBZsF-"
      },
      "source": [
        "### Parameters for data loading"
      ]
    },
    {
      "cell_type": "code",
      "metadata": {
        "colab_type": "code",
        "id": "Y8EFk1_mZsGA",
        "colab": {}
      },
      "source": [
        "idg_params={'rescale': 1./255}\n",
        "batch_size=64\n",
        "augmentation_params = {'rotation_range': 15,\n",
        "                        'zoom_range': 0.15,\n",
        "                         'width_shift_range': 0.2,\n",
        "                         'height_shift_range': 0.2,\n",
        "                         'shear_range': 0.15,\n",
        "                         'fill_mode': 'nearest',\n",
        "                         'horizontal_flip': True}\n",
        "datagen_params = {'batch_size': batch_size,\n",
        "                  'target_size': (224, 224),\n",
        "                  'color_mode': 'rgb', \n",
        "                  'class_mode': 'binary'}"
      ],
      "execution_count": 0,
      "outputs": []
    },
    {
      "cell_type": "code",
      "metadata": {
        "colab_type": "code",
        "id": "O1gBXYpYZsGX",
        "colab": {}
      },
      "source": [
        "train_vdate_datagen = ImageDataGenerator(\n",
        "    **idg_params,\n",
        "    validation_split=0.2)\n",
        "train_augmented_datagen = ImageDataGenerator(\n",
        "    **idg_params,\n",
        "    **augmentation_params,\n",
        "    validation_split=0.2)\n",
        "test_datagen = ImageDataGenerator(**idg_params)"
      ],
      "execution_count": 0,
      "outputs": []
    },
    {
      "cell_type": "code",
      "metadata": {
        "colab_type": "code",
        "id": "Pv8K5RGEZsGq",
        "outputId": "6657f399-0de8-4327-83a2-50449876a6e7",
        "colab": {
          "base_uri": "https://localhost:8080/",
          "height": 70
        }
      },
      "source": [
        "# Flow training images in batches of 128 using train_datagen generator\n",
        "vdate_generator = train_vdate_datagen.flow_from_directory(\n",
        "        directory=r'./train/',\n",
        "        subset='validation',\n",
        "        **datagen_params)\n",
        "train_generator = train_vdate_datagen.flow_from_directory(\n",
        "        directory=r'./train/',\n",
        "        subset='training',\n",
        "        **datagen_params)\n",
        "test_generator = test_datagen.flow_from_directory(\n",
        "        directory=r'./test/',\n",
        "        **datagen_params)"
      ],
      "execution_count": 15,
      "outputs": [
        {
          "output_type": "stream",
          "text": [
            "Found 832 images belonging to 2 classes.\n",
            "Found 3335 images belonging to 2 classes.\n",
            "Found 1230 images belonging to 2 classes.\n"
          ],
          "name": "stdout"
        }
      ]
    },
    {
      "cell_type": "markdown",
      "metadata": {
        "colab_type": "text",
        "id": "NTYgKa-kZsGy"
      },
      "source": [
        "### Parameters for Modeling"
      ]
    },
    {
      "cell_type": "code",
      "metadata": {
        "colab_type": "code",
        "id": "qk9tkxbgZsHY",
        "colab": {}
      },
      "source": [
        "n_epochs = 50\n",
        "learning_rate = 0.000_001\n",
        "loss = 'binary_crossentropy'"
      ],
      "execution_count": 0,
      "outputs": []
    },
    {
      "cell_type": "code",
      "metadata": {
        "colab_type": "code",
        "id": "h2uEGnq6ZsHe",
        "outputId": "fc35bc91-ee1a-4b33-8630-c7c2d4d6a9bf",
        "colab": {
          "base_uri": "https://localhost:8080/",
          "height": 35
        }
      },
      "source": [
        "pwd"
      ],
      "execution_count": 17,
      "outputs": [
        {
          "output_type": "execute_result",
          "data": {
            "text/plain": [
              "'/content/gdrive/My Drive/thinkful/colab_datasets/sidewalk_data/images'"
            ]
          },
          "metadata": {
            "tags": []
          },
          "execution_count": 17
        }
      ]
    },
    {
      "cell_type": "code",
      "metadata": {
        "colab_type": "code",
        "id": "lC6hVbAbZsHk",
        "outputId": "70653b11-80ea-43fc-9a3f-e8d274661c4a",
        "colab": {
          "base_uri": "https://localhost:8080/",
          "height": 35
        }
      },
      "source": [
        "imagecount = {}\n",
        "sidewalk_image_count = ! cd ./train/sidewalk/ && ls | wc -l\n",
        "no_sidewalk_image_count = ! cd ./train/no_sidewalk/ && ls | wc -l\n",
        "imagecount['sidewalk'] = int(sidewalk_image_count.nlstr)\n",
        "imagecount['no_sidewalk'] = int(no_sidewalk_image_count.nlstr)\n",
        "imagecount['total'] = imagecount['sidewalk'] + imagecount['no_sidewalk']\n",
        "\n",
        "print(imagecount)"
      ],
      "execution_count": 22,
      "outputs": [
        {
          "output_type": "stream",
          "text": [
            "{'sidewalk': 3205, 'no_sidewalk': 974, 'total': 4179}\n"
          ],
          "name": "stdout"
        }
      ]
    },
    {
      "cell_type": "code",
      "metadata": {
        "colab_type": "code",
        "id": "3LPAaycjZsHt",
        "outputId": "efaae520-fb17-4c9e-bf25-dd543e4ed99a",
        "colab": {
          "base_uri": "https://localhost:8080/",
          "height": 35
        }
      },
      "source": [
        "#adjust weights to equivalent between classes\n",
        "class_weight = {}\n",
        "class_weight['sidewalk'] = (\n",
        "    .5 / imagecount['sidewalk']) * imagecount['total']\n",
        "class_weight['no_sidewalk'] = (\n",
        "    .5 / imagecount['no_sidewalk']) * imagecount['total']\n",
        "class_weight"
      ],
      "execution_count": 23,
      "outputs": [
        {
          "output_type": "execute_result",
          "data": {
            "text/plain": [
              "{'no_sidewalk': 2.1452772073921973, 'sidewalk': 0.6519500780031201}"
            ]
          },
          "metadata": {
            "tags": []
          },
          "execution_count": 23
        }
      ]
    },
    {
      "cell_type": "code",
      "metadata": {
        "colab_type": "code",
        "id": "AJNibCJpZsID",
        "outputId": "63987bbc-8395-4935-b2c1-a6989c5a9df2",
        "colab": {
          "base_uri": "https://localhost:8080/",
          "height": 35
        }
      },
      "source": [
        "class_id = train_generator.class_indices\n",
        "#class ids are floats\n",
        "class_id = {key: float(value) for (key,value) in class_id.items()}\n",
        "class_id"
      ],
      "execution_count": 24,
      "outputs": [
        {
          "output_type": "execute_result",
          "data": {
            "text/plain": [
              "{'no_sidewalk': 0.0, 'sidewalk': 1.0}"
            ]
          },
          "metadata": {
            "tags": []
          },
          "execution_count": 24
        }
      ]
    },
    {
      "cell_type": "code",
      "metadata": {
        "colab_type": "code",
        "id": "CZnmeVP3ZsIL",
        "outputId": "e396f8b1-716d-4e8c-ea3b-c2cf25cd2f24",
        "colab": {
          "base_uri": "https://localhost:8080/",
          "height": 35
        }
      },
      "source": [
        "class_weight[class_id['sidewalk']] = class_weight.pop('sidewalk')\n",
        "class_weight[class_id['no_sidewalk']] = class_weight.pop('no_sidewalk')\n",
        "class_weight"
      ],
      "execution_count": 25,
      "outputs": [
        {
          "output_type": "execute_result",
          "data": {
            "text/plain": [
              "{0.0: 2.1452772073921973, 1.0: 0.6519500780031201}"
            ]
          },
          "metadata": {
            "tags": []
          },
          "execution_count": 25
        }
      ]
    },
    {
      "cell_type": "code",
      "metadata": {
        "colab_type": "code",
        "id": "7Mx6UmCXZsIR",
        "outputId": "bb1678cf-4847-4874-8e4a-07bd0a6d05f0",
        "colab": {
          "base_uri": "https://localhost:8080/",
          "height": 35
        }
      },
      "source": [
        "#generator based caluculations\n",
        "input_shape = train_generator.next()[0].shape[1:]\n",
        "total_train_samples = train_generator.n\n",
        "total_vdate_samples = vdate_generator.n\n",
        "input_shape"
      ],
      "execution_count": 26,
      "outputs": [
        {
          "output_type": "execute_result",
          "data": {
            "text/plain": [
              "(224, 224, 3)"
            ]
          },
          "metadata": {
            "tags": []
          },
          "execution_count": 26
        }
      ]
    },
    {
      "cell_type": "markdown",
      "metadata": {
        "colab_type": "text",
        "id": "QM7wMgQGZsIY"
      },
      "source": [
        "### Setup Metrics and Visualizations"
      ]
    },
    {
      "cell_type": "markdown",
      "metadata": {
        "colab_type": "text",
        "id": "fGPnw-QlZsIa"
      },
      "source": [
        "Use Matthew Correlation Coefficient to take into account all four quadrants of confusion matrix."
      ]
    },
    {
      "cell_type": "code",
      "metadata": {
        "colab_type": "code",
        "id": "XPbvJ-HqZsIc",
        "colab": {}
      },
      "source": [
        "# if y_pred > threshold we predict true. \n",
        "# Sometimes we set this to something different to 0.5 if we have unbalanced categories\n",
        "threshold = 0.5  \n",
        "def matthews_correlation(y_true, y_pred):\n",
        "  predicted = tf.cast(tf.greater(y_pred, threshold), tf.float32)\n",
        "  true_pos = tf.math.count_nonzero(predicted * y_true)\n",
        "  true_neg = tf.math.count_nonzero((predicted - 1) * (y_true - 1))\n",
        "  false_pos = tf.math.count_nonzero(predicted * (y_true - 1))\n",
        "  false_neg = tf.math.count_nonzero((predicted - 1) * y_true)\n",
        "  x = tf.cast((true_pos + false_pos) * (true_pos + false_neg) \n",
        "      * (true_neg + false_pos) * (true_neg + false_neg), tf.float32)\n",
        "  return tf.cast((true_pos * true_neg) - (false_pos * false_neg), tf.float32) / tf.sqrt(x)"
      ],
      "execution_count": 0,
      "outputs": []
    },
    {
      "cell_type": "code",
      "metadata": {
        "colab_type": "code",
        "id": "nq2kJ7znZsIj",
        "colab": {}
      },
      "source": [
        "METRICS = [\n",
        "      tf.keras.metrics.BinaryAccuracy(name='accuracy'),\n",
        "      tf.keras.metrics.AUC(name='auc'),\n",
        "      matthews_correlation]"
      ],
      "execution_count": 0,
      "outputs": []
    },
    {
      "cell_type": "code",
      "metadata": {
        "colab_type": "code",
        "id": "0ZpV0tdhZsJA",
        "colab": {}
      },
      "source": [
        "colors = plt.rcParams['axes.prop_cycle'].by_key()['color']\n",
        "\n",
        "def history_plotter(history, n_epochs=n_epochs, plot_validation=True): \n",
        "    '''plot the training loss and accuracy\n",
        "    plot_validation exists because valdation not working in model\n",
        "    '''\n",
        "    n_epochs_range = np.arange(0, n_epochs)\n",
        "    plt.style.use(\"ggplot\")\n",
        "    fig, (ax1, ax2) = plt.subplots(nrows=1, ncols=2, sharex=True, sharey=True,\n",
        "                                  figsize=(10,5))\n",
        "    ax1.plot(n_epochs_range, history.history[\"loss\"], label=\"Loss\")\n",
        "    ax1.plot(n_epochs_range, history.history[\"accuracy\"], label=\"Accuracy\")\n",
        "    ax1.plot(n_epochs_range, history.history['auc'], label='Area Under ROC')\n",
        "    ax1.plot(n_epochs_range, history.history['matthews_correlation'], label=\"Matthews Coef\")\n",
        "    if plot_validation:\n",
        "        ax2.plot(n_epochs_range, history.history[\"val_loss\"], label=\"loss\")\n",
        "        ax2.plot(n_epochs_range, history.history[\"val_accuracy\"], label=\"Accuracy\")\n",
        "        ax2.plot(n_epochs_range, history.history[\"val_auc\"], label=\"Area Under ROC\")\n",
        "        ax2.plot(n_epochs_range, history.history[\"val_matthews_correlation\"], label=\"Matthews Coef\")\n",
        "    \n",
        "    ax1.set_title(\"Training Metrics\")\n",
        "    ax2.set_title(\"Validation Metrics\")\n",
        "    plt.xlabel(\"Epoch #\")\n",
        "    ax1.set_ylabel(\"Metric Score\")\n",
        "    ax1.legend(); ax2.legend()\n",
        "    plt.plot();"
      ],
      "execution_count": 0,
      "outputs": []
    },
    {
      "cell_type": "code",
      "metadata": {
        "colab_type": "code",
        "id": "v9MNjyrOZsJU",
        "outputId": "7b382d64-d258-46ac-b9a0-b9af7f643910",
        "colab": {
          "base_uri": "https://localhost:8080/",
          "height": 70
        }
      },
      "source": [
        "METRICS"
      ],
      "execution_count": 30,
      "outputs": [
        {
          "output_type": "execute_result",
          "data": {
            "text/plain": [
              "[<tensorflow.python.keras.metrics.BinaryAccuracy at 0x7fab660576d8>,\n",
              " <tensorflow.python.keras.metrics.AUC at 0x7fab660578d0>,\n",
              " <function __main__.matthews_correlation>]"
            ]
          },
          "metadata": {
            "tags": []
          },
          "execution_count": 30
        }
      ]
    },
    {
      "cell_type": "markdown",
      "metadata": {
        "colab_type": "text",
        "id": "AeJAcvH7ZsJf"
      },
      "source": [
        "### Convolutional Model"
      ]
    },
    {
      "cell_type": "code",
      "metadata": {
        "colab_type": "code",
        "id": "EbwtQSZ3ZsJh",
        "outputId": "9092141e-2850-49ee-a73b-373fee0c6080",
        "scrolled": true,
        "colab": {
          "base_uri": "https://localhost:8080/",
          "height": 728
        }
      },
      "source": [
        "conv_model = tf.keras.models.Sequential()\n",
        "conv_model.add(Conv2D(32, kernel_size=(5,5),\n",
        "                 activation='relu',\n",
        "                 input_shape=input_shape,\n",
        "                 kernel_initializer='he_uniform'))\n",
        "conv_model.add(MaxPooling2D(pool_size=(3, 3)))\n",
        "conv_model.add(BatchNormalization())\n",
        "conv_model.add(Dropout(0.5))\n",
        "conv_model.add(Conv2D(64, (3, 3), activation='relu', kernel_initializer='he_uniform'))\n",
        "conv_model.add(MaxPooling2D(pool_size=(2, 2)))\n",
        "conv_model.add(BatchNormalization())\n",
        "conv_model.add(Dropout(0.5))\n",
        "conv_model.add(Flatten())\n",
        "conv_model.add(Dense(64, activation='relu'))\n",
        "conv_model.add(BatchNormalization())\n",
        "conv_model.add(Dropout(0.5))\n",
        "conv_model.add(Dense(16, activation='relu'))\n",
        "conv_model.add(BatchNormalization())\n",
        "conv_model.add(Dropout(0.5))\n",
        "conv_model.add(Dense(1, activation='sigmoid'))\n",
        "\n",
        "conv_model.compile(loss=tf.keras.losses.binary_crossentropy,\n",
        "              optimizer=tf.keras.optimizers.Adam(lr=learning_rate), \n",
        "              metrics=METRICS)\n",
        "conv_model.summary()"
      ],
      "execution_count": 61,
      "outputs": [
        {
          "output_type": "stream",
          "text": [
            "Model: \"sequential_5\"\n",
            "_________________________________________________________________\n",
            "Layer (type)                 Output Shape              Param #   \n",
            "=================================================================\n",
            "conv2d_10 (Conv2D)           (None, 220, 220, 32)      2432      \n",
            "_________________________________________________________________\n",
            "max_pooling2d_10 (MaxPooling (None, 73, 73, 32)        0         \n",
            "_________________________________________________________________\n",
            "batch_normalization_16 (Batc (None, 73, 73, 32)        128       \n",
            "_________________________________________________________________\n",
            "dropout_20 (Dropout)         (None, 73, 73, 32)        0         \n",
            "_________________________________________________________________\n",
            "conv2d_11 (Conv2D)           (None, 71, 71, 64)        18496     \n",
            "_________________________________________________________________\n",
            "max_pooling2d_11 (MaxPooling (None, 35, 35, 64)        0         \n",
            "_________________________________________________________________\n",
            "batch_normalization_17 (Batc (None, 35, 35, 64)        256       \n",
            "_________________________________________________________________\n",
            "dropout_21 (Dropout)         (None, 35, 35, 64)        0         \n",
            "_________________________________________________________________\n",
            "flatten_5 (Flatten)          (None, 78400)             0         \n",
            "_________________________________________________________________\n",
            "dense_15 (Dense)             (None, 64)                5017664   \n",
            "_________________________________________________________________\n",
            "batch_normalization_18 (Batc (None, 64)                256       \n",
            "_________________________________________________________________\n",
            "dropout_22 (Dropout)         (None, 64)                0         \n",
            "_________________________________________________________________\n",
            "dense_16 (Dense)             (None, 16)                1040      \n",
            "_________________________________________________________________\n",
            "batch_normalization_19 (Batc (None, 16)                64        \n",
            "_________________________________________________________________\n",
            "dropout_23 (Dropout)         (None, 16)                0         \n",
            "_________________________________________________________________\n",
            "dense_17 (Dense)             (None, 1)                 17        \n",
            "=================================================================\n",
            "Total params: 5,040,353\n",
            "Trainable params: 5,040,001\n",
            "Non-trainable params: 352\n",
            "_________________________________________________________________\n"
          ],
          "name": "stdout"
        }
      ]
    },
    {
      "cell_type": "code",
      "metadata": {
        "id": "Lgt6iMiPAI2G",
        "colab_type": "code",
        "colab": {
          "base_uri": "https://localhost:8080/",
          "height": 35
        },
        "outputId": "09c768ef-0bfd-42f1-bf50-ae2426ab7f30"
      },
      "source": [
        "print(conv_model.metrics_names)"
      ],
      "execution_count": 46,
      "outputs": [
        {
          "output_type": "stream",
          "text": [
            "['loss', 'accuracy', 'auc', 'matthews_correlation']\n"
          ],
          "name": "stdout"
        }
      ]
    },
    {
      "cell_type": "code",
      "metadata": {
        "id": "voks4Wba7RLD",
        "colab_type": "code",
        "colab": {}
      },
      "source": [
        "if IN_COLAB:\n",
        "    save_model_path = r'/content/gdrive/My Drive/thinkful/colab_datasets/sidewalk_data/models/conv_classif_weights.hdf5'\n",
        "else:\n",
        "    save_model_path = os.path.expanduser(r'~/Google Drive/thinkful/colab_datasets/sidewalk_data/models/conv_classif_weights.hdf5')\n",
        "\n",
        "cp = ModelCheckpoint(filepath=save_model_path, \n",
        "                              monitor='val_matthews_correlation', \n",
        "                              save_best_only=True, \n",
        "                              mode='max',\n",
        "                              verbose=1)"
      ],
      "execution_count": 0,
      "outputs": []
    },
    {
      "cell_type": "code",
      "metadata": {
        "colab_type": "code",
        "id": "ylwnCKdsZsJp",
        "outputId": "b8883753-b653-4b0f-dbcc-0fa05b0a6da1",
        "colab": {
          "base_uri": "https://localhost:8080/",
          "height": 1000
        }
      },
      "source": [
        "conv_history = conv_model.fit_generator(\n",
        "        train_generator, \n",
        "        steps_per_epoch=int(total_train_samples/batch_size),  \n",
        "        epochs=n_epochs,\n",
        "        verbose=1,\n",
        "        validation_data=vdate_generator,\n",
        "        validation_steps=int(total_vdate_samples/batch_size),\n",
        "        use_multiprocessing=True,\n",
        "        class_weight=class_weight,\n",
        "        callbacks=[cp])"
      ],
      "execution_count": 65,
      "outputs": [
        {
          "output_type": "stream",
          "text": [
            "Epoch 1/50\n",
            "51/52 [============================>.] - ETA: 0s - loss: 0.9195 - accuracy: 0.5566 - auc: 0.5988 - matthews_correlation: 0.1288\n",
            "Epoch 00001: val_matthews_correlation improved from -inf to 0.09455, saving model to /content/gdrive/My Drive/thinkful/colab_datasets/sidewalk_data/models/conv_classif_weights.hdf5\n",
            "52/52 [==============================] - 43s 821ms/step - loss: 0.9166 - accuracy: 0.5592 - auc: 0.6006 - matthews_correlation: 0.1324 - val_loss: 0.9619 - val_accuracy: 0.3125 - val_auc: 0.6825 - val_matthews_correlation: 0.0946\n",
            "Epoch 2/50\n",
            "51/52 [============================>.] - ETA: 0s - loss: 0.8264 - accuracy: 0.5753 - auc: 0.6356 - matthews_correlation: 0.1722\n",
            "Epoch 00002: val_matthews_correlation did not improve from 0.09455\n",
            "52/52 [==============================] - 42s 809ms/step - loss: 0.8323 - accuracy: 0.5723 - auc: 0.6313 - matthews_correlation: 0.1658 - val_loss: 0.9728 - val_accuracy: 0.3269 - val_auc: 0.6879 - val_matthews_correlation: 0.0915\n",
            "Epoch 3/50\n",
            "51/52 [============================>.] - ETA: 0s - loss: 0.8469 - accuracy: 0.5656 - auc: 0.6390 - matthews_correlation: 0.1741\n",
            "Epoch 00003: val_matthews_correlation improved from 0.09455 to 0.10808, saving model to /content/gdrive/My Drive/thinkful/colab_datasets/sidewalk_data/models/conv_classif_weights.hdf5\n",
            "52/52 [==============================] - 43s 833ms/step - loss: 0.8456 - accuracy: 0.5665 - auc: 0.6399 - matthews_correlation: 0.1769 - val_loss: 0.9678 - val_accuracy: 0.3474 - val_auc: 0.6946 - val_matthews_correlation: 0.1081\n",
            "Epoch 4/50\n",
            "51/52 [============================>.] - ETA: 0s - loss: 0.8606 - accuracy: 0.5669 - auc: 0.6358 - matthews_correlation: 0.1637\n",
            "Epoch 00004: val_matthews_correlation did not improve from 0.10808\n",
            "52/52 [==============================] - 46s 880ms/step - loss: 0.8584 - accuracy: 0.5696 - auc: 0.6372 - matthews_correlation: 0.1687 - val_loss: 0.9762 - val_accuracy: 0.3522 - val_auc: 0.6984 - val_matthews_correlation: 0.0989\n",
            "Epoch 5/50\n",
            "51/52 [============================>.] - ETA: 0s - loss: 0.8091 - accuracy: 0.5831 - auc: 0.6613 - matthews_correlation: 0.1949\n",
            "Epoch 00005: val_matthews_correlation improved from 0.10808 to 0.11403, saving model to /content/gdrive/My Drive/thinkful/colab_datasets/sidewalk_data/models/conv_classif_weights.hdf5\n",
            "52/52 [==============================] - 43s 832ms/step - loss: 0.8153 - accuracy: 0.5824 - auc: 0.6587 - matthews_correlation: 0.1928 - val_loss: 0.9920 - val_accuracy: 0.3570 - val_auc: 0.7025 - val_matthews_correlation: 0.1140\n",
            "Epoch 6/50\n",
            "51/52 [============================>.] - ETA: 0s - loss: 0.8304 - accuracy: 0.5750 - auc: 0.6444 - matthews_correlation: 0.1856\n",
            "Epoch 00006: val_matthews_correlation did not improve from 0.11403\n",
            "52/52 [==============================] - 46s 879ms/step - loss: 0.8284 - accuracy: 0.5757 - auc: 0.6454 - matthews_correlation: 0.1867 - val_loss: 1.0192 - val_accuracy: 0.3582 - val_auc: 0.7053 - val_matthews_correlation: 0.1125\n",
            "Epoch 7/50\n",
            "51/52 [============================>.] - ETA: 0s - loss: 0.8213 - accuracy: 0.5868 - auc: 0.6488 - matthews_correlation: 0.2061\n",
            "Epoch 00007: val_matthews_correlation improved from 0.11403 to 0.13801, saving model to /content/gdrive/My Drive/thinkful/colab_datasets/sidewalk_data/models/conv_classif_weights.hdf5\n",
            "52/52 [==============================] - 47s 905ms/step - loss: 0.8209 - accuracy: 0.5864 - auc: 0.6483 - matthews_correlation: 0.2055 - val_loss: 1.0374 - val_accuracy: 0.3690 - val_auc: 0.7085 - val_matthews_correlation: 0.1380\n",
            "Epoch 8/50\n",
            "51/52 [============================>.] - ETA: 0s - loss: 0.8491 - accuracy: 0.5688 - auc: 0.6456 - matthews_correlation: nan\n",
            "Epoch 00008: val_matthews_correlation did not improve from 0.13801\n",
            "52/52 [==============================] - 42s 808ms/step - loss: 0.8443 - accuracy: 0.5720 - auc: 0.6487 - matthews_correlation: nan - val_loss: 1.0471 - val_accuracy: 0.3678 - val_auc: 0.7106 - val_matthews_correlation: 0.1320\n",
            "Epoch 9/50\n",
            "51/52 [============================>.] - ETA: 0s - loss: 0.7947 - accuracy: 0.5881 - auc: 0.6757 - matthews_correlation: 0.2310\n",
            "Epoch 00009: val_matthews_correlation did not improve from 0.13801\n",
            "52/52 [==============================] - 46s 881ms/step - loss: 0.7894 - accuracy: 0.5900 - auc: 0.6789 - matthews_correlation: 0.2345 - val_loss: 1.0708 - val_accuracy: 0.3666 - val_auc: 0.7107 - val_matthews_correlation: 0.1331\n",
            "Epoch 10/50\n",
            "51/52 [============================>.] - ETA: 0s - loss: 0.7825 - accuracy: 0.6056 - auc: 0.6834 - matthews_correlation: 0.2347\n",
            "Epoch 00010: val_matthews_correlation improved from 0.13801 to 0.14049, saving model to /content/gdrive/My Drive/thinkful/colab_datasets/sidewalk_data/models/conv_classif_weights.hdf5\n",
            "52/52 [==============================] - 43s 832ms/step - loss: 0.7852 - accuracy: 0.6047 - auc: 0.6821 - matthews_correlation: 0.2326 - val_loss: 1.0657 - val_accuracy: 0.3726 - val_auc: 0.7104 - val_matthews_correlation: 0.1405\n",
            "Epoch 11/50\n",
            "51/52 [============================>.] - ETA: 0s - loss: 0.8679 - accuracy: 0.5775 - auc: 0.6459 - matthews_correlation: 0.1789\n",
            "Epoch 00011: val_matthews_correlation improved from 0.14049 to 0.14980, saving model to /content/gdrive/My Drive/thinkful/colab_datasets/sidewalk_data/models/conv_classif_weights.hdf5\n",
            "52/52 [==============================] - 47s 905ms/step - loss: 0.8762 - accuracy: 0.5769 - auc: 0.6432 - matthews_correlation: 0.1773 - val_loss: 1.0578 - val_accuracy: 0.3846 - val_auc: 0.7116 - val_matthews_correlation: 0.1498\n",
            "Epoch 12/50\n",
            "51/52 [============================>.] - ETA: 0s - loss: 0.8088 - accuracy: 0.5863 - auc: 0.6760 - matthews_correlation: 0.1975\n",
            "Epoch 00012: val_matthews_correlation improved from 0.14980 to 0.15549, saving model to /content/gdrive/My Drive/thinkful/colab_datasets/sidewalk_data/models/conv_classif_weights.hdf5\n",
            "52/52 [==============================] - 47s 895ms/step - loss: 0.8067 - accuracy: 0.5871 - auc: 0.6767 - matthews_correlation: 0.1991 - val_loss: 1.0910 - val_accuracy: 0.3798 - val_auc: 0.7128 - val_matthews_correlation: 0.1555\n",
            "Epoch 13/50\n",
            "51/52 [============================>.] - ETA: 0s - loss: 0.8079 - accuracy: 0.5893 - auc: 0.6683 - matthews_correlation: nan\n",
            "Epoch 00013: val_matthews_correlation did not improve from 0.15549\n",
            "52/52 [==============================] - 45s 869ms/step - loss: 0.8079 - accuracy: 0.5888 - auc: 0.6687 - matthews_correlation: nan - val_loss: 1.1083 - val_accuracy: 0.3762 - val_auc: 0.7132 - val_matthews_correlation: 0.1385\n",
            "Epoch 14/50\n",
            "51/52 [============================>.] - ETA: 0s - loss: 0.7855 - accuracy: 0.5890 - auc: 0.6826 - matthews_correlation: 0.2300\n",
            "Epoch 00014: val_matthews_correlation did not improve from 0.15549\n",
            "52/52 [==============================] - 45s 872ms/step - loss: 0.7833 - accuracy: 0.5900 - auc: 0.6841 - matthews_correlation: 0.2317 - val_loss: 1.1018 - val_accuracy: 0.3750 - val_auc: 0.7141 - val_matthews_correlation: 0.1361\n",
            "Epoch 15/50\n",
            "51/52 [============================>.] - ETA: 0s - loss: 0.8013 - accuracy: 0.5769 - auc: 0.6724 - matthews_correlation: 0.2086\n",
            "Epoch 00015: val_matthews_correlation did not improve from 0.15549\n",
            "52/52 [==============================] - 45s 873ms/step - loss: 0.8005 - accuracy: 0.5760 - auc: 0.6721 - matthews_correlation: 0.2065 - val_loss: 1.1008 - val_accuracy: 0.3762 - val_auc: 0.7155 - val_matthews_correlation: 0.1389\n",
            "Epoch 16/50\n",
            "51/52 [============================>.] - ETA: 0s - loss: 0.7826 - accuracy: 0.6062 - auc: 0.6970 - matthews_correlation: 0.2434\n",
            "Epoch 00016: val_matthews_correlation did not improve from 0.15549\n",
            "52/52 [==============================] - 45s 868ms/step - loss: 0.7799 - accuracy: 0.6062 - auc: 0.6978 - matthews_correlation: 0.2443 - val_loss: 1.1237 - val_accuracy: 0.3762 - val_auc: 0.7168 - val_matthews_correlation: 0.1374\n",
            "Epoch 17/50\n",
            "51/52 [============================>.] - ETA: 0s - loss: 0.8031 - accuracy: 0.6060 - auc: 0.6870 - matthews_correlation: 0.2467\n",
            "Epoch 00017: val_matthews_correlation did not improve from 0.15549\n",
            "52/52 [==============================] - 45s 871ms/step - loss: 0.8044 - accuracy: 0.6058 - auc: 0.6862 - matthews_correlation: 0.2444 - val_loss: 1.1402 - val_accuracy: 0.3738 - val_auc: 0.7174 - val_matthews_correlation: 0.1426\n",
            "Epoch 18/50\n",
            "51/52 [============================>.] - ETA: 0s - loss: 0.7632 - accuracy: 0.6121 - auc: 0.6998 - matthews_correlation: 0.2469\n",
            "Epoch 00018: val_matthews_correlation did not improve from 0.15549\n",
            "52/52 [==============================] - 41s 794ms/step - loss: 0.7651 - accuracy: 0.6111 - auc: 0.6976 - matthews_correlation: 0.2443 - val_loss: 1.1624 - val_accuracy: 0.3666 - val_auc: 0.7182 - val_matthews_correlation: 0.1423\n",
            "Epoch 19/50\n",
            "51/52 [============================>.] - ETA: 0s - loss: 0.7867 - accuracy: 0.6026 - auc: 0.6903 - matthews_correlation: 0.2368\n",
            "Epoch 00019: val_matthews_correlation did not improve from 0.15549\n",
            "52/52 [==============================] - 46s 882ms/step - loss: 0.7882 - accuracy: 0.6016 - auc: 0.6893 - matthews_correlation: 0.2365 - val_loss: 1.1854 - val_accuracy: 0.3654 - val_auc: 0.7188 - val_matthews_correlation: 0.1371\n",
            "Epoch 20/50\n",
            "51/52 [============================>.] - ETA: 0s - loss: 0.7569 - accuracy: 0.6115 - auc: 0.7088 - matthews_correlation: 0.2454\n",
            "Epoch 00020: val_matthews_correlation did not improve from 0.15549\n",
            "52/52 [==============================] - 46s 877ms/step - loss: 0.7538 - accuracy: 0.6111 - auc: 0.7096 - matthews_correlation: 0.2470 - val_loss: 1.1861 - val_accuracy: 0.3606 - val_auc: 0.7197 - val_matthews_correlation: 0.1313\n",
            "Epoch 21/50\n",
            "51/52 [============================>.] - ETA: 0s - loss: 0.7755 - accuracy: 0.6031 - auc: 0.7025 - matthews_correlation: nan\n",
            "Epoch 00021: val_matthews_correlation did not improve from 0.15549\n",
            "52/52 [==============================] - 46s 879ms/step - loss: 0.7811 - accuracy: 0.6029 - auc: 0.7025 - matthews_correlation: nan - val_loss: 1.1854 - val_accuracy: 0.3726 - val_auc: 0.7204 - val_matthews_correlation: 0.1473\n",
            "Epoch 22/50\n",
            "51/52 [============================>.] - ETA: 0s - loss: 0.8197 - accuracy: 0.6168 - auc: 0.7001 - matthews_correlation: 0.2491\n",
            "Epoch 00022: val_matthews_correlation did not improve from 0.15549\n",
            "52/52 [==============================] - 46s 878ms/step - loss: 0.8232 - accuracy: 0.6136 - auc: 0.6967 - matthews_correlation: 0.2429 - val_loss: 1.1862 - val_accuracy: 0.3690 - val_auc: 0.7218 - val_matthews_correlation: 0.1434\n",
            "Epoch 23/50\n",
            "51/52 [============================>.] - ETA: 0s - loss: 0.7696 - accuracy: 0.6152 - auc: 0.7048 - matthews_correlation: 0.2658\n",
            "Epoch 00023: val_matthews_correlation did not improve from 0.15549\n",
            "52/52 [==============================] - 45s 869ms/step - loss: 0.7689 - accuracy: 0.6164 - auc: 0.7040 - matthews_correlation: 0.2660 - val_loss: 1.2062 - val_accuracy: 0.3618 - val_auc: 0.7235 - val_matthews_correlation: 0.1445\n",
            "Epoch 24/50\n",
            "51/52 [============================>.] - ETA: 0s - loss: 0.7763 - accuracy: 0.6042 - auc: 0.6905 - matthews_correlation: 0.2378\n",
            "Epoch 00024: val_matthews_correlation did not improve from 0.15549\n",
            "52/52 [==============================] - 42s 800ms/step - loss: 0.7739 - accuracy: 0.6049 - auc: 0.6919 - matthews_correlation: 0.2391 - val_loss: 1.2167 - val_accuracy: 0.3582 - val_auc: 0.7242 - val_matthews_correlation: 0.1347\n",
            "Epoch 25/50\n",
            "51/52 [============================>.] - ETA: 0s - loss: 0.7606 - accuracy: 0.6040 - auc: 0.7039 - matthews_correlation: 0.2517\n",
            "Epoch 00025: val_matthews_correlation did not improve from 0.15549\n",
            "52/52 [==============================] - 41s 790ms/step - loss: 0.7584 - accuracy: 0.6047 - auc: 0.7050 - matthews_correlation: 0.2522 - val_loss: 1.2298 - val_accuracy: 0.3570 - val_auc: 0.7255 - val_matthews_correlation: 0.1322\n",
            "Epoch 26/50\n",
            "51/52 [============================>.] - ETA: 0s - loss: 0.7861 - accuracy: 0.6130 - auc: 0.6964 - matthews_correlation: 0.2395\n",
            "Epoch 00026: val_matthews_correlation did not improve from 0.15549\n",
            "52/52 [==============================] - 46s 889ms/step - loss: 0.7875 - accuracy: 0.6139 - auc: 0.6967 - matthews_correlation: 0.2410 - val_loss: 1.2439 - val_accuracy: 0.3450 - val_auc: 0.7249 - val_matthews_correlation: 0.1199\n",
            "Epoch 27/50\n",
            "51/52 [============================>.] - ETA: 0s - loss: 0.7658 - accuracy: 0.5994 - auc: 0.6993 - matthews_correlation: 0.2473\n",
            "Epoch 00027: val_matthews_correlation did not improve from 0.15549\n",
            "52/52 [==============================] - 45s 865ms/step - loss: 0.7605 - accuracy: 0.6005 - auc: 0.7025 - matthews_correlation: 0.2499 - val_loss: 1.2208 - val_accuracy: 0.3594 - val_auc: 0.7270 - val_matthews_correlation: 0.1325\n",
            "Epoch 28/50\n",
            "51/52 [============================>.] - ETA: 0s - loss: 0.7814 - accuracy: 0.6072 - auc: 0.7013 - matthews_correlation: 0.2505\n",
            "Epoch 00028: val_matthews_correlation did not improve from 0.15549\n",
            "52/52 [==============================] - 46s 879ms/step - loss: 0.7797 - accuracy: 0.6073 - auc: 0.7021 - matthews_correlation: 0.2520 - val_loss: 1.2181 - val_accuracy: 0.3594 - val_auc: 0.7275 - val_matthews_correlation: 0.1391\n",
            "Epoch 29/50\n",
            "51/52 [============================>.] - ETA: 0s - loss: 0.7692 - accuracy: 0.6232 - auc: 0.7083 - matthews_correlation: 0.2713\n",
            "Epoch 00029: val_matthews_correlation did not improve from 0.15549\n",
            "52/52 [==============================] - 46s 881ms/step - loss: 0.7642 - accuracy: 0.6241 - auc: 0.7108 - matthews_correlation: 0.2738 - val_loss: 1.2483 - val_accuracy: 0.3462 - val_auc: 0.7279 - val_matthews_correlation: 0.1303\n",
            "Epoch 30/50\n",
            "51/52 [============================>.] - ETA: 0s - loss: 0.7345 - accuracy: 0.6259 - auc: 0.7204 - matthews_correlation: 0.2756\n",
            "Epoch 00030: val_matthews_correlation did not improve from 0.15549\n",
            "52/52 [==============================] - 46s 880ms/step - loss: 0.7378 - accuracy: 0.6247 - auc: 0.7191 - matthews_correlation: 0.2730 - val_loss: 1.2360 - val_accuracy: 0.3558 - val_auc: 0.7281 - val_matthews_correlation: 0.1285\n",
            "Epoch 31/50\n",
            "51/52 [============================>.] - ETA: 0s - loss: 0.7463 - accuracy: 0.6063 - auc: 0.7139 - matthews_correlation: 0.2544\n",
            "Epoch 00031: val_matthews_correlation did not improve from 0.15549\n",
            "52/52 [==============================] - 45s 871ms/step - loss: 0.7444 - accuracy: 0.6061 - auc: 0.7148 - matthews_correlation: 0.2548 - val_loss: 1.2374 - val_accuracy: 0.3558 - val_auc: 0.7292 - val_matthews_correlation: 0.1272\n",
            "Epoch 32/50\n",
            "51/52 [============================>.] - ETA: 0s - loss: 0.7856 - accuracy: 0.6158 - auc: 0.7181 - matthews_correlation: 0.2458\n",
            "Epoch 00032: val_matthews_correlation did not improve from 0.15549\n",
            "52/52 [==============================] - 42s 799ms/step - loss: 0.7828 - accuracy: 0.6154 - auc: 0.7187 - matthews_correlation: 0.2465 - val_loss: 1.2367 - val_accuracy: 0.3570 - val_auc: 0.7297 - val_matthews_correlation: 0.1400\n",
            "Epoch 33/50\n",
            "51/52 [============================>.] - ETA: 0s - loss: 0.7518 - accuracy: 0.6118 - auc: 0.7163 - matthews_correlation: 0.2620\n",
            "Epoch 00033: val_matthews_correlation did not improve from 0.15549\n",
            "52/52 [==============================] - 46s 877ms/step - loss: 0.7492 - accuracy: 0.6115 - auc: 0.7165 - matthews_correlation: 0.2597 - val_loss: 1.2427 - val_accuracy: 0.3582 - val_auc: 0.7310 - val_matthews_correlation: 0.1360\n",
            "Epoch 34/50\n",
            "51/52 [============================>.] - ETA: 0s - loss: 0.7641 - accuracy: 0.6178 - auc: 0.7088 - matthews_correlation: 0.2599\n",
            "Epoch 00034: val_matthews_correlation did not improve from 0.15549\n",
            "52/52 [==============================] - 45s 873ms/step - loss: 0.7591 - accuracy: 0.6198 - auc: 0.7119 - matthews_correlation: 0.2641 - val_loss: 1.2075 - val_accuracy: 0.3642 - val_auc: 0.7316 - val_matthews_correlation: 0.1412\n",
            "Epoch 35/50\n",
            "51/52 [============================>.] - ETA: 0s - loss: 0.7829 - accuracy: 0.6158 - auc: 0.6966 - matthews_correlation: 0.2494\n",
            "Epoch 00035: val_matthews_correlation did not improve from 0.15549\n",
            "52/52 [==============================] - 46s 881ms/step - loss: 0.7802 - accuracy: 0.6169 - auc: 0.6987 - matthews_correlation: 0.2520 - val_loss: 1.2033 - val_accuracy: 0.3630 - val_auc: 0.7325 - val_matthews_correlation: 0.1371\n",
            "Epoch 36/50\n",
            "51/52 [============================>.] - ETA: 0s - loss: 0.7551 - accuracy: 0.6140 - auc: 0.7079 - matthews_correlation: 0.2624\n",
            "Epoch 00036: val_matthews_correlation did not improve from 0.15549\n",
            "52/52 [==============================] - 41s 793ms/step - loss: 0.7532 - accuracy: 0.6142 - auc: 0.7085 - matthews_correlation: 0.2632 - val_loss: 1.1971 - val_accuracy: 0.3630 - val_auc: 0.7324 - val_matthews_correlation: 0.1255\n",
            "Epoch 37/50\n",
            "51/52 [============================>.] - ETA: 0s - loss: 0.7284 - accuracy: 0.6199 - auc: 0.7197 - matthews_correlation: 0.2693\n",
            "Epoch 00037: val_matthews_correlation did not improve from 0.15549\n",
            "52/52 [==============================] - 46s 881ms/step - loss: 0.7276 - accuracy: 0.6191 - auc: 0.7196 - matthews_correlation: 0.2685 - val_loss: 1.2107 - val_accuracy: 0.3630 - val_auc: 0.7330 - val_matthews_correlation: 0.1451\n",
            "Epoch 38/50\n",
            "51/52 [============================>.] - ETA: 0s - loss: 0.7801 - accuracy: 0.6155 - auc: 0.7074 - matthews_correlation: 0.2450\n",
            "Epoch 00038: val_matthews_correlation did not improve from 0.15549\n",
            "52/52 [==============================] - 45s 868ms/step - loss: 0.7840 - accuracy: 0.6154 - auc: 0.7072 - matthews_correlation: 0.2421 - val_loss: 1.2134 - val_accuracy: 0.3702 - val_auc: 0.7328 - val_matthews_correlation: 0.1512\n",
            "Epoch 39/50\n",
            "51/52 [============================>.] - ETA: 0s - loss: 0.7273 - accuracy: 0.6308 - auc: 0.7428 - matthews_correlation: 0.2922\n",
            "Epoch 00039: val_matthews_correlation did not improve from 0.15549\n",
            "52/52 [==============================] - 46s 879ms/step - loss: 0.7278 - accuracy: 0.6298 - auc: 0.7413 - matthews_correlation: 0.2912 - val_loss: 1.2126 - val_accuracy: 0.3654 - val_auc: 0.7329 - val_matthews_correlation: 0.1481\n",
            "Epoch 40/50\n",
            "51/52 [============================>.] - ETA: 0s - loss: 0.7577 - accuracy: 0.6168 - auc: 0.7134 - matthews_correlation: 0.2565\n",
            "Epoch 00040: val_matthews_correlation did not improve from 0.15549\n",
            "52/52 [==============================] - 46s 877ms/step - loss: 0.7593 - accuracy: 0.6172 - auc: 0.7124 - matthews_correlation: 0.2564 - val_loss: 1.2366 - val_accuracy: 0.3606 - val_auc: 0.7336 - val_matthews_correlation: 0.1361\n",
            "Epoch 41/50\n",
            "51/52 [============================>.] - ETA: 0s - loss: 0.7297 - accuracy: 0.6181 - auc: 0.7251 - matthews_correlation: 0.2790\n",
            "Epoch 00041: val_matthews_correlation did not improve from 0.15549\n",
            "52/52 [==============================] - 46s 875ms/step - loss: 0.7287 - accuracy: 0.6167 - auc: 0.7252 - matthews_correlation: 0.2779 - val_loss: 1.2384 - val_accuracy: 0.3618 - val_auc: 0.7337 - val_matthews_correlation: 0.1342\n",
            "Epoch 42/50\n",
            "51/52 [============================>.] - ETA: 0s - loss: 0.7489 - accuracy: 0.6271 - auc: 0.7229 - matthews_correlation: 0.2864\n",
            "Epoch 00042: val_matthews_correlation did not improve from 0.15549\n",
            "52/52 [==============================] - 46s 884ms/step - loss: 0.7451 - accuracy: 0.6283 - auc: 0.7253 - matthews_correlation: 0.2891 - val_loss: 1.2338 - val_accuracy: 0.3570 - val_auc: 0.7329 - val_matthews_correlation: 0.1318\n",
            "Epoch 43/50\n",
            "51/52 [============================>.] - ETA: 0s - loss: 0.7700 - accuracy: 0.6190 - auc: 0.7138 - matthews_correlation: 0.2569\n",
            "Epoch 00043: val_matthews_correlation did not improve from 0.15549\n",
            "52/52 [==============================] - 45s 869ms/step - loss: 0.7714 - accuracy: 0.6188 - auc: 0.7139 - matthews_correlation: 0.2571 - val_loss: 1.2365 - val_accuracy: 0.3618 - val_auc: 0.7333 - val_matthews_correlation: 0.1470\n",
            "Epoch 44/50\n",
            "51/52 [============================>.] - ETA: 0s - loss: 0.7513 - accuracy: 0.6308 - auc: 0.7197 - matthews_correlation: 0.2958\n",
            "Epoch 00044: val_matthews_correlation did not improve from 0.15549\n",
            "52/52 [==============================] - 41s 787ms/step - loss: 0.7522 - accuracy: 0.6310 - auc: 0.7195 - matthews_correlation: 0.2967 - val_loss: 1.2399 - val_accuracy: 0.3630 - val_auc: 0.7334 - val_matthews_correlation: 0.1417\n",
            "Epoch 45/50\n",
            "51/52 [============================>.] - ETA: 0s - loss: 0.7084 - accuracy: 0.6230 - auc: 0.7351 - matthews_correlation: 0.2698\n",
            "Epoch 00045: val_matthews_correlation did not improve from 0.15549\n",
            "52/52 [==============================] - 41s 792ms/step - loss: 0.7042 - accuracy: 0.6252 - auc: 0.7380 - matthews_correlation: 0.2750 - val_loss: 1.2685 - val_accuracy: 0.3546 - val_auc: 0.7336 - val_matthews_correlation: 0.1413\n",
            "Epoch 46/50\n",
            "51/52 [============================>.] - ETA: 0s - loss: 0.7558 - accuracy: 0.6321 - auc: 0.7177 - matthews_correlation: 0.2827\n",
            "Epoch 00046: val_matthews_correlation did not improve from 0.15549\n",
            "52/52 [==============================] - 41s 785ms/step - loss: 0.7544 - accuracy: 0.6298 - auc: 0.7173 - matthews_correlation: 0.2815 - val_loss: 1.2692 - val_accuracy: 0.3558 - val_auc: 0.7332 - val_matthews_correlation: 0.1339\n",
            "Epoch 47/50\n",
            "51/52 [============================>.] - ETA: 0s - loss: 0.7382 - accuracy: 0.6324 - auc: 0.7315 - matthews_correlation: 0.2991\n",
            "Epoch 00047: val_matthews_correlation did not improve from 0.15549\n",
            "52/52 [==============================] - 45s 872ms/step - loss: 0.7377 - accuracy: 0.6325 - auc: 0.7324 - matthews_correlation: 0.2999 - val_loss: 1.2589 - val_accuracy: 0.3522 - val_auc: 0.7347 - val_matthews_correlation: 0.1263\n",
            "Epoch 48/50\n",
            "51/52 [============================>.] - ETA: 0s - loss: 0.7040 - accuracy: 0.6261 - auc: 0.7351 - matthews_correlation: 0.2932\n",
            "Epoch 00048: val_matthews_correlation did not improve from 0.15549\n",
            "52/52 [==============================] - 41s 787ms/step - loss: 0.7033 - accuracy: 0.6276 - auc: 0.7356 - matthews_correlation: 0.2951 - val_loss: 1.2616 - val_accuracy: 0.3546 - val_auc: 0.7350 - val_matthews_correlation: 0.1433\n",
            "Epoch 49/50\n",
            "51/52 [============================>.] - ETA: 0s - loss: 0.7232 - accuracy: 0.6305 - auc: 0.7357 - matthews_correlation: 0.2929\n",
            "Epoch 00049: val_matthews_correlation did not improve from 0.15549\n",
            "52/52 [==============================] - 45s 874ms/step - loss: 0.7257 - accuracy: 0.6301 - auc: 0.7346 - matthews_correlation: 0.2922 - val_loss: 1.2475 - val_accuracy: 0.3558 - val_auc: 0.7347 - val_matthews_correlation: 0.1448\n",
            "Epoch 50/50\n",
            "51/52 [============================>.] - ETA: 0s - loss: 0.7190 - accuracy: 0.6367 - auc: 0.7366 - matthews_correlation: 0.2862\n",
            "Epoch 00050: val_matthews_correlation did not improve from 0.15549\n",
            "52/52 [==============================] - 45s 874ms/step - loss: 0.7182 - accuracy: 0.6347 - auc: 0.7363 - matthews_correlation: 0.2843 - val_loss: 1.2702 - val_accuracy: 0.3546 - val_auc: 0.7349 - val_matthews_correlation: 0.1347\n"
          ],
          "name": "stdout"
        }
      ]
    },
    {
      "cell_type": "code",
      "metadata": {
        "colab_type": "code",
        "id": "jk8uidBpZsJu",
        "outputId": "08793657-c2a8-44f1-b56b-4a93358b00d8",
        "scrolled": false,
        "colab": {
          "base_uri": "https://localhost:8080/",
          "height": 354
        }
      },
      "source": [
        "history_plotter(history=conv_history, n_epochs=50, plot_validation=True)"
      ],
      "execution_count": 68,
      "outputs": [
        {
          "output_type": "display_data",
          "data": {
            "image/png": "[encoded data removed]",
            "text/plain": [
              "<Figure size 720x360 with 2 Axes>"
            ]
          },
          "metadata": {
            "tags": []
          }
        }
      ]
    },
    {
      "cell_type": "code",
      "metadata": {
        "id": "lf8OOG-qcEJc",
        "colab_type": "code",
        "colab": {}
      },
      "source": [
        "conv_model.load_weights(save_model_path)"
      ],
      "execution_count": 0,
      "outputs": []
    },
    {
      "cell_type": "markdown",
      "metadata": {
        "colab_type": "text",
        "id": "XqnQrClFZsJ2"
      },
      "source": [
        "# Object Detection via Transfer Learning\n"
      ]
    },
    {
      "cell_type": "code",
      "metadata": {
        "colab_type": "code",
        "id": "g9AA47PjZsJ4",
        "colab": {}
      },
      "source": [
        "pretrained_mobilenet = tf.keras.applications.MobileNetV2(\n",
        "    input_shape=(224, 224, 3),\n",
        "    include_top=False,\n",
        "    weights='imagenet')\n",
        "pretrained_mobilenet.trainable = False"
      ],
      "execution_count": 0,
      "outputs": []
    },
    {
      "cell_type": "code",
      "metadata": {
        "colab_type": "code",
        "id": "pkinp9G7ZsJ9",
        "outputId": "d3e918c0-04c2-4608-bfc6-847ba02b08a7",
        "colab": {
          "base_uri": "https://localhost:8080/",
          "height": 329
        }
      },
      "source": [
        "mnet_lr = .000_01\n",
        "mnet_model = tf.keras.models.Sequential()\n",
        "mnet_model.add(pretrained_mobilenet)\n",
        "mnet_model.add(tf.keras.layers.GlobalAveragePooling2D())\n",
        "mnet_model.add(tf.keras.layers.Dense(64))\n",
        "mnet_model.add(tf.keras.layers.Dropout(.5))\n",
        "mnet_model.add(tf.keras.layers.Dense(1, activation='sigmoid'))\n",
        "\n",
        "mnet_model.compile(optimizer=tf.keras.optimizers.RMSprop(lr=mnet_lr),\n",
        "              loss=loss,\n",
        "              metrics=METRICS)\n",
        "mnet_model.summary()"
      ],
      "execution_count": 0,
      "outputs": [
        {
          "output_type": "stream",
          "text": [
            "Model: \"sequential_4\"\n",
            "_________________________________________________________________\n",
            "Layer (type)                 Output Shape              Param #   \n",
            "=================================================================\n",
            "mobilenetv2_1.00_224 (Model) (None, 7, 7, 1280)        2257984   \n",
            "_________________________________________________________________\n",
            "global_average_pooling2d_2 ( (None, 1280)              0         \n",
            "_________________________________________________________________\n",
            "dense_10 (Dense)             (None, 64)                81984     \n",
            "_________________________________________________________________\n",
            "dropout_8 (Dropout)          (None, 64)                0         \n",
            "_________________________________________________________________\n",
            "dense_11 (Dense)             (None, 1)                 65        \n",
            "=================================================================\n",
            "Total params: 2,340,033\n",
            "Trainable params: 82,049\n",
            "Non-trainable params: 2,257,984\n",
            "_________________________________________________________________\n"
          ],
          "name": "stdout"
        }
      ]
    },
    {
      "cell_type": "code",
      "metadata": {
        "id": "BbRq0GPd8pLL",
        "colab_type": "code",
        "colab": {
          "base_uri": "https://localhost:8080/",
          "height": 35
        },
        "outputId": "2eeadc54-48d3-4e5a-e297-86e27c747992"
      },
      "source": [
        "vdate_generator"
      ],
      "execution_count": 76,
      "outputs": [
        {
          "output_type": "execute_result",
          "data": {
            "text/plain": [
              "<keras_preprocessing.image.directory_iterator.DirectoryIterator at 0x7fab6a180630>"
            ]
          },
          "metadata": {
            "tags": []
          },
          "execution_count": 76
        }
      ]
    },
    {
      "cell_type": "code",
      "metadata": {
        "id": "jFz2e0YtPflN",
        "colab_type": "code",
        "colab": {}
      },
      "source": [
        "if IN_COLAB:\n",
        "    save_mnet_path = r'/content/gdrive/My Drive/thinkful/colab_datasets/sidewalk_data/models/mnet_classif_weights.hdf5'\n",
        "    save_xc_path =  r'/content/gdrive/My Drive/thinkful/colab_datasets/sidewalk_data/models/xc_classif_weights.hdf5'\n",
        "else:\n",
        "    save_mnet_path = os.path.expanduser(r'~/Google Drive/thinkful/colab_datasets/sidewalk_data/models/mnet_classif_weights.hdf5')\n",
        "    save_xc_path = os.path.expanduser(r'~/Google Drive/thinkful/colab_datasets/sidewalk_data/models/xc_classif_weights.hdf5')\n",
        "\n",
        "checkp_params = dict(monitor='val_matthews_correlation', \n",
        "                         save_best_only=True, \n",
        "                         mode='max',\n",
        "                         verbose=1)\n",
        "\n",
        "cp_mnet = ModelCheckpoint(filepath=save_mnet_path, **checkp_params)\n",
        "cp_xc = ModelCheckpoint(filepath=save_xc_path, **checkp_params)\n",
        "\n",
        "fgen_params = dict(\n",
        "                generator=train_generator, \n",
        "                steps_per_epoch=int(total_train_samples/batch_size),  \n",
        "                verbose=1,\n",
        "                validation_data=vdate_generator,\n",
        "                validation_steps=int(total_vdate_samples/batch_size),\n",
        "                class_weight=class_weight,\n",
        "                use_multiprocessing=True\n",
        "                )"
      ],
      "execution_count": 0,
      "outputs": []
    },
    {
      "cell_type": "code",
      "metadata": {
        "colab_type": "code",
        "id": "HNqo00b2ZsKD",
        "scrolled": false,
        "colab": {}
      },
      "source": [
        "mnet_history = mnet_model.fit_generator(epochs=50,\n",
        "                                        callbacks=[cp_mnet],\n",
        "                                        **fgen_params)"
      ],
      "execution_count": 0,
      "outputs": []
    },
    {
      "cell_type": "code",
      "metadata": {
        "colab_type": "code",
        "id": "Kc4Lp7HqZsKJ",
        "outputId": "23466da7-94fe-46bf-81c7-59a08e8f5df2",
        "colab": {
          "base_uri": "https://localhost:8080/",
          "height": 354
        }
      },
      "source": [
        "history_plotter(mnet_history)"
      ],
      "execution_count": 0,
      "outputs": [
        {
          "output_type": "display_data",
          "data": {
            "image/png": "[encoded data removed]",
            "text/plain": [
              "<Figure size 720x360 with 2 Axes>"
            ]
          },
          "metadata": {
            "tags": []
          }
        }
      ]
    },
    {
      "cell_type": "code",
      "metadata": {
        "colab_type": "code",
        "id": "lvQLtgWJZf3l",
        "outputId": "04fda3e2-6486-49bd-9cab-97eacedd48a0",
        "colab": {
          "base_uri": "https://localhost:8080/",
          "height": 372
        }
      },
      "source": [
        "pretrained_xception = tf.keras.applications.Xception(\n",
        "        input_shape=(224, 224, 3),\n",
        "        include_top=False,\n",
        "        weights='imagenet')\n",
        "pretrained_xception.trainable = False\n",
        "\n",
        "xc_lr = .000_01\n",
        "xc_model = tf.keras.models.Sequential()\n",
        "xc_model.add(pretrained_xception)\n",
        "xc_model.add(tf.keras.layers.GlobalAveragePooling2D())\n",
        "xc_model.add(tf.keras.layers.Dense(64))\n",
        "xc_model.add(tf.keras.layers.Dropout(.5))\n",
        "xc_model.add(tf.keras.layers.Dense(1, activation='sigmoid'))\n",
        "\n",
        "xc_model.compile(optimizer=tf.keras.optimizers.RMSprop(lr=xc_lr),\n",
        "              loss=loss,\n",
        "              metrics=METRICS)\n",
        "xc_model.summary()"
      ],
      "execution_count": 84,
      "outputs": [
        {
          "output_type": "stream",
          "text": [
            "Downloading data from https://github.com/fchollet/deep-learning-models/releases/download/v0.4/xception_weights_tf_dim_ordering_tf_kernels_notop.h5\n",
            "83689472/83683744 [==============================] - 3s 0us/step\n",
            "Model: \"sequential_6\"\n",
            "_________________________________________________________________\n",
            "Layer (type)                 Output Shape              Param #   \n",
            "=================================================================\n",
            "xception (Model)             (None, 7, 7, 2048)        20861480  \n",
            "_________________________________________________________________\n",
            "global_average_pooling2d (Gl (None, 2048)              0         \n",
            "_________________________________________________________________\n",
            "dense_18 (Dense)             (None, 64)                131136    \n",
            "_________________________________________________________________\n",
            "dropout_24 (Dropout)         (None, 64)                0         \n",
            "_________________________________________________________________\n",
            "dense_19 (Dense)             (None, 1)                 65        \n",
            "=================================================================\n",
            "Total params: 20,992,681\n",
            "Trainable params: 131,201\n",
            "Non-trainable params: 20,861,480\n",
            "_________________________________________________________________\n"
          ],
          "name": "stdout"
        }
      ]
    },
    {
      "cell_type": "code",
      "metadata": {
        "colab_type": "code",
        "id": "1sU5ZHuwaLEf",
        "outputId": "d3bbf676-79ec-4b54-fe2f-ed4f77bf56b1",
        "colab": {
          "base_uri": "https://localhost:8080/",
          "height": 1000
        }
      },
      "source": [
        "xc_epochs = 25\n",
        "xc_history = xc_model.fit_generator(epochs=xc_epochs,\n",
        "                                    callbacks=[cp_xc],\n",
        "                                    **fgen_params)"
      ],
      "execution_count": 86,
      "outputs": [
        {
          "output_type": "stream",
          "text": [
            "Epoch 1/25\n",
            "51/52 [============================>.] - ETA: 0s - loss: 0.7206 - accuracy: 0.5104 - auc: 0.5159 - matthews_correlation: 0.0048\n",
            "Epoch 00001: val_matthews_correlation improved from -inf to 0.06807, saving model to /content/gdrive/My Drive/thinkful/colab_datasets/sidewalk_data/models/xc_classif_weights.hdf5\n",
            "52/52 [==============================] - 57s 1s/step - loss: 0.7193 - accuracy: 0.5105 - auc: 0.5161 - matthews_correlation: 0.0050 - val_loss: 0.7747 - val_accuracy: 0.3425 - val_auc: 0.5540 - val_matthews_correlation: 0.0681\n",
            "Epoch 2/25\n",
            "51/52 [============================>.] - ETA: 0s - loss: 0.6983 - accuracy: 0.5373 - auc: 0.5513 - matthews_correlation: 0.0479\n",
            "Epoch 00002: val_matthews_correlation improved from 0.06807 to 0.09774, saving model to /content/gdrive/My Drive/thinkful/colab_datasets/sidewalk_data/models/xc_classif_weights.hdf5\n",
            "52/52 [==============================] - 61s 1s/step - loss: 0.6980 - accuracy: 0.5390 - auc: 0.5538 - matthews_correlation: 0.0509 - val_loss: 0.7496 - val_accuracy: 0.3822 - val_auc: 0.6064 - val_matthews_correlation: 0.0977\n",
            "Epoch 3/25\n",
            "51/52 [============================>.] - ETA: 0s - loss: 0.6733 - accuracy: 0.5862 - auc: 0.6174 - matthews_correlation: 0.1416\n",
            "Epoch 00003: val_matthews_correlation improved from 0.09774 to 0.16186, saving model to /content/gdrive/My Drive/thinkful/colab_datasets/sidewalk_data/models/xc_classif_weights.hdf5\n",
            "52/52 [==============================] - 61s 1s/step - loss: 0.6739 - accuracy: 0.5870 - auc: 0.6159 - matthews_correlation: 0.1381 - val_loss: 0.7243 - val_accuracy: 0.4555 - val_auc: 0.6469 - val_matthews_correlation: 0.1619\n",
            "Epoch 4/25\n",
            "51/52 [============================>.] - ETA: 0s - loss: 0.6655 - accuracy: 0.6177 - auc: 0.6295 - matthews_correlation: 0.1665\n",
            "Epoch 00004: val_matthews_correlation improved from 0.16186 to 0.20754, saving model to /content/gdrive/My Drive/thinkful/colab_datasets/sidewalk_data/models/xc_classif_weights.hdf5\n",
            "52/52 [==============================] - 61s 1s/step - loss: 0.6657 - accuracy: 0.6191 - auc: 0.6290 - matthews_correlation: 0.1674 - val_loss: 0.7094 - val_accuracy: 0.5000 - val_auc: 0.6756 - val_matthews_correlation: 0.2075\n",
            "Epoch 5/25\n",
            "51/52 [============================>.] - ETA: 0s - loss: 0.6671 - accuracy: 0.6199 - auc: 0.6515 - matthews_correlation: 0.1920\n",
            "Epoch 00005: val_matthews_correlation improved from 0.20754 to 0.22660, saving model to /content/gdrive/My Drive/thinkful/colab_datasets/sidewalk_data/models/xc_classif_weights.hdf5\n",
            "52/52 [==============================] - 61s 1s/step - loss: 0.6671 - accuracy: 0.6188 - auc: 0.6501 - matthews_correlation: 0.1899 - val_loss: 0.7011 - val_accuracy: 0.5276 - val_auc: 0.6920 - val_matthews_correlation: 0.2266\n",
            "Epoch 6/25\n",
            "51/52 [============================>.] - ETA: 0s - loss: 0.6473 - accuracy: 0.6317 - auc: 0.6664 - matthews_correlation: 0.2170\n",
            "Epoch 00006: val_matthews_correlation improved from 0.22660 to 0.24935, saving model to /content/gdrive/My Drive/thinkful/colab_datasets/sidewalk_data/models/xc_classif_weights.hdf5\n",
            "52/52 [==============================] - 60s 1s/step - loss: 0.6490 - accuracy: 0.6313 - auc: 0.6646 - matthews_correlation: 0.2157 - val_loss: 0.6770 - val_accuracy: 0.5745 - val_auc: 0.7046 - val_matthews_correlation: 0.2494\n",
            "Epoch 7/25\n",
            "51/52 [============================>.] - ETA: 0s - loss: 0.6423 - accuracy: 0.6564 - auc: 0.6841 - matthews_correlation: 0.2446\n",
            "Epoch 00007: val_matthews_correlation improved from 0.24935 to 0.27589, saving model to /content/gdrive/My Drive/thinkful/colab_datasets/sidewalk_data/models/xc_classif_weights.hdf5\n",
            "52/52 [==============================] - 58s 1s/step - loss: 0.6435 - accuracy: 0.6579 - auc: 0.6862 - matthews_correlation: 0.2487 - val_loss: 0.6656 - val_accuracy: 0.6022 - val_auc: 0.7149 - val_matthews_correlation: 0.2759\n",
            "Epoch 8/25\n",
            "51/52 [============================>.] - ETA: 0s - loss: 0.6116 - accuracy: 0.6748 - auc: 0.7265 - matthews_correlation: nan\n",
            "Epoch 00008: val_matthews_correlation improved from 0.27589 to 0.30439, saving model to /content/gdrive/My Drive/thinkful/colab_datasets/sidewalk_data/models/xc_classif_weights.hdf5\n",
            "52/52 [==============================] - 59s 1s/step - loss: 0.6111 - accuracy: 0.6750 - auc: 0.7262 - matthews_correlation: nan - val_loss: 0.6335 - val_accuracy: 0.6466 - val_auc: 0.7233 - val_matthews_correlation: 0.3044\n",
            "Epoch 9/25\n",
            "51/52 [============================>.] - ETA: 0s - loss: 0.6167 - accuracy: 0.6935 - auc: 0.7476 - matthews_correlation: 0.3208\n",
            "Epoch 00009: val_matthews_correlation improved from 0.30439 to 0.31916, saving model to /content/gdrive/My Drive/thinkful/colab_datasets/sidewalk_data/models/xc_classif_weights.hdf5\n",
            "52/52 [==============================] - 61s 1s/step - loss: 0.6162 - accuracy: 0.6924 - auc: 0.7450 - matthews_correlation: 0.3149 - val_loss: 0.6225 - val_accuracy: 0.6635 - val_auc: 0.7280 - val_matthews_correlation: 0.3192\n",
            "Epoch 10/25\n",
            "51/52 [============================>.] - ETA: 0s - loss: 0.6084 - accuracy: 0.6954 - auc: 0.7492 - matthews_correlation: nan\n",
            "Epoch 00010: val_matthews_correlation improved from 0.31916 to 0.32110, saving model to /content/gdrive/My Drive/thinkful/colab_datasets/sidewalk_data/models/xc_classif_weights.hdf5\n",
            "52/52 [==============================] - 61s 1s/step - loss: 0.6067 - accuracy: 0.6964 - auc: 0.7500 - matthews_correlation: nan - val_loss: 0.6223 - val_accuracy: 0.6611 - val_auc: 0.7332 - val_matthews_correlation: 0.3211\n",
            "Epoch 11/25\n",
            "51/52 [============================>.] - ETA: 0s - loss: 0.6001 - accuracy: 0.6879 - auc: 0.7513 - matthews_correlation: nan\n",
            "Epoch 00011: val_matthews_correlation did not improve from 0.32110\n",
            "52/52 [==============================] - 58s 1s/step - loss: 0.6007 - accuracy: 0.6882 - auc: 0.7510 - matthews_correlation: nan - val_loss: 0.6023 - val_accuracy: 0.6707 - val_auc: 0.7362 - val_matthews_correlation: 0.3045\n",
            "Epoch 12/25\n",
            "51/52 [============================>.] - ETA: 0s - loss: 0.5925 - accuracy: 0.7128 - auc: 0.7620 - matthews_correlation: 0.3614\n",
            "Epoch 00012: val_matthews_correlation did not improve from 0.32110\n",
            "52/52 [==============================] - 59s 1s/step - loss: 0.5933 - accuracy: 0.7123 - auc: 0.7629 - matthews_correlation: 0.3608 - val_loss: 0.5981 - val_accuracy: 0.6779 - val_auc: 0.7392 - val_matthews_correlation: 0.3206\n",
            "Epoch 13/25\n",
            "51/52 [============================>.] - ETA: 0s - loss: 0.5836 - accuracy: 0.7243 - auc: 0.7775 - matthews_correlation: 0.3781\n",
            "Epoch 00013: val_matthews_correlation improved from 0.32110 to 0.32430, saving model to /content/gdrive/My Drive/thinkful/colab_datasets/sidewalk_data/models/xc_classif_weights.hdf5\n",
            "52/52 [==============================] - 62s 1s/step - loss: 0.5825 - accuracy: 0.7254 - auc: 0.7790 - matthews_correlation: 0.3800 - val_loss: 0.5834 - val_accuracy: 0.6935 - val_auc: 0.7422 - val_matthews_correlation: 0.3243\n",
            "Epoch 14/25\n",
            "51/52 [============================>.] - ETA: 0s - loss: 0.5695 - accuracy: 0.7400 - auc: 0.8034 - matthews_correlation: 0.4140\n",
            "Epoch 00014: val_matthews_correlation improved from 0.32430 to 0.33239, saving model to /content/gdrive/My Drive/thinkful/colab_datasets/sidewalk_data/models/xc_classif_weights.hdf5\n",
            "52/52 [==============================] - 60s 1s/step - loss: 0.5729 - accuracy: 0.7396 - auc: 0.8024 - matthews_correlation: 0.4140 - val_loss: 0.5872 - val_accuracy: 0.6899 - val_auc: 0.7442 - val_matthews_correlation: 0.3324\n",
            "Epoch 15/25\n",
            "51/52 [============================>.] - ETA: 0s - loss: 0.5774 - accuracy: 0.7265 - auc: 0.7866 - matthews_correlation: 0.3664\n",
            "Epoch 00015: val_matthews_correlation improved from 0.33239 to 0.35323, saving model to /content/gdrive/My Drive/thinkful/colab_datasets/sidewalk_data/models/xc_classif_weights.hdf5\n",
            "52/52 [==============================] - 61s 1s/step - loss: 0.5770 - accuracy: 0.7258 - auc: 0.7858 - matthews_correlation: 0.3645 - val_loss: 0.5680 - val_accuracy: 0.7127 - val_auc: 0.7459 - val_matthews_correlation: 0.3532\n",
            "Epoch 16/25\n",
            "51/52 [============================>.] - ETA: 0s - loss: 0.5741 - accuracy: 0.7399 - auc: 0.7911 - matthews_correlation: 0.4059\n",
            "Epoch 00016: val_matthews_correlation did not improve from 0.35323\n",
            "52/52 [==============================] - 60s 1s/step - loss: 0.5741 - accuracy: 0.7395 - auc: 0.7921 - matthews_correlation: 0.4061 - val_loss: 0.5625 - val_accuracy: 0.7139 - val_auc: 0.7474 - val_matthews_correlation: 0.3341\n",
            "Epoch 17/25\n",
            "51/52 [============================>.] - ETA: 0s - loss: 0.5784 - accuracy: 0.7378 - auc: 0.7937 - matthews_correlation: 0.4190\n",
            "Epoch 00017: val_matthews_correlation did not improve from 0.35323\n",
            "52/52 [==============================] - 60s 1s/step - loss: 0.5771 - accuracy: 0.7374 - auc: 0.7937 - matthews_correlation: 0.4186 - val_loss: 0.5713 - val_accuracy: 0.6971 - val_auc: 0.7484 - val_matthews_correlation: 0.3385\n",
            "Epoch 18/25\n",
            "51/52 [============================>.] - ETA: 0s - loss: 0.5461 - accuracy: 0.7472 - auc: 0.8007 - matthews_correlation: 0.3994\n",
            "Epoch 00018: val_matthews_correlation did not improve from 0.35323\n",
            "52/52 [==============================] - 60s 1s/step - loss: 0.5458 - accuracy: 0.7479 - auc: 0.8017 - matthews_correlation: 0.4007 - val_loss: 0.5452 - val_accuracy: 0.7296 - val_auc: 0.7492 - val_matthews_correlation: 0.3395\n",
            "Epoch 19/25\n",
            "51/52 [============================>.] - ETA: 0s - loss: 0.5704 - accuracy: 0.7443 - auc: 0.7991 - matthews_correlation: 0.4224\n",
            "Epoch 00019: val_matthews_correlation improved from 0.35323 to 0.35454, saving model to /content/gdrive/My Drive/thinkful/colab_datasets/sidewalk_data/models/xc_classif_weights.hdf5\n",
            "52/52 [==============================] - 62s 1s/step - loss: 0.5711 - accuracy: 0.7456 - auc: 0.8002 - matthews_correlation: 0.4252 - val_loss: 0.5588 - val_accuracy: 0.7139 - val_auc: 0.7501 - val_matthews_correlation: 0.3545\n",
            "Epoch 20/25\n",
            "51/52 [============================>.] - ETA: 0s - loss: 0.5359 - accuracy: 0.7495 - auc: 0.8202 - matthews_correlation: 0.4375\n",
            "Epoch 00020: val_matthews_correlation did not improve from 0.35454\n",
            "52/52 [==============================] - 59s 1s/step - loss: 0.5374 - accuracy: 0.7486 - auc: 0.8183 - matthews_correlation: 0.4355 - val_loss: 0.5427 - val_accuracy: 0.7284 - val_auc: 0.7508 - val_matthews_correlation: 0.3479\n",
            "Epoch 21/25\n",
            "51/52 [============================>.] - ETA: 0s - loss: 0.5602 - accuracy: 0.7466 - auc: 0.8024 - matthews_correlation: 0.4093\n",
            "Epoch 00021: val_matthews_correlation did not improve from 0.35454\n",
            "52/52 [==============================] - 61s 1s/step - loss: 0.5590 - accuracy: 0.7479 - auc: 0.8032 - matthews_correlation: 0.4128 - val_loss: 0.5387 - val_accuracy: 0.7320 - val_auc: 0.7520 - val_matthews_correlation: 0.3474\n",
            "Epoch 22/25\n",
            "51/52 [============================>.] - ETA: 0s - loss: 0.5486 - accuracy: 0.7449 - auc: 0.8062 - matthews_correlation: 0.4120\n",
            "Epoch 00022: val_matthews_correlation did not improve from 0.35454\n",
            "52/52 [==============================] - 58s 1s/step - loss: 0.5474 - accuracy: 0.7475 - auc: 0.8092 - matthews_correlation: 0.4178 - val_loss: 0.5360 - val_accuracy: 0.7308 - val_auc: 0.7524 - val_matthews_correlation: 0.3416\n",
            "Epoch 23/25\n",
            "51/52 [============================>.] - ETA: 0s - loss: 0.5513 - accuracy: 0.7434 - auc: 0.8044 - matthews_correlation: 0.4073\n",
            "Epoch 00023: val_matthews_correlation did not improve from 0.35454\n",
            "52/52 [==============================] - 60s 1s/step - loss: 0.5494 - accuracy: 0.7450 - auc: 0.8074 - matthews_correlation: 0.4117 - val_loss: 0.5303 - val_accuracy: 0.7368 - val_auc: 0.7527 - val_matthews_correlation: 0.3465\n",
            "Epoch 24/25\n",
            "51/52 [============================>.] - ETA: 0s - loss: 0.5432 - accuracy: 0.7533 - auc: 0.8116 - matthews_correlation: nan\n",
            "Epoch 00024: val_matthews_correlation did not improve from 0.35454\n",
            "52/52 [==============================] - 60s 1s/step - loss: 0.5423 - accuracy: 0.7526 - auc: 0.8124 - matthews_correlation: nan - val_loss: 0.5237 - val_accuracy: 0.7404 - val_auc: 0.7533 - val_matthews_correlation: 0.3504\n",
            "Epoch 25/25\n",
            "51/52 [============================>.] - ETA: 0s - loss: 0.5294 - accuracy: 0.7616 - auc: 0.8330 - matthews_correlation: 0.4475\n",
            "Epoch 00025: val_matthews_correlation did not improve from 0.35454\n",
            "52/52 [==============================] - 59s 1s/step - loss: 0.5297 - accuracy: 0.7629 - auc: 0.8337 - matthews_correlation: 0.4503 - val_loss: 0.5258 - val_accuracy: 0.7416 - val_auc: 0.7533 - val_matthews_correlation: 0.3540\n"
          ],
          "name": "stdout"
        }
      ]
    },
    {
      "cell_type": "code",
      "metadata": {
        "id": "duWXCHq3aXHg",
        "colab_type": "code",
        "colab": {
          "base_uri": "https://localhost:8080/",
          "height": 354
        },
        "outputId": "17d8b945-0c73-49fa-dbb5-8d6e1f6a97ec"
      },
      "source": [
        "history_plotter(xc_history, n_epochs=xc_epochs)"
      ],
      "execution_count": 87,
      "outputs": [
        {
          "output_type": "display_data",
          "data": {
            "image/png": "[encoded data removed]",
            "text/plain": [
              "<Figure size 720x360 with 2 Axes>"
            ]
          },
          "metadata": {
            "tags": []
          }
        }
      ]
    },
    {
      "cell_type": "markdown",
      "metadata": {
        "id": "gNXAzxlze1ri",
        "colab_type": "text"
      },
      "source": [
        "# Test"
      ]
    },
    {
      "cell_type": "code",
      "metadata": {
        "id": "BME4FGBRe2sm",
        "colab_type": "code",
        "colab": {}
      },
      "source": [
        "xc_model.load(save_xc_path)\n",
        "xc_model.predict(test_generator)"
      ],
      "execution_count": 0,
      "outputs": []
    }
  ]
}