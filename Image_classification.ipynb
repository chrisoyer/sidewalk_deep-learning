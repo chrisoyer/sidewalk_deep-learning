{
  "nbformat": 4,
  "nbformat_minor": 0,
  "metadata": {
    "accelerator": "GPU",
    "colab": {
      "name": "Image_classification.ipynb",
      "provenance": []
    },
    "kernelspec": {
      "name": "python3",
      "display_name": "Python 3"
    },
    "language_info": {
      "codemirror_mode": {
        "name": "ipython",
        "version": 3
      },
      "file_extension": ".py",
      "mimetype": "text/x-python",
      "name": "python",
      "nbconvert_exporter": "python",
      "pygments_lexer": "ipython3",
      "version": "3.7.4"
    }
  },
  "cells": [
    {
      "cell_type": "markdown",
      "metadata": {
        "colab_type": "text",
        "id": "E3sYdMAVZsE_"
      },
      "source": [
        "# Modeling with TensorFlow\n"
      ]
    },
    {
      "cell_type": "code",
      "metadata": {
        "colab_type": "code",
        "id": "7smApwUGZsFD",
        "colab": {
          "base_uri": "https://localhost:8080/",
          "height": 35
        },
        "outputId": "cec811de-46d9-416c-b855-bdc84f92d68a"
      },
      "source": [
        "# get colab status\n",
        "try:\n",
        "  import google.colab\n",
        "  IN_COLAB = True\n",
        "  #! pip install tensorflow==2.0.0  # rc causes bugs\n",
        "  %tensorflow_version 2.x\n",
        "except:\n",
        "  IN_COLAB = False"
      ],
      "execution_count": 2,
      "outputs": [
        {
          "output_type": "stream",
          "text": [
            "TensorFlow 2.x selected.\n"
          ],
          "name": "stdout"
        }
      ]
    },
    {
      "cell_type": "code",
      "metadata": {
        "colab_type": "code",
        "id": "FOtHs917Z1rr",
        "outputId": "35eb77f5-84fd-4ff3-c7ae-7956b4fbab5b",
        "colab": {
          "base_uri": "https://localhost:8080/",
          "height": 126
        }
      },
      "source": [
        "if IN_COLAB:\n",
        "    from google.colab import drive\n",
        "    drive.mount('/content/gdrive')"
      ],
      "execution_count": 3,
      "outputs": [
        {
          "output_type": "stream",
          "text": [
            "Go to this URL in a browser: https://accounts.google.com/o/oauth2/auth?client_id=947318989803-6bn6qk8qdgf4n4g3pfee6491hc0brc4i.apps.googleusercontent.com&redirect_uri=urn%3aietf%3awg%3aoauth%3a2.0%3aoob&response_type=code&scope=email%20https%3a%2f%2fwww.googleapis.com%2fauth%2fdocs.test%20https%3a%2f%2fwww.googleapis.com%2fauth%2fdrive%20https%3a%2f%2fwww.googleapis.com%2fauth%2fdrive.photos.readonly%20https%3a%2f%2fwww.googleapis.com%2fauth%2fpeopleapi.readonly\n",
            "\n",
            "Enter your authorization code:\n",
            "··········\n",
            "Mounted at /content/gdrive\n"
          ],
          "name": "stdout"
        }
      ]
    },
    {
      "cell_type": "code",
      "metadata": {
        "colab_type": "code",
        "id": "s3oQuRHZZsFb",
        "colab": {}
      },
      "source": [
        "#imports\n",
        "import numpy as np\n",
        "import pandas as pd\n",
        "import matplotlib.pyplot as plt\n",
        "import seaborn as sns\n",
        "import tensorflow as tf\n",
        "from tensorflow.keras.preprocessing.image import ImageDataGenerator\n",
        "from tensorflow.keras.models import Sequential\n",
        "from tensorflow.keras.layers import Dense, Conv2D, Flatten, Dropout, MaxPooling2D, BatchNormalization\n",
        "from tensorflow.keras.optimizers import RMSprop\n",
        "from tensorflow.python.keras.utils.data_utils import Sequence # to fix 'imagedatagenerator has no shape' error\n",
        "from tensorflow.keras.callbacks import ModelCheckpoint\n",
        "from tensorflow.keras.models import load_model\n",
        "import os\n",
        "import random, math"
      ],
      "execution_count": 0,
      "outputs": []
    },
    {
      "cell_type": "code",
      "metadata": {
        "colab_type": "code",
        "id": "X3PkZ7aGjTWP",
        "colab": {
          "base_uri": "https://localhost:8080/",
          "height": 35
        },
        "outputId": "bb1f3d62-db3b-4854-f410-17ad04e9e8d2"
      },
      "source": [
        "if IN_COLAB:\n",
        "    tf.test.gpu_device_name()\n",
        "    # need to use gpu runtime accelerator!\n",
        "    mirrored_strategy = tf.distribute.MirroredStrategy()"
      ],
      "execution_count": 5,
      "outputs": [
        {
          "output_type": "stream",
          "text": [
            "INFO:tensorflow:Using MirroredStrategy with devices ('/job:localhost/replica:0/task:0/device:GPU:0',)\n"
          ],
          "name": "stdout"
        }
      ]
    },
    {
      "cell_type": "markdown",
      "metadata": {
        "colab_type": "text",
        "id": "Wo3jLXedZsFi"
      },
      "source": [
        "# Data Generators"
      ]
    },
    {
      "cell_type": "code",
      "metadata": {
        "colab_type": "code",
        "id": "QyofWL_wZsFr",
        "outputId": "89ae8fb8-4754-46e0-f580-6d98fdae86d4",
        "colab": {
          "base_uri": "https://localhost:8080/",
          "height": 35
        }
      },
      "source": [
        "if IN_COLAB:\n",
        "    os.chdir(r'/content/gdrive/My Drive/thinkful/colab_datasets/sidewalk_data/images/')\n",
        "else:\n",
        "    os.chdir(os.path.expanduser(r'~/Google Drive/thinkful/colab_datasets/sidewalk_data/images/'))\n",
        "!pwd"
      ],
      "execution_count": 6,
      "outputs": [
        {
          "output_type": "stream",
          "text": [
            "/content/gdrive/My Drive/thinkful/colab_datasets/sidewalk_data/images\n"
          ],
          "name": "stdout"
        }
      ]
    },
    {
      "cell_type": "code",
      "metadata": {
        "colab_type": "code",
        "id": "cNUIhj3IZsFz",
        "colab": {}
      },
      "source": [
        "#move images into train, test, validate folders with subfolders for classes\n",
        "test_ratio = .15\n",
        "SPLIT_DATA = False # switch if need to divide out data\n",
        "if SPLIT_DATA:\n",
        "    for label in ['sidewalk', 'no_sidewalk']:\n",
        "        %cd ./$label\n",
        "        listing = os.popen('ls').read().strip().split(sep='\\n')\n",
        "        random.shuffle(listing) #inplace\n",
        "        im_count = len(listing)\n",
        "        test_size=val_size = math.ceil(test_ratio*im_count)\n",
        "        train_size = im_count - test_size\n",
        "        subfolders = ['train', 'test'] #train will be used for vdation too\n",
        "        for subfolder in subfolders:\n",
        "            new_path=os.path.join(\n",
        "                os.path.dirname(os.getcwd()), subfolder, label)\n",
        "            if not os.path.exists(new_path):\n",
        "                os.makedirs(new_path)\n",
        "        for item in range(0, train_size):\n",
        "            moved = listing.pop()\n",
        "            !mv $moved ../train/$label/$moved\n",
        "        for item in range(0, test_size):\n",
        "            moved = listing.pop()\n",
        "            !mv $moved ../test/$label/$moved\n",
        "        %cd ..\n",
        "        !rmdir ./$label"
      ],
      "execution_count": 0,
      "outputs": []
    },
    {
      "cell_type": "markdown",
      "metadata": {
        "colab_type": "text",
        "id": "M-5RyUZBZsF-"
      },
      "source": [
        "### Parameters for data loading"
      ]
    },
    {
      "cell_type": "code",
      "metadata": {
        "colab_type": "code",
        "id": "Y8EFk1_mZsGA",
        "colab": {}
      },
      "source": [
        "idg_params={'rescale': 1./255}\n",
        "batch_size=64\n",
        "augmentation_params = {'rotation_range': 15,\n",
        "                        'zoom_range': 0.15,\n",
        "                         'width_shift_range': 0.2,\n",
        "                         'height_shift_range': 0.2,\n",
        "                         'shear_range': 0.15,\n",
        "                         'fill_mode': 'nearest',\n",
        "                         'horizontal_flip': True}\n",
        "datagen_params = {'batch_size': batch_size,\n",
        "                  'target_size': (224, 224),\n",
        "                  'color_mode': 'rgb', \n",
        "                  'class_mode': 'binary'}"
      ],
      "execution_count": 0,
      "outputs": []
    },
    {
      "cell_type": "code",
      "metadata": {
        "colab_type": "code",
        "id": "O1gBXYpYZsGX",
        "colab": {}
      },
      "source": [
        "#I will use data in the train folder for both train & validate,\n",
        "# using built in splitting capabilities\n",
        "train_vdate_datagen = ImageDataGenerator(\n",
        "    **idg_params,\n",
        "    validation_split=0.2)\n",
        "train_augmented_datagen = ImageDataGenerator(\n",
        "    **idg_params,\n",
        "    **augmentation_params,\n",
        "    validation_split=0.2)\n",
        "test_datagen = ImageDataGenerator(**idg_params)"
      ],
      "execution_count": 0,
      "outputs": []
    },
    {
      "cell_type": "code",
      "metadata": {
        "colab_type": "code",
        "id": "Pv8K5RGEZsGq",
        "outputId": "892c62b0-450f-4528-9596-bde4e35cc0f0",
        "colab": {
          "base_uri": "https://localhost:8080/",
          "height": 106
        }
      },
      "source": [
        "# Flow training images using train_datagen generator\n",
        "vdate_generator = train_vdate_datagen.flow_from_directory(\n",
        "        directory=r'./train/',\n",
        "        subset='validation',\n",
        "        **datagen_params)\n",
        "train_generator = train_vdate_datagen.flow_from_directory(\n",
        "        directory=r'./train/',\n",
        "        subset='training',\n",
        "        **datagen_params)\n",
        "train_aug_generator = train_augmented_datagen.flow_from_directory(\n",
        "        directory=r'./train/',\n",
        "        subset='training',\n",
        "        **datagen_params)\n",
        "# note: augmenting val data isn't needed, but lets us use the same datagen\n",
        "vdate_aug_generator = train_augmented_datagen.flow_from_directory(\n",
        "        directory=r'./train/',\n",
        "        subset='validation',\n",
        "        **datagen_params)\n",
        "test_generator = test_datagen.flow_from_directory(\n",
        "        directory=r'./test/',\n",
        "        **datagen_params)"
      ],
      "execution_count": 10,
      "outputs": [
        {
          "output_type": "stream",
          "text": [
            "Found 862 images belonging to 2 classes.\n",
            "Found 3454 images belonging to 2 classes.\n",
            "Found 3454 images belonging to 2 classes.\n",
            "Found 862 images belonging to 2 classes.\n",
            "Found 1635 images belonging to 2 classes.\n"
          ],
          "name": "stdout"
        }
      ]
    },
    {
      "cell_type": "markdown",
      "metadata": {
        "colab_type": "text",
        "id": "NTYgKa-kZsGy"
      },
      "source": [
        "### Parameters for Modeling"
      ]
    },
    {
      "cell_type": "code",
      "metadata": {
        "colab_type": "code",
        "id": "qk9tkxbgZsHY",
        "colab": {}
      },
      "source": [
        "n_epochs = 35\n",
        "learning_rate = 0.000_5\n",
        "loss = 'binary_crossentropy'"
      ],
      "execution_count": 0,
      "outputs": []
    },
    {
      "cell_type": "markdown",
      "metadata": {
        "id": "gOb3S2RmSAin",
        "colab_type": "text"
      },
      "source": [
        "### Get Class Weights"
      ]
    },
    {
      "cell_type": "code",
      "metadata": {
        "colab_type": "code",
        "id": "lC6hVbAbZsHk",
        "outputId": "2c9e68dc-538f-43dc-9270-3d402a091dc6",
        "colab": {
          "base_uri": "https://localhost:8080/",
          "height": 35
        }
      },
      "source": [
        "imagecount = {}\n",
        "sidewalk_image_count = ! cd ./train/sidewalk/ && ls | wc -l\n",
        "no_sidewalk_image_count = ! cd ./train/no_sidewalk/ && ls | wc -l\n",
        "imagecount['sidewalk'] = int(sidewalk_image_count.nlstr)\n",
        "imagecount['no_sidewalk'] = int(no_sidewalk_image_count.nlstr)\n",
        "imagecount['total'] = imagecount['sidewalk'] + imagecount['no_sidewalk']\n",
        "print(imagecount)"
      ],
      "execution_count": 12,
      "outputs": [
        {
          "output_type": "stream",
          "text": [
            "{'sidewalk': 3342, 'no_sidewalk': 974, 'total': 4316}\n"
          ],
          "name": "stdout"
        }
      ]
    },
    {
      "cell_type": "code",
      "metadata": {
        "colab_type": "code",
        "id": "3LPAaycjZsHt",
        "outputId": "9351520d-1306-4baa-908b-aa76ad38a466",
        "colab": {
          "base_uri": "https://localhost:8080/",
          "height": 35
        }
      },
      "source": [
        "#adjust weights to equivalent between classes\n",
        "class_weight = {}\n",
        "class_weight['sidewalk'] = (\n",
        "    .5 / imagecount['sidewalk']) * imagecount['total']\n",
        "class_weight['no_sidewalk'] = (\n",
        "    .5 / imagecount['no_sidewalk']) * imagecount['total']\n",
        "class_weight"
      ],
      "execution_count": 13,
      "outputs": [
        {
          "output_type": "execute_result",
          "data": {
            "text/plain": [
              "{'no_sidewalk': 2.2156057494866532, 'sidewalk': 0.6457211250748055}"
            ]
          },
          "metadata": {
            "tags": []
          },
          "execution_count": 13
        }
      ]
    },
    {
      "cell_type": "code",
      "metadata": {
        "colab_type": "code",
        "id": "CZnmeVP3ZsIL",
        "outputId": "044fa6c4-a02e-4a3d-9ef3-cc6f4f833d63",
        "colab": {
          "base_uri": "https://localhost:8080/",
          "height": 35
        }
      },
      "source": [
        "class_id = train_generator.class_indices\n",
        "#class ids are floats ## OR NOT depends on tf version??!\n",
        "class_id = {key: int(value) for (key,value) in class_id.items()}\n",
        "class_weight[class_id['sidewalk']] = class_weight.pop('sidewalk')\n",
        "class_weight[class_id['no_sidewalk']] = class_weight.pop('no_sidewalk')\n",
        "class_weight"
      ],
      "execution_count": 14,
      "outputs": [
        {
          "output_type": "execute_result",
          "data": {
            "text/plain": [
              "{0: 2.2156057494866532, 1: 0.6457211250748055}"
            ]
          },
          "metadata": {
            "tags": []
          },
          "execution_count": 14
        }
      ]
    },
    {
      "cell_type": "code",
      "metadata": {
        "colab_type": "code",
        "id": "7Mx6UmCXZsIR",
        "outputId": "a8f5f087-50c1-42bc-cea9-a7aeeb4551b5",
        "colab": {
          "base_uri": "https://localhost:8080/",
          "height": 35
        }
      },
      "source": [
        "#generator based caluculations\n",
        "input_shape = train_generator.next()[0].shape[1:]\n",
        "total_train_samples = train_generator.n\n",
        "total_vdate_samples = vdate_generator.n\n",
        "input_shape"
      ],
      "execution_count": 15,
      "outputs": [
        {
          "output_type": "execute_result",
          "data": {
            "text/plain": [
              "(224, 224, 3)"
            ]
          },
          "metadata": {
            "tags": []
          },
          "execution_count": 15
        }
      ]
    },
    {
      "cell_type": "markdown",
      "metadata": {
        "colab_type": "text",
        "id": "QM7wMgQGZsIY"
      },
      "source": [
        "### Setup Metrics and Visualizations"
      ]
    },
    {
      "cell_type": "markdown",
      "metadata": {
        "colab_type": "text",
        "id": "fGPnw-QlZsIa"
      },
      "source": [
        "Use Matthew Correlation Coefficient to take into account all four quadrants of confusion matrix, while remaining robust to imbalanced classes. The dataset we are working with has minor imbalance."
      ]
    },
    {
      "cell_type": "code",
      "metadata": {
        "colab_type": "code",
        "id": "XPbvJ-HqZsIc",
        "colab": {}
      },
      "source": [
        "# if y_pred > threshold we predict true. \n",
        "# Sometimes we set this to something different to 0.5 if we have unbalanced categories\n",
        "threshold = 0.5  \n",
        "def matthews_correlation(y_true, y_pred):\n",
        "  predicted = tf.cast(tf.greater(y_pred, threshold), tf.float32)\n",
        "  true_pos = tf.math.count_nonzero(predicted * y_true)\n",
        "  true_neg = tf.math.count_nonzero((predicted - 1) * (y_true - 1))\n",
        "  false_pos = tf.math.count_nonzero(predicted * (y_true - 1))\n",
        "  false_neg = tf.math.count_nonzero((predicted - 1) * y_true)\n",
        "  x = tf.cast((true_pos + false_pos) * (true_pos + false_neg) \n",
        "      * (true_neg + false_pos) * (true_neg + false_neg), tf.float32)\n",
        "  return tf.cast((true_pos * true_neg) - (false_pos * false_neg), tf.float32) / tf.sqrt(x)"
      ],
      "execution_count": 0,
      "outputs": []
    },
    {
      "cell_type": "code",
      "metadata": {
        "colab_type": "code",
        "id": "0ZpV0tdhZsJA",
        "colab": {}
      },
      "source": [
        "colors = plt.rcParams['axes.prop_cycle'].by_key()['color']\n",
        "\n",
        "def history_plotter(history, n_epochs=n_epochs, plot_validation=True): \n",
        "    '''plot the training loss and accuracy\n",
        "    plot_validation exists because valdation not working in model\n",
        "    '''\n",
        "    n_epochs_range = np.arange(0, n_epochs)\n",
        "    plt.style.use(\"ggplot\")\n",
        "    fig, (ax1, ax2) = plt.subplots(nrows=1, ncols=2, sharex=True, sharey=True,\n",
        "                                  figsize=(15,7))\n",
        "    ax1.plot(n_epochs_range, history.history[\"loss\"], label=\"Loss\")\n",
        "    ax1.plot(n_epochs_range, history.history[\"accuracy\"], label=\"Accuracy\")\n",
        "    ax1.plot(n_epochs_range, history.history['auc'], label='Area Under ROC')\n",
        "    ax1.plot(n_epochs_range, history.history['matthews_correlation'], label=\"Matthews Coef\")\n",
        "    if plot_validation:\n",
        "        ax2.plot(n_epochs_range, history.history[\"val_loss\"], label=\"loss\")\n",
        "        ax2.plot(n_epochs_range, history.history[\"val_accuracy\"], label=\"Accuracy\")\n",
        "        ax2.plot(n_epochs_range, history.history[\"val_auc\"], label=\"Area Under ROC\")\n",
        "        ax2.plot(n_epochs_range, history.history[\"val_matthews_correlation\"], label=\"Matthews Coef\")\n",
        "    \n",
        "    ax1.set_title(\"Training Metrics\")\n",
        "    ax2.set_title(\"Validation Metrics\")\n",
        "    ax1.set_xlabel(\"Epoch\"); ax2.set_xlabel(\"Epoch\")\n",
        "    ax1.set_ylabel(\"Metric Score\")\n",
        "    ax1.legend(loc='upper left'); ax2.legend(loc='upper left')"
      ],
      "execution_count": 0,
      "outputs": []
    },
    {
      "cell_type": "markdown",
      "metadata": {
        "colab_type": "text",
        "id": "AeJAcvH7ZsJf"
      },
      "source": [
        "### Convolutional Model"
      ]
    },
    {
      "cell_type": "code",
      "metadata": {
        "colab_type": "code",
        "id": "nq2kJ7znZsIj",
        "colab": {}
      },
      "source": [
        "METRICS = [\n",
        "      tf.keras.metrics.BinaryAccuracy(name='accuracy'),\n",
        "      tf.keras.metrics.AUC(name='auc'),\n",
        "      matthews_correlation]"
      ],
      "execution_count": 0,
      "outputs": []
    },
    {
      "cell_type": "code",
      "metadata": {
        "colab_type": "code",
        "id": "EbwtQSZ3ZsJh",
        "outputId": "6ab56e18-19d8-4611-8be9-dcc556e254fe",
        "scrolled": true,
        "colab": {
          "base_uri": "https://localhost:8080/",
          "height": 728
        }
      },
      "source": [
        "conv_model = tf.keras.models.Sequential()\n",
        "conv_model.add(Conv2D(32, kernel_size=(5,5),\n",
        "                 activation='relu',\n",
        "                 input_shape=input_shape,\n",
        "                 kernel_initializer='he_uniform'))\n",
        "conv_model.add(MaxPooling2D(pool_size=(3, 3)))\n",
        "conv_model.add(BatchNormalization())\n",
        "conv_model.add(Dropout(0.5))\n",
        "conv_model.add(Conv2D(64, (3, 3), activation='relu', kernel_initializer='he_uniform'))\n",
        "conv_model.add(MaxPooling2D(pool_size=(2, 2)))\n",
        "conv_model.add(BatchNormalization())\n",
        "conv_model.add(Dropout(0.5))\n",
        "conv_model.add(Flatten())\n",
        "conv_model.add(Dense(64, activation='relu'))\n",
        "conv_model.add(BatchNormalization())\n",
        "conv_model.add(Dropout(0.5))\n",
        "conv_model.add(Dense(16, activation='relu'))\n",
        "conv_model.add(BatchNormalization())\n",
        "conv_model.add(Dropout(0.5))\n",
        "conv_model.add(Dense(1, activation='sigmoid'))\n",
        "\n",
        "conv_model.compile(loss=tf.keras.losses.binary_crossentropy,\n",
        "              optimizer=tf.keras.optimizers.Adam(lr=.0005), \n",
        "              metrics=METRICS)\n",
        "conv_model.summary()"
      ],
      "execution_count": 19,
      "outputs": [
        {
          "output_type": "stream",
          "text": [
            "Model: \"sequential\"\n",
            "_________________________________________________________________\n",
            "Layer (type)                 Output Shape              Param #   \n",
            "=================================================================\n",
            "conv2d (Conv2D)              (None, 220, 220, 32)      2432      \n",
            "_________________________________________________________________\n",
            "max_pooling2d (MaxPooling2D) (None, 73, 73, 32)        0         \n",
            "_________________________________________________________________\n",
            "batch_normalization (BatchNo (None, 73, 73, 32)        128       \n",
            "_________________________________________________________________\n",
            "dropout (Dropout)            (None, 73, 73, 32)        0         \n",
            "_________________________________________________________________\n",
            "conv2d_1 (Conv2D)            (None, 71, 71, 64)        18496     \n",
            "_________________________________________________________________\n",
            "max_pooling2d_1 (MaxPooling2 (None, 35, 35, 64)        0         \n",
            "_________________________________________________________________\n",
            "batch_normalization_1 (Batch (None, 35, 35, 64)        256       \n",
            "_________________________________________________________________\n",
            "dropout_1 (Dropout)          (None, 35, 35, 64)        0         \n",
            "_________________________________________________________________\n",
            "flatten (Flatten)            (None, 78400)             0         \n",
            "_________________________________________________________________\n",
            "dense (Dense)                (None, 64)                5017664   \n",
            "_________________________________________________________________\n",
            "batch_normalization_2 (Batch (None, 64)                256       \n",
            "_________________________________________________________________\n",
            "dropout_2 (Dropout)          (None, 64)                0         \n",
            "_________________________________________________________________\n",
            "dense_1 (Dense)              (None, 16)                1040      \n",
            "_________________________________________________________________\n",
            "batch_normalization_3 (Batch (None, 16)                64        \n",
            "_________________________________________________________________\n",
            "dropout_3 (Dropout)          (None, 16)                0         \n",
            "_________________________________________________________________\n",
            "dense_2 (Dense)              (None, 1)                 17        \n",
            "=================================================================\n",
            "Total params: 5,040,353\n",
            "Trainable params: 5,040,001\n",
            "Non-trainable params: 352\n",
            "_________________________________________________________________\n"
          ],
          "name": "stdout"
        }
      ]
    },
    {
      "cell_type": "code",
      "metadata": {
        "id": "voks4Wba7RLD",
        "colab_type": "code",
        "colab": {}
      },
      "source": [
        "if IN_COLAB:\n",
        "    save_model_path = r'/content/gdrive/My Drive/thinkful/colab_datasets/sidewalk_data/models/conv_classif_weights.hdf5'\n",
        "    save_model_aug_path = r'/content/gdrive/My Drive/thinkful/colab_datasets/sidewalk_data/models/conv_aug_classif_weights.hdf5'\n",
        "\n",
        "else:\n",
        "    save_model_path = os.path.expanduser(r'~/Google Drive/thinkful/colab_datasets/sidewalk_data/models/conv_classif_weights.hdf5')\n",
        "    save_model_aug_path = os.path.expanduser(r'~/Google Drive/thinkful/colab_datasets/sidewalk_data/models/conv_aug_classif_weights.hdf5')\n",
        "\n",
        "checkp_params = dict(monitor='val_matthews_correlation', \n",
        "                         save_best_only=True, \n",
        "                         mode='max',\n",
        "                         verbose=1)\n",
        "\n",
        "cb = ModelCheckpoint(filepath=save_model_path, **checkp_params)\n",
        "cb_aug = ModelCheckpoint(filepath=save_model_aug_path, **checkp_params)\n",
        "fit_params=dict(steps_per_epoch=int(total_train_samples/batch_size),\n",
        "                validation_steps=int(total_vdate_samples/batch_size),  \n",
        "                epochs=n_epochs,\n",
        "                verbose=1,\n",
        "                use_multiprocessing=False,\n",
        "                class_weight=class_weight,\n",
        "                )"
      ],
      "execution_count": 0,
      "outputs": []
    },
    {
      "cell_type": "code",
      "metadata": {
        "colab_type": "code",
        "id": "ylwnCKdsZsJp",
        "outputId": "69123b92-4385-4992-961a-f50dbb5afa81",
        "colab": {
          "base_uri": "https://localhost:8080/",
          "height": 1000
        }
      },
      "source": [
        "conv_history = conv_model.fit(\n",
        "        train_generator, \n",
        "        validation_data=vdate_generator,\n",
        "        callbacks=[cb],\n",
        "        **fit_params)"
      ],
      "execution_count": 26,
      "outputs": [
        {
          "output_type": "stream",
          "text": [
            "WARNING:tensorflow:sample_weight modes were coerced from\n",
            "  ...\n",
            "    to  \n",
            "  ['...']\n",
            "WARNING:tensorflow:sample_weight modes were coerced from\n",
            "  ...\n",
            "    to  \n",
            "  ['...']\n",
            "Train for 53 steps, validate for 13 steps\n",
            "Epoch 1/25\n",
            "52/53 [============================>.] - ETA: 0s - loss: 0.7002 - accuracy: 0.6248 - auc: 0.7013 - matthews_correlation: 0.2457\n",
            "Epoch 00001: val_matthews_correlation did not improve from -inf\n",
            "53/53 [==============================] - 31s 579ms/step - loss: 0.6962 - accuracy: 0.6271 - auc: 0.7050 - matthews_correlation: 0.2514 - val_loss: 1.5204 - val_accuracy: 0.2272 - val_auc: 0.7134 - val_matthews_correlation: nan\n",
            "Epoch 2/25\n",
            "52/53 [============================>.] - ETA: 0s - loss: 0.6446 - accuracy: 0.6687 - auc: 0.7398 - matthews_correlation: 0.3061\n",
            "Epoch 00002: val_matthews_correlation did not improve from -inf\n",
            "53/53 [==============================] - 29s 555ms/step - loss: 0.6404 - accuracy: 0.6699 - auc: 0.7420 - matthews_correlation: 0.3098 - val_loss: 2.2204 - val_accuracy: 0.2272 - val_auc: 0.7029 - val_matthews_correlation: nan\n",
            "Epoch 3/25\n",
            "52/53 [============================>.] - ETA: 0s - loss: 0.5812 - accuracy: 0.7048 - auc: 0.7836 - matthews_correlation: 0.3596\n",
            "Epoch 00003: val_matthews_correlation did not improve from -inf\n",
            "53/53 [==============================] - 29s 550ms/step - loss: 0.5813 - accuracy: 0.7059 - auc: 0.7838 - matthews_correlation: 0.3607 - val_loss: 2.1986 - val_accuracy: 0.2272 - val_auc: 0.7338 - val_matthews_correlation: nan\n",
            "Epoch 4/25\n",
            "52/53 [============================>.] - ETA: 0s - loss: 0.5604 - accuracy: 0.7354 - auc: 0.8018 - matthews_correlation: 0.4066\n",
            "Epoch 00004: val_matthews_correlation did not improve from -inf\n",
            "53/53 [==============================] - 29s 550ms/step - loss: 0.5602 - accuracy: 0.7348 - auc: 0.8015 - matthews_correlation: 0.4052 - val_loss: 2.1945 - val_accuracy: 0.2272 - val_auc: 0.7338 - val_matthews_correlation: nan\n",
            "Epoch 5/25\n",
            "52/53 [============================>.] - ETA: 0s - loss: 0.5232 - accuracy: 0.7610 - auc: 0.8282 - matthews_correlation: 0.4623\n",
            "Epoch 00005: val_matthews_correlation did not improve from -inf\n",
            "53/53 [==============================] - 29s 547ms/step - loss: 0.5274 - accuracy: 0.7605 - auc: 0.8252 - matthews_correlation: 0.4603 - val_loss: 1.6183 - val_accuracy: 0.2272 - val_auc: 0.7402 - val_matthews_correlation: nan\n",
            "Epoch 6/25\n",
            "52/53 [============================>.] - ETA: 0s - loss: 0.5040 - accuracy: 0.7655 - auc: 0.8417 - matthews_correlation: 0.4666\n",
            "Epoch 00006: val_matthews_correlation did not improve from -inf\n",
            "53/53 [==============================] - 30s 559ms/step - loss: 0.5059 - accuracy: 0.7646 - auc: 0.8401 - matthews_correlation: 0.4652 - val_loss: 1.7163 - val_accuracy: 0.2272 - val_auc: 0.7722 - val_matthews_correlation: nan\n",
            "Epoch 7/25\n",
            "52/53 [============================>.] - ETA: 0s - loss: 0.4807 - accuracy: 0.7968 - auc: 0.8610 - matthews_correlation: 0.5277\n",
            "Epoch 00007: val_matthews_correlation did not improve from -inf\n",
            "53/53 [==============================] - 29s 549ms/step - loss: 0.4791 - accuracy: 0.7982 - auc: 0.8621 - matthews_correlation: 0.5306 - val_loss: 1.0565 - val_accuracy: 0.2392 - val_auc: 0.7792 - val_matthews_correlation: nan\n",
            "Epoch 8/25\n",
            "52/53 [============================>.] - ETA: 0s - loss: 0.4536 - accuracy: 0.7901 - auc: 0.8736 - matthews_correlation: 0.5180\n",
            "Epoch 00008: val_matthews_correlation did not improve from -inf\n",
            "53/53 [==============================] - 29s 551ms/step - loss: 0.4518 - accuracy: 0.7914 - auc: 0.8749 - matthews_correlation: 0.5208 - val_loss: 1.3254 - val_accuracy: 0.2296 - val_auc: 0.7808 - val_matthews_correlation: nan\n",
            "Epoch 9/25\n",
            "52/53 [============================>.] - ETA: 0s - loss: 0.4117 - accuracy: 0.8169 - auc: 0.9020 - matthews_correlation: 0.5700\n",
            "Epoch 00009: val_matthews_correlation improved from -inf to 0.15087, saving model to /content/gdrive/My Drive/thinkful/colab_datasets/sidewalk_data/models/conv_classif_weights.hdf5\n",
            "53/53 [==============================] - 30s 571ms/step - loss: 0.4122 - accuracy: 0.8162 - auc: 0.9012 - matthews_correlation: 0.5678 - val_loss: 0.9804 - val_accuracy: 0.3053 - val_auc: 0.7671 - val_matthews_correlation: 0.1509\n",
            "Epoch 10/25\n",
            "52/53 [============================>.] - ETA: 0s - loss: 0.4034 - accuracy: 0.8283 - auc: 0.9059 - matthews_correlation: 0.5922\n",
            "Epoch 00010: val_matthews_correlation did not improve from 0.15087\n",
            "53/53 [==============================] - 29s 556ms/step - loss: 0.4030 - accuracy: 0.8286 - auc: 0.9061 - matthews_correlation: 0.5922 - val_loss: 1.1041 - val_accuracy: 0.3149 - val_auc: 0.7768 - val_matthews_correlation: 0.1379\n",
            "Epoch 11/25\n",
            "52/53 [============================>.] - ETA: 0s - loss: 0.3755 - accuracy: 0.8450 - auc: 0.9185 - matthews_correlation: 0.6345\n",
            "Epoch 00011: val_matthews_correlation improved from 0.15087 to 0.31225, saving model to /content/gdrive/My Drive/thinkful/colab_datasets/sidewalk_data/models/conv_classif_weights.hdf5\n",
            "53/53 [==============================] - 30s 573ms/step - loss: 0.3735 - accuracy: 0.8446 - auc: 0.9192 - matthews_correlation: 0.6342 - val_loss: 0.6345 - val_accuracy: 0.6034 - val_auc: 0.7786 - val_matthews_correlation: 0.3123\n",
            "Epoch 12/25\n",
            "52/53 [============================>.] - ETA: 0s - loss: 0.3544 - accuracy: 0.8479 - auc: 0.9276 - matthews_correlation: 0.6326\n",
            "Epoch 00012: val_matthews_correlation improved from 0.31225 to 0.35021, saving model to /content/gdrive/My Drive/thinkful/colab_datasets/sidewalk_data/models/conv_classif_weights.hdf5\n",
            "53/53 [==============================] - 30s 570ms/step - loss: 0.3530 - accuracy: 0.8484 - auc: 0.9284 - matthews_correlation: 0.6346 - val_loss: 0.6302 - val_accuracy: 0.6827 - val_auc: 0.7829 - val_matthews_correlation: 0.3502\n",
            "Epoch 13/25\n",
            "52/53 [============================>.] - ETA: 0s - loss: 0.3212 - accuracy: 0.8614 - auc: 0.9419 - matthews_correlation: 0.6627\n",
            "Epoch 00013: val_matthews_correlation did not improve from 0.35021\n",
            "53/53 [==============================] - 30s 557ms/step - loss: 0.3197 - accuracy: 0.8608 - auc: 0.9423 - matthews_correlation: 0.6615 - val_loss: 1.1518 - val_accuracy: 0.3438 - val_auc: 0.7808 - val_matthews_correlation: 0.1722\n",
            "Epoch 14/25\n",
            "52/53 [============================>.] - ETA: 0s - loss: 0.3090 - accuracy: 0.8764 - auc: 0.9453 - matthews_correlation: 0.6888\n",
            "Epoch 00014: val_matthews_correlation did not improve from 0.35021\n",
            "53/53 [==============================] - 30s 557ms/step - loss: 0.3095 - accuracy: 0.8758 - auc: 0.9451 - matthews_correlation: 0.6870 - val_loss: 1.7240 - val_accuracy: 0.2764 - val_auc: 0.7669 - val_matthews_correlation: nan\n",
            "Epoch 15/25\n",
            "52/53 [============================>.] - ETA: 0s - loss: 0.2888 - accuracy: 0.8821 - auc: 0.9526 - matthews_correlation: 0.7103\n",
            "Epoch 00015: val_matthews_correlation did not improve from 0.35021\n",
            "53/53 [==============================] - 29s 555ms/step - loss: 0.2887 - accuracy: 0.8826 - auc: 0.9527 - matthews_correlation: 0.7113 - val_loss: 0.9300 - val_accuracy: 0.4459 - val_auc: 0.7765 - val_matthews_correlation: 0.2365\n",
            "Epoch 16/25\n",
            "52/53 [============================>.] - ETA: 0s - loss: 0.2713 - accuracy: 0.8915 - auc: 0.9571 - matthews_correlation: 0.7271\n",
            "Epoch 00016: val_matthews_correlation improved from 0.35021 to 0.35121, saving model to /content/gdrive/My Drive/thinkful/colab_datasets/sidewalk_data/models/conv_classif_weights.hdf5\n",
            "53/53 [==============================] - 30s 573ms/step - loss: 0.2713 - accuracy: 0.8929 - auc: 0.9571 - matthews_correlation: 0.7308 - val_loss: 0.7049 - val_accuracy: 0.7067 - val_auc: 0.7715 - val_matthews_correlation: 0.3512\n",
            "Epoch 17/25\n",
            "52/53 [============================>.] - ETA: 0s - loss: 0.2505 - accuracy: 0.9029 - auc: 0.9642 - matthews_correlation: 0.7525\n",
            "Epoch 00017: val_matthews_correlation improved from 0.35121 to 0.35502, saving model to /content/gdrive/My Drive/thinkful/colab_datasets/sidewalk_data/models/conv_classif_weights.hdf5\n",
            "53/53 [==============================] - 31s 581ms/step - loss: 0.2500 - accuracy: 0.9032 - auc: 0.9642 - matthews_correlation: 0.7530 - val_loss: 0.7932 - val_accuracy: 0.6875 - val_auc: 0.7891 - val_matthews_correlation: 0.3550\n",
            "Epoch 18/25\n",
            "52/53 [============================>.] - ETA: 0s - loss: 0.2361 - accuracy: 0.8996 - auc: 0.9678 - matthews_correlation: 0.7497\n",
            "Epoch 00018: val_matthews_correlation did not improve from 0.35502\n",
            "53/53 [==============================] - 29s 555ms/step - loss: 0.2339 - accuracy: 0.9006 - auc: 0.9685 - matthews_correlation: 0.7522 - val_loss: 0.7255 - val_accuracy: 0.6382 - val_auc: 0.7665 - val_matthews_correlation: 0.3166\n",
            "Epoch 19/25\n",
            "52/53 [============================>.] - ETA: 0s - loss: 0.2210 - accuracy: 0.9140 - auc: 0.9724 - matthews_correlation: 0.7784\n",
            "Epoch 00019: val_matthews_correlation did not improve from 0.35502\n",
            "53/53 [==============================] - 29s 554ms/step - loss: 0.2221 - accuracy: 0.9139 - auc: 0.9720 - matthews_correlation: 0.7784 - val_loss: 1.5947 - val_accuracy: 0.3570 - val_auc: 0.7619 - val_matthews_correlation: 0.1919\n",
            "Epoch 20/25\n",
            "52/53 [============================>.] - ETA: 0s - loss: 0.2104 - accuracy: 0.9212 - auc: 0.9744 - matthews_correlation: 0.7945\n",
            "Epoch 00020: val_matthews_correlation did not improve from 0.35502\n",
            "53/53 [==============================] - 30s 558ms/step - loss: 0.2105 - accuracy: 0.9218 - auc: 0.9742 - matthews_correlation: 0.7961 - val_loss: 1.9225 - val_accuracy: 0.3906 - val_auc: 0.7311 - val_matthews_correlation: 0.2105\n",
            "Epoch 21/25\n",
            "52/53 [============================>.] - ETA: 0s - loss: 0.1910 - accuracy: 0.9287 - auc: 0.9781 - matthews_correlation: 0.8137\n",
            "Epoch 00021: val_matthews_correlation did not improve from 0.35502\n",
            "53/53 [==============================] - 30s 558ms/step - loss: 0.1902 - accuracy: 0.9292 - auc: 0.9783 - matthews_correlation: 0.8149 - val_loss: 0.8329 - val_accuracy: 0.5901 - val_auc: 0.7847 - val_matthews_correlation: 0.3158\n",
            "Epoch 22/25\n",
            "52/53 [============================>.] - ETA: 0s - loss: 0.1821 - accuracy: 0.9317 - auc: 0.9815 - matthews_correlation: 0.8204\n",
            "Epoch 00022: val_matthews_correlation did not improve from 0.35502\n",
            "53/53 [==============================] - 29s 556ms/step - loss: 0.1827 - accuracy: 0.9327 - auc: 0.9813 - matthews_correlation: 0.8230 - val_loss: 1.2688 - val_accuracy: 0.4615 - val_auc: 0.7652 - val_matthews_correlation: 0.2626\n",
            "Epoch 23/25\n",
            "52/53 [============================>.] - ETA: 0s - loss: 0.1629 - accuracy: 0.9408 - auc: 0.9851 - matthews_correlation: 0.8457\n",
            "Epoch 00023: val_matthews_correlation improved from 0.35502 to 0.38051, saving model to /content/gdrive/My Drive/thinkful/colab_datasets/sidewalk_data/models/conv_classif_weights.hdf5\n",
            "53/53 [==============================] - 31s 577ms/step - loss: 0.1622 - accuracy: 0.9407 - auc: 0.9852 - matthews_correlation: 0.8452 - val_loss: 0.7917 - val_accuracy: 0.7620 - val_auc: 0.7715 - val_matthews_correlation: 0.3805\n",
            "Epoch 24/25\n",
            "52/53 [============================>.] - ETA: 0s - loss: 0.1541 - accuracy: 0.9396 - auc: 0.9868 - matthews_correlation: 0.8393\n",
            "Epoch 00024: val_matthews_correlation did not improve from 0.38051\n",
            "53/53 [==============================] - 30s 562ms/step - loss: 0.1562 - accuracy: 0.9386 - auc: 0.9864 - matthews_correlation: 0.8365 - val_loss: 0.7315 - val_accuracy: 0.6935 - val_auc: 0.7633 - val_matthews_correlation: 0.3178\n",
            "Epoch 25/25\n",
            "52/53 [============================>.] - ETA: 0s - loss: 0.1484 - accuracy: 0.9495 - auc: 0.9873 - matthews_correlation: 0.8614\n",
            "Epoch 00025: val_matthews_correlation did not improve from 0.38051\n",
            "53/53 [==============================] - 30s 566ms/step - loss: 0.1491 - accuracy: 0.9481 - auc: 0.9872 - matthews_correlation: 0.8576 - val_loss: 3.2045 - val_accuracy: 0.2368 - val_auc: 0.6627 - val_matthews_correlation: nan\n"
          ],
          "name": "stdout"
        }
      ]
    },
    {
      "cell_type": "code",
      "metadata": {
        "colab_type": "code",
        "id": "jk8uidBpZsJu",
        "outputId": "61bbae9b-b598-4424-b2ad-b891c6b9240c",
        "scrolled": false,
        "colab": {
          "base_uri": "https://localhost:8080/",
          "height": 462
        }
      },
      "source": [
        "history_plotter(history=conv_history, n_epochs=n_epochs, plot_validation=True)"
      ],
      "execution_count": 27,
      "outputs": [
        {
          "output_type": "display_data",
          "data": {
            "image/png": "[encoded data removed]",
            "text/plain": [
              "<Figure size 1080x504 with 2 Axes>"
            ]
          },
          "metadata": {
            "tags": []
          }
        }
      ]
    },
    {
      "cell_type": "code",
      "metadata": {
        "id": "lf8OOG-qcEJc",
        "colab_type": "code",
        "colab": {
          "base_uri": "https://localhost:8080/",
          "height": 1000
        },
        "outputId": "d717c348-79ae-4286-bdea-3533e0eff31a"
      },
      "source": [
        "conv_aug_history = conv_model.fit(\n",
        "        train_aug_generator, \n",
        "        validation_data=vdate_aug_generator,\n",
        "        callbacks=[cb_aug],\n",
        "        **fit_params)"
      ],
      "execution_count": 21,
      "outputs": [
        {
          "output_type": "stream",
          "text": [
            "WARNING:tensorflow:sample_weight modes were coerced from\n",
            "  ...\n",
            "    to  \n",
            "  ['...']\n",
            "WARNING:tensorflow:sample_weight modes were coerced from\n",
            "  ...\n",
            "    to  \n",
            "  ['...']\n",
            "Train for 53 steps, validate for 13 steps\n",
            "Epoch 1/35\n",
            "52/53 [============================>.] - ETA: 22s - loss: 0.8272 - accuracy: 0.6191 - auc: 0.6740 - matthews_correlation: 0.2175\n",
            "Epoch 00001: val_matthews_correlation did not improve from -inf\n",
            "53/53 [==============================] - 1461s 28s/step - loss: 0.8339 - accuracy: 0.6183 - auc: 0.6716 - matthews_correlation: 0.2164 - val_loss: 2.4261 - val_accuracy: 0.2248 - val_auc: 0.5889 - val_matthews_correlation: nan\n",
            "Epoch 2/35\n",
            "52/53 [============================>.] - ETA: 1s - loss: 0.7697 - accuracy: 0.6350 - auc: 0.6910 - matthews_correlation: 0.2360\n",
            "Epoch 00002: val_matthews_correlation did not improve from -inf\n",
            "53/53 [==============================] - 78s 1s/step - loss: 0.7712 - accuracy: 0.6357 - auc: 0.6906 - matthews_correlation: 0.2375 - val_loss: 3.4530 - val_accuracy: 0.2248 - val_auc: 0.4895 - val_matthews_correlation: nan\n",
            "Epoch 3/35\n",
            "52/53 [============================>.] - ETA: 1s - loss: 0.7580 - accuracy: 0.6506 - auc: 0.7002 - matthews_correlation: 0.2564\n",
            "Epoch 00003: val_matthews_correlation did not improve from -inf\n",
            "53/53 [==============================] - 78s 1s/step - loss: 0.7579 - accuracy: 0.6510 - auc: 0.7002 - matthews_correlation: 0.2562 - val_loss: 3.8657 - val_accuracy: 0.2248 - val_auc: 0.4989 - val_matthews_correlation: nan\n",
            "Epoch 4/35\n",
            "52/53 [============================>.] - ETA: 1s - loss: 0.6939 - accuracy: 0.6693 - auc: 0.7340 - matthews_correlation: 0.2921\n",
            "Epoch 00004: val_matthews_correlation did not improve from -inf\n",
            "53/53 [==============================] - 77s 1s/step - loss: 0.6927 - accuracy: 0.6705 - auc: 0.7348 - matthews_correlation: 0.2943 - val_loss: 2.8977 - val_accuracy: 0.2248 - val_auc: 0.5737 - val_matthews_correlation: nan\n",
            "Epoch 5/35\n",
            "52/53 [============================>.] - ETA: 1s - loss: 0.7157 - accuracy: 0.6855 - auc: 0.7201 - matthews_correlation: 0.2978\n",
            "Epoch 00005: val_matthews_correlation did not improve from -inf\n",
            "53/53 [==============================] - 77s 1s/step - loss: 0.7165 - accuracy: 0.6853 - auc: 0.7196 - matthews_correlation: 0.2964 - val_loss: 3.1227 - val_accuracy: 0.2248 - val_auc: 0.5476 - val_matthews_correlation: nan\n",
            "Epoch 6/35\n",
            "52/53 [============================>.] - ETA: 1s - loss: 0.6808 - accuracy: 0.6870 - auc: 0.7354 - matthews_correlation: 0.3055\n",
            "Epoch 00006: val_matthews_correlation did not improve from -inf\n",
            "53/53 [==============================] - 77s 1s/step - loss: 0.6795 - accuracy: 0.6870 - auc: 0.7365 - matthews_correlation: 0.3066 - val_loss: 3.2891 - val_accuracy: 0.2248 - val_auc: 0.5221 - val_matthews_correlation: nan\n",
            "Epoch 7/35\n",
            "52/53 [============================>.] - ETA: 1s - loss: 0.6624 - accuracy: 0.6894 - auc: 0.7406 - matthews_correlation: 0.3136\n",
            "Epoch 00007: val_matthews_correlation did not improve from -inf\n",
            "53/53 [==============================] - 76s 1s/step - loss: 0.6628 - accuracy: 0.6897 - auc: 0.7405 - matthews_correlation: 0.3138 - val_loss: 2.5311 - val_accuracy: 0.2248 - val_auc: 0.6710 - val_matthews_correlation: nan\n",
            "Epoch 8/35\n",
            "52/53 [============================>.] - ETA: 1s - loss: 0.6464 - accuracy: 0.6963 - auc: 0.7501 - matthews_correlation: 0.3333\n",
            "Epoch 00008: val_matthews_correlation did not improve from -inf\n",
            "53/53 [==============================] - 76s 1s/step - loss: 0.6427 - accuracy: 0.6982 - auc: 0.7530 - matthews_correlation: 0.3382 - val_loss: 1.9468 - val_accuracy: 0.2260 - val_auc: 0.7449 - val_matthews_correlation: nan\n",
            "Epoch 9/35\n",
            "52/53 [============================>.] - ETA: 1s - loss: 0.6208 - accuracy: 0.7060 - auc: 0.7605 - matthews_correlation: 0.3467\n",
            "Epoch 00009: val_matthews_correlation did not improve from -inf\n",
            "53/53 [==============================] - 77s 1s/step - loss: 0.6250 - accuracy: 0.7065 - auc: 0.7597 - matthews_correlation: 0.3483 - val_loss: 1.3800 - val_accuracy: 0.2464 - val_auc: 0.7420 - val_matthews_correlation: nan\n",
            "Epoch 10/35\n",
            "52/53 [============================>.] - ETA: 1s - loss: 0.6165 - accuracy: 0.7174 - auc: 0.7636 - matthews_correlation: 0.3484\n",
            "Epoch 00010: val_matthews_correlation improved from -inf to 0.09739, saving model to /content/gdrive/My Drive/thinkful/colab_datasets/sidewalk_data/models/conv_aug_classif_weights.hdf5\n",
            "53/53 [==============================] - 79s 1s/step - loss: 0.6155 - accuracy: 0.7174 - auc: 0.7636 - matthews_correlation: 0.3473 - val_loss: 1.3325 - val_accuracy: 0.2572 - val_auc: 0.7506 - val_matthews_correlation: 0.0974\n",
            "Epoch 11/35\n",
            "52/53 [============================>.] - ETA: 1s - loss: 0.6075 - accuracy: 0.7216 - auc: 0.7704 - matthews_correlation: 0.3768\n",
            "Epoch 00011: val_matthews_correlation did not improve from 0.09739\n",
            "53/53 [==============================] - 78s 1s/step - loss: 0.6077 - accuracy: 0.7209 - auc: 0.7703 - matthews_correlation: 0.3756 - val_loss: 1.5936 - val_accuracy: 0.2296 - val_auc: 0.7450 - val_matthews_correlation: nan\n",
            "Epoch 12/35\n",
            "52/53 [============================>.] - ETA: 1s - loss: 0.6203 - accuracy: 0.7129 - auc: 0.7569 - matthews_correlation: 0.3444\n",
            "Epoch 00012: val_matthews_correlation did not improve from 0.09739\n",
            "53/53 [==============================] - 77s 1s/step - loss: 0.6185 - accuracy: 0.7142 - auc: 0.7577 - matthews_correlation: 0.3461 - val_loss: 1.3654 - val_accuracy: 0.2428 - val_auc: 0.7544 - val_matthews_correlation: nan\n",
            "Epoch 13/35\n",
            "52/53 [============================>.] - ETA: 1s - loss: 0.5948 - accuracy: 0.7294 - auc: 0.7739 - matthews_correlation: 0.3818\n",
            "Epoch 00013: val_matthews_correlation did not improve from 0.09739\n",
            "53/53 [==============================] - 77s 1s/step - loss: 0.5956 - accuracy: 0.7274 - auc: 0.7731 - matthews_correlation: 0.3784 - val_loss: 1.5773 - val_accuracy: 0.2356 - val_auc: 0.7585 - val_matthews_correlation: nan\n",
            "Epoch 14/35\n",
            "52/53 [============================>.] - ETA: 1s - loss: 0.5801 - accuracy: 0.7363 - auc: 0.7777 - matthews_correlation: 0.3818\n",
            "Epoch 00014: val_matthews_correlation did not improve from 0.09739\n",
            "53/53 [==============================] - 77s 1s/step - loss: 0.5810 - accuracy: 0.7348 - auc: 0.7770 - matthews_correlation: 0.3776 - val_loss: 1.3724 - val_accuracy: 0.2632 - val_auc: 0.7500 - val_matthews_correlation: nan\n",
            "Epoch 15/35\n",
            "52/53 [============================>.] - ETA: 1s - loss: 0.5816 - accuracy: 0.7215 - auc: 0.7793 - matthews_correlation: 0.3795\n",
            "Epoch 00015: val_matthews_correlation improved from 0.09739 to 0.21816, saving model to /content/gdrive/My Drive/thinkful/colab_datasets/sidewalk_data/models/conv_aug_classif_weights.hdf5\n",
            "53/53 [==============================] - 78s 1s/step - loss: 0.5785 - accuracy: 0.7223 - auc: 0.7807 - matthews_correlation: 0.3800 - val_loss: 0.8217 - val_accuracy: 0.4291 - val_auc: 0.7606 - val_matthews_correlation: 0.2182\n",
            "Epoch 16/35\n",
            "52/53 [============================>.] - ETA: 1s - loss: 0.5767 - accuracy: 0.7306 - auc: 0.7818 - matthews_correlation: 0.3856\n",
            "Epoch 00016: val_matthews_correlation improved from 0.21816 to 0.23681, saving model to /content/gdrive/My Drive/thinkful/colab_datasets/sidewalk_data/models/conv_aug_classif_weights.hdf5\n",
            "53/53 [==============================] - 78s 1s/step - loss: 0.5732 - accuracy: 0.7322 - auc: 0.7850 - matthews_correlation: 0.3895 - val_loss: 0.6962 - val_accuracy: 0.4736 - val_auc: 0.7709 - val_matthews_correlation: 0.2368\n",
            "Epoch 17/35\n",
            "52/53 [============================>.] - ETA: 1s - loss: 0.5727 - accuracy: 0.7538 - auc: 0.7900 - matthews_correlation: 0.4123\n",
            "Epoch 00017: val_matthews_correlation did not improve from 0.23681\n",
            "53/53 [==============================] - 78s 1s/step - loss: 0.5718 - accuracy: 0.7525 - auc: 0.7896 - matthews_correlation: 0.4106 - val_loss: 1.3570 - val_accuracy: 0.2452 - val_auc: 0.7729 - val_matthews_correlation: nan\n",
            "Epoch 18/35\n",
            "52/53 [============================>.] - ETA: 1s - loss: 0.5667 - accuracy: 0.7429 - auc: 0.7906 - matthews_correlation: 0.4003\n",
            "Epoch 00018: val_matthews_correlation did not improve from 0.23681\n",
            "53/53 [==============================] - 77s 1s/step - loss: 0.5669 - accuracy: 0.7440 - auc: 0.7911 - matthews_correlation: 0.4026 - val_loss: 1.2114 - val_accuracy: 0.2560 - val_auc: 0.7626 - val_matthews_correlation: nan\n",
            "Epoch 19/35\n",
            "52/53 [============================>.] - ETA: 1s - loss: 0.5634 - accuracy: 0.7402 - auc: 0.7918 - matthews_correlation: 0.3966\n",
            "Epoch 00019: val_matthews_correlation did not improve from 0.23681\n",
            "53/53 [==============================] - 77s 1s/step - loss: 0.5635 - accuracy: 0.7395 - auc: 0.7910 - matthews_correlation: 0.3944 - val_loss: 1.0494 - val_accuracy: 0.3161 - val_auc: 0.7675 - val_matthews_correlation: 0.1496\n",
            "Epoch 20/35\n",
            "52/53 [============================>.] - ETA: 1s - loss: 0.5472 - accuracy: 0.7623 - auc: 0.8023 - matthews_correlation: 0.4397\n",
            "Epoch 00020: val_matthews_correlation did not improve from 0.23681\n",
            "53/53 [==============================] - 77s 1s/step - loss: 0.5467 - accuracy: 0.7624 - auc: 0.8024 - matthews_correlation: 0.4391 - val_loss: 1.3149 - val_accuracy: 0.2692 - val_auc: 0.7587 - val_matthews_correlation: 0.0977\n",
            "Epoch 21/35\n",
            "52/53 [============================>.] - ETA: 1s - loss: 0.5643 - accuracy: 0.7505 - auc: 0.7867 - matthews_correlation: 0.4080\n",
            "Epoch 00021: val_matthews_correlation did not improve from 0.23681\n",
            "53/53 [==============================] - 77s 1s/step - loss: 0.5610 - accuracy: 0.7513 - auc: 0.7896 - matthews_correlation: 0.4111 - val_loss: 0.8356 - val_accuracy: 0.4231 - val_auc: 0.7793 - val_matthews_correlation: 0.2089\n",
            "Epoch 22/35\n",
            "52/53 [============================>.] - ETA: 1s - loss: 0.5702 - accuracy: 0.7468 - auc: 0.7809 - matthews_correlation: 0.4065\n",
            "Epoch 00022: val_matthews_correlation did not improve from 0.23681\n",
            "53/53 [==============================] - 77s 1s/step - loss: 0.5711 - accuracy: 0.7466 - auc: 0.7810 - matthews_correlation: 0.4058 - val_loss: 1.2979 - val_accuracy: 0.2716 - val_auc: 0.7794 - val_matthews_correlation: 0.1013\n",
            "Epoch 23/35\n",
            "52/53 [============================>.] - ETA: 1s - loss: 0.5511 - accuracy: 0.7559 - auc: 0.7997 - matthews_correlation: 0.4331\n",
            "Epoch 00023: val_matthews_correlation did not improve from 0.23681\n",
            "53/53 [==============================] - 77s 1s/step - loss: 0.5508 - accuracy: 0.7560 - auc: 0.7987 - matthews_correlation: 0.4315 - val_loss: 0.7482 - val_accuracy: 0.4399 - val_auc: 0.7791 - val_matthews_correlation: 0.2118\n",
            "Epoch 24/35\n",
            "52/53 [============================>.] - ETA: 1s - loss: 0.5470 - accuracy: 0.7550 - auc: 0.8020 - matthews_correlation: 0.4213\n",
            "Epoch 00024: val_matthews_correlation did not improve from 0.23681\n",
            "53/53 [==============================] - 76s 1s/step - loss: 0.5457 - accuracy: 0.7543 - auc: 0.8018 - matthews_correlation: 0.4188 - val_loss: 1.2657 - val_accuracy: 0.2488 - val_auc: 0.7758 - val_matthews_correlation: nan\n",
            "Epoch 25/35\n",
            "52/53 [============================>.] - ETA: 1s - loss: 0.5500 - accuracy: 0.7589 - auc: 0.7999 - matthews_correlation: 0.4090\n",
            "Epoch 00025: val_matthews_correlation did not improve from 0.23681\n",
            "53/53 [==============================] - 77s 1s/step - loss: 0.5520 - accuracy: 0.7578 - auc: 0.7992 - matthews_correlation: 0.4073 - val_loss: 1.5866 - val_accuracy: 0.2320 - val_auc: 0.7643 - val_matthews_correlation: nan\n",
            "Epoch 26/35\n",
            "52/53 [============================>.] - ETA: 1s - loss: 0.5510 - accuracy: 0.7592 - auc: 0.8003 - matthews_correlation: 0.4281\n",
            "Epoch 00026: val_matthews_correlation did not improve from 0.23681\n",
            "53/53 [==============================] - 77s 1s/step - loss: 0.5510 - accuracy: 0.7587 - auc: 0.8001 - matthews_correlation: 0.4265 - val_loss: 1.0164 - val_accuracy: 0.3101 - val_auc: 0.7771 - val_matthews_correlation: 0.1340\n",
            "Epoch 27/35\n",
            "52/53 [============================>.] - ETA: 1s - loss: 0.5479 - accuracy: 0.7553 - auc: 0.7995 - matthews_correlation: 0.4217\n",
            "Epoch 00027: val_matthews_correlation did not improve from 0.23681\n",
            "53/53 [==============================] - 76s 1s/step - loss: 0.5464 - accuracy: 0.7546 - auc: 0.7998 - matthews_correlation: 0.4193 - val_loss: 1.1849 - val_accuracy: 0.2572 - val_auc: 0.7833 - val_matthews_correlation: nan\n",
            "Epoch 28/35\n",
            "52/53 [============================>.] - ETA: 1s - loss: 0.5395 - accuracy: 0.7643 - auc: 0.8068 - matthews_correlation: 0.4297\n",
            "Epoch 00028: val_matthews_correlation did not improve from 0.23681\n",
            "53/53 [==============================] - 76s 1s/step - loss: 0.5386 - accuracy: 0.7640 - auc: 0.8068 - matthews_correlation: 0.4300 - val_loss: 0.8005 - val_accuracy: 0.3365 - val_auc: 0.7535 - val_matthews_correlation: 0.1729\n",
            "Epoch 29/35\n",
            "52/53 [============================>.] - ETA: 1s - loss: 0.5376 - accuracy: 0.7745 - auc: 0.8073 - matthews_correlation: 0.4600\n",
            "Epoch 00029: val_matthews_correlation did not improve from 0.23681\n",
            "53/53 [==============================] - 77s 1s/step - loss: 0.5378 - accuracy: 0.7764 - auc: 0.8091 - matthews_correlation: 0.4652 - val_loss: 1.3205 - val_accuracy: 0.2596 - val_auc: 0.7716 - val_matthews_correlation: nan\n",
            "Epoch 30/35\n",
            "52/53 [============================>.] - ETA: 1s - loss: 0.5321 - accuracy: 0.7649 - auc: 0.8118 - matthews_correlation: 0.4392\n",
            "Epoch 00030: val_matthews_correlation did not improve from 0.23681\n",
            "53/53 [==============================] - 77s 1s/step - loss: 0.5324 - accuracy: 0.7678 - auc: 0.8134 - matthews_correlation: 0.4467 - val_loss: 1.6723 - val_accuracy: 0.2296 - val_auc: 0.7806 - val_matthews_correlation: nan\n",
            "Epoch 31/35\n",
            "52/53 [============================>.] - ETA: 1s - loss: 0.5335 - accuracy: 0.7703 - auc: 0.8115 - matthews_correlation: 0.4514\n",
            "Epoch 00031: val_matthews_correlation did not improve from 0.23681\n",
            "53/53 [==============================] - 77s 1s/step - loss: 0.5316 - accuracy: 0.7711 - auc: 0.8133 - matthews_correlation: 0.4531 - val_loss: 0.7527 - val_accuracy: 0.4267 - val_auc: 0.7944 - val_matthews_correlation: 0.2256\n",
            "Epoch 32/35\n",
            "52/53 [============================>.] - ETA: 1s - loss: 0.5278 - accuracy: 0.7688 - auc: 0.8193 - matthews_correlation: 0.4477\n",
            "Epoch 00032: val_matthews_correlation improved from 0.23681 to 0.26929, saving model to /content/gdrive/My Drive/thinkful/colab_datasets/sidewalk_data/models/conv_aug_classif_weights.hdf5\n",
            "53/53 [==============================] - 77s 1s/step - loss: 0.5277 - accuracy: 0.7687 - auc: 0.8188 - matthews_correlation: 0.4469 - val_loss: 0.6245 - val_accuracy: 0.5288 - val_auc: 0.8052 - val_matthews_correlation: 0.2693\n",
            "Epoch 33/35\n",
            "52/53 [============================>.] - ETA: 1s - loss: 0.5335 - accuracy: 0.7793 - auc: 0.8137 - matthews_correlation: 0.4632\n",
            "Epoch 00033: val_matthews_correlation did not improve from 0.26929\n",
            "53/53 [==============================] - 77s 1s/step - loss: 0.5341 - accuracy: 0.7785 - auc: 0.8127 - matthews_correlation: 0.4607 - val_loss: 1.4050 - val_accuracy: 0.2308 - val_auc: 0.7970 - val_matthews_correlation: nan\n",
            "Epoch 34/35\n",
            "52/53 [============================>.] - ETA: 1s - loss: 0.5254 - accuracy: 0.7811 - auc: 0.8186 - matthews_correlation: 0.4702\n",
            "Epoch 00034: val_matthews_correlation did not improve from 0.26929\n",
            "53/53 [==============================] - 77s 1s/step - loss: 0.5232 - accuracy: 0.7829 - auc: 0.8209 - matthews_correlation: 0.4745 - val_loss: 0.7962 - val_accuracy: 0.4327 - val_auc: 0.7929 - val_matthews_correlation: 0.2225\n",
            "Epoch 35/35\n",
            "52/53 [============================>.] - ETA: 1s - loss: 0.5277 - accuracy: 0.7691 - auc: 0.8154 - matthews_correlation: 0.4464\n",
            "Epoch 00035: val_matthews_correlation did not improve from 0.26929\n",
            "53/53 [==============================] - 77s 1s/step - loss: 0.5281 - accuracy: 0.7693 - auc: 0.8157 - matthews_correlation: 0.4459 - val_loss: 0.7769 - val_accuracy: 0.4195 - val_auc: 0.7694 - val_matthews_correlation: 0.2173\n"
          ],
          "name": "stdout"
        }
      ]
    },
    {
      "cell_type": "code",
      "metadata": {
        "id": "jAEW14WWkIl3",
        "colab_type": "code",
        "colab": {
          "base_uri": "https://localhost:8080/",
          "height": 462
        },
        "outputId": "2a325151-1633-4029-e014-65e6d7603119"
      },
      "source": [
        "history_plotter(conv_aug_history, n_epochs=n_epochs, plot_validation=True)"
      ],
      "execution_count": 22,
      "outputs": [
        {
          "output_type": "display_data",
          "data": {
            "image/png": "[encoded data removed]",
            "text/plain": [
              "<Figure size 1080x504 with 2 Axes>"
            ]
          },
          "metadata": {
            "tags": []
          }
        }
      ]
    },
    {
      "cell_type": "markdown",
      "metadata": {
        "colab_type": "text",
        "id": "XqnQrClFZsJ2"
      },
      "source": [
        "# Image Classification via Transfer Learning\n"
      ]
    },
    {
      "cell_type": "code",
      "metadata": {
        "colab_type": "code",
        "id": "g9AA47PjZsJ4",
        "colab": {
          "base_uri": "https://localhost:8080/",
          "height": 72
        },
        "outputId": "7fbe3f11-ea02-49a6-9adf-3a034b272b70"
      },
      "source": [
        "pretrained_mobilenet = tf.keras.applications.MobileNetV2(\n",
        "    input_shape=(224, 224, 3),\n",
        "    include_top=False,\n",
        "    weights='imagenet')\n",
        "pretrained_mobilenet.trainable = False"
      ],
      "execution_count": 34,
      "outputs": [
        {
          "output_type": "stream",
          "text": [
            "Downloading data from https://github.com/JonathanCMitchell/mobilenet_v2_keras/releases/download/v1.1/mobilenet_v2_weights_tf_dim_ordering_tf_kernels_1.0_224_no_top.h5\n",
            "9412608/9406464 [==============================] - 0s 0us/step\n"
          ],
          "name": "stdout"
        }
      ]
    },
    {
      "cell_type": "code",
      "metadata": {
        "colab_type": "code",
        "id": "pkinp9G7ZsJ9",
        "outputId": "dc9188be-2c6d-4b0d-ad36-f1ab53203a72",
        "colab": {
          "base_uri": "https://localhost:8080/",
          "height": 337
        }
      },
      "source": [
        "mnet_lr = .000_01\n",
        "mnet_model = tf.keras.models.Sequential()\n",
        "mnet_model.add(pretrained_mobilenet)\n",
        "mnet_model.add(tf.keras.layers.GlobalAveragePooling2D())\n",
        "mnet_model.add(tf.keras.layers.Dense(64))\n",
        "mnet_model.add(tf.keras.layers.Dropout(.5))\n",
        "mnet_model.add(tf.keras.layers.Dense(1, activation='sigmoid'))\n",
        "\n",
        "mnet_model.compile(optimizer=tf.keras.optimizers.RMSprop(lr=mnet_lr),\n",
        "              loss=loss,\n",
        "              metrics=METRICS)\n",
        "mnet_model.summary()"
      ],
      "execution_count": 35,
      "outputs": [
        {
          "output_type": "stream",
          "text": [
            "Model: \"sequential_2\"\n",
            "_________________________________________________________________\n",
            "Layer (type)                 Output Shape              Param #   \n",
            "=================================================================\n",
            "mobilenetv2_1.00_224 (Model) (None, 7, 7, 1280)        2257984   \n",
            "_________________________________________________________________\n",
            "global_average_pooling2d (Gl (None, 1280)              0         \n",
            "_________________________________________________________________\n",
            "dense_3 (Dense)              (None, 64)                81984     \n",
            "_________________________________________________________________\n",
            "dropout_4 (Dropout)          (None, 64)                0         \n",
            "_________________________________________________________________\n",
            "dense_4 (Dense)              (None, 1)                 65        \n",
            "=================================================================\n",
            "Total params: 2,340,033\n",
            "Trainable params: 82,049\n",
            "Non-trainable params: 2,257,984\n",
            "_________________________________________________________________\n"
          ],
          "name": "stdout"
        }
      ]
    },
    {
      "cell_type": "code",
      "metadata": {
        "id": "jFz2e0YtPflN",
        "colab_type": "code",
        "colab": {}
      },
      "source": [
        "if IN_COLAB:\n",
        "    save_mnet_path = r'/content/gdrive/My Drive/thinkful/colab_datasets/sidewalk_data/models/mnet_classif_weights.hdf5'\n",
        "    save_xc_path =  r'/content/gdrive/My Drive/thinkful/colab_datasets/sidewalk_data/models/xc_classif_weights.hdf5'\n",
        "    save_xc_aug_path =  r'/content/gdrive/My Drive/thinkful/colab_datasets/sidewalk_data/models/xc_aug_classif_weights.hdf5'\n",
        "\n",
        "else:\n",
        "    save_mnet_path = os.path.expanduser(r'~/Google Drive/thinkful/colab_datasets/sidewalk_data/models/mnet_classif_weights.hdf5')\n",
        "    save_xc_path = os.path.expanduser(r'~/Google Drive/thinkful/colab_datasets/sidewalk_data/models/xc_classif_weights.hdf5')\n",
        "    save_xc_aug_path = os.path.expanduser(r'~/Google Drive/thinkful/colab_datasets/sidewalk_data/models/xc_aug_classif_weights.hdf5')\n",
        "\n",
        "\n",
        "cb_mnet = ModelCheckpoint(filepath=save_mnet_path, **checkp_params)\n",
        "cb_xc = ModelCheckpoint(filepath=save_xc_path, **checkp_params)\n",
        "cb_aug_xc = ModelCheckpoint(filepath=save_xc_aug_path, **checkp_params)\n",
        "\n",
        "fgen_params = dict(\n",
        "                generator=train_generator, \n",
        "                steps_per_epoch=int(total_train_samples/batch_size),  \n",
        "                verbose=1,\n",
        "                validation_data=vdate_generator,\n",
        "                validation_steps=int(total_vdate_samples/batch_size),\n",
        "                class_weight=class_weight,\n",
        "                use_multiprocessing=True\n",
        "                )\n",
        "fgen_aug_params = fgen_params.copy()\n",
        "fgen_aug_params['generator'] = train_aug_generator"
      ],
      "execution_count": 0,
      "outputs": []
    },
    {
      "cell_type": "code",
      "metadata": {
        "colab_type": "code",
        "id": "HNqo00b2ZsKD",
        "scrolled": false,
        "colab": {}
      },
      "source": [
        "mnet_history = mnet_model.fit_generator(epochs=50,\n",
        "                                        callbacks=[cb_mnet],\n",
        "                                        **fgen_params)"
      ],
      "execution_count": 0,
      "outputs": []
    },
    {
      "cell_type": "code",
      "metadata": {
        "colab_type": "code",
        "id": "Kc4Lp7HqZsKJ",
        "outputId": "23466da7-94fe-46bf-81c7-59a08e8f5df2",
        "colab": {
          "base_uri": "https://localhost:8080/",
          "height": 354
        }
      },
      "source": [
        "history_plotter(mnet_history)"
      ],
      "execution_count": 0,
      "outputs": [
        {
          "output_type": "display_data",
          "data": {
            "image/png": "[encoded data removed]",
            "text/plain": [
              "<Figure size 720x360 with 2 Axes>"
            ]
          },
          "metadata": {
            "tags": []
          }
        }
      ]
    },
    {
      "cell_type": "code",
      "metadata": {
        "colab_type": "code",
        "id": "lvQLtgWJZf3l",
        "outputId": "580a3f9a-ebdd-4ece-d6a7-841faa4d480c",
        "colab": {
          "base_uri": "https://localhost:8080/",
          "height": 337
        }
      },
      "source": [
        "pretrained_xception = tf.keras.applications.Xception(\n",
        "        input_shape=(224, 224, 3),\n",
        "        include_top=False,\n",
        "        weights='imagenet')\n",
        "pretrained_xception.trainable = False\n",
        "\n",
        "xc_lr = .000_01\n",
        "xc_model = tf.keras.models.Sequential()\n",
        "xc_model.add(pretrained_xception)\n",
        "xc_model.add(tf.keras.layers.GlobalAveragePooling2D())\n",
        "xc_model.add(tf.keras.layers.Dense(64))\n",
        "xc_model.add(tf.keras.layers.Dropout(.5))\n",
        "xc_model.add(tf.keras.layers.Dense(1, activation='sigmoid'))\n",
        "\n",
        "xc_model.compile(optimizer=tf.keras.optimizers.RMSprop(lr=xc_lr),\n",
        "              loss=loss,\n",
        "              metrics=METRICS)\n",
        "xc_model.summary()"
      ],
      "execution_count": 28,
      "outputs": [
        {
          "output_type": "stream",
          "text": [
            "Model: \"sequential_2\"\n",
            "_________________________________________________________________\n",
            "Layer (type)                 Output Shape              Param #   \n",
            "=================================================================\n",
            "xception (Model)             (None, 7, 7, 2048)        20861480  \n",
            "_________________________________________________________________\n",
            "global_average_pooling2d_1 ( (None, 2048)              0         \n",
            "_________________________________________________________________\n",
            "dense_5 (Dense)              (None, 64)                131136    \n",
            "_________________________________________________________________\n",
            "dropout_5 (Dropout)          (None, 64)                0         \n",
            "_________________________________________________________________\n",
            "dense_6 (Dense)              (None, 1)                 65        \n",
            "=================================================================\n",
            "Total params: 20,992,681\n",
            "Trainable params: 131,201\n",
            "Non-trainable params: 20,861,480\n",
            "_________________________________________________________________\n"
          ],
          "name": "stdout"
        }
      ]
    },
    {
      "cell_type": "code",
      "metadata": {
        "colab_type": "code",
        "id": "1sU5ZHuwaLEf",
        "outputId": "96e9ac2b-182c-4254-8496-b1ffc1707969",
        "colab": {
          "base_uri": "https://localhost:8080/",
          "height": 1000
        }
      },
      "source": [
        "xc_epochs = 25\n",
        "xc_history = xc_model.fit_generator(epochs=xc_epochs,\n",
        "                                    callbacks=[cb_xc],\n",
        "                                    **fgen_params)"
      ],
      "execution_count": 0,
      "outputs": [
        {
          "output_type": "stream",
          "text": [
            "WARNING:tensorflow:From <ipython-input-29-c28aaac4543b>:4: Model.fit_generator (from tensorflow.python.keras.engine.training) is deprecated and will be removed in a future version.\n",
            "Instructions for updating:\n",
            "Please use Model.fit, which supports generators.\n",
            "WARNING:tensorflow:sample_weight modes were coerced from\n",
            "  ...\n",
            "    to  \n",
            "  ['...']\n",
            "WARNING:tensorflow:sample_weight modes were coerced from\n",
            "  ...\n",
            "    to  \n",
            "  ['...']\n",
            "Train for 53 steps, validate for 13 steps\n",
            "Epoch 1/25\n",
            "WARNING:tensorflow:multiprocessing can interact badly with TensorFlow, causing nondeterministic deadlocks. For high performance data pipelines tf.data is recommended.\n",
            "52/53 [============================>.] - ETA: 0s - loss: 0.6979 - accuracy: 0.5397 - auc: 0.5550 - matthews_correlation: 0.0704WARNING:tensorflow:multiprocessing can interact badly with TensorFlow, causing nondeterministic deadlocks. For high performance data pipelines tf.data is recommended.\n",
            "\n",
            "Epoch 00001: val_matthews_correlation improved from -inf to 0.17437, saving model to /content/gdrive/My Drive/thinkful/colab_datasets/sidewalk_data/models/xc_classif_weights.hdf5\n",
            "53/53 [==============================] - 61s 1s/step - loss: 0.6972 - accuracy: 0.5413 - auc: 0.5571 - matthews_correlation: 0.0750 - val_loss: 0.6665 - val_accuracy: 0.7392 - val_auc: 0.6526 - val_matthews_correlation: 0.1744\n",
            "Epoch 2/25\n",
            "WARNING:tensorflow:multiprocessing can interact badly with TensorFlow, causing nondeterministic deadlocks. For high performance data pipelines tf.data is recommended.\n",
            "52/53 [============================>.] - ETA: 0s - loss: 0.6892 - accuracy: 0.5565 - auc: 0.5822 - matthews_correlation: 0.0913WARNING:tensorflow:multiprocessing can interact badly with TensorFlow, causing nondeterministic deadlocks. For high performance data pipelines tf.data is recommended.\n",
            "\n",
            "Epoch 00002: val_matthews_correlation improved from 0.17437 to 0.20704, saving model to /content/gdrive/My Drive/thinkful/colab_datasets/sidewalk_data/models/xc_classif_weights.hdf5\n",
            "53/53 [==============================] - 56s 1s/step - loss: 0.6884 - accuracy: 0.5605 - auc: 0.5836 - matthews_correlation: 0.0967 - val_loss: 0.6586 - val_accuracy: 0.7596 - val_auc: 0.6818 - val_matthews_correlation: 0.2070\n",
            "Epoch 3/25\n",
            "WARNING:tensorflow:multiprocessing can interact badly with TensorFlow, causing nondeterministic deadlocks. For high performance data pipelines tf.data is recommended.\n",
            "52/53 [============================>.] - ETA: 0s - loss: 0.6733 - accuracy: 0.5968 - auc: 0.6099 - matthews_correlation: 0.1410WARNING:tensorflow:multiprocessing can interact badly with TensorFlow, causing nondeterministic deadlocks. For high performance data pipelines tf.data is recommended.\n",
            "\n",
            "Epoch 00003: val_matthews_correlation improved from 0.20704 to 0.23995, saving model to /content/gdrive/My Drive/thinkful/colab_datasets/sidewalk_data/models/xc_classif_weights.hdf5\n",
            "53/53 [==============================] - 55s 1s/step - loss: 0.6745 - accuracy: 0.5956 - auc: 0.6094 - matthews_correlation: 0.1388 - val_loss: 0.6499 - val_accuracy: 0.7656 - val_auc: 0.7059 - val_matthews_correlation: 0.2400\n",
            "Epoch 4/25\n",
            "WARNING:tensorflow:multiprocessing can interact badly with TensorFlow, causing nondeterministic deadlocks. For high performance data pipelines tf.data is recommended.\n",
            "52/53 [============================>.] - ETA: 0s - loss: 0.6545 - accuracy: 0.6200 - auc: 0.6520 - matthews_correlation: 0.1683WARNING:tensorflow:multiprocessing can interact badly with TensorFlow, causing nondeterministic deadlocks. For high performance data pipelines tf.data is recommended.\n",
            "\n",
            "Epoch 00004: val_matthews_correlation did not improve from 0.23995\n",
            "53/53 [==============================] - 55s 1s/step - loss: 0.6566 - accuracy: 0.6195 - auc: 0.6489 - matthews_correlation: 0.1644 - val_loss: 0.6442 - val_accuracy: 0.7644 - val_auc: 0.7189 - val_matthews_correlation: 0.2382\n",
            "Epoch 5/25\n",
            "WARNING:tensorflow:multiprocessing can interact badly with TensorFlow, causing nondeterministic deadlocks. For high performance data pipelines tf.data is recommended.\n",
            "52/53 [============================>.] - ETA: 0s - loss: 0.6465 - accuracy: 0.6380 - auc: 0.6715 - matthews_correlation: 0.2061WARNING:tensorflow:multiprocessing can interact badly with TensorFlow, causing nondeterministic deadlocks. For high performance data pipelines tf.data is recommended.\n",
            "\n",
            "Epoch 00005: val_matthews_correlation improved from 0.23995 to 0.25461, saving model to /content/gdrive/My Drive/thinkful/colab_datasets/sidewalk_data/models/xc_classif_weights.hdf5\n",
            "53/53 [==============================] - 56s 1s/step - loss: 0.6474 - accuracy: 0.6383 - auc: 0.6725 - matthews_correlation: 0.2077 - val_loss: 0.6396 - val_accuracy: 0.7668 - val_auc: 0.7277 - val_matthews_correlation: 0.2546\n",
            "Epoch 6/25\n",
            "WARNING:tensorflow:multiprocessing can interact badly with TensorFlow, causing nondeterministic deadlocks. For high performance data pipelines tf.data is recommended.\n",
            "52/53 [============================>.] - ETA: 0s - loss: 0.6346 - accuracy: 0.6681 - auc: 0.6954 - matthews_correlation: 0.2485WARNING:tensorflow:multiprocessing can interact badly with TensorFlow, causing nondeterministic deadlocks. For high performance data pipelines tf.data is recommended.\n",
            "\n",
            "Epoch 00006: val_matthews_correlation improved from 0.25461 to 0.26623, saving model to /content/gdrive/My Drive/thinkful/colab_datasets/sidewalk_data/models/xc_classif_weights.hdf5\n",
            "53/53 [==============================] - 57s 1s/step - loss: 0.6362 - accuracy: 0.6681 - auc: 0.6952 - matthews_correlation: 0.2499 - val_loss: 0.6338 - val_accuracy: 0.7656 - val_auc: 0.7338 - val_matthews_correlation: 0.2662\n",
            "Epoch 7/25\n",
            "WARNING:tensorflow:multiprocessing can interact badly with TensorFlow, causing nondeterministic deadlocks. For high performance data pipelines tf.data is recommended.\n",
            "52/53 [============================>.] - ETA: 0s - loss: 0.6217 - accuracy: 0.6915 - auc: 0.7259 - matthews_correlation: 0.2939WARNING:tensorflow:multiprocessing can interact badly with TensorFlow, causing nondeterministic deadlocks. For high performance data pipelines tf.data is recommended.\n",
            "\n",
            "Epoch 00007: val_matthews_correlation improved from 0.26623 to 0.30654, saving model to /content/gdrive/My Drive/thinkful/colab_datasets/sidewalk_data/models/xc_classif_weights.hdf5\n",
            "53/53 [==============================] - 56s 1s/step - loss: 0.6222 - accuracy: 0.6909 - auc: 0.7247 - matthews_correlation: 0.2936 - val_loss: 0.6268 - val_accuracy: 0.7740 - val_auc: 0.7388 - val_matthews_correlation: 0.3065\n",
            "Epoch 8/25\n",
            "WARNING:tensorflow:multiprocessing can interact badly with TensorFlow, causing nondeterministic deadlocks. For high performance data pipelines tf.data is recommended.\n",
            "14/53 [======>.......................] - ETA: 33s - loss: 0.6289 - accuracy: 0.6674 - auc: 0.7133 - matthews_correlation: 0.2805"
          ],
          "name": "stdout"
        }
      ]
    },
    {
      "cell_type": "code",
      "metadata": {
        "id": "duWXCHq3aXHg",
        "colab_type": "code",
        "colab": {}
      },
      "source": [
        "history_plotter(xc_history, n_epochs=xc_epochs)"
      ],
      "execution_count": 0,
      "outputs": []
    },
    {
      "cell_type": "code",
      "metadata": {
        "id": "1Ek0GygQC9jp",
        "colab_type": "code",
        "colab": {}
      },
      "source": [
        "xc_aug_history = xc_model.fit_generator(\n",
        "    epochs=25,\n",
        "    callbacks=[cb_aug_xc],\n",
        "    **fgen_aug_params,\n",
        "    )"
      ],
      "execution_count": 0,
      "outputs": []
    },
    {
      "cell_type": "code",
      "metadata": {
        "id": "C1EBzkTakfCS",
        "colab_type": "code",
        "colab": {}
      },
      "source": [
        "history_plotter(xc_aug_history, n_epochs=25, True)"
      ],
      "execution_count": 0,
      "outputs": []
    },
    {
      "cell_type": "markdown",
      "metadata": {
        "id": "gNXAzxlze1ri",
        "colab_type": "text"
      },
      "source": [
        "# Test"
      ]
    },
    {
      "cell_type": "code",
      "metadata": {
        "id": "BME4FGBRe2sm",
        "colab_type": "code",
        "colab": {}
      },
      "source": [
        "save_xc_path = r'C:\\Users\\User\\Documents\\GitHub\\sidewalks_deep-learning\\models\\xc_classif_weights.hdf5'\n",
        "cust={'matthews_correlation': matthews_correlation}\n",
        "xc_model = load_model(save_xc_path, custom_objects=cust)\n",
        "test_results = xc_model.evaluate(test_generator)\n",
        "print(\"Test results: \\nBinary Cross-Entropy: {:.4f}\\nAccuracy: \\\n",
        "{:.4f}\\nArea Under ROC: {:.4f}\\nMatthews Correlation Coefficient: {:.4f}\".format(*test_results))"
      ],
      "execution_count": 0,
      "outputs": []
    }
  ]
}