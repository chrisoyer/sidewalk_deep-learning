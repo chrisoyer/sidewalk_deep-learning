{
  "nbformat": 4,
  "nbformat_minor": 0,
  "metadata": {
    "kernelspec": {
      "name": "python3",
      "display_name": "Python 3"
    },
    "language_info": {
      "codemirror_mode": {
        "name": "ipython",
        "version": 3
      },
      "file_extension": ".py",
      "mimetype": "text/x-python",
      "name": "python",
      "nbconvert_exporter": "python",
      "pygments_lexer": "ipython3",
      "version": "3.7.4"
    },
    "colab": {
      "name": "Image_classification.ipynb",
      "provenance": []
    },
    "accelerator": "GPU"
  },
  "cells": [
    {
      "cell_type": "markdown",
      "metadata": {
        "id": "E3sYdMAVZsE_",
        "colab_type": "text"
      },
      "source": [
        "# Modeling with TensorFlow\n"
      ]
    },
    {
      "cell_type": "code",
      "metadata": {
        "id": "7smApwUGZsFD",
        "colab_type": "code",
        "colab": {
          "base_uri": "https://localhost:8080/",
          "height": 35
        },
        "outputId": "7c7c8cc3-506c-46e0-b87a-148564ede1af"
      },
      "source": [
        "# get colab status\n",
        "try:\n",
        "  import google.colab\n",
        "  IN_COLAB = True\n",
        "  %tensorflow_version 2.x\n",
        "except:\n",
        "  IN_COLAB = False"
      ],
      "execution_count": 1,
      "outputs": [
        {
          "output_type": "stream",
          "text": [
            "TensorFlow 2.x selected.\n"
          ],
          "name": "stdout"
        }
      ]
    },
    {
      "cell_type": "code",
      "metadata": {
        "id": "FOtHs917Z1rr",
        "colab_type": "code",
        "colab": {
          "base_uri": "https://localhost:8080/",
          "height": 419
        },
        "outputId": "2929132b-8f55-409d-fead-d40c1ec73e34"
      },
      "source": [
        "if IN_COLAB:\n",
        "    !pip install imageai\n",
        "    from google.colab import drive\n",
        "    drive.mount('/content/gdrive')"
      ],
      "execution_count": 2,
      "outputs": [
        {
          "output_type": "stream",
          "text": [
            "Collecting imageai\n",
            "\u001b[?25l  Downloading https://files.pythonhosted.org/packages/09/99/4023e191a343fb23f01ae02ac57a5ca58037c310e8d8c62f87638a3bafc7/imageai-2.1.5-py3-none-any.whl (180kB)\n",
            "\r\u001b[K     |█▉                              | 10kB 25.4MB/s eta 0:00:01\r\u001b[K     |███▋                            | 20kB 2.1MB/s eta 0:00:01\r\u001b[K     |█████▍                          | 30kB 3.1MB/s eta 0:00:01\r\u001b[K     |███████▎                        | 40kB 2.1MB/s eta 0:00:01\r\u001b[K     |█████████                       | 51kB 2.6MB/s eta 0:00:01\r\u001b[K     |██████████▉                     | 61kB 3.0MB/s eta 0:00:01\r\u001b[K     |████████████▊                   | 71kB 3.5MB/s eta 0:00:01\r\u001b[K     |██████████████▌                 | 81kB 4.0MB/s eta 0:00:01\r\u001b[K     |████████████████▎               | 92kB 4.5MB/s eta 0:00:01\r\u001b[K     |██████████████████▏             | 102kB 3.4MB/s eta 0:00:01\r\u001b[K     |████████████████████            | 112kB 3.4MB/s eta 0:00:01\r\u001b[K     |█████████████████████▊          | 122kB 3.4MB/s eta 0:00:01\r\u001b[K     |███████████████████████▋        | 133kB 3.4MB/s eta 0:00:01\r\u001b[K     |█████████████████████████▍      | 143kB 3.4MB/s eta 0:00:01\r\u001b[K     |███████████████████████████▏    | 153kB 3.4MB/s eta 0:00:01\r\u001b[K     |█████████████████████████████   | 163kB 3.4MB/s eta 0:00:01\r\u001b[K     |██████████████████████████████▉ | 174kB 3.4MB/s eta 0:00:01\r\u001b[K     |████████████████████████████████| 184kB 3.4MB/s \n",
            "\u001b[?25hRequirement already satisfied: matplotlib in /usr/local/lib/python3.6/dist-packages (from imageai) (3.1.2)\n",
            "Requirement already satisfied: numpy in /tensorflow-2.0.0/python3.6 (from imageai) (1.17.4)\n",
            "Requirement already satisfied: scipy in /usr/local/lib/python3.6/dist-packages (from imageai) (1.3.3)\n",
            "Requirement already satisfied: pillow in /usr/local/lib/python3.6/dist-packages (from imageai) (4.3.0)\n",
            "Requirement already satisfied: h5py in /tensorflow-2.0.0/python3.6 (from imageai) (2.10.0)\n",
            "Requirement already satisfied: kiwisolver>=1.0.1 in /usr/local/lib/python3.6/dist-packages (from matplotlib->imageai) (1.1.0)\n",
            "Requirement already satisfied: python-dateutil>=2.1 in /usr/local/lib/python3.6/dist-packages (from matplotlib->imageai) (2.6.1)\n",
            "Requirement already satisfied: cycler>=0.10 in /usr/local/lib/python3.6/dist-packages (from matplotlib->imageai) (0.10.0)\n",
            "Requirement already satisfied: pyparsing!=2.0.4,!=2.1.2,!=2.1.6,>=2.0.1 in /usr/local/lib/python3.6/dist-packages (from matplotlib->imageai) (2.4.5)\n",
            "Requirement already satisfied: olefile in /usr/local/lib/python3.6/dist-packages (from pillow->imageai) (0.46)\n",
            "Requirement already satisfied: six in /tensorflow-2.0.0/python3.6 (from h5py->imageai) (1.13.0)\n",
            "Requirement already satisfied: setuptools in /tensorflow-2.0.0/python3.6 (from kiwisolver>=1.0.1->matplotlib->imageai) (42.0.2)\n",
            "Installing collected packages: imageai\n",
            "Successfully installed imageai-2.1.5\n",
            "Go to this URL in a browser: https://accounts.google.com/o/oauth2/auth?client_id=947318989803-6bn6qk8qdgf4n4g3pfee6491hc0brc4i.apps.googleusercontent.com&redirect_uri=urn%3aietf%3awg%3aoauth%3a2.0%3aoob&response_type=code&scope=email%20https%3a%2f%2fwww.googleapis.com%2fauth%2fdocs.test%20https%3a%2f%2fwww.googleapis.com%2fauth%2fdrive%20https%3a%2f%2fwww.googleapis.com%2fauth%2fdrive.photos.readonly%20https%3a%2f%2fwww.googleapis.com%2fauth%2fpeopleapi.readonly\n",
            "\n",
            "Enter your authorization code:\n",
            "··········\n",
            "Mounted at /content/gdrive\n"
          ],
          "name": "stdout"
        }
      ]
    },
    {
      "cell_type": "code",
      "metadata": {
        "id": "s3oQuRHZZsFb",
        "colab_type": "code",
        "colab": {
          "base_uri": "https://localhost:8080/",
          "height": 35
        },
        "outputId": "8b415331-88a7-4835-ff9d-5b10da6ce7c9"
      },
      "source": [
        "#imports\n",
        "import numpy as np\n",
        "import pandas as pd\n",
        "import matplotlib.pyplot as plt\n",
        "import seaborn as sns\n",
        "import tensorflow as tf\n",
        "from tensorflow.keras.preprocessing.image import ImageDataGenerator\n",
        "from tensorflow.keras.models import Sequential\n",
        "from tensorflow.keras.layers import Dense, Conv2D, Flatten, Dropout, MaxPooling2D\n",
        "from tensorflow.keras.optimizers import RMSprop\n",
        "from tensorflow.python.keras.utils.data_utils import Sequence # to fix 'imagedatagenerator has no shape' error\n",
        "import cv2 as cv\n",
        "from imageai.Detection import ObjectDetection\n",
        "import os\n",
        "import random, math"
      ],
      "execution_count": 3,
      "outputs": [
        {
          "output_type": "stream",
          "text": [
            "Using TensorFlow backend.\n"
          ],
          "name": "stderr"
        }
      ]
    },
    {
      "cell_type": "code",
      "metadata": {
        "id": "X3PkZ7aGjTWP",
        "colab_type": "code",
        "colab": {}
      },
      "source": [
        "if IN_COLAB:\n",
        "    tf.test.gpu_device_name()\n",
        "    # need to use gpu runtime accelerator!\n",
        "    mirrored_strategy = tf.distribute.MirroredStrategy()"
      ],
      "execution_count": 0,
      "outputs": []
    },
    {
      "cell_type": "markdown",
      "metadata": {
        "id": "Wo3jLXedZsFi",
        "colab_type": "text"
      },
      "source": [
        "# Create generator\n"
      ]
    },
    {
      "cell_type": "code",
      "metadata": {
        "id": "WfkkPMM5ZsFk",
        "colab_type": "code",
        "colab": {
          "base_uri": "https://localhost:8080/",
          "height": 35
        },
        "outputId": "b8181acb-72eb-4eab-8c3a-927b7e5ac9c2"
      },
      "source": [
        "!pwd"
      ],
      "execution_count": 5,
      "outputs": [
        {
          "output_type": "stream",
          "text": [
            "/content\n"
          ],
          "name": "stdout"
        }
      ]
    },
    {
      "cell_type": "code",
      "metadata": {
        "id": "QyofWL_wZsFr",
        "colab_type": "code",
        "colab": {
          "base_uri": "https://localhost:8080/",
          "height": 35
        },
        "outputId": "fd5133b4-1acf-4176-b56b-8c1fd3f43cf3"
      },
      "source": [
        "if IN_COLAB:\n",
        "    os.chdir(f'/content/gdrive/My Drive/thinkful/colab_datasets/sidewalk_data/images/')\n",
        "else:\n",
        "    os.chdir(os.path.expanduser(f'~/Google Drive/thinkful/colab_datasets/sidewalk_data/images/'))\n",
        "!pwd"
      ],
      "execution_count": 6,
      "outputs": [
        {
          "output_type": "stream",
          "text": [
            "/content/gdrive/My Drive/thinkful/colab_datasets/sidewalk_data/images\n"
          ],
          "name": "stdout"
        }
      ]
    },
    {
      "cell_type": "code",
      "metadata": {
        "id": "cNUIhj3IZsFz",
        "colab_type": "code",
        "colab": {}
      },
      "source": [
        "#move images into train, test, validate folders with subfolders for classes\n",
        "test_ratio = .15\n",
        "SPLIT_DATA = False # switch if need to divide out data\n",
        "if SPLIT_DATA:\n",
        "    for label in ['sidewalk', 'no_sidewalk']:\n",
        "        %cd ./$label\n",
        "        listing = os.popen('ls').read().strip().split(sep='\\n')\n",
        "        random.shuffle(listing) #inplace\n",
        "        im_count = len(listing)\n",
        "        test_size=val_size = math.ceil(test_ratio*im_count)\n",
        "        train_size = im_count - test_size\n",
        "        subfolders = ['train', 'test'] #train will be used for vdation too\n",
        "        for subfolder in subfolders:\n",
        "            os.makedirs(os.path.join(\n",
        "                os.path.dirname(os.getcwd()), subfolder, label))\n",
        "        for item in range(0, train_size):\n",
        "            moved = listing.pop()\n",
        "            !mv $moved ../train/$label/$moved\n",
        "        for item in range(0, test_size):\n",
        "            moved = listing.pop()\n",
        "            !mv $moved ../test/$label/$moved\n",
        "        %cd ..\n",
        "        !rmdir ./$label"
      ],
      "execution_count": 0,
      "outputs": []
    },
    {
      "cell_type": "markdown",
      "metadata": {
        "id": "M-5RyUZBZsF-",
        "colab_type": "text"
      },
      "source": [
        "### Parameters for data loading"
      ]
    },
    {
      "cell_type": "code",
      "metadata": {
        "id": "Y8EFk1_mZsGA",
        "colab_type": "code",
        "colab": {}
      },
      "source": [
        "idg_params={'rescale': 1./255}\n",
        "batch_size=64\n",
        "augmentation_params = {'rotation_range': 15,\n",
        "                        'zoom_range': 0.15,\n",
        "                         'width_shift_range': 0.2,\n",
        "                         'height_shift_range': 0.2,\n",
        "                         'shear_range': 0.15,\n",
        "                         'fill_mode': 'nearest',\n",
        "                         'horizontal_flip': True}\n",
        "datagen_params = {'batch_size': batch_size,\n",
        "                  'target_size': (224, 224),\n",
        "                  'color_mode': 'rgb', \n",
        "                  'class_mode': 'binary'}"
      ],
      "execution_count": 0,
      "outputs": []
    },
    {
      "cell_type": "code",
      "metadata": {
        "id": "O1gBXYpYZsGX",
        "colab_type": "code",
        "colab": {}
      },
      "source": [
        "train_vdate_datagen = ImageDataGenerator(\n",
        "    **idg_params,\n",
        "    validation_split=0.2)\n",
        "train_augmented_datagen = ImageDataGenerator(\n",
        "    **idg_params,\n",
        "    **augmentation_params,\n",
        "    validation_split=0.2)\n",
        "test_datagen = ImageDataGenerator(**idg_params)"
      ],
      "execution_count": 0,
      "outputs": []
    },
    {
      "cell_type": "code",
      "metadata": {
        "id": "Pv8K5RGEZsGq",
        "colab_type": "code",
        "colab": {
          "base_uri": "https://localhost:8080/",
          "height": 69
        },
        "outputId": "f07ab80a-e824-44e2-9c50-6e5c1f4e506d"
      },
      "source": [
        "# Flow training images in batches of 128 using train_datagen generator\n",
        "vdate_generator = train_vdate_datagen.flow_from_directory(\n",
        "        directory=r'./train/',\n",
        "        subset='validation',\n",
        "        **datagen_params)\n",
        "train_generator = train_vdate_datagen.flow_from_directory(\n",
        "        directory=r'./train/',\n",
        "        subset='training',\n",
        "        **datagen_params)\n",
        "test_generator = test_datagen.flow_from_directory(\n",
        "        directory=r'./test/',\n",
        "        **datagen_params)"
      ],
      "execution_count": 29,
      "outputs": [
        {
          "output_type": "stream",
          "text": [
            "Found 795 images belonging to 2 classes.\n",
            "Found 3186 images belonging to 2 classes.\n",
            "Found 1219 images belonging to 2 classes.\n"
          ],
          "name": "stdout"
        }
      ]
    },
    {
      "cell_type": "markdown",
      "metadata": {
        "id": "NTYgKa-kZsGy",
        "colab_type": "text"
      },
      "source": [
        "### Parameters for Modeling"
      ]
    },
    {
      "cell_type": "code",
      "metadata": {
        "id": "qk9tkxbgZsHY",
        "colab_type": "code",
        "colab": {}
      },
      "source": [
        "n_epochs = 25\n",
        "learning_rate = 0.000001\n",
        "loss = 'binary_crossentropy'"
      ],
      "execution_count": 0,
      "outputs": []
    },
    {
      "cell_type": "code",
      "metadata": {
        "id": "h2uEGnq6ZsHe",
        "colab_type": "code",
        "colab": {
          "base_uri": "https://localhost:8080/",
          "height": 35
        },
        "outputId": "3957435c-d98a-47f4-c5fa-d8ae3c3933c1"
      },
      "source": [
        "pwd"
      ],
      "execution_count": 31,
      "outputs": [
        {
          "output_type": "execute_result",
          "data": {
            "text/plain": [
              "'/content/gdrive/My Drive/thinkful/colab_datasets/sidewalk_data/images'"
            ]
          },
          "metadata": {
            "tags": []
          },
          "execution_count": 31
        }
      ]
    },
    {
      "cell_type": "code",
      "metadata": {
        "id": "lC6hVbAbZsHk",
        "colab_type": "code",
        "colab": {
          "base_uri": "https://localhost:8080/",
          "height": 35
        },
        "outputId": "f02c6036-009c-4d77-de22-898fa579557d"
      },
      "source": [
        "imagecount = {}\n",
        "sidewalk_image_count = ! cd ./train/sidewalk/ && ls | wc -l\n",
        "no_sidewalk_image_count = ! cd ./train/no_sidewalk/ && ls | wc -l\n",
        "imagecount['sidewalk'] = int(sidewalk_image_count.nlstr)\n",
        "imagecount['no_sidewalk'] = int(no_sidewalk_image_count.nlstr)\n",
        "imagecount['total'] = imagecount['sidewalk'] + imagecount['no_sidewalk']\n",
        "\n",
        "print(imagecount)"
      ],
      "execution_count": 32,
      "outputs": [
        {
          "output_type": "stream",
          "text": [
            "{'sidewalk': 3007, 'no_sidewalk': 974, 'total': 3981}\n"
          ],
          "name": "stdout"
        }
      ]
    },
    {
      "cell_type": "code",
      "metadata": {
        "id": "3LPAaycjZsHt",
        "colab_type": "code",
        "colab": {
          "base_uri": "https://localhost:8080/",
          "height": 35
        },
        "outputId": "62bc194d-ce4a-46d5-9466-77d9fca14341"
      },
      "source": [
        "#adjust weights to equivalent between classes\n",
        "class_weight = {}\n",
        "class_weight['sidewalk'] = (\n",
        "    .5 / imagecount['sidewalk']) * imagecount['total']\n",
        "class_weight['no_sidewalk'] = (\n",
        "    .5 / imagecount['no_sidewalk']) * imagecount['total']\n",
        "class_weight"
      ],
      "execution_count": 33,
      "outputs": [
        {
          "output_type": "execute_result",
          "data": {
            "text/plain": [
              "{'no_sidewalk': 2.043634496919918, 'sidewalk': 0.6619554373129365}"
            ]
          },
          "metadata": {
            "tags": []
          },
          "execution_count": 33
        }
      ]
    },
    {
      "cell_type": "code",
      "metadata": {
        "id": "AJNibCJpZsID",
        "colab_type": "code",
        "colab": {
          "base_uri": "https://localhost:8080/",
          "height": 35
        },
        "outputId": "4935d0a9-e6dc-4ae9-870e-94a7f446530c"
      },
      "source": [
        "class_id = train_generator.class_indices\n",
        "#class ids are floats\n",
        "class_id = {key: float(value) for (key,value) in class_id.items()}\n",
        "class_id"
      ],
      "execution_count": 34,
      "outputs": [
        {
          "output_type": "execute_result",
          "data": {
            "text/plain": [
              "{'no_sidewalk': 0.0, 'sidewalk': 1.0}"
            ]
          },
          "metadata": {
            "tags": []
          },
          "execution_count": 34
        }
      ]
    },
    {
      "cell_type": "code",
      "metadata": {
        "id": "CZnmeVP3ZsIL",
        "colab_type": "code",
        "colab": {
          "base_uri": "https://localhost:8080/",
          "height": 35
        },
        "outputId": "2802e092-f896-48c6-e52a-10283b0d5ee2"
      },
      "source": [
        "class_weight[class_id['sidewalk']] = class_weight.pop('sidewalk')\n",
        "class_weight[class_id['no_sidewalk']] = class_weight.pop('no_sidewalk')\n",
        "class_weight"
      ],
      "execution_count": 35,
      "outputs": [
        {
          "output_type": "execute_result",
          "data": {
            "text/plain": [
              "{0.0: 2.043634496919918, 1.0: 0.6619554373129365}"
            ]
          },
          "metadata": {
            "tags": []
          },
          "execution_count": 35
        }
      ]
    },
    {
      "cell_type": "code",
      "metadata": {
        "id": "7Mx6UmCXZsIR",
        "colab_type": "code",
        "colab": {
          "base_uri": "https://localhost:8080/",
          "height": 35
        },
        "outputId": "47180cf6-443c-43dc-9abf-874a129f46d4"
      },
      "source": [
        "#generator based caluculations\n",
        "input_shape = train_generator.next()[0].shape[1:]\n",
        "total_train_samples = train_generator.n\n",
        "total_vdate_samples = vdate_generator.n\n",
        "input_shape"
      ],
      "execution_count": 36,
      "outputs": [
        {
          "output_type": "execute_result",
          "data": {
            "text/plain": [
              "(224, 224, 3)"
            ]
          },
          "metadata": {
            "tags": []
          },
          "execution_count": 36
        }
      ]
    },
    {
      "cell_type": "markdown",
      "metadata": {
        "id": "QM7wMgQGZsIY",
        "colab_type": "text"
      },
      "source": [
        "### Setup Metrics and Visualizations"
      ]
    },
    {
      "cell_type": "markdown",
      "metadata": {
        "id": "fGPnw-QlZsIa",
        "colab_type": "text"
      },
      "source": [
        "Use Matthew Correlation Coefficient to take into account all four quadrants of confusion matrix."
      ]
    },
    {
      "cell_type": "code",
      "metadata": {
        "id": "XPbvJ-HqZsIc",
        "colab_type": "code",
        "colab": {}
      },
      "source": [
        "# if y_pred > threshold we predict true. \n",
        "# Sometimes we set this to something different to 0.5 if we have unbalanced categories\n",
        "threshold = 0.5  \n",
        "def matthews_correlation(y_true, y_pred):\n",
        "  predicted = tf.cast(tf.greater(y_pred, threshold), tf.float32)\n",
        "  true_pos = tf.math.count_nonzero(predicted * y_true)\n",
        "  true_neg = tf.math.count_nonzero((predicted - 1) * (y_true - 1))\n",
        "  false_pos = tf.math.count_nonzero(predicted * (y_true - 1))\n",
        "  false_neg = tf.math.count_nonzero((predicted - 1) * y_true)\n",
        "  x = tf.cast((true_pos + false_pos) * (true_pos + false_neg) \n",
        "      * (true_neg + false_pos) * (true_neg + false_neg), tf.float32)\n",
        "  return tf.cast((true_pos * true_neg) - (false_pos * false_neg), tf.float32) / tf.sqrt(x)"
      ],
      "execution_count": 0,
      "outputs": []
    },
    {
      "cell_type": "code",
      "metadata": {
        "id": "nq2kJ7znZsIj",
        "colab_type": "code",
        "colab": {}
      },
      "source": [
        "METRICS = [\n",
        "      tf.keras.metrics.BinaryAccuracy(name='accuracy'),\n",
        "      tf.keras.metrics.AUC(name='auc'),\n",
        "      matthews_correlation]"
      ],
      "execution_count": 0,
      "outputs": []
    },
    {
      "cell_type": "code",
      "metadata": {
        "id": "0ZpV0tdhZsJA",
        "colab_type": "code",
        "colab": {}
      },
      "source": [
        "colors = plt.rcParams['axes.prop_cycle'].by_key()['color']\n",
        "\n",
        "def history_plotter(history, n_epochs=n_epochs, plot_validation=True): \n",
        "    '''plot the training loss and accuracy\n",
        "    plot_validation exists because valdation not working in model\n",
        "    '''\n",
        "    n_epochs_range = np.arange(0, n_epochs)\n",
        "    plt.style.use(\"ggplot\")\n",
        "    fig, (ax1, ax2) = plt.subplots(nrows=1, ncols=2, sharex=True, sharey=True,\n",
        "                                  figsize=(10,5))\n",
        "    ax1.plot(n_epochs_range, history.history[\"loss\"], label=\"Loss\")\n",
        "    ax1.plot(n_epochs_range, history.history[\"accuracy\"], label=\"Accuracy\")\n",
        "    ax1.plot(n_epochs_range, history.history['auc'], label='Area Under ROC')\n",
        "    ax1.plot(n_epochs_range, history.history['matthews_correlation'], label=\"Matthews Coef\")\n",
        "    if plot_validation:\n",
        "        ax2.plot(n_epochs_range, history.history[\"val_loss\"], label=\"loss\")\n",
        "        ax2.plot(n_epochs_range, history.history[\"val_accuracy\"], label=\"Accuracy\")\n",
        "        ax2.plot(n_epochs_range, history.history[\"val_auc\"], label=\"Area Under ROC\")\n",
        "        ax2.plot(n_epochs_range, history.history[\"val_matthews_correlation\"], label=\"Matthews Coef\")\n",
        "    \n",
        "    ax1.set_title(\"Training Metrics\")\n",
        "    ax2.set_title(\"Validation Metrics\")\n",
        "    plt.xlabel(\"Epoch #\")\n",
        "    ax1.set_ylabel(\"Metric Score\")\n",
        "    ax1.legend(); ax2.legend()\n",
        "    plt.plot();"
      ],
      "execution_count": 0,
      "outputs": []
    },
    {
      "cell_type": "code",
      "metadata": {
        "id": "v9MNjyrOZsJU",
        "colab_type": "code",
        "colab": {
          "base_uri": "https://localhost:8080/",
          "height": 69
        },
        "outputId": "d8b24ae9-57a8-45b1-f0ff-22d5c90eb98c"
      },
      "source": [
        "METRICS"
      ],
      "execution_count": 20,
      "outputs": [
        {
          "output_type": "execute_result",
          "data": {
            "text/plain": [
              "[<tensorflow.python.keras.metrics.BinaryAccuracy at 0x7fa6605cd358>,\n",
              " <tensorflow.python.keras.metrics.AUC at 0x7fa6605cd828>,\n",
              " <function __main__.matthews_correlation>]"
            ]
          },
          "metadata": {
            "tags": []
          },
          "execution_count": 20
        }
      ]
    },
    {
      "cell_type": "markdown",
      "metadata": {
        "id": "AeJAcvH7ZsJf",
        "colab_type": "text"
      },
      "source": [
        "### Convolutional Model"
      ]
    },
    {
      "cell_type": "code",
      "metadata": {
        "scrolled": false,
        "id": "EbwtQSZ3ZsJh",
        "colab_type": "code",
        "colab": {
          "base_uri": "https://localhost:8080/",
          "height": 572
        },
        "outputId": "d797d4cf-048a-4f99-ce30-3e7cd3b0a270"
      },
      "source": [
        "conv_model = tf.keras.models.Sequential()\n",
        "conv_model.add(Conv2D(32, kernel_size=(5,5),\n",
        "                 activation='relu',\n",
        "                 input_shape=input_shape))\n",
        "conv_model.add(MaxPooling2D(pool_size=(3, 3)))\n",
        "conv_model.add(Dropout(0.5))\n",
        "conv_model.add(Conv2D(64, (3, 3), activation='relu'))\n",
        "conv_model.add(MaxPooling2D(pool_size=(2, 2)))\n",
        "conv_model.add(Dropout(0.5))\n",
        "conv_model.add(Flatten())\n",
        "conv_model.add(Dense(64, activation='relu'))\n",
        "conv_model.add(Dropout(0.5))\n",
        "conv_model.add(Dense(32, activation='relu'))\n",
        "conv_model.add(Dropout(0.5))\n",
        "conv_model.add(Dense(1, activation='sigmoid'))\n",
        "\n",
        "conv_model.compile(loss=tf.keras.losses.binary_crossentropy,\n",
        "              optimizer=tf.keras.optimizers.Adam(lr=learning_rate), \n",
        "              metrics=METRICS)\n",
        "conv_model.summary()"
      ],
      "execution_count": 53,
      "outputs": [
        {
          "output_type": "stream",
          "text": [
            "Model: \"sequential_6\"\n",
            "_________________________________________________________________\n",
            "Layer (type)                 Output Shape              Param #   \n",
            "=================================================================\n",
            "conv2d_8 (Conv2D)            (None, 220, 220, 32)      2432      \n",
            "_________________________________________________________________\n",
            "max_pooling2d_4 (MaxPooling2 (None, 73, 73, 32)        0         \n",
            "_________________________________________________________________\n",
            "dropout_10 (Dropout)         (None, 73, 73, 32)        0         \n",
            "_________________________________________________________________\n",
            "conv2d_9 (Conv2D)            (None, 71, 71, 64)        18496     \n",
            "_________________________________________________________________\n",
            "max_pooling2d_5 (MaxPooling2 (None, 35, 35, 64)        0         \n",
            "_________________________________________________________________\n",
            "dropout_11 (Dropout)         (None, 35, 35, 64)        0         \n",
            "_________________________________________________________________\n",
            "flatten_2 (Flatten)          (None, 78400)             0         \n",
            "_________________________________________________________________\n",
            "dense_14 (Dense)             (None, 64)                5017664   \n",
            "_________________________________________________________________\n",
            "dropout_12 (Dropout)         (None, 64)                0         \n",
            "_________________________________________________________________\n",
            "dense_15 (Dense)             (None, 32)                2080      \n",
            "_________________________________________________________________\n",
            "dropout_13 (Dropout)         (None, 32)                0         \n",
            "_________________________________________________________________\n",
            "dense_16 (Dense)             (None, 1)                 33        \n",
            "=================================================================\n",
            "Total params: 5,040,705\n",
            "Trainable params: 5,040,705\n",
            "Non-trainable params: 0\n",
            "_________________________________________________________________\n"
          ],
          "name": "stdout"
        }
      ]
    },
    {
      "cell_type": "code",
      "metadata": {
        "id": "ylwnCKdsZsJp",
        "colab_type": "code",
        "colab": {
          "base_uri": "https://localhost:8080/",
          "height": 904
        },
        "outputId": "281534d7-ceaf-46fb-952f-d673c25beffd"
      },
      "source": [
        "conv_history = conv_model.fit_generator(\n",
        "        train_generator, \n",
        "        steps_per_epoch=int(total_train_samples/batch_size),  \n",
        "        epochs=n_epochs,\n",
        "        verbose=1,\n",
        "        validation_data=vdate_generator,\n",
        "        validation_steps=int(total_vdate_samples/batch_size),\n",
        "        use_multiprocessing=False,\n",
        "        class_weight=class_weight)"
      ],
      "execution_count": 54,
      "outputs": [
        {
          "output_type": "stream",
          "text": [
            "Epoch 1/25\n",
            "49/49 [==============================] - 28s 567ms/step - loss: 0.7198 - accuracy: 0.5442 - auc: 0.4910 - matthews_correlation: -0.0192 - val_loss: 0.6880 - val_accuracy: 0.7083 - val_auc: 0.5295 - val_matthews_correlation: -0.0093\n",
            "Epoch 2/25\n",
            "49/49 [==============================] - 28s 573ms/step - loss: 0.7070 - accuracy: 0.5436 - auc: 0.5077 - matthews_correlation: 0.0102 - val_loss: 0.6905 - val_accuracy: 0.6393 - val_auc: 0.5701 - val_matthews_correlation: 0.0813\n",
            "Epoch 3/25\n",
            "49/49 [==============================] - 28s 568ms/step - loss: 0.7083 - accuracy: 0.5384 - auc: 0.5073 - matthews_correlation: 0.0144 - val_loss: 0.6910 - val_accuracy: 0.6354 - val_auc: 0.5935 - val_matthews_correlation: 0.1183\n",
            "Epoch 4/25\n",
            "49/49 [==============================] - 27s 561ms/step - loss: 0.7074 - accuracy: 0.5324 - auc: 0.5100 - matthews_correlation: 0.0326 - val_loss: 0.6898 - val_accuracy: 0.7070 - val_auc: 0.5663 - val_matthews_correlation: 0.1295\n",
            "Epoch 5/25\n",
            "49/49 [==============================] - 28s 564ms/step - loss: 0.6993 - accuracy: 0.5397 - auc: 0.5201 - matthews_correlation: 0.0266 - val_loss: 0.6899 - val_accuracy: 0.6914 - val_auc: 0.5518 - val_matthews_correlation: 0.1079\n",
            "Epoch 6/25\n",
            "49/49 [==============================] - 28s 563ms/step - loss: 0.7022 - accuracy: 0.5291 - auc: 0.4929 - matthews_correlation: -0.0199 - val_loss: 0.6909 - val_accuracy: 0.6562 - val_auc: 0.5678 - val_matthews_correlation: 0.1704\n",
            "Epoch 7/25\n",
            "49/49 [==============================] - 28s 562ms/step - loss: 0.7041 - accuracy: 0.5221 - auc: 0.5006 - matthews_correlation: -0.0071 - val_loss: 0.6923 - val_accuracy: 0.5508 - val_auc: 0.5859 - val_matthews_correlation: 0.1668\n",
            "Epoch 8/25\n",
            "49/49 [==============================] - 27s 559ms/step - loss: 0.6969 - accuracy: 0.5045 - auc: 0.5017 - matthews_correlation: -0.0176 - val_loss: 0.6912 - val_accuracy: 0.6510 - val_auc: 0.5620 - val_matthews_correlation: 0.1402\n",
            "Epoch 9/25\n",
            "49/49 [==============================] - 27s 558ms/step - loss: 0.6895 - accuracy: 0.5426 - auc: 0.5510 - matthews_correlation: 0.0700 - val_loss: 0.6925 - val_accuracy: 0.5078 - val_auc: 0.5612 - val_matthews_correlation: 0.0973\n",
            "Epoch 10/25\n",
            "49/49 [==============================] - 27s 555ms/step - loss: 0.6987 - accuracy: 0.5343 - auc: 0.5172 - matthews_correlation: 0.0486 - val_loss: 0.6902 - val_accuracy: 0.6445 - val_auc: 0.5748 - val_matthews_correlation: 0.1400\n",
            "Epoch 11/25\n",
            "49/49 [==============================] - 27s 551ms/step - loss: 0.6980 - accuracy: 0.5381 - auc: 0.5187 - matthews_correlation: 0.0339 - val_loss: 0.6914 - val_accuracy: 0.5664 - val_auc: 0.5694 - val_matthews_correlation: 0.1098\n",
            "Epoch 12/25\n",
            "49/49 [==============================] - 27s 545ms/step - loss: 0.6973 - accuracy: 0.5125 - auc: 0.5105 - matthews_correlation: -0.0079 - val_loss: 0.6908 - val_accuracy: 0.5820 - val_auc: 0.5681 - val_matthews_correlation: 0.1004\n",
            "Epoch 13/25\n",
            "49/49 [==============================] - 27s 545ms/step - loss: 0.6970 - accuracy: 0.5322 - auc: 0.5274 - matthews_correlation: 0.0130 - val_loss: 0.6917 - val_accuracy: 0.5508 - val_auc: 0.5728 - val_matthews_correlation: 0.0984\n",
            "Epoch 14/25\n",
            "49/49 [==============================] - 27s 542ms/step - loss: 0.7006 - accuracy: 0.5309 - auc: 0.5099 - matthews_correlation: 0.0042 - val_loss: 0.6896 - val_accuracy: 0.6289 - val_auc: 0.5625 - val_matthews_correlation: 0.0995\n",
            "Epoch 15/25\n",
            "49/49 [==============================] - 26s 535ms/step - loss: 0.6956 - accuracy: 0.5352 - auc: 0.5189 - matthews_correlation: 0.0222 - val_loss: 0.6870 - val_accuracy: 0.6992 - val_auc: 0.5589 - val_matthews_correlation: 0.0866\n",
            "Epoch 16/25\n",
            "49/49 [==============================] - 26s 535ms/step - loss: 0.6957 - accuracy: 0.5450 - auc: 0.5190 - matthews_correlation: 0.0376 - val_loss: 0.6863 - val_accuracy: 0.7227 - val_auc: 0.5408 - val_matthews_correlation: 0.0882\n",
            "Epoch 17/25\n",
            "49/49 [==============================] - 26s 531ms/step - loss: 0.7030 - accuracy: 0.5364 - auc: 0.5145 - matthews_correlation: 0.0217 - val_loss: 0.6871 - val_accuracy: 0.7174 - val_auc: 0.5386 - val_matthews_correlation: 0.0993\n",
            "Epoch 18/25\n",
            "49/49 [==============================] - 26s 537ms/step - loss: 0.6920 - accuracy: 0.5408 - auc: 0.4942 - matthews_correlation: 0.0157 - val_loss: 0.6867 - val_accuracy: 0.7370 - val_auc: 0.5544 - val_matthews_correlation: nan\n",
            "Epoch 19/25\n",
            "49/49 [==============================] - 26s 530ms/step - loss: 0.6972 - accuracy: 0.5627 - auc: 0.5352 - matthews_correlation: 0.0465 - val_loss: 0.6869 - val_accuracy: 0.7396 - val_auc: 0.5623 - val_matthews_correlation: nan\n",
            "Epoch 20/25\n",
            "49/49 [==============================] - 26s 532ms/step - loss: 0.6973 - accuracy: 0.5443 - auc: 0.4976 - matthews_correlation: 3.7026e-04 - val_loss: 0.6867 - val_accuracy: 0.7565 - val_auc: 0.5672 - val_matthews_correlation: nan\n",
            "Epoch 21/25\n",
            "49/49 [==============================] - 26s 530ms/step - loss: 0.6997 - accuracy: 0.5596 - auc: 0.5335 - matthews_correlation: 0.0402 - val_loss: 0.6872 - val_accuracy: 0.7344 - val_auc: 0.5613 - val_matthews_correlation: nan\n",
            "Epoch 22/25\n",
            "49/49 [==============================] - 26s 531ms/step - loss: 0.6878 - accuracy: 0.5428 - auc: 0.5185 - matthews_correlation: 0.0071 - val_loss: 0.6884 - val_accuracy: 0.7044 - val_auc: 0.5606 - val_matthews_correlation: 0.0988\n",
            "Epoch 23/25\n",
            "49/49 [==============================] - 26s 535ms/step - loss: 0.6921 - accuracy: 0.5509 - auc: 0.5395 - matthews_correlation: 0.0621 - val_loss: 0.6887 - val_accuracy: 0.6771 - val_auc: 0.5679 - val_matthews_correlation: 0.0631\n",
            "Epoch 24/25\n",
            "49/49 [==============================] - 26s 532ms/step - loss: 0.6969 - accuracy: 0.5330 - auc: 0.5195 - matthews_correlation: 0.0333 - val_loss: 0.6882 - val_accuracy: 0.6758 - val_auc: 0.5538 - val_matthews_correlation: 0.0729\n",
            "Epoch 25/25\n",
            "49/49 [==============================] - 26s 536ms/step - loss: 0.6844 - accuracy: 0.5519 - auc: 0.5412 - matthews_correlation: 0.0353 - val_loss: 0.6887 - val_accuracy: 0.6654 - val_auc: 0.5688 - val_matthews_correlation: 0.0792\n"
          ],
          "name": "stdout"
        }
      ]
    },
    {
      "cell_type": "code",
      "metadata": {
        "scrolled": false,
        "id": "jk8uidBpZsJu",
        "colab_type": "code",
        "colab": {
          "base_uri": "https://localhost:8080/",
          "height": 354
        },
        "outputId": "a664065f-7443-463c-8f01-75870cbf2407"
      },
      "source": [
        "history_plotter(history=conv_history, plot_validation=True)"
      ],
      "execution_count": 55,
      "outputs": [
        {
          "output_type": "display_data",
          "data": {
            "image/png": "[encoded data removed]",
            "text/plain": [
              "<Figure size 720x360 with 2 Axes>"
            ]
          },
          "metadata": {
            "tags": []
          }
        }
      ]
    },
    {
      "cell_type": "markdown",
      "metadata": {
        "id": "XqnQrClFZsJ2",
        "colab_type": "text"
      },
      "source": [
        "# Object Detection via Transfer Learning\n"
      ]
    },
    {
      "cell_type": "code",
      "metadata": {
        "id": "g9AA47PjZsJ4",
        "colab_type": "code",
        "colab": {}
      },
      "source": [
        "pretrained_mobilenet = tf.keras.applications.MobileNetV2(\n",
        "    input_shape=(224, 224, 3),\n",
        "    include_top=False,\n",
        "    weights='imagenet')\n",
        "pretrained_mobilenet.trainable = False"
      ],
      "execution_count": 0,
      "outputs": []
    },
    {
      "cell_type": "code",
      "metadata": {
        "id": "pkinp9G7ZsJ9",
        "colab_type": "code",
        "colab": {
          "base_uri": "https://localhost:8080/",
          "height": 329
        },
        "outputId": "d3e918c0-04c2-4608-bfc6-847ba02b08a7"
      },
      "source": [
        "mnet_lr = .000_01\n",
        "mnet_model = tf.keras.models.Sequential()\n",
        "mnet_model.add(pretrained_mobilenet)\n",
        "mnet_model.add(tf.keras.layers.GlobalAveragePooling2D())\n",
        "mnet_model.add(tf.keras.layers.Dense(64))\n",
        "mnet_model.add(tf.keras.layers.Dropout(.5))\n",
        "mnet_model.add(tf.keras.layers.Dense(1, activation='sigmoid'))\n",
        "\n",
        "mnet_model.compile(optimizer=tf.keras.optimizers.RMSprop(lr=mnet_lr),\n",
        "              loss=loss,\n",
        "              metrics=METRICS)\n",
        "mnet_model.summary()"
      ],
      "execution_count": 47,
      "outputs": [
        {
          "output_type": "stream",
          "text": [
            "Model: \"sequential_4\"\n",
            "_________________________________________________________________\n",
            "Layer (type)                 Output Shape              Param #   \n",
            "=================================================================\n",
            "mobilenetv2_1.00_224 (Model) (None, 7, 7, 1280)        2257984   \n",
            "_________________________________________________________________\n",
            "global_average_pooling2d_2 ( (None, 1280)              0         \n",
            "_________________________________________________________________\n",
            "dense_10 (Dense)             (None, 64)                81984     \n",
            "_________________________________________________________________\n",
            "dropout_8 (Dropout)          (None, 64)                0         \n",
            "_________________________________________________________________\n",
            "dense_11 (Dense)             (None, 1)                 65        \n",
            "=================================================================\n",
            "Total params: 2,340,033\n",
            "Trainable params: 82,049\n",
            "Non-trainable params: 2,257,984\n",
            "_________________________________________________________________\n"
          ],
          "name": "stdout"
        }
      ]
    },
    {
      "cell_type": "code",
      "metadata": {
        "scrolled": false,
        "id": "HNqo00b2ZsKD",
        "colab_type": "code",
        "colab": {
          "base_uri": "https://localhost:8080/",
          "height": 904
        },
        "outputId": "fc60d339-82a5-406e-e930-d40de1205594"
      },
      "source": [
        "mnet_history = mnet_model.fit_generator(\n",
        "        train_generator, \n",
        "        steps_per_epoch=int(total_train_samples/batch_size),  \n",
        "        epochs=25,\n",
        "        verbose=1,\n",
        "        validation_data=vdate_generator,\n",
        "        validation_steps=int(total_vdate_samples/batch_size),\n",
        "        class_weight=class_weight,\n",
        "        use_multiprocessing=False)"
      ],
      "execution_count": 48,
      "outputs": [
        {
          "output_type": "stream",
          "text": [
            "Epoch 1/25\n",
            "49/49 [==============================] - 33s 683ms/step - loss: 0.8133 - accuracy: 0.5503 - auc: 0.5651 - matthews_correlation: 0.0744 - val_loss: 0.6381 - val_accuracy: 0.6445 - val_auc: 0.5562 - val_matthews_correlation: 0.0619\n",
            "Epoch 2/25\n",
            "49/49 [==============================] - 33s 673ms/step - loss: 0.7784 - accuracy: 0.5788 - auc: 0.5907 - matthews_correlation: 0.1178 - val_loss: 0.6124 - val_accuracy: 0.6719 - val_auc: 0.5882 - val_matthews_correlation: 0.0945\n",
            "Epoch 3/25\n",
            "49/49 [==============================] - 33s 675ms/step - loss: 0.7601 - accuracy: 0.5987 - auc: 0.6127 - matthews_correlation: 0.1423 - val_loss: 0.6027 - val_accuracy: 0.6732 - val_auc: 0.6123 - val_matthews_correlation: 0.1079\n",
            "Epoch 4/25\n",
            "49/49 [==============================] - 33s 683ms/step - loss: 0.7101 - accuracy: 0.6268 - auc: 0.6565 - matthews_correlation: 0.1935 - val_loss: 0.6122 - val_accuracy: 0.6706 - val_auc: 0.6318 - val_matthews_correlation: 0.1447\n",
            "Epoch 5/25\n",
            "49/49 [==============================] - 33s 682ms/step - loss: 0.7027 - accuracy: 0.6172 - auc: 0.6606 - matthews_correlation: 0.1923 - val_loss: 0.6019 - val_accuracy: 0.6745 - val_auc: 0.6505 - val_matthews_correlation: 0.1591\n",
            "Epoch 6/25\n",
            "49/49 [==============================] - 34s 685ms/step - loss: 0.6915 - accuracy: 0.6467 - auc: 0.6754 - matthews_correlation: 0.2395 - val_loss: 0.6030 - val_accuracy: 0.6823 - val_auc: 0.6639 - val_matthews_correlation: 0.1940\n",
            "Epoch 7/25\n",
            "49/49 [==============================] - 34s 688ms/step - loss: 0.6929 - accuracy: 0.6496 - auc: 0.6833 - matthews_correlation: 0.2498 - val_loss: 0.5958 - val_accuracy: 0.6862 - val_auc: 0.6766 - val_matthews_correlation: 0.2043\n",
            "Epoch 8/25\n",
            "49/49 [==============================] - 34s 689ms/step - loss: 0.6747 - accuracy: 0.6509 - auc: 0.6929 - matthews_correlation: 0.2541 - val_loss: 0.5773 - val_accuracy: 0.7005 - val_auc: 0.6881 - val_matthews_correlation: 0.2111\n",
            "Epoch 9/25\n",
            "49/49 [==============================] - 34s 691ms/step - loss: 0.6315 - accuracy: 0.6826 - auc: 0.7294 - matthews_correlation: 0.3019 - val_loss: 0.5817 - val_accuracy: 0.6966 - val_auc: 0.6971 - val_matthews_correlation: 0.2181\n",
            "Epoch 10/25\n",
            "49/49 [==============================] - 34s 699ms/step - loss: 0.6108 - accuracy: 0.7056 - auc: 0.7485 - matthews_correlation: 0.3401 - val_loss: 0.5746 - val_accuracy: 0.7044 - val_auc: 0.7058 - val_matthews_correlation: 0.2331\n",
            "Epoch 11/25\n",
            "49/49 [==============================] - 34s 695ms/step - loss: 0.6344 - accuracy: 0.6861 - auc: 0.7397 - matthews_correlation: 0.3261 - val_loss: 0.5796 - val_accuracy: 0.6940 - val_auc: 0.7108 - val_matthews_correlation: 0.2355\n",
            "Epoch 12/25\n",
            "49/49 [==============================] - 34s 689ms/step - loss: 0.6284 - accuracy: 0.6823 - auc: 0.7405 - matthews_correlation: 0.3023 - val_loss: 0.5686 - val_accuracy: 0.7057 - val_auc: 0.7166 - val_matthews_correlation: 0.2473\n",
            "Epoch 13/25\n",
            "49/49 [==============================] - 34s 690ms/step - loss: 0.6297 - accuracy: 0.6872 - auc: 0.7384 - matthews_correlation: 0.3061 - val_loss: 0.5788 - val_accuracy: 0.6979 - val_auc: 0.7201 - val_matthews_correlation: 0.2554\n",
            "Epoch 14/25\n",
            "49/49 [==============================] - 33s 673ms/step - loss: 0.6279 - accuracy: 0.6899 - auc: 0.7418 - matthews_correlation: 0.3311 - val_loss: 0.5678 - val_accuracy: 0.7057 - val_auc: 0.7249 - val_matthews_correlation: 0.2586\n",
            "Epoch 15/25\n",
            "49/49 [==============================] - 33s 680ms/step - loss: 0.5993 - accuracy: 0.7059 - auc: 0.7543 - matthews_correlation: 0.3382 - val_loss: 0.5706 - val_accuracy: 0.6979 - val_auc: 0.7290 - val_matthews_correlation: 0.2594\n",
            "Epoch 16/25\n",
            "49/49 [==============================] - 33s 674ms/step - loss: 0.5967 - accuracy: 0.7079 - auc: 0.7678 - matthews_correlation: 0.3584 - val_loss: 0.5592 - val_accuracy: 0.7057 - val_auc: 0.7325 - val_matthews_correlation: 0.2581\n",
            "Epoch 17/25\n",
            "49/49 [==============================] - 33s 668ms/step - loss: 0.5976 - accuracy: 0.7101 - auc: 0.7699 - matthews_correlation: 0.3595 - val_loss: 0.5881 - val_accuracy: 0.6914 - val_auc: 0.7340 - val_matthews_correlation: 0.2841\n",
            "Epoch 18/25\n",
            "49/49 [==============================] - 33s 669ms/step - loss: 0.5907 - accuracy: 0.7114 - auc: 0.7661 - matthews_correlation: 0.3509 - val_loss: 0.5670 - val_accuracy: 0.7005 - val_auc: 0.7369 - val_matthews_correlation: 0.2763\n",
            "Epoch 19/25\n",
            "49/49 [==============================] - 34s 686ms/step - loss: 0.5724 - accuracy: 0.7194 - auc: 0.7861 - matthews_correlation: 0.3769 - val_loss: 0.5599 - val_accuracy: 0.7044 - val_auc: 0.7393 - val_matthews_correlation: 0.2813\n",
            "Epoch 20/25\n",
            "49/49 [==============================] - 32s 661ms/step - loss: 0.6026 - accuracy: 0.7140 - auc: 0.7691 - matthews_correlation: 0.3658 - val_loss: 0.5748 - val_accuracy: 0.6992 - val_auc: 0.7401 - val_matthews_correlation: 0.2876\n",
            "Epoch 21/25\n",
            "49/49 [==============================] - 32s 663ms/step - loss: 0.5607 - accuracy: 0.7306 - auc: 0.7899 - matthews_correlation: 0.3875 - val_loss: 0.5579 - val_accuracy: 0.7070 - val_auc: 0.7424 - val_matthews_correlation: 0.2869\n",
            "Epoch 22/25\n",
            "49/49 [==============================] - 33s 664ms/step - loss: 0.5784 - accuracy: 0.7296 - auc: 0.7843 - matthews_correlation: 0.3861 - val_loss: 0.5595 - val_accuracy: 0.7031 - val_auc: 0.7436 - val_matthews_correlation: 0.2871\n",
            "Epoch 23/25\n",
            "49/49 [==============================] - 32s 662ms/step - loss: 0.5599 - accuracy: 0.7346 - auc: 0.7967 - matthews_correlation: 0.4055 - val_loss: 0.5541 - val_accuracy: 0.7109 - val_auc: 0.7451 - val_matthews_correlation: 0.2975\n",
            "Epoch 24/25\n",
            "49/49 [==============================] - 33s 667ms/step - loss: 0.5767 - accuracy: 0.7331 - auc: 0.7903 - matthews_correlation: 0.4018 - val_loss: 0.5543 - val_accuracy: 0.7096 - val_auc: 0.7473 - val_matthews_correlation: 0.2961\n",
            "Epoch 25/25\n",
            "49/49 [==============================] - 32s 659ms/step - loss: 0.5674 - accuracy: 0.7265 - auc: 0.7879 - matthews_correlation: 0.3745 - val_loss: 0.5596 - val_accuracy: 0.7044 - val_auc: 0.7478 - val_matthews_correlation: 0.2889\n"
          ],
          "name": "stdout"
        }
      ]
    },
    {
      "cell_type": "code",
      "metadata": {
        "id": "Kc4Lp7HqZsKJ",
        "colab_type": "code",
        "colab": {
          "base_uri": "https://localhost:8080/",
          "height": 354
        },
        "outputId": "23466da7-94fe-46bf-81c7-59a08e8f5df2"
      },
      "source": [
        "history_plotter(mnet_history)"
      ],
      "execution_count": 49,
      "outputs": [
        {
          "output_type": "display_data",
          "data": {
            "image/png": "[encoded data removed]",
            "text/plain": [
              "<Figure size 720x360 with 2 Axes>"
            ]
          },
          "metadata": {
            "tags": []
          }
        }
      ]
    },
    {
      "cell_type": "code",
      "metadata": {
        "id": "lvQLtgWJZf3l",
        "colab_type": "code",
        "colab": {
          "base_uri": "https://localhost:8080/",
          "height": 384
        },
        "outputId": "41b61c67-ed64-4a40-d26e-5b255492d7e3"
      },
      "source": [
        "pretrained_xception = tf.keras.applications.Xception(\n",
        "        input_shape=(224, 224, 3),\n",
        "        include_top=False,\n",
        "        weights='imagenet')\n",
        "pretrained_xception.trainable = False\n",
        "\n",
        "xc_lr = .000_01\n",
        "xc_model = tf.keras.models.Sequential()\n",
        "xc_model.add(pretrained_xception)\n",
        "xc_model.add(tf.keras.layers.GlobalAveragePooling2D())\n",
        "xc_model.add(tf.keras.layers.Dense(64))\n",
        "xc_model.add(tf.keras.layers.Dropout(.5))\n",
        "xc_model.add(tf.keras.layers.Dense(1, activation='sigmoid'))\n",
        "\n",
        "xc_model.compile(optimizer=tf.keras.optimizers.RMSprop(lr=xc_lr),\n",
        "              loss=loss,\n",
        "              metrics=METRICS)\n",
        "xc_model.summary()"
      ],
      "execution_count": 50,
      "outputs": [
        {
          "output_type": "stream",
          "text": [
            "Downloading data from https://github.com/fchollet/deep-learning-models/releases/download/v0.4/xception_weights_tf_dim_ordering_tf_kernels_notop.h5\n",
            "83689472/83683744 [==============================] - 1s 0us/step\n",
            "Model: \"sequential_5\"\n",
            "_________________________________________________________________\n",
            "Layer (type)                 Output Shape              Param #   \n",
            "=================================================================\n",
            "xception (Model)             (None, 7, 7, 2048)        20861480  \n",
            "_________________________________________________________________\n",
            "global_average_pooling2d_3 ( (None, 2048)              0         \n",
            "_________________________________________________________________\n",
            "dense_12 (Dense)             (None, 64)                131136    \n",
            "_________________________________________________________________\n",
            "dropout_9 (Dropout)          (None, 64)                0         \n",
            "_________________________________________________________________\n",
            "dense_13 (Dense)             (None, 1)                 65        \n",
            "=================================================================\n",
            "Total params: 20,992,681\n",
            "Trainable params: 131,201\n",
            "Non-trainable params: 20,861,480\n",
            "_________________________________________________________________\n"
          ],
          "name": "stdout"
        }
      ]
    },
    {
      "cell_type": "code",
      "metadata": {
        "id": "1sU5ZHuwaLEf",
        "colab_type": "code",
        "colab": {
          "base_uri": "https://localhost:8080/",
          "height": 904
        },
        "outputId": "3cf96875-39e4-4b3a-d25e-8d9af3f65369"
      },
      "source": [
        "xc_epochs = 25\n",
        "xc_history = xc_model.fit_generator(\n",
        "        train_generator, \n",
        "        steps_per_epoch=int(total_train_samples/batch_size),  \n",
        "        epochs=xc_epochs,\n",
        "        verbose=1,\n",
        "        validation_data=vdate_generator,\n",
        "        validation_steps=int(total_vdate_samples/batch_size),\n",
        "        class_weight=class_weight,\n",
        "        use_multiprocessing=False)"
      ],
      "execution_count": 51,
      "outputs": [
        {
          "output_type": "stream",
          "text": [
            "Epoch 1/25\n",
            "49/49 [==============================] - 47s 952ms/step - loss: 0.7095 - accuracy: 0.5916 - auc: 0.5408 - matthews_correlation: 0.0324 - val_loss: 0.5884 - val_accuracy: 0.7630 - val_auc: 0.6600 - val_matthews_correlation: 0.1767\n",
            "Epoch 2/25\n",
            "49/49 [==============================] - 46s 934ms/step - loss: 0.6923 - accuracy: 0.5666 - auc: 0.5708 - matthews_correlation: 0.1019 - val_loss: 0.5861 - val_accuracy: 0.7617 - val_auc: 0.6934 - val_matthews_correlation: 0.2324\n",
            "Epoch 3/25\n",
            "49/49 [==============================] - 46s 932ms/step - loss: 0.6789 - accuracy: 0.5967 - auc: 0.6117 - matthews_correlation: 0.1470 - val_loss: 0.5785 - val_accuracy: 0.7604 - val_auc: 0.7181 - val_matthews_correlation: 0.2429\n",
            "Epoch 4/25\n",
            "49/49 [==============================] - 46s 934ms/step - loss: 0.6515 - accuracy: 0.6348 - auc: 0.6585 - matthews_correlation: 0.2100 - val_loss: 0.5614 - val_accuracy: 0.7695 - val_auc: 0.7340 - val_matthews_correlation: 0.2651\n",
            "Epoch 5/25\n",
            "49/49 [==============================] - 46s 933ms/step - loss: 0.6604 - accuracy: 0.6310 - auc: 0.6620 - matthews_correlation: 0.2209 - val_loss: 0.5566 - val_accuracy: 0.7734 - val_auc: 0.7436 - val_matthews_correlation: 0.3008\n",
            "Epoch 6/25\n",
            "49/49 [==============================] - 46s 932ms/step - loss: 0.6297 - accuracy: 0.6563 - auc: 0.6984 - matthews_correlation: 0.2516 - val_loss: 0.5365 - val_accuracy: 0.7826 - val_auc: 0.7503 - val_matthews_correlation: 0.3133\n",
            "Epoch 7/25\n",
            "49/49 [==============================] - 46s 935ms/step - loss: 0.6242 - accuracy: 0.6819 - auc: 0.7179 - matthews_correlation: 0.2860 - val_loss: 0.5380 - val_accuracy: 0.7760 - val_auc: 0.7543 - val_matthews_correlation: 0.3230\n",
            "Epoch 8/25\n",
            "49/49 [==============================] - 46s 937ms/step - loss: 0.6181 - accuracy: 0.6862 - auc: 0.7288 - matthews_correlation: 0.3062 - val_loss: 0.5341 - val_accuracy: 0.7695 - val_auc: 0.7573 - val_matthews_correlation: 0.3154\n",
            "Epoch 9/25\n",
            "49/49 [==============================] - 46s 934ms/step - loss: 0.6058 - accuracy: 0.6954 - auc: 0.7409 - matthews_correlation: 0.3127 - val_loss: 0.5219 - val_accuracy: 0.7747 - val_auc: 0.7591 - val_matthews_correlation: 0.3207\n",
            "Epoch 10/25\n",
            "49/49 [==============================] - 46s 935ms/step - loss: 0.6011 - accuracy: 0.7104 - auc: 0.7601 - matthews_correlation: 0.3595 - val_loss: 0.5156 - val_accuracy: 0.7747 - val_auc: 0.7610 - val_matthews_correlation: 0.3220\n",
            "Epoch 11/25\n",
            "49/49 [==============================] - 46s 937ms/step - loss: 0.5938 - accuracy: 0.7229 - auc: 0.7642 - matthews_correlation: 0.3703 - val_loss: 0.5128 - val_accuracy: 0.7786 - val_auc: 0.7624 - val_matthews_correlation: 0.3511\n",
            "Epoch 12/25\n",
            "49/49 [==============================] - 46s 942ms/step - loss: 0.5812 - accuracy: 0.7230 - auc: 0.7760 - matthews_correlation: 0.3688 - val_loss: 0.5054 - val_accuracy: 0.7826 - val_auc: 0.7634 - val_matthews_correlation: 0.3559\n",
            "Epoch 13/25\n",
            "49/49 [==============================] - 46s 936ms/step - loss: 0.5835 - accuracy: 0.7313 - auc: 0.7838 - matthews_correlation: 0.3978 - val_loss: 0.5099 - val_accuracy: 0.7826 - val_auc: 0.7640 - val_matthews_correlation: 0.3882\n",
            "Epoch 14/25\n",
            "49/49 [==============================] - 46s 940ms/step - loss: 0.5715 - accuracy: 0.7319 - auc: 0.7857 - matthews_correlation: 0.3825 - val_loss: 0.5017 - val_accuracy: 0.7812 - val_auc: 0.7644 - val_matthews_correlation: 0.3713\n",
            "Epoch 15/25\n",
            "49/49 [==============================] - 46s 939ms/step - loss: 0.5666 - accuracy: 0.7361 - auc: 0.7985 - matthews_correlation: 0.3994 - val_loss: 0.5022 - val_accuracy: 0.7878 - val_auc: 0.7643 - val_matthews_correlation: 0.4001\n",
            "Epoch 16/25\n",
            "49/49 [==============================] - 46s 937ms/step - loss: 0.5664 - accuracy: 0.7427 - auc: 0.7935 - matthews_correlation: 0.4060 - val_loss: 0.4969 - val_accuracy: 0.7852 - val_auc: 0.7651 - val_matthews_correlation: 0.3831\n",
            "Epoch 17/25\n",
            "49/49 [==============================] - 46s 931ms/step - loss: 0.5458 - accuracy: 0.7532 - auc: 0.8196 - matthews_correlation: 0.4340 - val_loss: 0.4949 - val_accuracy: 0.7826 - val_auc: 0.7655 - val_matthews_correlation: 0.3779\n",
            "Epoch 18/25\n",
            "49/49 [==============================] - 46s 935ms/step - loss: 0.5624 - accuracy: 0.7361 - auc: 0.7945 - matthews_correlation: 0.3961 - val_loss: 0.4916 - val_accuracy: 0.7812 - val_auc: 0.7663 - val_matthews_correlation: 0.3741\n",
            "Epoch 19/25\n",
            "49/49 [==============================] - 46s 937ms/step - loss: 0.5480 - accuracy: 0.7503 - auc: 0.8125 - matthews_correlation: 0.4300 - val_loss: 0.4931 - val_accuracy: 0.7799 - val_auc: 0.7665 - val_matthews_correlation: 0.3795\n",
            "Epoch 20/25\n",
            "49/49 [==============================] - 46s 934ms/step - loss: 0.5488 - accuracy: 0.7523 - auc: 0.8175 - matthews_correlation: 0.4369 - val_loss: 0.4911 - val_accuracy: 0.7786 - val_auc: 0.7667 - val_matthews_correlation: 0.3757\n",
            "Epoch 21/25\n",
            "49/49 [==============================] - 46s 938ms/step - loss: 0.5358 - accuracy: 0.7543 - auc: 0.8236 - matthews_correlation: 0.4420 - val_loss: 0.4849 - val_accuracy: 0.7773 - val_auc: 0.7674 - val_matthews_correlation: 0.3624\n",
            "Epoch 22/25\n",
            "49/49 [==============================] - 46s 940ms/step - loss: 0.5495 - accuracy: 0.7447 - auc: 0.8135 - matthews_correlation: 0.4226 - val_loss: 0.4899 - val_accuracy: 0.7799 - val_auc: 0.7669 - val_matthews_correlation: 0.3923\n",
            "Epoch 23/25\n",
            "49/49 [==============================] - 46s 943ms/step - loss: 0.5353 - accuracy: 0.7546 - auc: 0.8236 - matthews_correlation: 0.4489 - val_loss: 0.4882 - val_accuracy: 0.7773 - val_auc: 0.7674 - val_matthews_correlation: 0.3790\n",
            "Epoch 24/25\n",
            "49/49 [==============================] - 46s 943ms/step - loss: 0.5324 - accuracy: 0.7620 - auc: 0.8190 - matthews_correlation: 0.4493 - val_loss: 0.4857 - val_accuracy: 0.7786 - val_auc: 0.7681 - val_matthews_correlation: 0.3814\n",
            "Epoch 25/25\n",
            "49/49 [==============================] - 46s 942ms/step - loss: 0.5280 - accuracy: 0.7697 - auc: 0.8277 - matthews_correlation: 0.4721 - val_loss: 0.4817 - val_accuracy: 0.7773 - val_auc: 0.7678 - val_matthews_correlation: 0.3631\n"
          ],
          "name": "stdout"
        }
      ]
    },
    {
      "cell_type": "code",
      "metadata": {
        "id": "nnpWwxrWaKkm",
        "colab_type": "code",
        "colab": {
          "base_uri": "https://localhost:8080/",
          "height": 354
        },
        "outputId": "920b7659-1997-4b8d-a4ba-c48c70a5fd1e"
      },
      "source": [
        "history_plotter(xc_history, n_epochs=xc_epochs)"
      ],
      "execution_count": 52,
      "outputs": [
        {
          "output_type": "display_data",
          "data": {
            "image/png": "[encoded data removed]",
            "text/plain": [
              "<Figure size 720x360 with 2 Axes>"
            ]
          },
          "metadata": {
            "tags": []
          }
        }
      ]
    },
    {
      "cell_type": "markdown",
      "metadata": {
        "id": "5zsVIF2EZsKq",
        "colab_type": "text"
      },
      "source": [
        "# Object Segmentation\n",
        "This will use a pretrained model as the basis for a nn that identifies the part of an image file that contains the sidewalk object."
      ]
    },
    {
      "cell_type": "markdown",
      "metadata": {
        "id": "1f3lbk0RZsKu",
        "colab_type": "text"
      },
      "source": [
        "### tinyYOLOv3"
      ]
    },
    {
      "cell_type": "code",
      "metadata": {
        "id": "z9_EQ4_KZsKy",
        "colab_type": "code",
        "colab": {}
      },
      "source": [
        "model_path = \"./models/yolo-tiny.h5\"\n",
        "input_path = \"./input/test45.jpg\"\n",
        "output_path = \"./output/newimage.jpg\""
      ],
      "execution_count": 0,
      "outputs": []
    },
    {
      "cell_type": "code",
      "metadata": {
        "scrolled": true,
        "id": "414c_aXzZsLQ",
        "colab_type": "code",
        "colab": {},
        "outputId": "dd0d7107-9426-4f1f-98b3-db9dba6379c4"
      },
      "source": [
        "detector = ObjectDetection().get\n",
        "detector.setModelTypeAsTinyYOLOv3()\n",
        "detector.setModelPath(model_path)\n",
        "detector.loadModel()\n",
        "\n",
        "#returns dictionary with name and probabilities of objects detected\n",
        "detection = detector.detectObjectsFromImage(input_image=input_path, output_image_path=output_path)"
      ],
      "execution_count": 0,
      "outputs": [
        {
          "output_type": "error",
          "ename": "RuntimeError",
          "evalue": "`get_session` is not available when using TensorFlow 2.0.",
          "traceback": [
            "\u001b[1;31m---------------------------------------------------------------------------\u001b[0m",
            "\u001b[1;31mRuntimeError\u001b[0m                              Traceback (most recent call last)",
            "\u001b[1;32m<ipython-input-264-91a8c6b3db4a>\u001b[0m in \u001b[0;36m<module>\u001b[1;34m\u001b[0m\n\u001b[1;32m----> 1\u001b[1;33m \u001b[0mdetector\u001b[0m \u001b[1;33m=\u001b[0m \u001b[0mObjectDetection\u001b[0m\u001b[1;33m(\u001b[0m\u001b[1;33m)\u001b[0m\u001b[1;33m\u001b[0m\u001b[1;33m\u001b[0m\u001b[0m\n\u001b[0m\u001b[0;32m      2\u001b[0m \u001b[0mdetector\u001b[0m\u001b[1;33m.\u001b[0m\u001b[0msetModelTypeAsTinyYOLOv3\u001b[0m\u001b[1;33m(\u001b[0m\u001b[1;33m)\u001b[0m\u001b[1;33m\u001b[0m\u001b[1;33m\u001b[0m\u001b[0m\n\u001b[0;32m      3\u001b[0m \u001b[0mdetector\u001b[0m\u001b[1;33m.\u001b[0m\u001b[0msetModelPath\u001b[0m\u001b[1;33m(\u001b[0m\u001b[0mmodel_path\u001b[0m\u001b[1;33m)\u001b[0m\u001b[1;33m\u001b[0m\u001b[1;33m\u001b[0m\u001b[0m\n\u001b[0;32m      4\u001b[0m \u001b[0mdetector\u001b[0m\u001b[1;33m.\u001b[0m\u001b[0mloadModel\u001b[0m\u001b[1;33m(\u001b[0m\u001b[1;33m)\u001b[0m\u001b[1;33m\u001b[0m\u001b[1;33m\u001b[0m\u001b[0m\n\u001b[0;32m      5\u001b[0m \u001b[1;33m\u001b[0m\u001b[0m\n",
            "\u001b[1;32mc:\\users\\user\\appdata\\local\\programs\\python\\python37\\lib\\site-packages\\imageai\\Detection\\__init__.py\u001b[0m in \u001b[0;36m__init__\u001b[1;34m(self)\u001b[0m\n\u001b[0;32m     86\u001b[0m         \u001b[0mself\u001b[0m\u001b[1;33m.\u001b[0m\u001b[0m__yolo_model_image_size\u001b[0m \u001b[1;33m=\u001b[0m \u001b[1;33m(\u001b[0m\u001b[1;36m416\u001b[0m\u001b[1;33m,\u001b[0m \u001b[1;36m416\u001b[0m\u001b[1;33m)\u001b[0m\u001b[1;33m\u001b[0m\u001b[1;33m\u001b[0m\u001b[0m\n\u001b[0;32m     87\u001b[0m         \u001b[0mself\u001b[0m\u001b[1;33m.\u001b[0m\u001b[0m__yolo_boxes\u001b[0m\u001b[1;33m,\u001b[0m \u001b[0mself\u001b[0m\u001b[1;33m.\u001b[0m\u001b[0m__yolo_scores\u001b[0m\u001b[1;33m,\u001b[0m \u001b[0mself\u001b[0m\u001b[1;33m.\u001b[0m\u001b[0m__yolo_classes\u001b[0m \u001b[1;33m=\u001b[0m \u001b[1;34m\"\"\u001b[0m\u001b[1;33m,\u001b[0m \u001b[1;34m\"\"\u001b[0m\u001b[1;33m,\u001b[0m \u001b[1;34m\"\"\u001b[0m\u001b[1;33m\u001b[0m\u001b[1;33m\u001b[0m\u001b[0m\n\u001b[1;32m---> 88\u001b[1;33m         \u001b[0mself\u001b[0m\u001b[1;33m.\u001b[0m\u001b[0msess\u001b[0m \u001b[1;33m=\u001b[0m \u001b[0mK\u001b[0m\u001b[1;33m.\u001b[0m\u001b[0mget_session\u001b[0m\u001b[1;33m(\u001b[0m\u001b[1;33m)\u001b[0m\u001b[1;33m\u001b[0m\u001b[1;33m\u001b[0m\u001b[0m\n\u001b[0m\u001b[0;32m     89\u001b[0m \u001b[1;33m\u001b[0m\u001b[0m\n\u001b[0;32m     90\u001b[0m         \u001b[1;31m# Unique instance variables for TinyYOLOv3.\u001b[0m\u001b[1;33m\u001b[0m\u001b[1;33m\u001b[0m\u001b[1;33m\u001b[0m\u001b[0m\n",
            "\u001b[1;32mc:\\users\\user\\appdata\\local\\programs\\python\\python37\\lib\\site-packages\\keras\\backend\\tensorflow_backend.py\u001b[0m in \u001b[0;36mget_session\u001b[1;34m()\u001b[0m\n\u001b[0;32m    377\u001b[0m     \u001b[1;32mif\u001b[0m \u001b[1;32mnot\u001b[0m \u001b[0m_is_tf_1\u001b[0m\u001b[1;33m(\u001b[0m\u001b[1;33m)\u001b[0m\u001b[1;33m:\u001b[0m\u001b[1;33m\u001b[0m\u001b[1;33m\u001b[0m\u001b[0m\n\u001b[0;32m    378\u001b[0m         raise RuntimeError(\n\u001b[1;32m--> 379\u001b[1;33m             \u001b[1;34m'`get_session` is not available '\u001b[0m\u001b[1;33m\u001b[0m\u001b[1;33m\u001b[0m\u001b[0m\n\u001b[0m\u001b[0;32m    380\u001b[0m             'when using TensorFlow 2.0.')\n\u001b[0;32m    381\u001b[0m     \u001b[1;32mif\u001b[0m \u001b[0mtf\u001b[0m\u001b[1;33m.\u001b[0m\u001b[0mexecuting_eagerly\u001b[0m\u001b[1;33m(\u001b[0m\u001b[1;33m)\u001b[0m\u001b[1;33m:\u001b[0m\u001b[1;33m\u001b[0m\u001b[1;33m\u001b[0m\u001b[0m\n",
            "\u001b[1;31mRuntimeError\u001b[0m: `get_session` is not available when using TensorFlow 2.0."
          ]
        }
      ]
    },
    {
      "cell_type": "code",
      "metadata": {
        "id": "tFpqAkcEZsLs",
        "colab_type": "code",
        "colab": {}
      },
      "source": [
        "strategy = tf.distribute.MirroredStrategy()\n",
        "with strategy.scope():\n",
        "    model = SentimentService.get_model1()\n",
        "#New code to load model\n",
        "def load_deep_model(self, model):\n",
        "        loaded_model = tf.keras.models.load_model(\"./src/mood-saved-models/\"model + \".h5\")\n",
        "        return loaded_model\n",
        "    \n",
        "    \n",
        "    detector = ObjectDetection()\n",
        "detector.setModelTypeAsTinyYOLOv3()\n",
        "detector.setModelPath(model_path)\n",
        "detector.loadModel()\n",
        "\n",
        "#returns dictionary with name and probabilities of objects detected\n",
        "detection = detector.detectObjectsFromImage(input_image=input_path, output_image_path=output_path)"
      ],
      "execution_count": 0,
      "outputs": []
    },
    {
      "cell_type": "markdown",
      "metadata": {
        "id": "lSI2Z7XwZsLy",
        "colab_type": "text"
      },
      "source": [
        "### MobileNetV2\n",
        "\n",
        "\n"
      ]
    },
    {
      "cell_type": "code",
      "metadata": {
        "id": "KuLA9spKZsMT",
        "colab_type": "code",
        "colab": {}
      },
      "source": [
        "xcept_model = tf.keras.applications.Xception(weights='imagenet')\n",
        "#http://download.tensorflow.org/models/deeplab_cityscapes_xception71_trainfine_2018_09_08.tar.gz\n"
      ],
      "execution_count": 0,
      "outputs": []
    }
  ]
}