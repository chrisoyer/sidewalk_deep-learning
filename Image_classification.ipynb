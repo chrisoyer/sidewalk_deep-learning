{
 "cells": [
  {
   "cell_type": "markdown",
   "metadata": {
    "colab_type": "text",
    "id": "E3sYdMAVZsE_"
   },
   "source": [
    "# Modeling with TensorFlow\n"
   ]
  },
  {
   "cell_type": "code",
   "execution_count": 17,
   "metadata": {
    "colab": {
     "base_uri": "https://localhost:8080/",
     "height": 35
    },
    "colab_type": "code",
    "id": "7smApwUGZsFD",
    "outputId": "7c7c8cc3-506c-46e0-b87a-148564ede1af"
   },
   "outputs": [],
   "source": [
    "# get colab status\n",
    "try:\n",
    "  import google.colab\n",
    "  IN_COLAB = True\n",
    "  %tensorflow_version 2.x\n",
    "except:\n",
    "  IN_COLAB = False"
   ]
  },
  {
   "cell_type": "code",
   "execution_count": 18,
   "metadata": {
    "colab": {
     "base_uri": "https://localhost:8080/",
     "height": 419
    },
    "colab_type": "code",
    "id": "FOtHs917Z1rr",
    "outputId": "2929132b-8f55-409d-fead-d40c1ec73e34"
   },
   "outputs": [],
   "source": [
    "if IN_COLAB:\n",
    "    from google.colab import drive\n",
    "    drive.mount('/content/gdrive')"
   ]
  },
  {
   "cell_type": "code",
   "execution_count": 38,
   "metadata": {
    "colab": {
     "base_uri": "https://localhost:8080/",
     "height": 35
    },
    "colab_type": "code",
    "id": "s3oQuRHZZsFb",
    "outputId": "8b415331-88a7-4835-ff9d-5b10da6ce7c9"
   },
   "outputs": [],
   "source": [
    "#imports\n",
    "import numpy as np\n",
    "import pandas as pd\n",
    "import matplotlib.pyplot as plt\n",
    "import seaborn as sns\n",
    "import tensorflow as tf\n",
    "from tensorflow.keras.preprocessing.image import ImageDataGenerator\n",
    "from tensorflow.keras.models import Sequential\n",
    "from tensorflow.keras.layers import Dense, Conv2D, Flatten, Dropout, MaxPooling2D\n",
    "from tensorflow.keras.optimizers import RMSprop\n",
    "from tensorflow.python.keras.utils.data_utils import Sequence # to fix 'imagedatagenerator has no shape' error\n",
    "from tensorflow.keras.callbacks import ModelCheckpoint\n",
    "import os\n",
    "import random, math"
   ]
  },
  {
   "cell_type": "code",
   "execution_count": 20,
   "metadata": {
    "colab": {},
    "colab_type": "code",
    "id": "X3PkZ7aGjTWP"
   },
   "outputs": [],
   "source": [
    "if IN_COLAB:\n",
    "    tf.test.gpu_device_name()\n",
    "    # need to use gpu runtime accelerator!\n",
    "    mirrored_strategy = tf.distribute.MirroredStrategy()"
   ]
  },
  {
   "cell_type": "markdown",
   "metadata": {
    "colab_type": "text",
    "id": "Wo3jLXedZsFi"
   },
   "source": [
    "# Create generator\n"
   ]
  },
  {
   "cell_type": "code",
   "execution_count": 5,
   "metadata": {
    "colab": {
     "base_uri": "https://localhost:8080/",
     "height": 35
    },
    "colab_type": "code",
    "id": "WfkkPMM5ZsFk",
    "outputId": "b8181acb-72eb-4eab-8c3a-927b7e5ac9c2"
   },
   "outputs": [
    {
     "name": "stdout",
     "output_type": "stream",
     "text": [
      "/c/Users/User/Documents/GitHub/sidewalks_deep-learning\n"
     ]
    }
   ],
   "source": [
    "!pwd"
   ]
  },
  {
   "cell_type": "code",
   "execution_count": 21,
   "metadata": {
    "colab": {
     "base_uri": "https://localhost:8080/",
     "height": 35
    },
    "colab_type": "code",
    "id": "QyofWL_wZsFr",
    "outputId": "fd5133b4-1acf-4176-b56b-8c1fd3f43cf3"
   },
   "outputs": [
    {
     "name": "stdout",
     "output_type": "stream",
     "text": [
      "/c/Users/User/Google Drive/thinkful/colab_datasets/sidewalk_data/images\n"
     ]
    }
   ],
   "source": [
    "if IN_COLAB:\n",
    "    os.chdir(f'/content/gdrive/My Drive/thinkful/colab_datasets/sidewalk_data/images/')\n",
    "else:\n",
    "    os.chdir(os.path.expanduser(f'~/Google Drive/thinkful/colab_datasets/sidewalk_data/images/'))\n",
    "!pwd"
   ]
  },
  {
   "cell_type": "code",
   "execution_count": 15,
   "metadata": {
    "colab": {},
    "colab_type": "code",
    "id": "cNUIhj3IZsFz"
   },
   "outputs": [
    {
     "name": "stdout",
     "output_type": "stream",
     "text": [
      "C:\\Users\\User\\Google Drive\\thinkful\\colab_datasets\\sidewalk_data\\images\\sidewalk\n",
      "C:\\Users\\User\\Google Drive\\thinkful\\colab_datasets\\sidewalk_data\\images\n"
     ]
    },
    {
     "name": "stderr",
     "output_type": "stream",
     "text": [
      "mv: missing destination file operand after '../test/sidewalk/'\n",
      "Try 'mv --help' for more information.\n"
     ]
    },
    {
     "name": "stdout",
     "output_type": "stream",
     "text": [
      "C:\\Users\\User\\Google Drive\\thinkful\\colab_datasets\\sidewalk_data\\images\\no_sidewalk\n"
     ]
    },
    {
     "name": "stderr",
     "output_type": "stream",
     "text": [
      "Parameter format not correct - \"sidewalk\".\n"
     ]
    },
    {
     "name": "stdout",
     "output_type": "stream",
     "text": [
      "C:\\Users\\User\\Google Drive\\thinkful\\colab_datasets\\sidewalk_data\\images\n"
     ]
    },
    {
     "name": "stderr",
     "output_type": "stream",
     "text": [
      "mv: missing destination file operand after '../test/no_sidewalk/'\n",
      "Try 'mv --help' for more information.\n",
      "Invalid switch - \"no_sidewalk\".\n"
     ]
    }
   ],
   "source": [
    "#move images into train, test, validate folders with subfolders for classes\n",
    "test_ratio = .15\n",
    "SPLIT_DATA = False # switch if need to divide out data\n",
    "if SPLIT_DATA:\n",
    "    for label in ['sidewalk', 'no_sidewalk']:\n",
    "        %cd ./$label\n",
    "        listing = os.popen('ls').read().strip().split(sep='\\n')\n",
    "        random.shuffle(listing) #inplace\n",
    "        im_count = len(listing)\n",
    "        test_size=val_size = math.ceil(test_ratio*im_count)\n",
    "        train_size = im_count - test_size\n",
    "        subfolders = ['train', 'test'] #train will be used for vdation too\n",
    "        for subfolder in subfolders:\n",
    "            new_path=os.path.join(\n",
    "                os.path.dirname(os.getcwd()), subfolder, label)\n",
    "            if not os.path.exists(new_path):\n",
    "                os.makedirs(new_path)\n",
    "        for item in range(0, train_size):\n",
    "            moved = listing.pop()\n",
    "            !mv $moved ../train/$label/$moved\n",
    "        for item in range(0, test_size):\n",
    "            moved = listing.pop()\n",
    "            !mv $moved ../test/$label/$moved\n",
    "        %cd ..\n",
    "        !rmdir ./$label"
   ]
  },
  {
   "cell_type": "markdown",
   "metadata": {
    "colab_type": "text",
    "id": "M-5RyUZBZsF-"
   },
   "source": [
    "### Parameters for data loading"
   ]
  },
  {
   "cell_type": "code",
   "execution_count": 22,
   "metadata": {
    "colab": {},
    "colab_type": "code",
    "id": "Y8EFk1_mZsGA"
   },
   "outputs": [],
   "source": [
    "idg_params={'rescale': 1./255}\n",
    "batch_size=64\n",
    "augmentation_params = {'rotation_range': 15,\n",
    "                        'zoom_range': 0.15,\n",
    "                         'width_shift_range': 0.2,\n",
    "                         'height_shift_range': 0.2,\n",
    "                         'shear_range': 0.15,\n",
    "                         'fill_mode': 'nearest',\n",
    "                         'horizontal_flip': True}\n",
    "datagen_params = {'batch_size': batch_size,\n",
    "                  'target_size': (224, 224),\n",
    "                  'color_mode': 'rgb', \n",
    "                  'class_mode': 'binary'}"
   ]
  },
  {
   "cell_type": "code",
   "execution_count": 23,
   "metadata": {
    "colab": {},
    "colab_type": "code",
    "id": "O1gBXYpYZsGX"
   },
   "outputs": [],
   "source": [
    "train_vdate_datagen = ImageDataGenerator(\n",
    "    **idg_params,\n",
    "    validation_split=0.2)\n",
    "train_augmented_datagen = ImageDataGenerator(\n",
    "    **idg_params,\n",
    "    **augmentation_params,\n",
    "    validation_split=0.2)\n",
    "test_datagen = ImageDataGenerator(**idg_params)"
   ]
  },
  {
   "cell_type": "code",
   "execution_count": 24,
   "metadata": {
    "colab": {
     "base_uri": "https://localhost:8080/",
     "height": 69
    },
    "colab_type": "code",
    "id": "Pv8K5RGEZsGq",
    "outputId": "f07ab80a-e824-44e2-9c50-6e5c1f4e506d"
   },
   "outputs": [
    {
     "name": "stdout",
     "output_type": "stream",
     "text": [
      "Found 3018 images belonging to 2 classes.\n",
      "Found 12077 images belonging to 2 classes.\n",
      "Found 3195 images belonging to 2 classes.\n"
     ]
    }
   ],
   "source": [
    "# Flow training images in batches of 128 using train_datagen generator\n",
    "vdate_generator = train_vdate_datagen.flow_from_directory(\n",
    "        directory=r'./train/',\n",
    "        subset='validation',\n",
    "        **datagen_params)\n",
    "train_generator = train_vdate_datagen.flow_from_directory(\n",
    "        directory=r'./train/',\n",
    "        subset='training',\n",
    "        **datagen_params)\n",
    "test_generator = test_datagen.flow_from_directory(\n",
    "        directory=r'./test/',\n",
    "        **datagen_params)"
   ]
  },
  {
   "cell_type": "markdown",
   "metadata": {
    "colab_type": "text",
    "id": "NTYgKa-kZsGy"
   },
   "source": [
    "### Parameters for Modeling"
   ]
  },
  {
   "cell_type": "code",
   "execution_count": 25,
   "metadata": {
    "colab": {},
    "colab_type": "code",
    "id": "qk9tkxbgZsHY"
   },
   "outputs": [],
   "source": [
    "n_epochs = 500\n",
    "learning_rate = 0.000_001\n",
    "loss = 'binary_crossentropy'"
   ]
  },
  {
   "cell_type": "code",
   "execution_count": 26,
   "metadata": {
    "colab": {
     "base_uri": "https://localhost:8080/",
     "height": 35
    },
    "colab_type": "code",
    "id": "h2uEGnq6ZsHe",
    "outputId": "3957435c-d98a-47f4-c5fa-d8ae3c3933c1"
   },
   "outputs": [
    {
     "data": {
      "text/plain": [
       "'C:\\\\Users\\\\User\\\\Google Drive\\\\thinkful\\\\colab_datasets\\\\sidewalk_data\\\\images'"
      ]
     },
     "execution_count": 26,
     "metadata": {},
     "output_type": "execute_result"
    }
   ],
   "source": [
    "pwd"
   ]
  },
  {
   "cell_type": "code",
   "execution_count": 27,
   "metadata": {
    "colab": {
     "base_uri": "https://localhost:8080/",
     "height": 35
    },
    "colab_type": "code",
    "id": "lC6hVbAbZsHk",
    "outputId": "f02c6036-009c-4d77-de22-898fa579557d"
   },
   "outputs": [
    {
     "name": "stdout",
     "output_type": "stream",
     "text": [
      "{'sidewalk': 10882, 'no_sidewalk': 4213, 'total': 15095}\n"
     ]
    }
   ],
   "source": [
    "imagecount = {}\n",
    "sidewalk_image_count = ! cd ./train/sidewalk/ && ls | wc -l\n",
    "no_sidewalk_image_count = ! cd ./train/no_sidewalk/ && ls | wc -l\n",
    "imagecount['sidewalk'] = int(sidewalk_image_count.nlstr)\n",
    "imagecount['no_sidewalk'] = int(no_sidewalk_image_count.nlstr)\n",
    "imagecount['total'] = imagecount['sidewalk'] + imagecount['no_sidewalk']\n",
    "\n",
    "print(imagecount)"
   ]
  },
  {
   "cell_type": "code",
   "execution_count": 28,
   "metadata": {
    "colab": {
     "base_uri": "https://localhost:8080/",
     "height": 35
    },
    "colab_type": "code",
    "id": "3LPAaycjZsHt",
    "outputId": "62bc194d-ce4a-46d5-9466-77d9fca14341"
   },
   "outputs": [
    {
     "data": {
      "text/plain": [
       "{'sidewalk': 0.6935765484285976, 'no_sidewalk': 1.7914787562307146}"
      ]
     },
     "execution_count": 28,
     "metadata": {},
     "output_type": "execute_result"
    }
   ],
   "source": [
    "#adjust weights to equivalent between classes\n",
    "class_weight = {}\n",
    "class_weight['sidewalk'] = (\n",
    "    .5 / imagecount['sidewalk']) * imagecount['total']\n",
    "class_weight['no_sidewalk'] = (\n",
    "    .5 / imagecount['no_sidewalk']) * imagecount['total']\n",
    "class_weight"
   ]
  },
  {
   "cell_type": "code",
   "execution_count": 29,
   "metadata": {
    "colab": {
     "base_uri": "https://localhost:8080/",
     "height": 35
    },
    "colab_type": "code",
    "id": "AJNibCJpZsID",
    "outputId": "4935d0a9-e6dc-4ae9-870e-94a7f446530c"
   },
   "outputs": [
    {
     "data": {
      "text/plain": [
       "{'no_sidewalk': 0.0, 'sidewalk': 1.0}"
      ]
     },
     "execution_count": 29,
     "metadata": {},
     "output_type": "execute_result"
    }
   ],
   "source": [
    "class_id = train_generator.class_indices\n",
    "#class ids are floats\n",
    "class_id = {key: float(value) for (key,value) in class_id.items()}\n",
    "class_id"
   ]
  },
  {
   "cell_type": "code",
   "execution_count": 30,
   "metadata": {
    "colab": {
     "base_uri": "https://localhost:8080/",
     "height": 35
    },
    "colab_type": "code",
    "id": "CZnmeVP3ZsIL",
    "outputId": "2802e092-f896-48c6-e52a-10283b0d5ee2"
   },
   "outputs": [
    {
     "data": {
      "text/plain": [
       "{1.0: 0.6935765484285976, 0.0: 1.7914787562307146}"
      ]
     },
     "execution_count": 30,
     "metadata": {},
     "output_type": "execute_result"
    }
   ],
   "source": [
    "class_weight[class_id['sidewalk']] = class_weight.pop('sidewalk')\n",
    "class_weight[class_id['no_sidewalk']] = class_weight.pop('no_sidewalk')\n",
    "class_weight"
   ]
  },
  {
   "cell_type": "code",
   "execution_count": 31,
   "metadata": {
    "colab": {
     "base_uri": "https://localhost:8080/",
     "height": 35
    },
    "colab_type": "code",
    "id": "7Mx6UmCXZsIR",
    "outputId": "47180cf6-443c-43dc-9abf-874a129f46d4"
   },
   "outputs": [
    {
     "data": {
      "text/plain": [
       "(224, 224, 3)"
      ]
     },
     "execution_count": 31,
     "metadata": {},
     "output_type": "execute_result"
    }
   ],
   "source": [
    "#generator based caluculations\n",
    "input_shape = train_generator.next()[0].shape[1:]\n",
    "total_train_samples = train_generator.n\n",
    "total_vdate_samples = vdate_generator.n\n",
    "input_shape"
   ]
  },
  {
   "cell_type": "markdown",
   "metadata": {
    "colab_type": "text",
    "id": "QM7wMgQGZsIY"
   },
   "source": [
    "### Setup Metrics and Visualizations"
   ]
  },
  {
   "cell_type": "markdown",
   "metadata": {
    "colab_type": "text",
    "id": "fGPnw-QlZsIa"
   },
   "source": [
    "Use Matthew Correlation Coefficient to take into account all four quadrants of confusion matrix."
   ]
  },
  {
   "cell_type": "code",
   "execution_count": 32,
   "metadata": {
    "colab": {},
    "colab_type": "code",
    "id": "XPbvJ-HqZsIc"
   },
   "outputs": [],
   "source": [
    "# if y_pred > threshold we predict true. \n",
    "# Sometimes we set this to something different to 0.5 if we have unbalanced categories\n",
    "threshold = 0.5  \n",
    "def matthews_correlation(y_true, y_pred):\n",
    "  predicted = tf.cast(tf.greater(y_pred, threshold), tf.float32)\n",
    "  true_pos = tf.math.count_nonzero(predicted * y_true)\n",
    "  true_neg = tf.math.count_nonzero((predicted - 1) * (y_true - 1))\n",
    "  false_pos = tf.math.count_nonzero(predicted * (y_true - 1))\n",
    "  false_neg = tf.math.count_nonzero((predicted - 1) * y_true)\n",
    "  x = tf.cast((true_pos + false_pos) * (true_pos + false_neg) \n",
    "      * (true_neg + false_pos) * (true_neg + false_neg), tf.float32)\n",
    "  return tf.cast((true_pos * true_neg) - (false_pos * false_neg), tf.float32) / tf.sqrt(x)"
   ]
  },
  {
   "cell_type": "code",
   "execution_count": 33,
   "metadata": {
    "colab": {},
    "colab_type": "code",
    "id": "nq2kJ7znZsIj"
   },
   "outputs": [],
   "source": [
    "METRICS = [\n",
    "      tf.keras.metrics.BinaryAccuracy(name='accuracy'),\n",
    "      tf.keras.metrics.AUC(name='auc'),\n",
    "      matthews_correlation]"
   ]
  },
  {
   "cell_type": "code",
   "execution_count": 34,
   "metadata": {
    "colab": {},
    "colab_type": "code",
    "id": "0ZpV0tdhZsJA"
   },
   "outputs": [],
   "source": [
    "colors = plt.rcParams['axes.prop_cycle'].by_key()['color']\n",
    "\n",
    "def history_plotter(history, n_epochs=n_epochs, plot_validation=True): \n",
    "    '''plot the training loss and accuracy\n",
    "    plot_validation exists because valdation not working in model\n",
    "    '''\n",
    "    n_epochs_range = np.arange(0, n_epochs)\n",
    "    plt.style.use(\"ggplot\")\n",
    "    fig, (ax1, ax2) = plt.subplots(nrows=1, ncols=2, sharex=True, sharey=True,\n",
    "                                  figsize=(10,5))\n",
    "    ax1.plot(n_epochs_range, history.history[\"loss\"], label=\"Loss\")\n",
    "    ax1.plot(n_epochs_range, history.history[\"accuracy\"], label=\"Accuracy\")\n",
    "    ax1.plot(n_epochs_range, history.history['auc'], label='Area Under ROC')\n",
    "    ax1.plot(n_epochs_range, history.history['matthews_correlation'], label=\"Matthews Coef\")\n",
    "    if plot_validation:\n",
    "        ax2.plot(n_epochs_range, history.history[\"val_loss\"], label=\"loss\")\n",
    "        ax2.plot(n_epochs_range, history.history[\"val_accuracy\"], label=\"Accuracy\")\n",
    "        ax2.plot(n_epochs_range, history.history[\"val_auc\"], label=\"Area Under ROC\")\n",
    "        ax2.plot(n_epochs_range, history.history[\"val_matthews_correlation\"], label=\"Matthews Coef\")\n",
    "    \n",
    "    ax1.set_title(\"Training Metrics\")\n",
    "    ax2.set_title(\"Validation Metrics\")\n",
    "    plt.xlabel(\"Epoch #\")\n",
    "    ax1.set_ylabel(\"Metric Score\")\n",
    "    ax1.legend(); ax2.legend()\n",
    "    plt.plot();"
   ]
  },
  {
   "cell_type": "code",
   "execution_count": 35,
   "metadata": {
    "colab": {
     "base_uri": "https://localhost:8080/",
     "height": 69
    },
    "colab_type": "code",
    "id": "v9MNjyrOZsJU",
    "outputId": "d8b24ae9-57a8-45b1-f0ff-22d5c90eb98c"
   },
   "outputs": [
    {
     "data": {
      "text/plain": [
       "[<tensorflow.python.keras.metrics.BinaryAccuracy at 0x279f87ff788>,\n",
       " <tensorflow.python.keras.metrics.AUC at 0x279f5f3df88>,\n",
       " <function __main__.matthews_correlation(y_true, y_pred)>]"
      ]
     },
     "execution_count": 35,
     "metadata": {},
     "output_type": "execute_result"
    }
   ],
   "source": [
    "METRICS"
   ]
  },
  {
   "cell_type": "markdown",
   "metadata": {
    "colab_type": "text",
    "id": "AeJAcvH7ZsJf"
   },
   "source": [
    "### Convolutional Model"
   ]
  },
  {
   "cell_type": "code",
   "execution_count": 36,
   "metadata": {
    "colab": {
     "base_uri": "https://localhost:8080/",
     "height": 572
    },
    "colab_type": "code",
    "id": "EbwtQSZ3ZsJh",
    "outputId": "d797d4cf-048a-4f99-ce30-3e7cd3b0a270",
    "scrolled": true
   },
   "outputs": [
    {
     "name": "stdout",
     "output_type": "stream",
     "text": [
      "Model: \"sequential\"\n",
      "_________________________________________________________________\n",
      "Layer (type)                 Output Shape              Param #   \n",
      "=================================================================\n",
      "conv2d (Conv2D)              (None, 220, 220, 32)      2432      \n",
      "_________________________________________________________________\n",
      "max_pooling2d (MaxPooling2D) (None, 73, 73, 32)        0         \n",
      "_________________________________________________________________\n",
      "dropout (Dropout)            (None, 73, 73, 32)        0         \n",
      "_________________________________________________________________\n",
      "conv2d_1 (Conv2D)            (None, 71, 71, 64)        18496     \n",
      "_________________________________________________________________\n",
      "max_pooling2d_1 (MaxPooling2 (None, 35, 35, 64)        0         \n",
      "_________________________________________________________________\n",
      "dropout_1 (Dropout)          (None, 35, 35, 64)        0         \n",
      "_________________________________________________________________\n",
      "flatten (Flatten)            (None, 78400)             0         \n",
      "_________________________________________________________________\n",
      "dense (Dense)                (None, 64)                5017664   \n",
      "_________________________________________________________________\n",
      "dropout_2 (Dropout)          (None, 64)                0         \n",
      "_________________________________________________________________\n",
      "dense_1 (Dense)              (None, 32)                2080      \n",
      "_________________________________________________________________\n",
      "dropout_3 (Dropout)          (None, 32)                0         \n",
      "_________________________________________________________________\n",
      "dense_2 (Dense)              (None, 1)                 33        \n",
      "=================================================================\n",
      "Total params: 5,040,705\n",
      "Trainable params: 5,040,705\n",
      "Non-trainable params: 0\n",
      "_________________________________________________________________\n"
     ]
    }
   ],
   "source": [
    "conv_model = tf.keras.models.Sequential()\n",
    "conv_model.add(Conv2D(32, kernel_size=(5,5),\n",
    "                 activation='relu',\n",
    "                 input_shape=input_shape))\n",
    "conv_model.add(MaxPooling2D(pool_size=(3, 3)))\n",
    "conv_model.add(Dropout(0.5))\n",
    "conv_model.add(Conv2D(64, (3, 3), activation='relu'))\n",
    "conv_model.add(MaxPooling2D(pool_size=(2, 2)))\n",
    "conv_model.add(Dropout(0.5))\n",
    "conv_model.add(Flatten())\n",
    "conv_model.add(Dense(64, activation='relu'))\n",
    "conv_model.add(Dropout(0.5))\n",
    "conv_model.add(Dense(32, activation='relu'))\n",
    "conv_model.add(Dropout(0.5))\n",
    "conv_model.add(Dense(1, activation='sigmoid'))\n",
    "\n",
    "conv_model.compile(loss=tf.keras.losses.binary_crossentropy,\n",
    "              optimizer=tf.keras.optimizers.Adam(lr=learning_rate), \n",
    "              metrics=METRICS)\n",
    "conv_model.summary()"
   ]
  },
  {
   "cell_type": "code",
   "execution_count": 41,
   "metadata": {},
   "outputs": [],
   "source": [
    "save_model_path =  os.path.expanduser(r'~/Google Drive/thinkful/colab_datasets/sidewalk_data/models/weights.hdf5')\n",
    "cp = ModelCheckpoint(filepath=save_model_path, \n",
    "                              monitor='accuracy', \n",
    "                              save_best_only=True, \n",
    "                              verbose=1)"
   ]
  },
  {
   "cell_type": "code",
   "execution_count": 42,
   "metadata": {
    "colab": {
     "base_uri": "https://localhost:8080/",
     "height": 904
    },
    "colab_type": "code",
    "id": "ylwnCKdsZsJp",
    "outputId": "281534d7-ceaf-46fb-952f-d673c25beffd"
   },
   "outputs": [
    {
     "name": "stdout",
     "output_type": "stream",
     "text": [
      "Epoch 1/500\n",
      "  2/188 [..............................] - ETA: 26:40 - loss: 0.7128 - accuracy: 0.6250 - auc: 0.5694 - matthews_correlation: 0.1245"
     ]
    },
    {
     "ename": "KeyboardInterrupt",
     "evalue": "",
     "output_type": "error",
     "traceback": [
      "\u001b[1;31m---------------------------------------------------------------------------\u001b[0m",
      "\u001b[1;31mKeyboardInterrupt\u001b[0m                         Traceback (most recent call last)",
      "\u001b[1;32m<ipython-input-42-3b18921617ca>\u001b[0m in \u001b[0;36m<module>\u001b[1;34m\u001b[0m\n\u001b[0;32m      7\u001b[0m         \u001b[0mvalidation_steps\u001b[0m\u001b[1;33m=\u001b[0m\u001b[0mint\u001b[0m\u001b[1;33m(\u001b[0m\u001b[0mtotal_vdate_samples\u001b[0m\u001b[1;33m/\u001b[0m\u001b[0mbatch_size\u001b[0m\u001b[1;33m)\u001b[0m\u001b[1;33m,\u001b[0m\u001b[1;33m\u001b[0m\u001b[1;33m\u001b[0m\u001b[0m\n\u001b[0;32m      8\u001b[0m         \u001b[0muse_multiprocessing\u001b[0m\u001b[1;33m=\u001b[0m\u001b[1;32mFalse\u001b[0m\u001b[1;33m,\u001b[0m\u001b[1;33m\u001b[0m\u001b[1;33m\u001b[0m\u001b[0m\n\u001b[1;32m----> 9\u001b[1;33m         class_weight=class_weight)\n\u001b[0m",
      "\u001b[1;32mc:\\users\\user\\appdata\\local\\programs\\python\\python37\\lib\\site-packages\\tensorflow_core\\python\\keras\\engine\\training.py\u001b[0m in \u001b[0;36mfit_generator\u001b[1;34m(self, generator, steps_per_epoch, epochs, verbose, callbacks, validation_data, validation_steps, validation_freq, class_weight, max_queue_size, workers, use_multiprocessing, shuffle, initial_epoch)\u001b[0m\n\u001b[0;32m   1295\u001b[0m         \u001b[0mshuffle\u001b[0m\u001b[1;33m=\u001b[0m\u001b[0mshuffle\u001b[0m\u001b[1;33m,\u001b[0m\u001b[1;33m\u001b[0m\u001b[1;33m\u001b[0m\u001b[0m\n\u001b[0;32m   1296\u001b[0m         \u001b[0minitial_epoch\u001b[0m\u001b[1;33m=\u001b[0m\u001b[0minitial_epoch\u001b[0m\u001b[1;33m,\u001b[0m\u001b[1;33m\u001b[0m\u001b[1;33m\u001b[0m\u001b[0m\n\u001b[1;32m-> 1297\u001b[1;33m         steps_name='steps_per_epoch')\n\u001b[0m\u001b[0;32m   1298\u001b[0m \u001b[1;33m\u001b[0m\u001b[0m\n\u001b[0;32m   1299\u001b[0m   def evaluate_generator(self,\n",
      "\u001b[1;32mc:\\users\\user\\appdata\\local\\programs\\python\\python37\\lib\\site-packages\\tensorflow_core\\python\\keras\\engine\\training_generator.py\u001b[0m in \u001b[0;36mmodel_iteration\u001b[1;34m(model, data, steps_per_epoch, epochs, verbose, callbacks, validation_data, validation_steps, validation_freq, class_weight, max_queue_size, workers, use_multiprocessing, shuffle, initial_epoch, mode, batch_size, steps_name, **kwargs)\u001b[0m\n\u001b[0;32m    263\u001b[0m \u001b[1;33m\u001b[0m\u001b[0m\n\u001b[0;32m    264\u001b[0m       \u001b[0mis_deferred\u001b[0m \u001b[1;33m=\u001b[0m \u001b[1;32mnot\u001b[0m \u001b[0mmodel\u001b[0m\u001b[1;33m.\u001b[0m\u001b[0m_is_compiled\u001b[0m\u001b[1;33m\u001b[0m\u001b[1;33m\u001b[0m\u001b[0m\n\u001b[1;32m--> 265\u001b[1;33m       \u001b[0mbatch_outs\u001b[0m \u001b[1;33m=\u001b[0m \u001b[0mbatch_function\u001b[0m\u001b[1;33m(\u001b[0m\u001b[1;33m*\u001b[0m\u001b[0mbatch_data\u001b[0m\u001b[1;33m)\u001b[0m\u001b[1;33m\u001b[0m\u001b[1;33m\u001b[0m\u001b[0m\n\u001b[0m\u001b[0;32m    266\u001b[0m       \u001b[1;32mif\u001b[0m \u001b[1;32mnot\u001b[0m \u001b[0misinstance\u001b[0m\u001b[1;33m(\u001b[0m\u001b[0mbatch_outs\u001b[0m\u001b[1;33m,\u001b[0m \u001b[0mlist\u001b[0m\u001b[1;33m)\u001b[0m\u001b[1;33m:\u001b[0m\u001b[1;33m\u001b[0m\u001b[1;33m\u001b[0m\u001b[0m\n\u001b[0;32m    267\u001b[0m         \u001b[0mbatch_outs\u001b[0m \u001b[1;33m=\u001b[0m \u001b[1;33m[\u001b[0m\u001b[0mbatch_outs\u001b[0m\u001b[1;33m]\u001b[0m\u001b[1;33m\u001b[0m\u001b[1;33m\u001b[0m\u001b[0m\n",
      "\u001b[1;32mc:\\users\\user\\appdata\\local\\programs\\python\\python37\\lib\\site-packages\\tensorflow_core\\python\\keras\\engine\\training.py\u001b[0m in \u001b[0;36mtrain_on_batch\u001b[1;34m(self, x, y, sample_weight, class_weight, reset_metrics)\u001b[0m\n\u001b[0;32m    971\u001b[0m       outputs = training_v2_utils.train_on_batch(\n\u001b[0;32m    972\u001b[0m           \u001b[0mself\u001b[0m\u001b[1;33m,\u001b[0m \u001b[0mx\u001b[0m\u001b[1;33m,\u001b[0m \u001b[0my\u001b[0m\u001b[1;33m=\u001b[0m\u001b[0my\u001b[0m\u001b[1;33m,\u001b[0m \u001b[0msample_weight\u001b[0m\u001b[1;33m=\u001b[0m\u001b[0msample_weight\u001b[0m\u001b[1;33m,\u001b[0m\u001b[1;33m\u001b[0m\u001b[1;33m\u001b[0m\u001b[0m\n\u001b[1;32m--> 973\u001b[1;33m           class_weight=class_weight, reset_metrics=reset_metrics)\n\u001b[0m\u001b[0;32m    974\u001b[0m       outputs = (outputs['total_loss'] + outputs['output_losses'] +\n\u001b[0;32m    975\u001b[0m                  outputs['metrics'])\n",
      "\u001b[1;32mc:\\users\\user\\appdata\\local\\programs\\python\\python37\\lib\\site-packages\\tensorflow_core\\python\\keras\\engine\\training_v2_utils.py\u001b[0m in \u001b[0;36mtrain_on_batch\u001b[1;34m(model, x, y, sample_weight, class_weight, reset_metrics)\u001b[0m\n\u001b[0;32m    262\u001b[0m       \u001b[0my\u001b[0m\u001b[1;33m,\u001b[0m\u001b[1;33m\u001b[0m\u001b[1;33m\u001b[0m\u001b[0m\n\u001b[0;32m    263\u001b[0m       \u001b[0msample_weights\u001b[0m\u001b[1;33m=\u001b[0m\u001b[0msample_weights\u001b[0m\u001b[1;33m,\u001b[0m\u001b[1;33m\u001b[0m\u001b[1;33m\u001b[0m\u001b[0m\n\u001b[1;32m--> 264\u001b[1;33m       output_loss_metrics=model._output_loss_metrics)\n\u001b[0m\u001b[0;32m    265\u001b[0m \u001b[1;33m\u001b[0m\u001b[0m\n\u001b[0;32m    266\u001b[0m   \u001b[1;32mif\u001b[0m \u001b[0mreset_metrics\u001b[0m\u001b[1;33m:\u001b[0m\u001b[1;33m\u001b[0m\u001b[1;33m\u001b[0m\u001b[0m\n",
      "\u001b[1;32mc:\\users\\user\\appdata\\local\\programs\\python\\python37\\lib\\site-packages\\tensorflow_core\\python\\keras\\engine\\training_eager.py\u001b[0m in \u001b[0;36mtrain_on_batch\u001b[1;34m(model, inputs, targets, sample_weights, output_loss_metrics)\u001b[0m\n\u001b[0;32m    309\u001b[0m           \u001b[0msample_weights\u001b[0m\u001b[1;33m=\u001b[0m\u001b[0msample_weights\u001b[0m\u001b[1;33m,\u001b[0m\u001b[1;33m\u001b[0m\u001b[1;33m\u001b[0m\u001b[0m\n\u001b[0;32m    310\u001b[0m           \u001b[0mtraining\u001b[0m\u001b[1;33m=\u001b[0m\u001b[1;32mTrue\u001b[0m\u001b[1;33m,\u001b[0m\u001b[1;33m\u001b[0m\u001b[1;33m\u001b[0m\u001b[0m\n\u001b[1;32m--> 311\u001b[1;33m           output_loss_metrics=output_loss_metrics))\n\u001b[0m\u001b[0;32m    312\u001b[0m   \u001b[1;32mif\u001b[0m \u001b[1;32mnot\u001b[0m \u001b[0misinstance\u001b[0m\u001b[1;33m(\u001b[0m\u001b[0mouts\u001b[0m\u001b[1;33m,\u001b[0m \u001b[0mlist\u001b[0m\u001b[1;33m)\u001b[0m\u001b[1;33m:\u001b[0m\u001b[1;33m\u001b[0m\u001b[1;33m\u001b[0m\u001b[0m\n\u001b[0;32m    313\u001b[0m     \u001b[0mouts\u001b[0m \u001b[1;33m=\u001b[0m \u001b[1;33m[\u001b[0m\u001b[0mouts\u001b[0m\u001b[1;33m]\u001b[0m\u001b[1;33m\u001b[0m\u001b[1;33m\u001b[0m\u001b[0m\n",
      "\u001b[1;32mc:\\users\\user\\appdata\\local\\programs\\python\\python37\\lib\\site-packages\\tensorflow_core\\python\\keras\\engine\\training_eager.py\u001b[0m in \u001b[0;36m_process_single_batch\u001b[1;34m(model, inputs, targets, output_loss_metrics, sample_weights, training)\u001b[0m\n\u001b[0;32m    266\u001b[0m           \u001b[0mmodel\u001b[0m\u001b[1;33m.\u001b[0m\u001b[0m_backwards\u001b[0m\u001b[1;33m(\u001b[0m\u001b[0mtape\u001b[0m\u001b[1;33m,\u001b[0m \u001b[0mscaled_total_loss\u001b[0m\u001b[1;33m)\u001b[0m\u001b[1;33m\u001b[0m\u001b[1;33m\u001b[0m\u001b[0m\n\u001b[0;32m    267\u001b[0m         \u001b[1;32melse\u001b[0m\u001b[1;33m:\u001b[0m\u001b[1;33m\u001b[0m\u001b[1;33m\u001b[0m\u001b[0m\n\u001b[1;32m--> 268\u001b[1;33m           \u001b[0mgrads\u001b[0m \u001b[1;33m=\u001b[0m \u001b[0mtape\u001b[0m\u001b[1;33m.\u001b[0m\u001b[0mgradient\u001b[0m\u001b[1;33m(\u001b[0m\u001b[0mscaled_total_loss\u001b[0m\u001b[1;33m,\u001b[0m \u001b[0mtrainable_weights\u001b[0m\u001b[1;33m)\u001b[0m\u001b[1;33m\u001b[0m\u001b[1;33m\u001b[0m\u001b[0m\n\u001b[0m\u001b[0;32m    269\u001b[0m           if isinstance(model.optimizer,\n\u001b[0;32m    270\u001b[0m                         loss_scale_optimizer.LossScaleOptimizer):\n",
      "\u001b[1;32mc:\\users\\user\\appdata\\local\\programs\\python\\python37\\lib\\site-packages\\tensorflow_core\\python\\eager\\backprop.py\u001b[0m in \u001b[0;36mgradient\u001b[1;34m(self, target, sources, output_gradients, unconnected_gradients)\u001b[0m\n\u001b[0;32m   1012\u001b[0m         \u001b[0moutput_gradients\u001b[0m\u001b[1;33m=\u001b[0m\u001b[0moutput_gradients\u001b[0m\u001b[1;33m,\u001b[0m\u001b[1;33m\u001b[0m\u001b[1;33m\u001b[0m\u001b[0m\n\u001b[0;32m   1013\u001b[0m         \u001b[0msources_raw\u001b[0m\u001b[1;33m=\u001b[0m\u001b[0mflat_sources_raw\u001b[0m\u001b[1;33m,\u001b[0m\u001b[1;33m\u001b[0m\u001b[1;33m\u001b[0m\u001b[0m\n\u001b[1;32m-> 1014\u001b[1;33m         unconnected_gradients=unconnected_gradients)\n\u001b[0m\u001b[0;32m   1015\u001b[0m \u001b[1;33m\u001b[0m\u001b[0m\n\u001b[0;32m   1016\u001b[0m     \u001b[1;32mif\u001b[0m \u001b[1;32mnot\u001b[0m \u001b[0mself\u001b[0m\u001b[1;33m.\u001b[0m\u001b[0m_persistent\u001b[0m\u001b[1;33m:\u001b[0m\u001b[1;33m\u001b[0m\u001b[1;33m\u001b[0m\u001b[0m\n",
      "\u001b[1;32mc:\\users\\user\\appdata\\local\\programs\\python\\python37\\lib\\site-packages\\tensorflow_core\\python\\eager\\imperative_grad.py\u001b[0m in \u001b[0;36mimperative_grad\u001b[1;34m(tape, target, sources, output_gradients, sources_raw, unconnected_gradients)\u001b[0m\n\u001b[0;32m     74\u001b[0m       \u001b[0moutput_gradients\u001b[0m\u001b[1;33m,\u001b[0m\u001b[1;33m\u001b[0m\u001b[1;33m\u001b[0m\u001b[0m\n\u001b[0;32m     75\u001b[0m       \u001b[0msources_raw\u001b[0m\u001b[1;33m,\u001b[0m\u001b[1;33m\u001b[0m\u001b[1;33m\u001b[0m\u001b[0m\n\u001b[1;32m---> 76\u001b[1;33m       compat.as_str(unconnected_gradients.value))\n\u001b[0m",
      "\u001b[1;32mc:\\users\\user\\appdata\\local\\programs\\python\\python37\\lib\\site-packages\\tensorflow_core\\python\\eager\\backprop.py\u001b[0m in \u001b[0;36m_gradient_function\u001b[1;34m(op_name, attr_tuple, num_inputs, inputs, outputs, out_grads, skip_input_indices)\u001b[0m\n\u001b[0;32m    136\u001b[0m     \u001b[1;32mreturn\u001b[0m \u001b[1;33m[\u001b[0m\u001b[1;32mNone\u001b[0m\u001b[1;33m]\u001b[0m \u001b[1;33m*\u001b[0m \u001b[0mnum_inputs\u001b[0m\u001b[1;33m\u001b[0m\u001b[1;33m\u001b[0m\u001b[0m\n\u001b[0;32m    137\u001b[0m \u001b[1;33m\u001b[0m\u001b[0m\n\u001b[1;32m--> 138\u001b[1;33m   \u001b[1;32mreturn\u001b[0m \u001b[0mgrad_fn\u001b[0m\u001b[1;33m(\u001b[0m\u001b[0mmock_op\u001b[0m\u001b[1;33m,\u001b[0m \u001b[1;33m*\u001b[0m\u001b[0mout_grads\u001b[0m\u001b[1;33m)\u001b[0m\u001b[1;33m\u001b[0m\u001b[1;33m\u001b[0m\u001b[0m\n\u001b[0m\u001b[0;32m    139\u001b[0m \u001b[1;33m\u001b[0m\u001b[0m\n\u001b[0;32m    140\u001b[0m \u001b[1;33m\u001b[0m\u001b[0m\n",
      "\u001b[1;32mc:\\users\\user\\appdata\\local\\programs\\python\\python37\\lib\\site-packages\\tensorflow_core\\python\\ops\\nn_grad.py\u001b[0m in \u001b[0;36m_MaxPoolGrad\u001b[1;34m(op, grad)\u001b[0m\n\u001b[0;32m    687\u001b[0m       \u001b[0mop\u001b[0m\u001b[1;33m.\u001b[0m\u001b[0mget_attr\u001b[0m\u001b[1;33m(\u001b[0m\u001b[1;34m\"strides\"\u001b[0m\u001b[1;33m)\u001b[0m\u001b[1;33m,\u001b[0m\u001b[1;33m\u001b[0m\u001b[1;33m\u001b[0m\u001b[0m\n\u001b[0;32m    688\u001b[0m       \u001b[0mpadding\u001b[0m\u001b[1;33m=\u001b[0m\u001b[0mop\u001b[0m\u001b[1;33m.\u001b[0m\u001b[0mget_attr\u001b[0m\u001b[1;33m(\u001b[0m\u001b[1;34m\"padding\"\u001b[0m\u001b[1;33m)\u001b[0m\u001b[1;33m,\u001b[0m\u001b[1;33m\u001b[0m\u001b[1;33m\u001b[0m\u001b[0m\n\u001b[1;32m--> 689\u001b[1;33m       data_format=op.get_attr(\"data_format\"))\n\u001b[0m\u001b[0;32m    690\u001b[0m \u001b[1;33m\u001b[0m\u001b[0m\n\u001b[0;32m    691\u001b[0m \u001b[1;33m\u001b[0m\u001b[0m\n",
      "\u001b[1;32mc:\\users\\user\\appdata\\local\\programs\\python\\python37\\lib\\site-packages\\tensorflow_core\\python\\ops\\gen_nn_ops.py\u001b[0m in \u001b[0;36mmax_pool_grad\u001b[1;34m(orig_input, orig_output, grad, ksize, strides, padding, data_format, name)\u001b[0m\n\u001b[0;32m   6113\u001b[0m         \u001b[1;34m\"MaxPoolGrad\"\u001b[0m\u001b[1;33m,\u001b[0m \u001b[0mname\u001b[0m\u001b[1;33m,\u001b[0m \u001b[0m_ctx\u001b[0m\u001b[1;33m.\u001b[0m\u001b[0m_post_execution_callbacks\u001b[0m\u001b[1;33m,\u001b[0m \u001b[0morig_input\u001b[0m\u001b[1;33m,\u001b[0m\u001b[1;33m\u001b[0m\u001b[1;33m\u001b[0m\u001b[0m\n\u001b[0;32m   6114\u001b[0m         \u001b[0morig_output\u001b[0m\u001b[1;33m,\u001b[0m \u001b[0mgrad\u001b[0m\u001b[1;33m,\u001b[0m \u001b[1;34m\"ksize\"\u001b[0m\u001b[1;33m,\u001b[0m \u001b[0mksize\u001b[0m\u001b[1;33m,\u001b[0m \u001b[1;34m\"strides\"\u001b[0m\u001b[1;33m,\u001b[0m \u001b[0mstrides\u001b[0m\u001b[1;33m,\u001b[0m \u001b[1;34m\"padding\"\u001b[0m\u001b[1;33m,\u001b[0m\u001b[1;33m\u001b[0m\u001b[1;33m\u001b[0m\u001b[0m\n\u001b[1;32m-> 6115\u001b[1;33m         padding, \"data_format\", data_format)\n\u001b[0m\u001b[0;32m   6116\u001b[0m       \u001b[1;32mreturn\u001b[0m \u001b[0m_result\u001b[0m\u001b[1;33m\u001b[0m\u001b[1;33m\u001b[0m\u001b[0m\n\u001b[0;32m   6117\u001b[0m     \u001b[1;32mexcept\u001b[0m \u001b[0m_core\u001b[0m\u001b[1;33m.\u001b[0m\u001b[0m_FallbackException\u001b[0m\u001b[1;33m:\u001b[0m\u001b[1;33m\u001b[0m\u001b[1;33m\u001b[0m\u001b[0m\n",
      "\u001b[1;31mKeyboardInterrupt\u001b[0m: "
     ]
    }
   ],
   "source": [
    "conv_history = conv_model.fit_generator(\n",
    "        train_generator, \n",
    "        steps_per_epoch=int(total_train_samples/batch_size),  \n",
    "        epochs=n_epochs,\n",
    "        verbose=1,\n",
    "        validation_data=vdate_generator,\n",
    "        validation_steps=int(total_vdate_samples/batch_size),\n",
    "        use_multiprocessing=False,\n",
    "        class_weight=class_weight)"
   ]
  },
  {
   "cell_type": "code",
   "execution_count": null,
   "metadata": {
    "colab": {
     "base_uri": "https://localhost:8080/",
     "height": 354
    },
    "colab_type": "code",
    "id": "jk8uidBpZsJu",
    "outputId": "a664065f-7443-463c-8f01-75870cbf2407",
    "scrolled": false
   },
   "outputs": [],
   "source": [
    "history_plotter(history=conv_history, plot_validation=True)"
   ]
  },
  {
   "cell_type": "markdown",
   "metadata": {
    "colab_type": "text",
    "id": "XqnQrClFZsJ2"
   },
   "source": [
    "# Object Detection via Transfer Learning\n"
   ]
  },
  {
   "cell_type": "code",
   "execution_count": 0,
   "metadata": {
    "colab": {},
    "colab_type": "code",
    "id": "g9AA47PjZsJ4"
   },
   "outputs": [],
   "source": [
    "pretrained_mobilenet = tf.keras.applications.MobileNetV2(\n",
    "    input_shape=(224, 224, 3),\n",
    "    include_top=False,\n",
    "    weights='imagenet')\n",
    "pretrained_mobilenet.trainable = False"
   ]
  },
  {
   "cell_type": "code",
   "execution_count": 47,
   "metadata": {
    "colab": {
     "base_uri": "https://localhost:8080/",
     "height": 329
    },
    "colab_type": "code",
    "id": "pkinp9G7ZsJ9",
    "outputId": "d3e918c0-04c2-4608-bfc6-847ba02b08a7"
   },
   "outputs": [
    {
     "name": "stdout",
     "output_type": "stream",
     "text": [
      "Model: \"sequential_4\"\n",
      "_________________________________________________________________\n",
      "Layer (type)                 Output Shape              Param #   \n",
      "=================================================================\n",
      "mobilenetv2_1.00_224 (Model) (None, 7, 7, 1280)        2257984   \n",
      "_________________________________________________________________\n",
      "global_average_pooling2d_2 ( (None, 1280)              0         \n",
      "_________________________________________________________________\n",
      "dense_10 (Dense)             (None, 64)                81984     \n",
      "_________________________________________________________________\n",
      "dropout_8 (Dropout)          (None, 64)                0         \n",
      "_________________________________________________________________\n",
      "dense_11 (Dense)             (None, 1)                 65        \n",
      "=================================================================\n",
      "Total params: 2,340,033\n",
      "Trainable params: 82,049\n",
      "Non-trainable params: 2,257,984\n",
      "_________________________________________________________________\n"
     ]
    }
   ],
   "source": [
    "mnet_lr = .000_01\n",
    "mnet_model = tf.keras.models.Sequential()\n",
    "mnet_model.add(pretrained_mobilenet)\n",
    "mnet_model.add(tf.keras.layers.GlobalAveragePooling2D())\n",
    "mnet_model.add(tf.keras.layers.Dense(64))\n",
    "mnet_model.add(tf.keras.layers.Dropout(.5))\n",
    "mnet_model.add(tf.keras.layers.Dense(1, activation='sigmoid'))\n",
    "\n",
    "mnet_model.compile(optimizer=tf.keras.optimizers.RMSprop(lr=mnet_lr),\n",
    "              loss=loss,\n",
    "              metrics=METRICS)\n",
    "mnet_model.summary()"
   ]
  },
  {
   "cell_type": "code",
   "execution_count": 48,
   "metadata": {
    "colab": {
     "base_uri": "https://localhost:8080/",
     "height": 904
    },
    "colab_type": "code",
    "id": "HNqo00b2ZsKD",
    "outputId": "fc60d339-82a5-406e-e930-d40de1205594",
    "scrolled": false
   },
   "outputs": [
    {
     "name": "stdout",
     "output_type": "stream",
     "text": [
      "Epoch 1/25\n",
      "49/49 [==============================] - 33s 683ms/step - loss: 0.8133 - accuracy: 0.5503 - auc: 0.5651 - matthews_correlation: 0.0744 - val_loss: 0.6381 - val_accuracy: 0.6445 - val_auc: 0.5562 - val_matthews_correlation: 0.0619\n",
      "Epoch 2/25\n",
      "49/49 [==============================] - 33s 673ms/step - loss: 0.7784 - accuracy: 0.5788 - auc: 0.5907 - matthews_correlation: 0.1178 - val_loss: 0.6124 - val_accuracy: 0.6719 - val_auc: 0.5882 - val_matthews_correlation: 0.0945\n",
      "Epoch 3/25\n",
      "49/49 [==============================] - 33s 675ms/step - loss: 0.7601 - accuracy: 0.5987 - auc: 0.6127 - matthews_correlation: 0.1423 - val_loss: 0.6027 - val_accuracy: 0.6732 - val_auc: 0.6123 - val_matthews_correlation: 0.1079\n",
      "Epoch 4/25\n",
      "49/49 [==============================] - 33s 683ms/step - loss: 0.7101 - accuracy: 0.6268 - auc: 0.6565 - matthews_correlation: 0.1935 - val_loss: 0.6122 - val_accuracy: 0.6706 - val_auc: 0.6318 - val_matthews_correlation: 0.1447\n",
      "Epoch 5/25\n",
      "49/49 [==============================] - 33s 682ms/step - loss: 0.7027 - accuracy: 0.6172 - auc: 0.6606 - matthews_correlation: 0.1923 - val_loss: 0.6019 - val_accuracy: 0.6745 - val_auc: 0.6505 - val_matthews_correlation: 0.1591\n",
      "Epoch 6/25\n",
      "49/49 [==============================] - 34s 685ms/step - loss: 0.6915 - accuracy: 0.6467 - auc: 0.6754 - matthews_correlation: 0.2395 - val_loss: 0.6030 - val_accuracy: 0.6823 - val_auc: 0.6639 - val_matthews_correlation: 0.1940\n",
      "Epoch 7/25\n",
      "49/49 [==============================] - 34s 688ms/step - loss: 0.6929 - accuracy: 0.6496 - auc: 0.6833 - matthews_correlation: 0.2498 - val_loss: 0.5958 - val_accuracy: 0.6862 - val_auc: 0.6766 - val_matthews_correlation: 0.2043\n",
      "Epoch 8/25\n",
      "49/49 [==============================] - 34s 689ms/step - loss: 0.6747 - accuracy: 0.6509 - auc: 0.6929 - matthews_correlation: 0.2541 - val_loss: 0.5773 - val_accuracy: 0.7005 - val_auc: 0.6881 - val_matthews_correlation: 0.2111\n",
      "Epoch 9/25\n",
      "49/49 [==============================] - 34s 691ms/step - loss: 0.6315 - accuracy: 0.6826 - auc: 0.7294 - matthews_correlation: 0.3019 - val_loss: 0.5817 - val_accuracy: 0.6966 - val_auc: 0.6971 - val_matthews_correlation: 0.2181\n",
      "Epoch 10/25\n",
      "49/49 [==============================] - 34s 699ms/step - loss: 0.6108 - accuracy: 0.7056 - auc: 0.7485 - matthews_correlation: 0.3401 - val_loss: 0.5746 - val_accuracy: 0.7044 - val_auc: 0.7058 - val_matthews_correlation: 0.2331\n",
      "Epoch 11/25\n",
      "49/49 [==============================] - 34s 695ms/step - loss: 0.6344 - accuracy: 0.6861 - auc: 0.7397 - matthews_correlation: 0.3261 - val_loss: 0.5796 - val_accuracy: 0.6940 - val_auc: 0.7108 - val_matthews_correlation: 0.2355\n",
      "Epoch 12/25\n",
      "49/49 [==============================] - 34s 689ms/step - loss: 0.6284 - accuracy: 0.6823 - auc: 0.7405 - matthews_correlation: 0.3023 - val_loss: 0.5686 - val_accuracy: 0.7057 - val_auc: 0.7166 - val_matthews_correlation: 0.2473\n",
      "Epoch 13/25\n",
      "49/49 [==============================] - 34s 690ms/step - loss: 0.6297 - accuracy: 0.6872 - auc: 0.7384 - matthews_correlation: 0.3061 - val_loss: 0.5788 - val_accuracy: 0.6979 - val_auc: 0.7201 - val_matthews_correlation: 0.2554\n",
      "Epoch 14/25\n",
      "49/49 [==============================] - 33s 673ms/step - loss: 0.6279 - accuracy: 0.6899 - auc: 0.7418 - matthews_correlation: 0.3311 - val_loss: 0.5678 - val_accuracy: 0.7057 - val_auc: 0.7249 - val_matthews_correlation: 0.2586\n",
      "Epoch 15/25\n",
      "49/49 [==============================] - 33s 680ms/step - loss: 0.5993 - accuracy: 0.7059 - auc: 0.7543 - matthews_correlation: 0.3382 - val_loss: 0.5706 - val_accuracy: 0.6979 - val_auc: 0.7290 - val_matthews_correlation: 0.2594\n",
      "Epoch 16/25\n",
      "49/49 [==============================] - 33s 674ms/step - loss: 0.5967 - accuracy: 0.7079 - auc: 0.7678 - matthews_correlation: 0.3584 - val_loss: 0.5592 - val_accuracy: 0.7057 - val_auc: 0.7325 - val_matthews_correlation: 0.2581\n",
      "Epoch 17/25\n",
      "49/49 [==============================] - 33s 668ms/step - loss: 0.5976 - accuracy: 0.7101 - auc: 0.7699 - matthews_correlation: 0.3595 - val_loss: 0.5881 - val_accuracy: 0.6914 - val_auc: 0.7340 - val_matthews_correlation: 0.2841\n",
      "Epoch 18/25\n",
      "49/49 [==============================] - 33s 669ms/step - loss: 0.5907 - accuracy: 0.7114 - auc: 0.7661 - matthews_correlation: 0.3509 - val_loss: 0.5670 - val_accuracy: 0.7005 - val_auc: 0.7369 - val_matthews_correlation: 0.2763\n",
      "Epoch 19/25\n",
      "49/49 [==============================] - 34s 686ms/step - loss: 0.5724 - accuracy: 0.7194 - auc: 0.7861 - matthews_correlation: 0.3769 - val_loss: 0.5599 - val_accuracy: 0.7044 - val_auc: 0.7393 - val_matthews_correlation: 0.2813\n",
      "Epoch 20/25\n",
      "49/49 [==============================] - 32s 661ms/step - loss: 0.6026 - accuracy: 0.7140 - auc: 0.7691 - matthews_correlation: 0.3658 - val_loss: 0.5748 - val_accuracy: 0.6992 - val_auc: 0.7401 - val_matthews_correlation: 0.2876\n",
      "Epoch 21/25\n",
      "49/49 [==============================] - 32s 663ms/step - loss: 0.5607 - accuracy: 0.7306 - auc: 0.7899 - matthews_correlation: 0.3875 - val_loss: 0.5579 - val_accuracy: 0.7070 - val_auc: 0.7424 - val_matthews_correlation: 0.2869\n",
      "Epoch 22/25\n",
      "49/49 [==============================] - 33s 664ms/step - loss: 0.5784 - accuracy: 0.7296 - auc: 0.7843 - matthews_correlation: 0.3861 - val_loss: 0.5595 - val_accuracy: 0.7031 - val_auc: 0.7436 - val_matthews_correlation: 0.2871\n",
      "Epoch 23/25\n",
      "49/49 [==============================] - 32s 662ms/step - loss: 0.5599 - accuracy: 0.7346 - auc: 0.7967 - matthews_correlation: 0.4055 - val_loss: 0.5541 - val_accuracy: 0.7109 - val_auc: 0.7451 - val_matthews_correlation: 0.2975\n",
      "Epoch 24/25\n",
      "49/49 [==============================] - 33s 667ms/step - loss: 0.5767 - accuracy: 0.7331 - auc: 0.7903 - matthews_correlation: 0.4018 - val_loss: 0.5543 - val_accuracy: 0.7096 - val_auc: 0.7473 - val_matthews_correlation: 0.2961\n",
      "Epoch 25/25\n",
      "49/49 [==============================] - 32s 659ms/step - loss: 0.5674 - accuracy: 0.7265 - auc: 0.7879 - matthews_correlation: 0.3745 - val_loss: 0.5596 - val_accuracy: 0.7044 - val_auc: 0.7478 - val_matthews_correlation: 0.2889\n"
     ]
    }
   ],
   "source": [
    "mnet_history = mnet_model.fit_generator(\n",
    "        train_generator, \n",
    "        steps_per_epoch=int(total_train_samples/batch_size),  \n",
    "        epochs=25,\n",
    "        verbose=1,\n",
    "        validation_data=vdate_generator,\n",
    "        validation_steps=int(total_vdate_samples/batch_size),\n",
    "        class_weight=class_weight,\n",
    "        use_multiprocessing=False)"
   ]
  },
  {
   "cell_type": "code",
   "execution_count": 49,
   "metadata": {
    "colab": {
     "base_uri": "https://localhost:8080/",
     "height": 354
    },
    "colab_type": "code",
    "id": "Kc4Lp7HqZsKJ",
    "outputId": "23466da7-94fe-46bf-81c7-59a08e8f5df2"
   },
   "outputs": [
    {
     "data": {
      "image/png": "[encoded data removed]",
      "text/plain": [
       "<Figure size 720x360 with 2 Axes>"
      ]
     },
     "metadata": {
      "tags": []
     },
     "output_type": "display_data"
    }
   ],
   "source": [
    "history_plotter(mnet_history)"
   ]
  },
  {
   "cell_type": "code",
   "execution_count": 50,
   "metadata": {
    "colab": {
     "base_uri": "https://localhost:8080/",
     "height": 384
    },
    "colab_type": "code",
    "id": "lvQLtgWJZf3l",
    "outputId": "41b61c67-ed64-4a40-d26e-5b255492d7e3"
   },
   "outputs": [
    {
     "name": "stdout",
     "output_type": "stream",
     "text": [
      "Downloading data from https://github.com/fchollet/deep-learning-models/releases/download/v0.4/xception_weights_tf_dim_ordering_tf_kernels_notop.h5\n",
      "83689472/83683744 [==============================] - 1s 0us/step\n",
      "Model: \"sequential_5\"\n",
      "_________________________________________________________________\n",
      "Layer (type)                 Output Shape              Param #   \n",
      "=================================================================\n",
      "xception (Model)             (None, 7, 7, 2048)        20861480  \n",
      "_________________________________________________________________\n",
      "global_average_pooling2d_3 ( (None, 2048)              0         \n",
      "_________________________________________________________________\n",
      "dense_12 (Dense)             (None, 64)                131136    \n",
      "_________________________________________________________________\n",
      "dropout_9 (Dropout)          (None, 64)                0         \n",
      "_________________________________________________________________\n",
      "dense_13 (Dense)             (None, 1)                 65        \n",
      "=================================================================\n",
      "Total params: 20,992,681\n",
      "Trainable params: 131,201\n",
      "Non-trainable params: 20,861,480\n",
      "_________________________________________________________________\n"
     ]
    }
   ],
   "source": [
    "pretrained_xception = tf.keras.applications.Xception(\n",
    "        input_shape=(224, 224, 3),\n",
    "        include_top=False,\n",
    "        weights='imagenet')\n",
    "pretrained_xception.trainable = False\n",
    "\n",
    "xc_lr = .000_01\n",
    "xc_model = tf.keras.models.Sequential()\n",
    "xc_model.add(pretrained_xception)\n",
    "xc_model.add(tf.keras.layers.GlobalAveragePooling2D())\n",
    "xc_model.add(tf.keras.layers.Dense(64))\n",
    "xc_model.add(tf.keras.layers.Dropout(.5))\n",
    "xc_model.add(tf.keras.layers.Dense(1, activation='sigmoid'))\n",
    "\n",
    "xc_model.compile(optimizer=tf.keras.optimizers.RMSprop(lr=xc_lr),\n",
    "              loss=loss,\n",
    "              metrics=METRICS)\n",
    "xc_model.summary()"
   ]
  },
  {
   "cell_type": "code",
   "execution_count": 51,
   "metadata": {
    "colab": {
     "base_uri": "https://localhost:8080/",
     "height": 904
    },
    "colab_type": "code",
    "id": "1sU5ZHuwaLEf",
    "outputId": "3cf96875-39e4-4b3a-d25e-8d9af3f65369"
   },
   "outputs": [
    {
     "name": "stdout",
     "output_type": "stream",
     "text": [
      "Epoch 1/25\n",
      "49/49 [==============================] - 47s 952ms/step - loss: 0.7095 - accuracy: 0.5916 - auc: 0.5408 - matthews_correlation: 0.0324 - val_loss: 0.5884 - val_accuracy: 0.7630 - val_auc: 0.6600 - val_matthews_correlation: 0.1767\n",
      "Epoch 2/25\n",
      "49/49 [==============================] - 46s 934ms/step - loss: 0.6923 - accuracy: 0.5666 - auc: 0.5708 - matthews_correlation: 0.1019 - val_loss: 0.5861 - val_accuracy: 0.7617 - val_auc: 0.6934 - val_matthews_correlation: 0.2324\n",
      "Epoch 3/25\n",
      "49/49 [==============================] - 46s 932ms/step - loss: 0.6789 - accuracy: 0.5967 - auc: 0.6117 - matthews_correlation: 0.1470 - val_loss: 0.5785 - val_accuracy: 0.7604 - val_auc: 0.7181 - val_matthews_correlation: 0.2429\n",
      "Epoch 4/25\n",
      "49/49 [==============================] - 46s 934ms/step - loss: 0.6515 - accuracy: 0.6348 - auc: 0.6585 - matthews_correlation: 0.2100 - val_loss: 0.5614 - val_accuracy: 0.7695 - val_auc: 0.7340 - val_matthews_correlation: 0.2651\n",
      "Epoch 5/25\n",
      "49/49 [==============================] - 46s 933ms/step - loss: 0.6604 - accuracy: 0.6310 - auc: 0.6620 - matthews_correlation: 0.2209 - val_loss: 0.5566 - val_accuracy: 0.7734 - val_auc: 0.7436 - val_matthews_correlation: 0.3008\n",
      "Epoch 6/25\n",
      "49/49 [==============================] - 46s 932ms/step - loss: 0.6297 - accuracy: 0.6563 - auc: 0.6984 - matthews_correlation: 0.2516 - val_loss: 0.5365 - val_accuracy: 0.7826 - val_auc: 0.7503 - val_matthews_correlation: 0.3133\n",
      "Epoch 7/25\n",
      "49/49 [==============================] - 46s 935ms/step - loss: 0.6242 - accuracy: 0.6819 - auc: 0.7179 - matthews_correlation: 0.2860 - val_loss: 0.5380 - val_accuracy: 0.7760 - val_auc: 0.7543 - val_matthews_correlation: 0.3230\n",
      "Epoch 8/25\n",
      "49/49 [==============================] - 46s 937ms/step - loss: 0.6181 - accuracy: 0.6862 - auc: 0.7288 - matthews_correlation: 0.3062 - val_loss: 0.5341 - val_accuracy: 0.7695 - val_auc: 0.7573 - val_matthews_correlation: 0.3154\n",
      "Epoch 9/25\n",
      "49/49 [==============================] - 46s 934ms/step - loss: 0.6058 - accuracy: 0.6954 - auc: 0.7409 - matthews_correlation: 0.3127 - val_loss: 0.5219 - val_accuracy: 0.7747 - val_auc: 0.7591 - val_matthews_correlation: 0.3207\n",
      "Epoch 10/25\n",
      "49/49 [==============================] - 46s 935ms/step - loss: 0.6011 - accuracy: 0.7104 - auc: 0.7601 - matthews_correlation: 0.3595 - val_loss: 0.5156 - val_accuracy: 0.7747 - val_auc: 0.7610 - val_matthews_correlation: 0.3220\n",
      "Epoch 11/25\n",
      "49/49 [==============================] - 46s 937ms/step - loss: 0.5938 - accuracy: 0.7229 - auc: 0.7642 - matthews_correlation: 0.3703 - val_loss: 0.5128 - val_accuracy: 0.7786 - val_auc: 0.7624 - val_matthews_correlation: 0.3511\n",
      "Epoch 12/25\n",
      "49/49 [==============================] - 46s 942ms/step - loss: 0.5812 - accuracy: 0.7230 - auc: 0.7760 - matthews_correlation: 0.3688 - val_loss: 0.5054 - val_accuracy: 0.7826 - val_auc: 0.7634 - val_matthews_correlation: 0.3559\n",
      "Epoch 13/25\n",
      "49/49 [==============================] - 46s 936ms/step - loss: 0.5835 - accuracy: 0.7313 - auc: 0.7838 - matthews_correlation: 0.3978 - val_loss: 0.5099 - val_accuracy: 0.7826 - val_auc: 0.7640 - val_matthews_correlation: 0.3882\n",
      "Epoch 14/25\n",
      "49/49 [==============================] - 46s 940ms/step - loss: 0.5715 - accuracy: 0.7319 - auc: 0.7857 - matthews_correlation: 0.3825 - val_loss: 0.5017 - val_accuracy: 0.7812 - val_auc: 0.7644 - val_matthews_correlation: 0.3713\n",
      "Epoch 15/25\n",
      "49/49 [==============================] - 46s 939ms/step - loss: 0.5666 - accuracy: 0.7361 - auc: 0.7985 - matthews_correlation: 0.3994 - val_loss: 0.5022 - val_accuracy: 0.7878 - val_auc: 0.7643 - val_matthews_correlation: 0.4001\n",
      "Epoch 16/25\n",
      "49/49 [==============================] - 46s 937ms/step - loss: 0.5664 - accuracy: 0.7427 - auc: 0.7935 - matthews_correlation: 0.4060 - val_loss: 0.4969 - val_accuracy: 0.7852 - val_auc: 0.7651 - val_matthews_correlation: 0.3831\n",
      "Epoch 17/25\n",
      "49/49 [==============================] - 46s 931ms/step - loss: 0.5458 - accuracy: 0.7532 - auc: 0.8196 - matthews_correlation: 0.4340 - val_loss: 0.4949 - val_accuracy: 0.7826 - val_auc: 0.7655 - val_matthews_correlation: 0.3779\n",
      "Epoch 18/25\n",
      "49/49 [==============================] - 46s 935ms/step - loss: 0.5624 - accuracy: 0.7361 - auc: 0.7945 - matthews_correlation: 0.3961 - val_loss: 0.4916 - val_accuracy: 0.7812 - val_auc: 0.7663 - val_matthews_correlation: 0.3741\n",
      "Epoch 19/25\n",
      "49/49 [==============================] - 46s 937ms/step - loss: 0.5480 - accuracy: 0.7503 - auc: 0.8125 - matthews_correlation: 0.4300 - val_loss: 0.4931 - val_accuracy: 0.7799 - val_auc: 0.7665 - val_matthews_correlation: 0.3795\n",
      "Epoch 20/25\n",
      "49/49 [==============================] - 46s 934ms/step - loss: 0.5488 - accuracy: 0.7523 - auc: 0.8175 - matthews_correlation: 0.4369 - val_loss: 0.4911 - val_accuracy: 0.7786 - val_auc: 0.7667 - val_matthews_correlation: 0.3757\n",
      "Epoch 21/25\n",
      "49/49 [==============================] - 46s 938ms/step - loss: 0.5358 - accuracy: 0.7543 - auc: 0.8236 - matthews_correlation: 0.4420 - val_loss: 0.4849 - val_accuracy: 0.7773 - val_auc: 0.7674 - val_matthews_correlation: 0.3624\n",
      "Epoch 22/25\n",
      "49/49 [==============================] - 46s 940ms/step - loss: 0.5495 - accuracy: 0.7447 - auc: 0.8135 - matthews_correlation: 0.4226 - val_loss: 0.4899 - val_accuracy: 0.7799 - val_auc: 0.7669 - val_matthews_correlation: 0.3923\n",
      "Epoch 23/25\n",
      "49/49 [==============================] - 46s 943ms/step - loss: 0.5353 - accuracy: 0.7546 - auc: 0.8236 - matthews_correlation: 0.4489 - val_loss: 0.4882 - val_accuracy: 0.7773 - val_auc: 0.7674 - val_matthews_correlation: 0.3790\n",
      "Epoch 24/25\n",
      "49/49 [==============================] - 46s 943ms/step - loss: 0.5324 - accuracy: 0.7620 - auc: 0.8190 - matthews_correlation: 0.4493 - val_loss: 0.4857 - val_accuracy: 0.7786 - val_auc: 0.7681 - val_matthews_correlation: 0.3814\n",
      "Epoch 25/25\n",
      "49/49 [==============================] - 46s 942ms/step - loss: 0.5280 - accuracy: 0.7697 - auc: 0.8277 - matthews_correlation: 0.4721 - val_loss: 0.4817 - val_accuracy: 0.7773 - val_auc: 0.7678 - val_matthews_correlation: 0.3631\n"
     ]
    }
   ],
   "source": [
    "xc_epochs = 25\n",
    "xc_history = xc_model.fit_generator(\n",
    "        train_generator, \n",
    "        steps_per_epoch=int(total_train_samples/batch_size),  \n",
    "        epochs=xc_epochs,\n",
    "        verbose=1,\n",
    "        validation_data=vdate_generator,\n",
    "        validation_steps=int(total_vdate_samples/batch_size),\n",
    "        class_weight=class_weight,\n",
    "        use_multiprocessing=False)"
   ]
  },
  {
   "cell_type": "code",
   "execution_count": 52,
   "metadata": {
    "colab": {
     "base_uri": "https://localhost:8080/",
     "height": 354
    },
    "colab_type": "code",
    "id": "nnpWwxrWaKkm",
    "outputId": "920b7659-1997-4b8d-a4ba-c48c70a5fd1e"
   },
   "outputs": [
    {
     "data": {
      "image/png": "[encoded data removed]",
      "text/plain": [
       "<Figure size 720x360 with 2 Axes>"
      ]
     },
     "metadata": {
      "tags": []
     },
     "output_type": "display_data"
    }
   ],
   "source": [
    "history_plotter(xc_history, n_epochs=xc_epochs)"
   ]
  }
 ],
 "metadata": {
  "accelerator": "GPU",
  "colab": {
   "name": "Image_classification.ipynb",
   "provenance": []
  },
  "kernelspec": {
   "display_name": "Python 3",
   "language": "python",
   "name": "python3"
  },
  "language_info": {
   "codemirror_mode": {
    "name": "ipython",
    "version": 3
   },
   "file_extension": ".py",
   "mimetype": "text/x-python",
   "name": "python",
   "nbconvert_exporter": "python",
   "pygments_lexer": "ipython3",
   "version": "3.7.4"
  }
 },
 "nbformat": 4,
 "nbformat_minor": 1
}
