{
 "cells": [
  {
   "cell_type": "markdown",
   "metadata": {},
   "source": [
    "# Modeling with TensorFlow\n"
   ]
  },
  {
   "cell_type": "code",
   "execution_count": 120,
   "metadata": {},
   "outputs": [],
   "source": [
    "# get colab status\n",
    "try:\n",
    "  import google.colab\n",
    "  IN_COLAB = True\n",
    "except:\n",
    "  IN_COLAB = False\n",
    "\n",
    "if IN_COLAB:\n",
    "    tf.test.gpu_device_name()\n",
    "    # need to use gpu runtime accelerator!\n",
    "    mirrored_strategy = tf.distribute.MirroredStrategy()\n",
    "    !pip install imageai\n",
    "    from google.colab import drive\n",
    "    drive.mount('/content/gdrive')"
   ]
  },
  {
   "cell_type": "code",
   "execution_count": 2,
   "metadata": {},
   "outputs": [
    {
     "name": "stderr",
     "output_type": "stream",
     "text": [
      "Using TensorFlow backend.\n"
     ]
    }
   ],
   "source": [
    "#imports\n",
    "import numpy as np\n",
    "import pandas as pd\n",
    "import matplotlib.pyplot as plt\n",
    "import seaborn as sns\n",
    "import tensorflow as tf\n",
    "from tensorflow.keras.preprocessing.image import ImageDataGenerator\n",
    "from tensorflow.keras.models import Sequential\n",
    "from tensorflow.keras.layers import Dense, Conv2D, Flatten, Dropout, MaxPooling2D\n",
    "from tensorflow.keras.optimizers import RMSprop\n",
    "from tensorflow.python.keras.utils.data_utils import Sequence # to fix 'imagedatagenerator has no shape' error\n",
    "import cv2 as cv\n",
    "from imageai.Detection import ObjectDetection\n",
    "import os\n",
    "import random, math"
   ]
  },
  {
   "cell_type": "markdown",
   "metadata": {},
   "source": [
    "# Create generator\n"
   ]
  },
  {
   "cell_type": "code",
   "execution_count": 126,
   "metadata": {},
   "outputs": [
    {
     "name": "stdout",
     "output_type": "stream",
     "text": [
      "/c/Users/User/Documents/GitHub/sidewalks_deep-learning/images\n"
     ]
    }
   ],
   "source": [
    "!pwd"
   ]
  },
  {
   "cell_type": "code",
   "execution_count": 128,
   "metadata": {},
   "outputs": [
    {
     "name": "stdout",
     "output_type": "stream",
     "text": [
      "/c/Users/User/Google Drive/thinkful/colab_datasets/sidewalk_data/images\n"
     ]
    }
   ],
   "source": [
    "if IN_COLAB:\n",
    "    os.chdir(f'/content/gdrive/My Drive/thinkful/colab_datasets/sidewalk_data/images/')\n",
    "else:\n",
    "    os.chdir(os.path.expanduser(f'~/Google Drive/thinkful/colab_datasets/sidewalk_data/images/'))\n",
    "!pwd"
   ]
  },
  {
   "cell_type": "code",
   "execution_count": 29,
   "metadata": {},
   "outputs": [
    {
     "name": "stdout",
     "output_type": "stream",
     "text": [
      "[WinError 2] The system cannot find the file specified: './sidewalk'\n",
      "C:\\Users\\User\\Documents\\GitHub\\sidewalks_deep-learning\\images\\sidewalk\n",
      "C:\\Users\\User\\Documents\\GitHub\\sidewalks_deep-learning\\images\n",
      "C:\\Users\\User\\Documents\\GitHub\\sidewalks_deep-learning\\images\\no_sidewalk\n"
     ]
    },
    {
     "name": "stderr",
     "output_type": "stream",
     "text": [
      "Parameter format not correct - \"sidewalk\".\n"
     ]
    },
    {
     "name": "stdout",
     "output_type": "stream",
     "text": [
      "C:\\Users\\User\\Documents\\GitHub\\sidewalks_deep-learning\\images\n"
     ]
    },
    {
     "name": "stderr",
     "output_type": "stream",
     "text": [
      "Invalid switch - \"no_sidewalk\".\n"
     ]
    }
   ],
   "source": [
    "#move images into train, test, validate folders with subfolders for classes\n",
    "test_ratio = .15\n",
    "SPLIT_DATA = False # switch if need to divide out data\n",
    "if SPLIT_DATA:\n",
    "    for label in ['sidewalk', 'no_sidewalk']:\n",
    "        %cd ./$label\n",
    "        listing = os.popen('ls').read().strip().split(sep='\\n')\n",
    "        random.shuffle(listing) #inplace\n",
    "        im_count = len(listing)\n",
    "        test_size=val_size = math.ceil(test_ratio*im_count)\n",
    "        train_size = im_count - test_size\n",
    "        subfolders = ['train', 'test'] #train will be used for vdation too\n",
    "        for subfolder in subfolders:\n",
    "            os.makedirs(os.path.join(\n",
    "                os.path.dirname(os.getcwd()), subfolder, label))\n",
    "        for item in range(0, train_size):\n",
    "            moved = listing.pop()\n",
    "            !mv $moved ../train/$label/$moved\n",
    "        for item in range(0, test_size):\n",
    "            moved = listing.pop()\n",
    "            !mv $moved ../test/$label/$moved\n",
    "        %cd ..\n",
    "        !rmdir ./$label"
   ]
  },
  {
   "cell_type": "markdown",
   "metadata": {},
   "source": [
    "### Parameters for data loading"
   ]
  },
  {
   "cell_type": "code",
   "execution_count": 250,
   "metadata": {},
   "outputs": [],
   "source": [
    "idg_params={'rescale': 1./255}\n",
    "augmentation_params = {'rotation_range': 15,\n",
    "                        'zoom_range': 0.15,\n",
    "                         'width_shift_range': 0.2,\n",
    "                         'height_shift_range': 0.2,\n",
    "                         'shear_range': 0.15,\n",
    "                         'fill_mode': 'nearest',\n",
    "                         'horizontal_flip': True}\n",
    "datagen_params = {'batch_size': 8,\n",
    "                  'target_size': (224, 224),\n",
    "                  'color_mode': 'rgb', \n",
    "                  'class_mode': 'binary'}"
   ]
  },
  {
   "cell_type": "code",
   "execution_count": 255,
   "metadata": {},
   "outputs": [],
   "source": [
    "train_vdate_datagen = ImageDataGenerator(\n",
    "    **idg_params,\n",
    "    validation_split=0.2)\n",
    "train_augmented_datagen = ImageDataGenerator(\n",
    "    **idg_params,\n",
    "    **augmentation_params,\n",
    "    validation_split=0.2)\n",
    "test_datagen = ImageDataGenerator(**idg_params)"
   ]
  },
  {
   "cell_type": "code",
   "execution_count": 256,
   "metadata": {},
   "outputs": [
    {
     "name": "stdout",
     "output_type": "stream",
     "text": [
      "Found 796 images belonging to 2 classes.\n",
      "Found 3188 images belonging to 2 classes.\n",
      "Found 1232 images belonging to 2 classes.\n"
     ]
    }
   ],
   "source": [
    "# Flow training images in batches of 128 using train_datagen generator\n",
    "vdate_generator = train_vdate_datagen.flow_from_directory(\n",
    "        directory=r'./train/',\n",
    "        subset='validation',\n",
    "        **datagen_params)\n",
    "train_generator = train_vdate_datagen.flow_from_directory(\n",
    "        directory=r'./train/',\n",
    "        subset='training',\n",
    "        **datagen_params)\n",
    "test_generator = test_datagen.flow_from_directory(\n",
    "        directory=r'./test/',\n",
    "        **datagen_params)"
   ]
  },
  {
   "cell_type": "markdown",
   "metadata": {},
   "source": [
    "### Parameters for Modeling"
   ]
  },
  {
   "cell_type": "code",
   "execution_count": 218,
   "metadata": {},
   "outputs": [],
   "source": [
    "batch_size = 128\n",
    "n_epochs = 5"
   ]
  },
  {
   "cell_type": "code",
   "execution_count": 219,
   "metadata": {},
   "outputs": [],
   "source": [
    "learning_rate = 0.000001\n",
    "loss = 'binary_crossentropy'"
   ]
  },
  {
   "cell_type": "code",
   "execution_count": 220,
   "metadata": {},
   "outputs": [
    {
     "data": {
      "text/plain": [
       "'C:\\\\Users\\\\User\\\\Google Drive\\\\thinkful\\\\colab_datasets\\\\sidewalk_data\\\\images'"
      ]
     },
     "execution_count": 220,
     "metadata": {},
     "output_type": "execute_result"
    }
   ],
   "source": [
    "pwd"
   ]
  },
  {
   "cell_type": "code",
   "execution_count": 221,
   "metadata": {},
   "outputs": [
    {
     "data": {
      "text/plain": [
       "{'sidewalk': 3010, 'no_sidewalk': 974, 'total': 3984}"
      ]
     },
     "execution_count": 221,
     "metadata": {},
     "output_type": "execute_result"
    }
   ],
   "source": [
    "imagecount = {}\n",
    "sidewalk_image_count = ! cd ./train/sidewalk/ && ls | wc -l\n",
    "no_sidewalk_image_count = ! cd ./train/no_sidewalk/ && ls | wc -l\n",
    "imagecount['sidewalk'] = int(sidewalk_image_count.nlstr)\n",
    "imagecount['no_sidewalk'] = int(no_sidewalk_image_count.nlstr)\n",
    "imagecount['total'] = imagecount['sidewalk'] + imagecount['no_sidewalk']\n",
    "\n",
    "imagecount"
   ]
  },
  {
   "cell_type": "code",
   "execution_count": 222,
   "metadata": {},
   "outputs": [
    {
     "data": {
      "text/plain": [
       "{'sidewalk': 0.6617940199335548, 'no_sidewalk': 2.0451745379876796}"
      ]
     },
     "execution_count": 222,
     "metadata": {},
     "output_type": "execute_result"
    }
   ],
   "source": [
    "#adjust weights to equivalent between classes\n",
    "class_weight = {}\n",
    "class_weight['sidewalk'] = (\n",
    "    .5 / imagecount['sidewalk']) * imagecount['total']\n",
    "class_weight['no_sidewalk'] = (\n",
    "    .5 / imagecount['no_sidewalk']) * imagecount['total']\n",
    "class_weight"
   ]
  },
  {
   "cell_type": "code",
   "execution_count": 223,
   "metadata": {},
   "outputs": [],
   "source": [
    "class_id = train_vdate_generator.class_indices"
   ]
  },
  {
   "cell_type": "code",
   "execution_count": 224,
   "metadata": {},
   "outputs": [
    {
     "data": {
      "text/plain": [
       "{1: 0.6617940199335548, 0: 2.0451745379876796}"
      ]
     },
     "execution_count": 224,
     "metadata": {},
     "output_type": "execute_result"
    }
   ],
   "source": [
    "class_weight[class_id['sidewalk']] = class_weight.pop('sidewalk')\n",
    "class_weight[class_id['no_sidewalk']] = class_weight.pop('no_sidewalk')\n",
    "class_weight"
   ]
  },
  {
   "cell_type": "code",
   "execution_count": 225,
   "metadata": {},
   "outputs": [
    {
     "data": {
      "text/plain": [
       "(256, 256, 3)"
      ]
     },
     "execution_count": 225,
     "metadata": {},
     "output_type": "execute_result"
    }
   ],
   "source": [
    "#generator based caluculations\n",
    "input_shape = train_generator.next()[0].shape[1:]\n",
    "total_train_vdate_samples = train_vdate_generator.n\n",
    "total_vdate_samples = vdate_generator.n\n",
    "input_shape"
   ]
  },
  {
   "cell_type": "markdown",
   "metadata": {},
   "source": [
    "### Setup Metrics and Visualizations"
   ]
  },
  {
   "cell_type": "markdown",
   "metadata": {},
   "source": [
    "Use Matthew Correlation Coefficient to take into account all four quadrants of confusion matrix."
   ]
  },
  {
   "cell_type": "code",
   "execution_count": 226,
   "metadata": {},
   "outputs": [],
   "source": [
    "# if y_pred > threshold we predict true. \n",
    "# Sometimes we set this to something different to 0.5 if we have unbalanced categories\n",
    "threshold = 0.5  \n",
    "def matthews_correlation(y_true, y_pred):\n",
    "  predicted = tf.cast(tf.greater(y_pred, threshold), tf.float32)\n",
    "  true_pos = tf.math.count_nonzero(predicted * y_true)\n",
    "  true_neg = tf.math.count_nonzero((predicted - 1) * (y_true - 1))\n",
    "  false_pos = tf.math.count_nonzero(predicted * (y_true - 1))\n",
    "  false_neg = tf.math.count_nonzero((predicted - 1) * y_true)\n",
    "  x = tf.cast((true_pos + false_pos) * (true_pos + false_neg) \n",
    "      * (true_neg + false_pos) * (true_neg + false_neg), tf.float32)\n",
    "  return tf.cast((true_pos * true_neg) - (false_pos * false_neg), tf.float32) / tf.sqrt(x)"
   ]
  },
  {
   "cell_type": "code",
   "execution_count": 227,
   "metadata": {},
   "outputs": [],
   "source": [
    "METRICS = [\n",
    "      tf.keras.metrics.BinaryAccuracy(name='accuracy'),\n",
    "      tf.keras.metrics.AUC(name='auc'),\n",
    "      matthews_correlation]"
   ]
  },
  {
   "cell_type": "code",
   "execution_count": 245,
   "metadata": {},
   "outputs": [],
   "source": [
    "colors = plt.rcParams['axes.prop_cycle'].by_key()['color']\n",
    "\n",
    "def history_plotter(history, n_epochs=n_epochs, plot_validation=True): \n",
    "    '''plot the training loss and accuracy\n",
    "    plot_validation exists because valdation not working in model\n",
    "    '''\n",
    "    n_epochs_range = np.arange(0, n_epochs)\n",
    "    plt.style.use(\"ggplot\")\n",
    "    fig, (ax1, ax2) = plt.subplots(nrows=1, ncols=2, sharex=True, sharey=True,\n",
    "                                  figsize=(10,5))\n",
    "    ax1.plot(n_epochs_range, history.history[\"loss\"], label=\"Loss\")\n",
    "    ax1.plot(n_epochs_range, history.history[\"accuracy\"], label=\"Accuracy\")\n",
    "    ax1.plot(n_epochs_range, history.history['auc'], label='Area Under ROC')\n",
    "    ax1.plot(n_epochs_range, history.history['matthews_correlation'], label=\"Matthews Coef\")\n",
    "    if plot_validation:\n",
    "        ax2.plot(n_epochs_range, history.history[\"val_loss\"], label=\"loss\")\n",
    "        ax2.plot(n_epochs_range, history.history[\"val_accuracy\"], label=\"Accuracy\")\n",
    "        ax2.plot(n_epochs_range, history.history[\"val_auc\"], label=\"Area Under ROC\")\n",
    "        ax2.plot(n_epochs_range, history.history[\"val_matthews_correlation\"], label=\"Matthews Coef\")\n",
    "    \n",
    "    ax1.set_title(\"Training Metrics\")\n",
    "    ax2.set_title(\"Validation Metrics\")\n",
    "    plt.xlabel(\"Epoch #\")\n",
    "    ax1.set_ylabel(\"Metric Score\")\n",
    "    ax1.legend(); ax2.legend()\n",
    "    plt.plot();"
   ]
  },
  {
   "cell_type": "code",
   "execution_count": 229,
   "metadata": {},
   "outputs": [
    {
     "data": {
      "text/plain": [
       "[<tensorflow.python.keras.metrics.BinaryAccuracy at 0x1dd60772c48>,\n",
       " <tensorflow.python.keras.metrics.AUC at 0x1dd41679688>,\n",
       " <function __main__.matthews_correlation(y_true, y_pred)>]"
      ]
     },
     "execution_count": 229,
     "metadata": {},
     "output_type": "execute_result"
    }
   ],
   "source": [
    "METRICS"
   ]
  },
  {
   "cell_type": "markdown",
   "metadata": {},
   "source": [
    "### Convolutional Model"
   ]
  },
  {
   "cell_type": "code",
   "execution_count": 230,
   "metadata": {
    "scrolled": false
   },
   "outputs": [
    {
     "name": "stdout",
     "output_type": "stream",
     "text": [
      "Model: \"sequential_24\"\n",
      "_________________________________________________________________\n",
      "Layer (type)                 Output Shape              Param #   \n",
      "=================================================================\n",
      "conv2d_43 (Conv2D)           (None, 252, 252, 64)      4864      \n",
      "_________________________________________________________________\n",
      "max_pooling2d_30 (MaxPooling (None, 84, 84, 64)        0         \n",
      "_________________________________________________________________\n",
      "dropout_62 (Dropout)         (None, 84, 84, 64)        0         \n",
      "_________________________________________________________________\n",
      "conv2d_44 (Conv2D)           (None, 82, 82, 32)        18464     \n",
      "_________________________________________________________________\n",
      "max_pooling2d_31 (MaxPooling (None, 41, 41, 32)        0         \n",
      "_________________________________________________________________\n",
      "dropout_63 (Dropout)         (None, 41, 41, 32)        0         \n",
      "_________________________________________________________________\n",
      "flatten_16 (Flatten)         (None, 53792)             0         \n",
      "_________________________________________________________________\n",
      "dense_63 (Dense)             (None, 64)                3442752   \n",
      "_________________________________________________________________\n",
      "dropout_64 (Dropout)         (None, 64)                0         \n",
      "_________________________________________________________________\n",
      "dense_64 (Dense)             (None, 32)                2080      \n",
      "_________________________________________________________________\n",
      "dropout_65 (Dropout)         (None, 32)                0         \n",
      "_________________________________________________________________\n",
      "dense_65 (Dense)             (None, 1)                 33        \n",
      "=================================================================\n",
      "Total params: 3,468,193\n",
      "Trainable params: 3,468,193\n",
      "Non-trainable params: 0\n",
      "_________________________________________________________________\n"
     ]
    }
   ],
   "source": [
    "conv_model = tf.keras.models.Sequential()\n",
    "conv_model.add(Conv2D(64, kernel_size=(5,5),\n",
    "                 activation='relu',\n",
    "                 input_shape=input_shape))\n",
    "conv_model.add(MaxPooling2D(pool_size=(3, 3)))\n",
    "conv_model.add(Dropout(0.5))\n",
    "conv_model.add(Conv2D(32, (3, 3), activation='relu'))\n",
    "conv_model.add(MaxPooling2D(pool_size=(2, 2)))\n",
    "conv_model.add(Dropout(0.5))\n",
    "conv_model.add(Flatten())\n",
    "conv_model.add(Dense(64, activation='relu'))\n",
    "conv_model.add(Dropout(0.5))\n",
    "conv_model.add(Dense(32, activation='relu'))\n",
    "conv_model.add(Dropout(0.5))\n",
    "conv_model.add(Dense(1, activation='sigmoid'))\n",
    "\n",
    "conv_model.compile(loss=tf.keras.losses.binary_crossentropy,\n",
    "              optimizer=tf.keras.optimizers.Adam(lr=learning_rate), \n",
    "              metrics=METRICS)\n",
    "conv_model.summary()"
   ]
  },
  {
   "cell_type": "code",
   "execution_count": null,
   "metadata": {},
   "outputs": [],
   "source": [
    "conv_history = conv_model.fit_generator(\n",
    "        train_generator, \n",
    "        steps_per_epoch=int(total_train_samples/batch_size),  \n",
    "        epochs=n_epochs,\n",
    "        verbose=1,\n",
    "        validation_data=vdate_generator,\n",
    "        validation_steps=int(total_vdate_samples/batch_size),\n",
    "        use_multiprocessing=False,\n",
    "        class_weight=class_weight)"
   ]
  },
  {
   "cell_type": "code",
   "execution_count": 246,
   "metadata": {
    "scrolled": false
   },
   "outputs": [
    {
     "data": {
      "image/png": "[encoded data removed]",
      "text/plain": [
       "<Figure size 720x360 with 2 Axes>"
      ]
     },
     "metadata": {},
     "output_type": "display_data"
    }
   ],
   "source": [
    "history_plotter(history=conv_history, plot_validation=True)"
   ]
  },
  {
   "cell_type": "markdown",
   "metadata": {},
   "source": [
    "# Object Detection via Transfer Learning\n"
   ]
  },
  {
   "cell_type": "code",
   "execution_count": 267,
   "metadata": {},
   "outputs": [],
   "source": [
    "pretrained_mobilenet = tf.keras.applications.MobileNetV2(\n",
    "    input_shape=(224, 224, 3),\n",
    "    include_top=False,\n",
    "    weights='imagenet')\n",
    "pretrained_mobilenet.trainable = False"
   ]
  },
  {
   "cell_type": "code",
   "execution_count": 286,
   "metadata": {},
   "outputs": [
    {
     "name": "stdout",
     "output_type": "stream",
     "text": [
      "Model: \"sequential_33\"\n",
      "_________________________________________________________________\n",
      "Layer (type)                 Output Shape              Param #   \n",
      "=================================================================\n",
      "mobilenetv2_1.00_224 (Model) (None, 7, 7, 1280)        2257984   \n",
      "_________________________________________________________________\n",
      "global_average_pooling2d_24  (None, 1280)              0         \n",
      "_________________________________________________________________\n",
      "dense_86 (Dense)             (None, 64)                81984     \n",
      "_________________________________________________________________\n",
      "dense_87 (Dense)             (None, 1)                 65        \n",
      "=================================================================\n",
      "Total params: 2,340,033\n",
      "Trainable params: 82,049\n",
      "Non-trainable params: 2,257,984\n",
      "_________________________________________________________________\n"
     ]
    }
   ],
   "source": [
    "mnet_model = tf.keras.models.Sequential()\n",
    "mnet_model.add(pretrained_mobilenet)\n",
    "mnet_model.add(tf.keras.layers.GlobalAveragePooling2D())\n",
    "mnet_model.add(tf.keras.layers.Dense(64))\n",
    "mnet_model.add(tf.keras.layers.Dense(1, activation='sigmoid'))\n",
    "\n",
    "mnet_model.compile(optimizer=tf.keras.optimizers.RMSprop(lr=10*learning_rate),\n",
    "              loss=loss,\n",
    "              metrics=METRICS)\n",
    "mnet_model.summary()"
   ]
  },
  {
   "cell_type": "code",
   "execution_count": null,
   "metadata": {
    "scrolled": false
   },
   "outputs": [
    {
     "name": "stdout",
     "output_type": "stream",
     "text": [
      "Epoch 1/5\n",
      "16/16 [==============================] - 78s 5s/step - loss: 0.7305 - accuracy: 0.6250 - auc: 0.5962 - matthews_correlation: nan - val_loss: 0.6938 - val_accuracy: 0.5833 - val_auc: 0.4140 - val_matthews_correlation: nan\n",
      "Epoch 2/5\n",
      "16/16 [==============================] - 73s 5s/step - loss: 0.6591 - accuracy: 0.6250 - auc: 0.6668 - matthews_correlation: nan - val_loss: 0.6887 - val_accuracy: 0.5833 - val_auc: 0.4337 - val_matthews_correlation: nan\n",
      "Epoch 3/5\n",
      "15/16 [===========================>..] - ETA: 4s - loss: 0.7091 - accuracy: 0.6167 - auc: 0.6685 - matthews_correlation: 0.1824"
     ]
    }
   ],
   "source": [
    "mnet_history = mnet_model.fit_generator(\n",
    "        train_generator, \n",
    "        steps_per_epoch=int(total_train_samples/batch_size),  \n",
    "        epochs=n_epochs,\n",
    "        verbose=1,\n",
    "        validation_data=vdate_generator,\n",
    "        validation_steps=int(total_vdate_samples/batch_size),\n",
    "        class_weight=class_weight,\n",
    "        use_multiprocessing=False)"
   ]
  },
  {
   "cell_type": "code",
   "execution_count": 285,
   "metadata": {},
   "outputs": [
    {
     "data": {
      "image/png": "[encoded data removed]",
      "text/plain": [
       "<Figure size 720x360 with 2 Axes>"
      ]
     },
     "metadata": {},
     "output_type": "display_data"
    }
   ],
   "source": [
    "history_plotter(mnet_history)"
   ]
  },
  {
   "cell_type": "markdown",
   "metadata": {},
   "source": [
    "# Object Segmentation\n",
    "This will use a pretrained model as the basis for a nn that identifies the part of an image file that contains the sidewalk object."
   ]
  },
  {
   "cell_type": "markdown",
   "metadata": {},
   "source": [
    "### tinyYOLOv3"
   ]
  },
  {
   "cell_type": "code",
   "execution_count": 262,
   "metadata": {},
   "outputs": [],
   "source": [
    "model_path = \"./models/yolo-tiny.h5\"\n",
    "input_path = \"./input/test45.jpg\"\n",
    "output_path = \"./output/newimage.jpg\""
   ]
  },
  {
   "cell_type": "code",
   "execution_count": 264,
   "metadata": {
    "scrolled": true
   },
   "outputs": [
    {
     "ename": "RuntimeError",
     "evalue": "`get_session` is not available when using TensorFlow 2.0.",
     "output_type": "error",
     "traceback": [
      "\u001b[1;31m---------------------------------------------------------------------------\u001b[0m",
      "\u001b[1;31mRuntimeError\u001b[0m                              Traceback (most recent call last)",
      "\u001b[1;32m<ipython-input-264-91a8c6b3db4a>\u001b[0m in \u001b[0;36m<module>\u001b[1;34m\u001b[0m\n\u001b[1;32m----> 1\u001b[1;33m \u001b[0mdetector\u001b[0m \u001b[1;33m=\u001b[0m \u001b[0mObjectDetection\u001b[0m\u001b[1;33m(\u001b[0m\u001b[1;33m)\u001b[0m\u001b[1;33m\u001b[0m\u001b[1;33m\u001b[0m\u001b[0m\n\u001b[0m\u001b[0;32m      2\u001b[0m \u001b[0mdetector\u001b[0m\u001b[1;33m.\u001b[0m\u001b[0msetModelTypeAsTinyYOLOv3\u001b[0m\u001b[1;33m(\u001b[0m\u001b[1;33m)\u001b[0m\u001b[1;33m\u001b[0m\u001b[1;33m\u001b[0m\u001b[0m\n\u001b[0;32m      3\u001b[0m \u001b[0mdetector\u001b[0m\u001b[1;33m.\u001b[0m\u001b[0msetModelPath\u001b[0m\u001b[1;33m(\u001b[0m\u001b[0mmodel_path\u001b[0m\u001b[1;33m)\u001b[0m\u001b[1;33m\u001b[0m\u001b[1;33m\u001b[0m\u001b[0m\n\u001b[0;32m      4\u001b[0m \u001b[0mdetector\u001b[0m\u001b[1;33m.\u001b[0m\u001b[0mloadModel\u001b[0m\u001b[1;33m(\u001b[0m\u001b[1;33m)\u001b[0m\u001b[1;33m\u001b[0m\u001b[1;33m\u001b[0m\u001b[0m\n\u001b[0;32m      5\u001b[0m \u001b[1;33m\u001b[0m\u001b[0m\n",
      "\u001b[1;32mc:\\users\\user\\appdata\\local\\programs\\python\\python37\\lib\\site-packages\\imageai\\Detection\\__init__.py\u001b[0m in \u001b[0;36m__init__\u001b[1;34m(self)\u001b[0m\n\u001b[0;32m     86\u001b[0m         \u001b[0mself\u001b[0m\u001b[1;33m.\u001b[0m\u001b[0m__yolo_model_image_size\u001b[0m \u001b[1;33m=\u001b[0m \u001b[1;33m(\u001b[0m\u001b[1;36m416\u001b[0m\u001b[1;33m,\u001b[0m \u001b[1;36m416\u001b[0m\u001b[1;33m)\u001b[0m\u001b[1;33m\u001b[0m\u001b[1;33m\u001b[0m\u001b[0m\n\u001b[0;32m     87\u001b[0m         \u001b[0mself\u001b[0m\u001b[1;33m.\u001b[0m\u001b[0m__yolo_boxes\u001b[0m\u001b[1;33m,\u001b[0m \u001b[0mself\u001b[0m\u001b[1;33m.\u001b[0m\u001b[0m__yolo_scores\u001b[0m\u001b[1;33m,\u001b[0m \u001b[0mself\u001b[0m\u001b[1;33m.\u001b[0m\u001b[0m__yolo_classes\u001b[0m \u001b[1;33m=\u001b[0m \u001b[1;34m\"\"\u001b[0m\u001b[1;33m,\u001b[0m \u001b[1;34m\"\"\u001b[0m\u001b[1;33m,\u001b[0m \u001b[1;34m\"\"\u001b[0m\u001b[1;33m\u001b[0m\u001b[1;33m\u001b[0m\u001b[0m\n\u001b[1;32m---> 88\u001b[1;33m         \u001b[0mself\u001b[0m\u001b[1;33m.\u001b[0m\u001b[0msess\u001b[0m \u001b[1;33m=\u001b[0m \u001b[0mK\u001b[0m\u001b[1;33m.\u001b[0m\u001b[0mget_session\u001b[0m\u001b[1;33m(\u001b[0m\u001b[1;33m)\u001b[0m\u001b[1;33m\u001b[0m\u001b[1;33m\u001b[0m\u001b[0m\n\u001b[0m\u001b[0;32m     89\u001b[0m \u001b[1;33m\u001b[0m\u001b[0m\n\u001b[0;32m     90\u001b[0m         \u001b[1;31m# Unique instance variables for TinyYOLOv3.\u001b[0m\u001b[1;33m\u001b[0m\u001b[1;33m\u001b[0m\u001b[1;33m\u001b[0m\u001b[0m\n",
      "\u001b[1;32mc:\\users\\user\\appdata\\local\\programs\\python\\python37\\lib\\site-packages\\keras\\backend\\tensorflow_backend.py\u001b[0m in \u001b[0;36mget_session\u001b[1;34m()\u001b[0m\n\u001b[0;32m    377\u001b[0m     \u001b[1;32mif\u001b[0m \u001b[1;32mnot\u001b[0m \u001b[0m_is_tf_1\u001b[0m\u001b[1;33m(\u001b[0m\u001b[1;33m)\u001b[0m\u001b[1;33m:\u001b[0m\u001b[1;33m\u001b[0m\u001b[1;33m\u001b[0m\u001b[0m\n\u001b[0;32m    378\u001b[0m         raise RuntimeError(\n\u001b[1;32m--> 379\u001b[1;33m             \u001b[1;34m'`get_session` is not available '\u001b[0m\u001b[1;33m\u001b[0m\u001b[1;33m\u001b[0m\u001b[0m\n\u001b[0m\u001b[0;32m    380\u001b[0m             'when using TensorFlow 2.0.')\n\u001b[0;32m    381\u001b[0m     \u001b[1;32mif\u001b[0m \u001b[0mtf\u001b[0m\u001b[1;33m.\u001b[0m\u001b[0mexecuting_eagerly\u001b[0m\u001b[1;33m(\u001b[0m\u001b[1;33m)\u001b[0m\u001b[1;33m:\u001b[0m\u001b[1;33m\u001b[0m\u001b[1;33m\u001b[0m\u001b[0m\n",
      "\u001b[1;31mRuntimeError\u001b[0m: `get_session` is not available when using TensorFlow 2.0."
     ]
    }
   ],
   "source": [
    "detector = ObjectDetection().get\n",
    "detector.setModelTypeAsTinyYOLOv3()\n",
    "detector.setModelPath(model_path)\n",
    "detector.loadModel()\n",
    "\n",
    "#returns dictionary with name and probabilities of objects detected\n",
    "detection = detector.detectObjectsFromImage(input_image=input_path, output_image_path=output_path)"
   ]
  },
  {
   "cell_type": "code",
   "execution_count": null,
   "metadata": {},
   "outputs": [],
   "source": [
    "strategy = tf.distribute.MirroredStrategy()\n",
    "with strategy.scope():\n",
    "    model = SentimentService.get_model1()\n",
    "#New code to load model\n",
    "def load_deep_model(self, model):\n",
    "        loaded_model = tf.keras.models.load_model(\"./src/mood-saved-models/\"model + \".h5\")\n",
    "        return loaded_model\n",
    "    \n",
    "    \n",
    "    detector = ObjectDetection()\n",
    "detector.setModelTypeAsTinyYOLOv3()\n",
    "detector.setModelPath(model_path)\n",
    "detector.loadModel()\n",
    "\n",
    "#returns dictionary with name and probabilities of objects detected\n",
    "detection = detector.detectObjectsFromImage(input_image=input_path, output_image_path=output_path)"
   ]
  },
  {
   "cell_type": "markdown",
   "metadata": {},
   "source": [
    "### MobileNetV2\n",
    "\n",
    "\n"
   ]
  },
  {
   "cell_type": "code",
   "execution_count": null,
   "metadata": {},
   "outputs": [],
   "source": [
    "xcept_model = tf.keras.applications.Xception(weights='imagenet')\n",
    "#http://download.tensorflow.org/models/deeplab_cityscapes_xception71_trainfine_2018_09_08.tar.gz\n"
   ]
  }
 ],
 "metadata": {
  "kernelspec": {
   "display_name": "Python 3",
   "language": "python",
   "name": "python3"
  },
  "language_info": {
   "codemirror_mode": {
    "name": "ipython",
    "version": 3
   },
   "file_extension": ".py",
   "mimetype": "text/x-python",
   "name": "python",
   "nbconvert_exporter": "python",
   "pygments_lexer": "ipython3",
   "version": "3.7.4"
  }
 },
 "nbformat": 4,
 "nbformat_minor": 2
}
