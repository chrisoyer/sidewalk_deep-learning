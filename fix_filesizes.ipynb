{
 "cells": [
  {
   "cell_type": "code",
   "execution_count": null,
   "metadata": {},
   "outputs": [],
   "source": [
    "from PIL import Image\n",
    "import os, sys\n",
    "from functools import reduce\n",
    "import numpy as np\n",
    "\n",
    "data_mount = os.path.expanduser(\n",
    "      r'~/Google Drive/thinkful/colab_datasets/sidewalk_data/public_data/')\n",
    "leftimages_path = os.path.join(data_mount, r'cityscape/leftImg8bit/') # no leading /\n",
    "mask_path = os.path.join(data_mount, r'cityscape/gtFine/')\n",
    "common_path = os.path.join(data_mount, r'cityscape')\n",
    "if IN_COLAB:\n",
    "    destin = os.path.expanduser(\n",
    "    r\"~\\Documents\\GitHub\\sidewalks_deep-learning\\cityscape_reduced\")\n",
    "else:\n",
    "    destin = r'/content/gdrive/My Drive/thinkful/colab_datasets/sidewalk_data/'"
   ]
  },
  {
   "cell_type": "code",
   "execution_count": 11,
   "metadata": {},
   "outputs": [
    {
     "data": {
      "text/plain": [
       "'2.0.0'"
      ]
     },
     "execution_count": 11,
     "metadata": {},
     "output_type": "execute_result"
    }
   ],
   "source": [
    "import tensorflow; dir(tensorflow)\n",
    "tensorflow.__version__"
   ]
  },
  {
   "cell_type": "code",
   "execution_count": 5,
   "metadata": {},
   "outputs": [],
   "source": [
    "def resize(path, destination):\n",
    "    dirs1 = np.array([os.path.join(path, x) for x in os.listdir(path)])\n",
    "    dirs = dirs1[[os.path.isdir(x) for x in dirs1]]\n",
    "    for direc in dirs:   # direc should be mask vs image folders\n",
    "        if not os.path.isdir(direc):\n",
    "            continue\n",
    "        subdirs = [os.path.join(direc, x) for x in os.listdir(direc)]\n",
    "        for subdir in subdirs:   # subdir should be train, val, test\n",
    "            subdirs2 = [os.path.join(subdir, x) for x in os.listdir(subdir)]\n",
    "            for subdir2 in subdirs2:   # subdir2 is city folders\n",
    "                items = os.listdir(subdir2)\n",
    "                for item in items:\n",
    "                    if not os.path.isfile(os.path.join(subdir2,item)):\n",
    "                        continue\n",
    "                    #skip json and noncolor masks\n",
    "                    if item.rfind('gtFine_color.png') == -1 and\\\n",
    "                    item.rfind('leftImg8bit.png') == -1:\n",
    "                        continue\n",
    "                    destin2 = os.path.join(destination, subdir[len(common_path)+1:])\n",
    "                    f, _ = os.path.splitext(item)\n",
    "                    if not os.path.exists(destin2):\n",
    "                        os.makedirs(destin2)\n",
    "                    destin3 = os.path.join(destin2, f+'_resized.png')\n",
    "                    \n",
    "                    im = Image.open(os.path.join(subdir2, item))\n",
    "                    if im.mode == \"RGBA\":\n",
    "                        im = im.convert('RGB')\n",
    "                    im = im.resize((512,256), Image.BICUBIC)\n",
    "                    im.save(destin3, format='PNG')\n",
    "                    im.close()\n",
    "                    1/0"
   ]
  },
  {
   "cell_type": "code",
   "execution_count": 6,
   "metadata": {},
   "outputs": [
    {
     "ename": "ZeroDivisionError",
     "evalue": "division by zero",
     "output_type": "error",
     "traceback": [
      "\u001b[1;31m---------------------------------------------------------------------------\u001b[0m",
      "\u001b[1;31mZeroDivisionError\u001b[0m                         Traceback (most recent call last)",
      "\u001b[1;32m<ipython-input-6-5e9163a900ed>\u001b[0m in \u001b[0;36m<module>\u001b[1;34m\u001b[0m\n\u001b[1;32m----> 1\u001b[1;33m \u001b[0mresize\u001b[0m\u001b[1;33m(\u001b[0m\u001b[0mcommon_path\u001b[0m\u001b[1;33m,\u001b[0m \u001b[0mdestin\u001b[0m\u001b[1;33m)\u001b[0m\u001b[1;33m\u001b[0m\u001b[1;33m\u001b[0m\u001b[0m\n\u001b[0m",
      "\u001b[1;32m<ipython-input-5-902aebaf329c>\u001b[0m in \u001b[0;36mresize\u001b[1;34m(path, destination)\u001b[0m\n\u001b[0;32m     29\u001b[0m                     \u001b[0mim\u001b[0m\u001b[1;33m.\u001b[0m\u001b[0msave\u001b[0m\u001b[1;33m(\u001b[0m\u001b[0mdestin3\u001b[0m\u001b[1;33m,\u001b[0m \u001b[0mformat\u001b[0m\u001b[1;33m=\u001b[0m\u001b[1;34m'PNG'\u001b[0m\u001b[1;33m)\u001b[0m\u001b[1;33m\u001b[0m\u001b[1;33m\u001b[0m\u001b[0m\n\u001b[0;32m     30\u001b[0m                     \u001b[0mim\u001b[0m\u001b[1;33m.\u001b[0m\u001b[0mclose\u001b[0m\u001b[1;33m(\u001b[0m\u001b[1;33m)\u001b[0m\u001b[1;33m\u001b[0m\u001b[1;33m\u001b[0m\u001b[0m\n\u001b[1;32m---> 31\u001b[1;33m                     \u001b[1;36m1\u001b[0m\u001b[1;33m/\u001b[0m\u001b[1;36m0\u001b[0m\u001b[1;33m\u001b[0m\u001b[1;33m\u001b[0m\u001b[0m\n\u001b[0m",
      "\u001b[1;31mZeroDivisionError\u001b[0m: division by zero"
     ]
    }
   ],
   "source": [
    "resize(common_path, destin)"
   ]
  },
  {
   "cell_type": "code",
   "execution_count": 68,
   "metadata": {},
   "outputs": [
    {
     "data": {
      "text/plain": [
       "True"
      ]
     },
     "execution_count": 68,
     "metadata": {},
     "output_type": "execute_result"
    }
   ],
   "source": [
    "\"berlin_000000_000019_gtFine_polygons.json\".rfind('gtFine_color.png') == -1\n",
    "not \"berlin_000000_000019_gtFine_color.png\".rfind('gtFine_color.png') == -1"
   ]
  },
  {
   "cell_type": "code",
   "execution_count": null,
   "metadata": {},
   "outputs": [],
   "source": []
  }
 ],
 "metadata": {
  "kernelspec": {
   "display_name": "Python 3",
   "language": "python",
   "name": "python3"
  },
  "language_info": {
   "codemirror_mode": {
    "name": "ipython",
    "version": 3
   },
   "file_extension": ".py",
   "mimetype": "text/x-python",
   "name": "python",
   "nbconvert_exporter": "python",
   "pygments_lexer": "ipython3",
   "version": "3.7.4"
  }
 },
 "nbformat": 4,
 "nbformat_minor": 2
}
